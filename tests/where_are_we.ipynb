{
 "cells": [
  {
   "cell_type": "code",
   "execution_count": 211,
   "metadata": {},
   "outputs": [
    {
     "data": {
      "text/plain": [
       "<module 'mpcpp.MPC_library' from '/home/malexand/.anaconda3/envs/astroconda36/lib/python3.6/mpcpp/MPC_library.py'>"
      ]
     },
     "execution_count": 211,
     "metadata": {},
     "output_type": "execute_result"
    }
   ],
   "source": [
    "import numpy as np\n",
    "from mpcpp import MPC_library as mpc\n",
    "from astropy import units as u\n",
    "from astropy.time import Time\n",
    "from astropy.coordinates import EarthLocation, solar_system_ephemeris\n",
    "from astropy.coordinates import get_body_barycentric, get_body, SkyCoord, CartesianRepresentation\n",
    "from jplephem.spk import SPK\n",
    "from importlib import reload\n",
    "reload(mpc)"
   ]
  },
  {
   "cell_type": "code",
   "execution_count": 120,
   "metadata": {},
   "outputs": [],
   "source": [
    "def mpc_xyz(time=2458892.0, obsCode='I11'):\n",
    "    ''' MPC ephemeris '''\n",
    "    obs = mpc.Observatory()\n",
    "\n",
    "    print('MPC XYZ:')\n",
    "    \n",
    "    ''' Heliocentric location of geocenter: '''\n",
    "    helio_500_mpc = obs.getObservatoryPosition(obsCode='500', jd_utc=time, old=False) * u.au\n",
    "    print('Heliocentric location of  geocenter:  {}'.format(helio_500_mpc.to(u.km)))\n",
    "\n",
    "    ''' Heliocentric location of observatory: '''\n",
    "    helio_OBS_mpc = obs.getObservatoryPosition(obsCode=obsCode, jd_utc=time, old=False) * u.au\n",
    "        \n",
    "    ''' Geocentric location of observatory '''\n",
    "    geo_OBS_mpc = helio_OBS_mpc - helio_500_mpc\n",
    "    print(' Geocentric  location of observatory: {}'.format(geo_OBS_mpc.to(u.km)))\n",
    "\n",
    "    print('Heliocentric location of observatory: {}\\n'.format(helio_OBS_mpc.to(u.km)))\n",
    "        \n",
    "    return helio_500_mpc, geo_OBS_mpc, helio_OBS_mpc"
   ]
  },
  {
   "cell_type": "code",
   "execution_count": 121,
   "metadata": {},
   "outputs": [],
   "source": [
    "def apy_xyz(time=2458892.0, site_name='gemini_south'):\n",
    "    ''' Astropy ephemeris '''\n",
    "    print('Astropy XYZ:')\n",
    "    t_jd = Time(time, format='jd')\n",
    "    \n",
    "    ''' Barycentric location of geocenter: '''\n",
    "    bary_500_apy = get_body_barycentric('earth', t_jd, ephemeris='de430').xyz\n",
    "\n",
    "    ''' Barycentric location of the Sun: '''\n",
    "    bary_Sun_apy = get_body_barycentric('sun', t_jd, ephemeris='de430').xyz\n",
    "\n",
    "    ''' Heliocentric location of geocenter: '''\n",
    "    helio_500_apy = bary_500_apy - bary_Sun_apy\n",
    "    print('Heliocentric location of  geocenter:  {}'.format(helio_500_apy))\n",
    "\n",
    "    ''' Geocentric location of observatory: '''\n",
    "    loc_0 = EarthLocation.of_site(site_name)        # at reference time\n",
    "    loc_t, _ = loc_0.get_gcrs_posvel(obstime=t_jd)  # at correct time\n",
    "    geo_OBS_apy = loc_t.xyz                         # in km, not AU\n",
    "    print(' Geocentric  location of observatory: {}'.format(geo_OBS_apy))\n",
    "\n",
    "    ''' Heliocentric location of observatory: '''\n",
    "    helio_OBS_apy = helio_500_apy + geo_OBS_apy\n",
    "    print('Heliocentric location of observatory: {}\\n'.format(helio_OBS_apy))\n",
    "    \n",
    "    return helio_500_apy, geo_OBS_apy, helio_OBS_apy"
   ]
  },
  {
   "cell_type": "code",
   "execution_count": 122,
   "metadata": {},
   "outputs": [],
   "source": [
    "def diff_apy_mpc(time=2458892.0, obsCode='I11', site_name='gemini_south'):\n",
    "    ''' Comparing Astropy and MPC '''\n",
    "    print('v'*30, site_name, obsCode, 'v'*30)\n",
    "\n",
    "    helio_500_apy, geo_OBS_apy, helio_OBS_apy = apy_xyz(time, site_name)\n",
    "    helio_500_mpc, geo_OBS_mpc, helio_OBS_mpc = mpc_xyz(time, obsCode)\n",
    "\n",
    "    print('Discrepancies (Astropy - MPC):')\n",
    "    helio_500_diff = helio_500_apy - helio_500_mpc\n",
    "    helio_500_diff_abs = (np.sum(helio_500_diff ** 2) ** 0.5).to(u.m)\n",
    "    print('Heliocentric location of  geocenter:  {0:}'.format(helio_500_diff_abs))\n",
    "\n",
    "    geo_OBS_diff = geo_OBS_apy - geo_OBS_mpc\n",
    "    geo_OBS_diff_abs = (np.sum(geo_OBS_diff ** 2) ** 0.5).to(u.m)\n",
    "    print(' Geocentric  location of observatory: {0:}'.format(geo_OBS_diff_abs))\n",
    "\n",
    "    helio_OBS_diff = helio_OBS_apy - helio_OBS_mpc\n",
    "    helio_OBS_diff_abs = (np.sum(helio_OBS_diff ** 2) ** 0.5).to(u.m)\n",
    "    print('Heliocentric location of observatory: {0:}'.format(helio_OBS_diff_abs))\n",
    "    \n",
    "    print('^'*30, site_name, obsCode, '^'*30, '\\n')\n",
    "    \n",
    "    return helio_500_apy, geo_OBS_apy, helio_OBS_apy, helio_500_mpc, geo_OBS_mpc, helio_OBS_mpc"
   ]
  },
  {
   "cell_type": "code",
   "execution_count": 217,
   "metadata": {
    "scrolled": true
   },
   "outputs": [
    {
     "name": "stdout",
     "output_type": "stream",
     "text": [
      "vvvvvvvvvvvvvvvvvvvvvvvvvvvvvv gemini_south I11 vvvvvvvvvvvvvvvvvvvvvvvvvvvvvv\n",
      "JPL XYZ:\n",
      "Heliocentric location of  geocenter:  [-1.17854006e+08  8.16169879e+07  3.53807465e+07] km\n",
      " Geocentric  location of observatory: [-1800872.41208297 -5217154.70682422 -3191412.52307824] m\n",
      "Heliocentric location of observatory: [-1.17855807e+08  8.16117707e+07  3.53775551e+07] km\n",
      "\n",
      "MPC XYZ:\n",
      "Heliocentric location of  geocenter:  [-1.17854006e+08  8.16169879e+07  3.53807465e+07] km\n",
      " Geocentric  location of observatory: [-1800.85214402 -5217.13544829 -3191.38491209] km\n",
      "Heliocentric location of observatory: [-1.17855807e+08  8.16117708e+07  3.53775551e+07] km\n",
      "\n",
      "Discrepancies (Astropy - MPC):\n",
      "Heliocentric location of  geocenter:  0.057528397285059554 m\n",
      " Geocentric  location of observatory: 39.29442425853887 m\n",
      "Heliocentric location of observatory: 39.243080698450434 m\n",
      "^^^^^^^^^^^^^^^^^^^^^^^^^^^^^^ gemini_south I11 ^^^^^^^^^^^^^^^^^^^^^^^^^^^^^^ \n",
      "\n"
     ]
    }
   ],
   "source": [
    "time_jd = 2458892.0\n",
    "helio_500_apy, geo_OBS_apy, helio_OBS_apy, helio_500_mpc, geo_OBS_mpc, helio_OBS_mpc = diff_apy_mpc(time_jd, 'I11', 'gemini_south')\n",
    "#helio_500_apy, geo_OBS_apy, helio_OBS_apy, helio_500_mpc, geo_OBS_mpc, helio_OBS_mpc = diff_apy_mpc(time_jd, 'T14', 'CFHT')  # Mauna Kea-UH/Tholen NEO Follow-Up (CFHT)\n",
    "#helio_500_apy, geo_OBS_apy, helio_OBS_apy, helio_500_mpc, geo_OBS_mpc, helio_OBS_mpc = diff_apy_mpc(time_jd, 'T09', 'Subaru')  # Mauna Kea-UH/Tholen NEO Follow-Up (Subaru)\n",
    "#helio_500_apy, geo_OBS_apy, helio_OBS_apy, helio_500_mpc, geo_OBS_mpc, helio_OBS_mpc = diff_apy_mpc(time_jd, 'G83', 'Large Binocular Telescope')  # Mt. Graham-LBT\n",
    "#helio_500_apy, geo_OBS_apy, helio_OBS_apy, helio_500_mpc, geo_OBS_mpc, helio_OBS_mpc = diff_apy_mpc(time_jd-182, 'G83', 'Large Binocular Telescope')  # Mt. Graham-LBT\n",
    "#helio_500_apy, geo_OBS_apy, helio_OBS_apy, helio_500_mpc, geo_OBS_mpc, helio_OBS_mpc = diff_apy_mpc(time_jd-91, 'G83', 'Large Binocular Telescope')  # Mt. Graham-LBT"
   ]
  },
  {
   "cell_type": "code",
   "execution_count": 218,
   "metadata": {},
   "outputs": [
    {
     "name": "stdout",
     "output_type": "stream",
     "text": [
      "[-0.78780537  0.54557587  0.23650568] AU\n"
     ]
    }
   ],
   "source": [
    "print(helio_500_mpc)"
   ]
  },
  {
   "cell_type": "code",
   "execution_count": 219,
   "metadata": {},
   "outputs": [],
   "source": [
    "#EarthLocation.get_site_names()"
   ]
  },
  {
   "cell_type": "code",
   "execution_count": 221,
   "metadata": {},
   "outputs": [
    {
     "name": "stdout",
     "output_type": "stream",
     "text": [
      "[-16.06044062 -21.96297521 -30.21270827] m\n",
      "[ 4.20761912 -2.70444457 -2.60172258] m\n"
     ]
    }
   ],
   "source": [
    "'''geocentric location of observatory'''\n",
    "geo_OBS_horizons = [1.800856351642355E+03, 5.217132743849016E+03, 3.191382310369976E+03] * u.km\n",
    "#geo_OBS_horizons = [3.897755155906439E-05, -9.519648682208122E-06, -1.445320321166943E-05] * u.au\n",
    "#geo_OBS_horizons = [3.897607996384405E-05, -9.524410913145084E-06, -1.445330040715949E-05] * u.au\n",
    "#geo_OBS_horizons = [3.047176273153229E-05, 1.896779432438119E-05, -2.297248162195744E-05] * u.au\n",
    "#geo_OBS_horizons = [-3.035225384512615E-05, -1.929568746151384E-05,-2.285733119326494E-05] * u.au\n",
    "#geo_OBS_horizons = [1.908870978408335E-05, -3.041274366209686E-05, -2.295052590013195E-05] * u.au\n",
    "'''Astropy-Horizons'''\n",
    "print((geo_OBS_apy + geo_OBS_horizons).to(u.m))\n",
    "#print((np.sum((geo_OBS_apy + geo_OBS_horizons) ** 2) ** 0.5).to(u.m))\n",
    "'''MPC-Horizons'''\n",
    "print((geo_OBS_mpc + geo_OBS_horizons).to(u.m))\n",
    "#print((np.sum((geo_OBS_mpc + geo_OBS_horizons) ** 2) ** 0.5).to(u.m))"
   ]
  },
  {
   "cell_type": "code",
   "execution_count": 187,
   "metadata": {},
   "outputs": [
    {
     "name": "stdout",
     "output_type": "stream",
     "text": [
      "[2.11951985e+11 2.32438214e+10 1.00762963e+10] m\n",
      "[2.11951985e+11 2.32438214e+10 1.00762963e+10] m\n"
     ]
    }
   ],
   "source": [
    "'''heliocentric location of geocentre'''\n",
    "helio_500_horizons = [7.878053705097503E-01, -5.455758662127957E-01, -2.365056822060531E-01] * u.au\n",
    "'''Astropy-Horizons:'''\n",
    "print((helio_500_apy + helio_500_horizons).to(u.m))\n",
    "'''MPC-Horizons:'''\n",
    "print((helio_500_mpc + helio_500_horizons).to(u.m))"
   ]
  },
  {
   "cell_type": "code",
   "execution_count": 222,
   "metadata": {},
   "outputs": [
    {
     "name": "stdout",
     "output_type": "stream",
     "text": [
      "[-16.0241574  -21.93669975 -30.20184487] m\n",
      "[ 4.20874424 -2.71995698 -2.60897765] m\n"
     ]
    }
   ],
   "source": [
    "'''heliocentric location of observer'''\n",
    "helio_OBS_horizons = [7.878174084909276E-01, -5.455409918344410E-01, -2.364843491329590E-01] * u.au\n",
    "#helio_OBS_horizons = [7.878443480613093E-01, -5.455853858614780E-01, -2.365201354092648E-01] * u.au\n",
    "#helio_OBS_horizons = [7.878443465897141E-01, -5.455853906237088E-01, -2.365201355064603E-01] * u.au\n",
    "#helio_OBS_horizons = [7.878358422724819E-01, -5.455568984184713E-01, -2.365286546876751E-01] * u.au\n",
    "#helio_OBS_horizons = [-7.890835808625358E-01, 5.828815097032926E-01, 2.526647001858481E-01] * u.au\n",
    "#helio_OBS_horizons = [-6.289870474582483E-01, -7.009816282331524E-01, -3.038845132122471E-01] * u.au\n",
    "'''Astropy-Horizons:'''\n",
    "print((helio_OBS_apy + helio_OBS_horizons).to(u.m))\n",
    "'''MPC-Horizons:'''\n",
    "print((helio_OBS_mpc + helio_OBS_horizons).to(u.m))"
   ]
  },
  {
   "cell_type": "code",
   "execution_count": 223,
   "metadata": {},
   "outputs": [
    {
     "name": "stdout",
     "output_type": "stream",
     "text": [
      "[ 4.24391031 -2.6781708  -2.5908649 ] m\n"
     ]
    }
   ],
   "source": [
    "print((helio_500_apy + geo_OBS_mpc + helio_OBS_horizons).to(u.m))"
   ]
  },
  {
   "cell_type": "code",
   "execution_count": null,
   "metadata": {},
   "outputs": [],
   "source": []
  }
 ],
 "metadata": {
  "kernelspec": {
   "display_name": "Python 3",
   "language": "python",
   "name": "python3"
  },
  "language_info": {
   "codemirror_mode": {
    "name": "ipython",
    "version": 3
   },
   "file_extension": ".py",
   "mimetype": "text/x-python",
   "name": "python",
   "nbconvert_exporter": "python",
   "pygments_lexer": "ipython3",
   "version": "3.7.7"
  }
 },
 "nbformat": 4,
 "nbformat_minor": 4
}
