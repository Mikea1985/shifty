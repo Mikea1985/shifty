{
 "cells": [
  {
   "cell_type": "markdown",
   "metadata": {},
   "source": [
    "# Demonstration of shifty.py's \"refcat\" module\n",
    " - 20191106\n",
    " - Payne \n",
    " \n",
    "The refcat module facilitates use of Tonry's refcat2 catalog\n",
    "    \n",
    "    - https://archive.stsci.edu/prepds/atlas-refcat2/\n",
    "    - http://adsabs.harvard.edu/cgi-bin/bib_query?arXiv:1809.09157\n",
    "\n",
    "There is a \"RefCat\" class\n",
    " - This handles both datadownloads and calls to the catalog\n",
    "\n",
    "This notebook:\n",
    " - Demonstrates the key components / classes / functions available in the refcat module\n",
    " - Acts as a complement to the tests of the same module. "
   ]
  },
  {
   "cell_type": "markdown",
   "metadata": {},
   "source": [
    "#### Import statements "
   ]
  },
  {
   "cell_type": "code",
   "execution_count": 4,
   "metadata": {},
   "outputs": [],
   "source": [
    "# -------------------------------------------------------------------------------------\n",
    "# Third party imports\n",
    "# -------------------------------------------------------------------------------------\n",
    "import numpy as np \n",
    "import matplotlib.pyplot as plt\n",
    "import os, sys\n",
    "import glob \n",
    "\n",
    "import astropy\n",
    "from astropy.io import fits\n",
    "from astropy.time import Time\n",
    "from astropy.units import allclose as quantity_allclose\n",
    "from astropy import units as u\n",
    "from astropy.coordinates import SkyCoord\n",
    "from astropy.coordinates.builtin_frames import FK5, ICRS, GCRS, GeocentricMeanEcliptic, BarycentricMeanEcliptic, HeliocentricMeanEcliptic, GeocentricTrueEcliptic, BarycentricTrueEcliptic, HeliocentricTrueEcliptic, HeliocentricEclipticIAU76\n",
    "from astropy.constants import R_sun, R_earth\n",
    "\n",
    "# -------------------------------------------------------------------------------------\n",
    "# Local imports\n",
    "# -------------------------------------------------------------------------------------\n",
    "from refcat import RefCat\n"
   ]
  },
  {
   "cell_type": "markdown",
   "metadata": {
    "scrolled": false
   },
   "source": [
    "### Instantiate RefCat object"
   ]
  },
  {
   "cell_type": "code",
   "execution_count": 7,
   "metadata": {
    "scrolled": false
   },
   "outputs": [
    {
     "name": "stdout",
     "output_type": "stream",
     "text": [
      "downloadable_files {'code': 'https://archive.stsci.edu/prepds/atlas-refcat2/refcat.c', 'man': 'https://archive.stsci.edu/prepds/atlas-refcat2/refcat.man', '20': 'https://archive.stsci.edu/hlsps/atlas-refcat2/orig/hlsp_atlas-refcat2_atlas_ccd_19-m-20_multi_v1_cat.tbz', '18': 'https://archive.stsci.edu/hlsps/atlas-refcat2/orig/hlsp_atlas-refcat2_atlas_ccd_17-m-18_multi_v1_cat.tbz', '17': 'https://archive.stsci.edu/hlsps/atlas-refcat2/orig/hlsp_atlas-refcat2_atlas_ccd_16-m-17_multi_v1_cat.tbz', '16': 'https://archive.stsci.edu/hlsps/atlas-refcat2/orig/hlsp_atlas-refcat2_atlas_ccd_00-m-16_multi_v1_cat.tbz', '19': 'https://archive.stsci.edu/hlsps/atlas-refcat2/orig/hlsp_atlas-refcat2_atlas_ccd_18-m-19_multi_v1_cat.tbz'}\n",
      "refcat_codename refcat\n",
      "refcat_filepath /Users/matthewjohnpayne/.shifty_data/refcat/refcat\n",
      "refcat_dir /Users/matthewjohnpayne/.shifty_data/refcat\n",
      "local_dir /Users/matthewjohnpayne/.shifty_data\n"
     ]
    }
   ],
   "source": [
    "# creation of RefCat object\n",
    "RC = RefCat()\n",
    "\n",
    "# examination of instantiated variables\n",
    "# - these are defining some local data storage \n",
    "for k,v in RC.__dict__.items():\n",
    "    print(k,v)\n"
   ]
  },
  {
   "cell_type": "markdown",
   "metadata": {},
   "source": [
    "### Use RefCat to download refcat catalog(s) \n",
    " - Note that this takes a *long* time \n",
    " - It is downloading a huge file \n",
    " - Then it un-tars that huge file into a directory containing 10's of thousands of files \n",
    "\n",
    "The downloaded file(s) will be put into a directory defined by the variable ...\n",
    " - RC.refcat_dir\n",
    "\n",
    "If the download-file already exists on disk then it will *NOT* be downloaded again"
   ]
  },
  {
   "cell_type": "code",
   "execution_count": 9,
   "metadata": {},
   "outputs": [],
   "source": [
    "# Tonry's catalog can be downloaded in 5 chunks \n",
    "# Here we are downloading the 'brighter-than'16th-magnitude' chunk\n",
    "# - This is implicitly using the keys in the RC.downloadable_files() dictionary to specify what you want to download\n",
    "RC.download_refcat(16)"
   ]
  },
  {
   "cell_type": "code",
   "execution_count": null,
   "metadata": {},
   "outputs": [],
   "source": [
    "# Here we are downloading all of the available catalogs \n",
    "RC.download_refcat( *list(RC.downloadable_files.keys()) )"
   ]
  },
  {
   "cell_type": "markdown",
   "metadata": {},
   "source": [
    "### Use RefCat to download refcat code\n",
    " - This is quick "
   ]
  },
  {
   "cell_type": "code",
   "execution_count": null,
   "metadata": {},
   "outputs": [],
   "source": [
    "RC.download_refcode()"
   ]
  },
  {
   "cell_type": "markdown",
   "metadata": {},
   "source": [
    "### Use RefCat to compile refcat code\n",
    " - This is quick (if it works) \n",
    " - Requires that your machine have relevant (cc) compiler\n",
    " - I have *NOT* attempted to generalize beyond the method Tonry suggests "
   ]
  },
  {
   "cell_type": "code",
   "execution_count": null,
   "metadata": {},
   "outputs": [],
   "source": [
    "RC.compile_refcat()"
   ]
  },
  {
   "cell_type": "markdown",
   "metadata": {},
   "source": [
    "### Use RefCat to search source catalogs "
   ]
  },
  {
   "cell_type": "code",
   "execution_count": 13,
   "metadata": {},
   "outputs": [
    {
     "name": "stdout",
     "output_type": "stream",
     "text": [
      "All expected keys are in result-dictionary\n",
      "The expected number of source was found [1064]\n",
      "        ra,       dec,         g,         r,         i,         z,         J,         c,         o,\n",
      "179.012931,  9.887627, 14.803000, 14.237000, 14.063000, 13.999000, 13.023000, 14.523000, 14.157000,\n",
      "179.026188,  9.842122, 13.400000, 12.972000, 12.842000, 12.804000, 11.876000, 13.191000, 12.913000,\n",
      "179.035762,  9.935784, 15.879000, 15.317000, 15.096000, 15.015000, 14.033000, 15.601000, 15.215000,\n",
      "179.044683,  9.938728, 16.628000, 15.457000, 14.531000, 14.102000, 12.707000, 16.015000, 14.970000,\n",
      "179.057159,  9.708921, 15.200000, 14.857000, 14.752000, 14.725000, 13.852000, 15.034000, 14.809000,\n"
     ]
    }
   ],
   "source": [
    " # The following is taken from refcat.man\n",
    "# - Report all stars within a radius of 1 deg from RA, Dec 180,10.\n",
    "# - Request input file extension \".rc2\" explicitly and a header line\n",
    "# - (1064 stars, output in ATLAS format):\n",
    "# >>> refcat 180 10 -rad 1 -dir 00_m_16 -exten rc2 -hdr\n",
    "# -----------------------------------------\n",
    "ra = 180\n",
    "dec = 10\n",
    "rad = 1\n",
    "mlim = 17\n",
    "code = RC.refcat_filepath\n",
    "dir = os.path.join(RC.refcat_dir, '00_m_16')\n",
    "result = RC._read_refcat(ra, dec, code, dir,\n",
    "                     rad=rad , mlim=mlim )\n",
    "\n",
    "# check the results are as expected \n",
    "expectedkeys  = ['ra', 'dec', 'g', 'r', 'i', 'z', 'J', 'c', 'o']\n",
    "if isinstance(result, dict) and np.all([k in result for k in expectedkeys]) : \n",
    "    print('All expected keys are in result-dictionary')\n",
    "\n",
    "expected_number_sources = 1064\n",
    "if np.all( [ k in expectedkeys and len(v) == expected_number_sources for k,v in result.items() ]):\n",
    "    print('The expected number of source was found [%r]' % expected_number_sources)\n",
    "    \n",
    "# illustrate a sample of the results \n",
    "n_rows_to_print = 5\n",
    "for key in expectedkeys:\n",
    "    print('%10s' % key, end=',')\n",
    "print()\n",
    "for i in range(n_rows_to_print):\n",
    "    for key in expectedkeys:\n",
    "        print('%10f' % result[key][i], end=',')\n",
    "    print()"
   ]
  },
  {
   "cell_type": "code",
   "execution_count": null,
   "metadata": {},
   "outputs": [],
   "source": []
  }
 ],
 "metadata": {
  "kernelspec": {
   "display_name": "Python [conda env:anaconda]",
   "language": "python",
   "name": "conda-env-anaconda-py"
  },
  "language_info": {
   "codemirror_mode": {
    "name": "ipython",
    "version": 3
   },
   "file_extension": ".py",
   "mimetype": "text/x-python",
   "name": "python",
   "nbconvert_exporter": "python",
   "pygments_lexer": "ipython3",
   "version": "3.5.5"
  }
 },
 "nbformat": 4,
 "nbformat_minor": 2
}
