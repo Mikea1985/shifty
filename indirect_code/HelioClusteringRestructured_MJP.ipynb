{
 "cells": [
  {
   "cell_type": "markdown",
   "metadata": {},
   "source": [
    "# Developing Explanatory Diagrams\n",
    "\n",
    "### Want a set of plots to use for paper(s) & presentation(s) to illustrate various aspects of the transformations and approximations used in the heliocentric transformation and clustering technique"
   ]
  },
  {
   "cell_type": "markdown",
   "metadata": {},
   "source": [
    "2 December 2017\n",
    "\n",
    "This Notebook (HelioClustering_MJP) is a copy/form of the notebook \"ITF_mjh\"\n",
    "> \"ITF_mjh\" contains most of the original development work on the transformations and clustering\n",
    "> \"HelioClustering_MJP\" will just grab the initial transformation sections of that code, and reuse it\n",
    "\n",
    "    * It would be nice to make library routines for the common code in \"ITF_mjh\" and \"HelioClustering_MJP\", but I'm probably not going to have time to do a thorough job, so there'll just have to be code duplication\n",
    "    * I'm going to delete out most of the stuff about reading ITF/UnnumObs\n",
    "    * I'm going to create sets of very detailed fake tracklets for some sample objects (NEO/MBA/Trojan/...)\n",
    "    * For the selection of example objects, I'm going to lean on the work I did in mpcpp.FetchJPL\n",
    "    * For the creation of the tracklets I am going to lean on the work I did in mpcpp.????"
   ]
  },
  {
   "cell_type": "markdown",
   "metadata": {},
   "source": [
    "# Rough outline of necessary steps \n",
    "## Payne, Dec 2nd\n",
    " - Define some objects of interest\n",
    " - Define time baseline we wish to obtain observations for\n",
    " - Convert / obtain topocentric observational equivalents for the above objects at the above times\n",
    " - Work towards making a dictionary of arrays for each object\n",
    " - For each object we want to have arrays (i.e. as a function of time) for ...\n",
    " > heliocentric posns (actual)\n",
    " \n",
    " > geocentric posns   (actual)\n",
    " \n",
    " > observer-centric posns (actual)\n",
    " \n",
    " > helio-centric posn of Earth (actual)\n",
    " \n",
    " > helio-centric posn of Observer (actual) \n",
    " \n",
    " > A variety of transformed quantities using assumed values of \\gamma, \\dot{\\gamma}, etc, etc\n",
    " \n",
    " - Some additional/overlapping points from High-Rise discussion Dec 4th 2017, \n",
    " > Prob need full state (i.e. vel as well as posn.)\n",
    " \n",
    " > Will be able to add errors to observed RA/DEC and then propagate this through the analysis to understand the impacts (i.e.e to demonstrate that it agrees with expectations from analytics) \n",
    " \n",
    " > At some point it seems likely that I'll want to restrict my sample to observations near opposition"
   ]
  },
  {
   "cell_type": "markdown",
   "metadata": {},
   "source": [
    "### The kepcart library\n",
    "\n",
    "You will need to make sure you have a copy of the kepcart library.  There is a copy of it on the MPC bitbucket site, with some instructions."
   ]
  },
  {
   "cell_type": "code",
   "execution_count": 1,
   "metadata": {},
   "outputs": [
    {
     "name": "stderr",
     "output_type": "stream",
     "text": [
      "/Users/matthewjohnpayne/anaconda/lib/python3.5/importlib/_bootstrap.py:222: RuntimeWarning: numpy.dtype size changed, may indicate binary incompatibility. Expected 96, got 88\n",
      "  return f(*args, **kwds)\n",
      "/Users/matthewjohnpayne/anaconda/lib/python3.5/importlib/_bootstrap.py:222: RuntimeWarning: numpy.dtype size changed, may indicate binary incompatibility. Expected 96, got 88\n",
      "  return f(*args, **kwds)\n"
     ]
    }
   ],
   "source": [
    "%matplotlib inline\n",
    "import numpy as np\n",
    "import scipy.interpolate\n",
    "import matplotlib.gridspec as gridspec\n",
    "import matplotlib as mpl\n",
    "import matplotlib.cm as cm\n",
    "import matplotlib.pyplot as plt\n",
    "import pandas as pd\n",
    "pd.set_option('display.width', 500)\n",
    "pd.set_option('display.max_columns', 200)\n",
    "pd.set_option('display.notebook_repr_html', True)\n",
    "import math\n",
    "#import kepcart as kc\n",
    "import healpy as hp\n",
    "import collections\n",
    "import astropy\n",
    "from collections import defaultdict\n",
    "from collections import Counter\n",
    "import MPC_library\n",
    "import scipy.spatial\n",
    "import os\n",
    "import pickle \n",
    "import healpy as hp\n",
    "import brewer2mpl"
   ]
  },
  {
   "cell_type": "code",
   "execution_count": 2,
   "metadata": {},
   "outputs": [
    {
     "name": "stdout",
     "output_type": "stream",
     "text": [
      "Sequential\n",
      "Blues     :  {3, 4, 5, 6, 7, 8, 9}\n",
      "BuGn      :  {3, 4, 5, 6, 7, 8, 9}\n",
      "BuPu      :  {3, 4, 5, 6, 7, 8, 9}\n",
      "GnBu      :  {3, 4, 5, 6, 7, 8, 9}\n",
      "Greens    :  {3, 4, 5, 6, 7, 8, 9}\n",
      "Greys     :  {3, 4, 5, 6, 7, 8, 9}\n",
      "OrRd      :  {3, 4, 5, 6, 7, 8, 9}\n",
      "Oranges   :  {3, 4, 5, 6, 7, 8, 9}\n",
      "PuBu      :  {3, 4, 5, 6, 7, 8, 9}\n",
      "PuBuGn    :  {3, 4, 5, 6, 7, 8, 9}\n",
      "PuRd      :  {3, 4, 5, 6, 7, 8, 9}\n",
      "Purples   :  {3, 4, 5, 6, 7, 8, 9}\n",
      "RdPu      :  {3, 4, 5, 6, 7, 8, 9}\n",
      "Reds      :  {3, 4, 5, 6, 7, 8, 9}\n",
      "YlGn      :  {3, 4, 5, 6, 7, 8, 9}\n",
      "YlGnBu    :  {3, 4, 5, 6, 7, 8, 9}\n",
      "YlOrBr    :  {3, 4, 5, 6, 7, 8, 9}\n",
      "YlOrRd    :  {3, 4, 5, 6, 7, 8, 9}\n"
     ]
    }
   ],
   "source": [
    "brewer2mpl.print_maps('Sequential')\n",
    "bmap = brewer2mpl.get_map('Paired', 'Qualitative', 5, reverse=True)\n"
   ]
  },
  {
   "cell_type": "markdown",
   "metadata": {},
   "source": [
    "## Need to be able to handle observatory codes"
   ]
  },
  {
   "cell_type": "code",
   "execution_count": 3,
   "metadata": {},
   "outputs": [
    {
     "data": {
      "text/plain": [
       "array([0.22807555, 0.87911034, 0.38114111])"
      ]
     },
     "execution_count": 3,
     "metadata": {},
     "output_type": "execute_result"
    }
   ],
   "source": [
    "Observatories = MPC_library.Observatories\n",
    "\n",
    "ObservatoryXYZ = Observatories.ObservatoryXYZ\n",
    "\n",
    "Observatories.getObservatoryPosition('F51', 2457000.5)\n",
    "\n"
   ]
  },
  {
   "cell_type": "markdown",
   "metadata": {},
   "source": [
    "# MPCPP\n",
    "## Doing imports & test-prints to see the standard list of objects I created\n",
    "> Note that on laptop I had to do some yak-shaving to get mpcpp to import\n",
    ">> conda update conda\n",
    "\n",
    ">> conda update python\n",
    "\n",
    ">> conda update numpy\n",
    "\n",
    "> Then could go to the mpcpp README instructions to do the mpcpp install commands\n",
    "\n",
    ">> https://bitbucket.org/mpcdev/mpcpp/src"
   ]
  },
  {
   "cell_type": "code",
   "execution_count": 4,
   "metadata": {},
   "outputs": [
    {
     "name": "stdout",
     "output_type": "stream",
     "text": [
      "{'MBA': 'Crocco', 'CEN': 'Chiron', 'TNO': 'Sedna', 'HIL': 'Hilda', 'BIG': 'Ceres', 'HUN': 'Hungaria', 'JT': 'Achilles', 'NEO': 'Alinda'}\n"
     ]
    }
   ],
   "source": [
    "import mpcpp ; import mpcpp.fetcher ; from mpcpp.fetcher import fetcherJPL as FetchJ\n",
    "# Just hacking a basic call so that I can get the standard list of sample names\n",
    "Name    = 'Eros' ; Epoch   = 2457446.177083 ; ObsCode = 568\n",
    "qry1 = FetchJ.JPLQ({'body':Name , 't':Epoch, 'OC': ObsCode})\n",
    "# Define the sample I'll use: the first one in each category ... \n",
    "sample__ = {k:v[0] for k,v in qry1.sample_names().items() if '1995 O1' not in v[0] and '2001QR322' not in v[0]}\n",
    "print (sample__ )\n"
   ]
  },
  {
   "cell_type": "markdown",
   "metadata": {},
   "source": [
    "# In a few cells time, we will use spicepy\n",
    "- There MUST be an automated way to map NAME:JPL_ID (it seems to be needed at some point in the proceedings)\n",
    "- But in case I can't find the method, here is a by-hand mapping ..."
   ]
  },
  {
   "cell_type": "code",
   "execution_count": 5,
   "metadata": {},
   "outputs": [],
   "source": [
    "sampleIDs__ = {\n",
    "        'Chiron':'2002060', \n",
    "        #'C/1995 O1':'1000132', \n",
    "        #'2001QR322':'3092453', \n",
    "        'Hungaria': '2000434', \n",
    "        'Alinda':'2000887', \n",
    "        'Achilles':'2000588', \n",
    "        'Ceres':'2000001', \n",
    "        'Crocco':'2010606', \n",
    "        'Sedna':'2090377', \n",
    "        'Hilda':'2000153'}"
   ]
  },
  {
   "cell_type": "markdown",
   "metadata": {},
   "source": [
    "# Top level definitions \n",
    " - These settings & quantities are general across all objects, so I'm just putting them into a sort of global set of definitions\n",
    " - Quantities defined here are:\n",
    " > Evaluation Times\n",
    " \n",
    " > Observatory Code(s) "
   ]
  },
  {
   "cell_type": "code",
   "execution_count": 6,
   "metadata": {},
   "outputs": [
    {
     "name": "stdout",
     "output_type": "stream",
     "text": [
      "\n",
      " TIMES ... \n",
      "730 [2458088.5, 2458088.541667, 2458089.5, 2458089.541667, 2458090.5, 2458090.541667, 2458091.5, 2458091.541667, 2458092.5, 2458092.541667] ['2458088.500000 JD', '2458088.541667 JD', '2458089.500000 JD', '2458089.541667 JD', '2458090.500000 JD', '2458090.541667 JD', '2458091.500000 JD', '2458091.541667 JD', '2458092.500000 JD', '2458092.541667 JD']\n",
      "\n",
      " POSITIONS ... \n",
      "2458088.5 [0.35761336 0.84313266 0.36550175] [ 3.57613355e-01  9.18947336e-01 -3.74501232e-05]\n",
      "2458088.541667 [0.35693373 0.84336829 0.36560391] [ 3.56933729e-01  9.19204158e-01 -3.74524011e-05]\n"
     ]
    }
   ],
   "source": [
    "\n",
    "#\n",
    "# TIMES (UTC or TDB ?)  \n",
    "# -  I'm going to do this so that I have one hour long tracklet per day, every day, for a year\n",
    "#\n",
    "t0 = 2458088.5      ## Dec 1st 2017\n",
    "t1 = 2458088.541667 ## t0 + 1hr \n",
    "n_days = 365\n",
    "t_ = [t0 + i for i in range(n_days)]\n",
    "t_.extend([t1 + i for i in range(n_days)])\n",
    "t_.sort()\n",
    "tJD_ = ['%f JD' % t for t in t_ ] ###<<<--- # UTC or TDB : Need to read https://naif.jpl.nasa.gov/pub/naif/toolkit_docs/FORTRAN/req/time.html#STR2ET\n",
    "print(\"\\n TIMES ... \")\n",
    "print(len(t_), t_[:10], tJD_[:10])\n",
    "\n",
    "\n",
    "\n",
    "\n",
    "#\n",
    "#     heliocentric position of the Earth/observatory in equatorial cartesian coordinates.\n",
    "#\n",
    "Earth_  = np.array([Observatories.getObservatoryPosition('500', t) for t in t_])\n",
    "F51_   = np.array([Observatories.getObservatoryPosition('F51', t) for t in t_])\n",
    "\n",
    "#print(\"\\n POSITIONS ... \")\n",
    "#plt.title(\"POSITIONS\")\n",
    "#plt.plot(F51_[:,0], F51_[:,1],'.')   \n",
    "#plt.plot(F51_[:,0]-Earth_[:,0], F51_[:,1]-Earth_[:,1],'.')\n",
    "#plt.plot(F51_[:,0]-Earth_[:,0],'.')\n",
    "#plt.plot(F51_[:,0]-Earth_[:,0], F51_[:,2]-Earth_[:,2],'.')\n",
    "#plt.plot(F51_[:,2]-Earth_[:,2],'.')\n",
    "\n",
    "\n",
    "\n",
    "#\n",
    "#    # This rotation is taking things from equatorial to ecliptic\n",
    "#\n",
    "rot_mat = MPC_library.rotate_matrix(-MPC_library.Constants.ecl)\n",
    "def equatorial_to_ecliptic(v, rot_mat=MPC_library.rotate_matrix(-MPC_library.Constants.ecl)):\n",
    "    return np.dot(rot_mat, v.reshape(-1, 1)).flatten()\n",
    "\n",
    "\n",
    "#\n",
    "#     So now we can get the heliocentric ecliptic coordinates of the Earth/observatory \n",
    "#\n",
    "HEC_Earth_ = np.array( [equatorial_to_ecliptic(posn) for posn in Earth_ ] )\n",
    "HEC_F51_   = np.array( [equatorial_to_ecliptic(posn) for posn in F51_ ] )  \n",
    "\n",
    "        \n",
    "print(\"\\n POSITIONS ... \")\n",
    "for t, E, HEC in zip(t_[:2], Earth_[:2], HEC_Earth_[:2]):\n",
    "    print(t, E, HEC)"
   ]
  },
  {
   "cell_type": "markdown",
   "metadata": {},
   "source": [
    "# Instantiate a dictionary to temporarily hold various pieces of raw data\n"
   ]
  },
  {
   "cell_type": "code",
   "execution_count": 7,
   "metadata": {},
   "outputs": [],
   "source": [
    "# Instantiate a dictionary to temporarily hold various pieces of raw data\n",
    "rawdataDict__ = {}\n",
    "\n",
    "rawdataDict__['t_']=t_\n",
    "rawdataDict__['tJD_']=tJD_\n",
    "\n",
    "rawdataDict__['Earth_'] = Earth_\n",
    "rawdataDict__['F51_'] = F51_\n",
    "rawdataDict__['HEC_Earth_'] = HEC_Earth_\n",
    "rawdataDict__['HEC_F51_'] = HEC_F51_\n",
    "\n"
   ]
  },
  {
   "cell_type": "markdown",
   "metadata": {
    "collapsed": true
   },
   "source": [
    "# Let's do a test query for Ceres (using SPICE within MPCPP)"
   ]
  },
  {
   "cell_type": "raw",
   "metadata": {},
   "source": [
    "#\n",
    "#   ----------------  THIS WAS JUST A TEST, DON'T NEED TO RUN AT PRESENT ---------\n",
    "#\n",
    "# Import mpcpp/spice\n",
    "import spiceypy\n",
    "import mpcpp.spice \n",
    "from mpcpp.spice import spice as spice\n",
    "# Load the standard kernals, including the lead-second one\n",
    "a = spice.KernelDownloads( {} ) \n",
    "a.startup_kernels()\n",
    "spiceypy.furnsh(a.meta_filestem)\n",
    "# Now do call which will go get Ceres kernal and get posns at times ... \n",
    "C = spice.CALLS( {} ) \n",
    "C.helio_tracklet( {'NAME':'Ceres', 'times':['Jun 20, 2004 00:00:00 TDB','Jun 20, 2004 01:00:00 TDB']} )\n",
    "for j,pos_vec in enumerate(C.helio_tracklet_posns):\n",
    "    print(pos_vec)"
   ]
  },
  {
   "cell_type": "markdown",
   "metadata": {},
   "source": [
    "# Now let's download the posn & vel data for a everything that's in the sample__ dictionary\n",
    " - About 8 different obects at this point "
   ]
  },
  {
   "cell_type": "code",
   "execution_count": 8,
   "metadata": {},
   "outputs": [],
   "source": [
    "# Making dictionaries within dictionaries ...\n",
    "rawdataDict__['helio_posnEQ'] = {} \n",
    "rawdataDict__['helio_velEQ']  = {} "
   ]
  },
  {
   "cell_type": "code",
   "execution_count": 9,
   "metadata": {},
   "outputs": [
    {
     "name": "stdout",
     "output_type": "stream",
     "text": [
      "making mass file :  /Users/matthewjohnpayne/mpcpp_data/spice_data/gm_MJP.tpc\n"
     ]
    }
   ],
   "source": [
    "# Enable spicey shit\n",
    "import spiceypy\n",
    "import mpcpp.spice \n",
    "from mpcpp.spice import spice as spice\n",
    "# Load the standard kernals, including the lead-second one\n",
    "a = spice.KernelDownloads( {} ) \n",
    "a.startup_kernels()\n",
    "spiceypy.furnsh(a.meta_filestem)"
   ]
  },
  {
   "cell_type": "code",
   "execution_count": 10,
   "metadata": {},
   "outputs": [
    {
     "name": "stdout",
     "output_type": "stream",
     "text": [
      "/Users/matthewjohnpayne/mpcpp_data/spice_data/smb_spk -b \"Crocco;\" 1900-Jan-1 2100-JAN-1 mpayne@cfa.harvard.edu /Users/matthewjohnpayne/mpcpp_data/spice_data/Crocco.bsp\n",
      "self.gotKernel Crocco\n",
      "\n",
      " Crocco 2010606\n",
      "HERE: [ 2.93807710e+08 -2.04176312e+08 -2.28189755e+08 ...  3.99109622e+08\n",
      "  2.24015393e+08  6.70925817e+07] [[ 1.96398324 -1.36483434 -1.5253543 ]\n",
      " [ 1.9642986  -1.36454912 -1.5252199 ]\n",
      " [ 1.97153962 -1.3579805  -1.52211915]\n",
      " ...\n",
      " [ 2.67159132  1.49061897  0.44240665]\n",
      " [ 2.66803809  1.49716607  0.44823298]\n",
      " [ 2.66788304  1.49745041  0.44848621]]\n",
      "730 [[ 1.96398324 -1.36483434 -1.5253543 ]]\n",
      "/Users/matthewjohnpayne/mpcpp_data/spice_data/smb_spk -b \"Chiron;\" 1900-Jan-1 2100-JAN-1 mpayne@cfa.harvard.edu /Users/matthewjohnpayne/mpcpp_data/spice_data/Chiron.bsp\n",
      "self.gotKernel Chiron\n",
      "\n",
      " Chiron 2002060\n",
      "HERE: [ 2.77459837e+09 -2.04564433e+08  1.07937941e+08 ...  2.79816614e+09\n",
      " -4.20796307e+07  1.60211987e+08] [[18.54704457 -1.36742878  0.72152057]\n",
      " [18.54706898 -1.36730486  0.72156083]\n",
      " [18.54763013 -1.36445482  0.72248686]\n",
      " ...\n",
      " [18.7043052  -0.28427529  1.06999837]\n",
      " [18.70457373 -0.28140956  1.07091129]\n",
      " [18.70458539 -0.28128496  1.07095099]]\n",
      "730 [[18.54704457 -1.36742878  0.72152057]]\n",
      "/Users/matthewjohnpayne/mpcpp_data/spice_data/smb_spk -b \"Sedna;\" 1900-Jan-1 2100-JAN-1 mpayne@cfa.harvard.edu /Users/matthewjohnpayne/mpcpp_data/spice_data/Sedna.bsp\n",
      "self.gotKernel Sedna\n",
      "\n",
      " Sedna 2090377\n",
      "HERE: [6.97475655e+09 1.05355825e+10 1.69662174e+09 ... 6.84326495e+09\n",
      " 1.05664113e+10 1.72053534e+09] [[46.62336782 70.42601897 11.34121582]\n",
      " [46.62326733 70.42604276 11.34123413]\n",
      " [46.62095616 70.42658989 11.34165538]\n",
      " ...\n",
      " [45.7468184  70.63153583 11.50062967]\n",
      " [45.74450152 70.63207382 11.5010501 ]\n",
      " [45.74440078 70.63209721 11.50106838]]\n",
      "730 [[46.62336782 70.42601897 11.34121582]]\n",
      "/Users/matthewjohnpayne/mpcpp_data/spice_data/smb_spk -b \"Hilda;\" 1900-Jan-1 2100-JAN-1 mpayne@cfa.harvard.edu /Users/matthewjohnpayne/mpcpp_data/spice_data/Hilda.bsp\n",
      "self.gotKernel Hilda\n",
      "\n",
      " Hilda 2000153\n",
      "HERE: [5.33158719e+08 3.08231946e+08 1.58559641e+08 ... 2.37267812e+08\n",
      " 5.91058283e+08 2.19787615e+08] [[3.56394591 2.0604033  1.05990573]\n",
      " [3.56380202 2.06069554 1.05998637]\n",
      " [3.56048598 2.06741318 1.06183906]\n",
      " ...\n",
      " [1.59292545 3.94789258 1.46891347]\n",
      " [1.58632447 3.95085218 1.46917806]\n",
      " [1.58603736 3.95098059 1.46918946]]\n",
      "730 [[3.56394591 2.0604033  1.05990573]]\n",
      "/Users/matthewjohnpayne/mpcpp_data/spice_data/smb_spk -b \"Ceres;\" 1900-Jan-1 2100-JAN-1 mpayne@cfa.harvard.edu /Users/matthewjohnpayne/mpcpp_data/spice_data/Ceres.bsp\n",
      "self.gotKernel Ceres\n",
      "\n",
      " Ceres 2000001\n",
      "HERE: [-1.70668237e+08  3.00554683e+08  1.76470792e+08 ... -3.47529953e+08\n",
      " -1.84122788e+08 -1.60099513e+07] [[-1.1408467   2.00908396  1.17963438]\n",
      " [-1.14124126  2.00885178  1.17960529]\n",
      " [-1.15030664  2.00349526  1.17892665]\n",
      " ...\n",
      " [-2.32722171 -1.22204492 -0.10205836]\n",
      " [-2.32326698 -1.23042105 -0.10681322]\n",
      " [-2.32309425 -1.23078482 -0.10701991]]\n",
      "730 [[-1.1408467   2.00908396  1.17963438]]\n",
      "/Users/matthewjohnpayne/mpcpp_data/spice_data/smb_spk -b \"Hungaria;\" 1900-Jan-1 2100-JAN-1 mpayne@cfa.harvard.edu /Users/matthewjohnpayne/mpcpp_data/spice_data/Hungaria.bsp\n",
      "self.gotKernel Hungaria\n",
      "\n",
      " Hungaria 2000434\n",
      "HERE: [ 2.63507688e+08 -7.71993983e+07 -9.56480954e+06 ... -1.14877476e+08\n",
      "  2.89988544e+08  8.64421223e+06] [[ 1.7614401  -0.5160461  -0.0639368 ]\n",
      " [ 1.76161798 -0.51553273 -0.06393341]\n",
      " [ 1.76566894 -0.5037134  -0.063854  ]\n",
      " ...\n",
      " [-0.75719187  1.94253233  0.05751937]\n",
      " [-0.76746246  1.93862489  0.05777204]\n",
      " [-0.7679085   1.93845369  0.05778299]]\n",
      "730 [[ 1.7614401 -0.5160461 -0.0639368]]\n",
      "/Users/matthewjohnpayne/mpcpp_data/spice_data/smb_spk -b \"Achilles;\" 1900-Jan-1 2100-JAN-1 mpayne@cfa.harvard.edu /Users/matthewjohnpayne/mpcpp_data/spice_data/Achilles.bsp\n",
      "self.gotKernel Achilles\n",
      "\n",
      " Achilles 2000588\n",
      "HERE: [ 1.90288085e+08 -7.57380222e+08 -4.26932149e+08 ...  5.03447969e+08\n",
      " -6.33849401e+08 -3.07458054e+08] [[ 1.27199728 -5.06277408 -2.85386515]\n",
      " [ 1.27225882 -5.06273251 -2.85380233]\n",
      " [ 1.27827345 -5.06177289 -2.85235564]\n",
      " ...\n",
      " [ 3.36031928 -4.24051838 -2.05805587]\n",
      " [ 3.36513264 -4.23716738 -2.05534795]\n",
      " [ 3.36534181 -4.23702154 -2.05523015]]\n",
      "730 [[ 1.27199728 -5.06277408 -2.85386515]]\n",
      "/Users/matthewjohnpayne/mpcpp_data/spice_data/smb_spk -b \"Alinda;\" 1900-Jan-1 2100-JAN-1 mpayne@cfa.harvard.edu /Users/matthewjohnpayne/mpcpp_data/spice_data/Alinda.bsp\n",
      "self.gotKernel Alinda\n",
      "\n",
      " Alinda 2000887\n",
      "HERE: [-2.46267079e+08 -2.99936015e+08 -6.95487501e+07 ...  2.97294898e+07\n",
      " -5.36393086e+08 -2.01599138e+08] [[-1.64619374 -2.00494842 -0.46490468]\n",
      " [-1.64607439 -2.00532698 -0.46506305]\n",
      " [-1.64331652 -2.0140182  -0.46870189]\n",
      " ...\n",
      " [ 0.19294204 -3.58515414 -1.34650369]\n",
      " [ 0.19848825 -3.58554952 -1.34756117]\n",
      " [ 0.19872936 -3.58556632 -1.347607  ]]\n",
      "730 [[-1.64619374 -2.00494842 -0.46490468]]\n"
     ]
    }
   ],
   "source": [
    "def pv_from_state(state_):\n",
    "    \"\"\" Convenience function to split and convert returned 6-component states \n",
    "    \"\"\"\n",
    "    # split \n",
    "    posns=np.array([ item[0:3] for item in state])\n",
    "    vels=np.array([ item[3:6] for item in state])\n",
    "    # convert \n",
    "    posns = np.array([spiceypy.convrt(p , 'km', 'au') for p in posns.flatten()]).reshape((-1,3))\n",
    "    vels = np.array([spiceypy.convrt(v , 'km', 'au')*24.*3600. for v in vels.flatten()]).reshape((-1,3))\n",
    "    # return separate arrays\n",
    "    return posns, vels\n",
    "    \n",
    "\n",
    "\n",
    "for popn,NAME in sample__.items(): \n",
    "    a = spice.KernelDownloads( {} )   ## <<-- {} because wants input params\n",
    "    a.get_kernel(NAME)\n",
    "    print(\"\\n\", NAME, sampleIDs__[NAME])\n",
    "    spiceypy.furnsh(os.path.join(a.data_dir, a.gotKernel + \".bsp\"))        \n",
    "    spiceypy.furnsh(os.path.join(a.data_dir, 'naif0012.tls'))        \n",
    "\n",
    "    \n",
    "    # This is the basic call that gets posn only \n",
    "    posns, lTTs = spiceypy.spkpos(sampleIDs__[NAME], spiceypy.str2et(tJD_), 'J2000', 'NONE', '10')\n",
    "    posns = np.array(posns).flatten()\n",
    "    helio_tracklet_posns = np.array([spiceypy.convrt(p , 'km', 'au') for p in posns]).reshape((-1,3))\n",
    "    print(\"HERE:\", posns, helio_tracklet_posns)\n",
    "    \n",
    "    # This call should get posn & vel and return as a state ...\n",
    "    #state, lTTs = spiceypy.spkezr(sampleIDs__[NAME], spiceypy.str2et(tJD_), 'J2000', 'NONE', '10')\n",
    "    #posns_ , vels_ = pv_from_state(state)\n",
    "    # Put into the Dictionary of Things \n",
    "    \n",
    "    rawdataDict__['helio_posnEQ'][NAME]= helio_tracklet_posns\n",
    "    #rawdataDict__['helio_vel'][NAME] = vels_\n",
    "\n",
    "    print( len(rawdataDict__['helio_posnEQ'][NAME]),rawdataDict__['helio_posnEQ'][NAME][:1])\n",
    "    #print( len(rawdataDict__['helio_vel'][NAME]), rawdataDict__['helio_vel'][NAME][:1])\n",
    "\n",
    "\n"
   ]
  },
  {
   "cell_type": "markdown",
   "metadata": {
    "collapsed": true
   },
   "source": [
    "# Make some simple test plots of the coordinates returned above ...\n",
    " - Equatorial"
   ]
  },
  {
   "cell_type": "code",
   "execution_count": 11,
   "metadata": {},
   "outputs": [
    {
     "name": "stderr",
     "output_type": "stream",
     "text": [
      "/Users/matthewjohnpayne/anaconda/lib/python3.5/site-packages/matplotlib/cbook/deprecation.py:107: MatplotlibDeprecationWarning: Adding an axes using the same arguments as a previous axes currently reuses the earlier instance.  In a future version, a new instance will always be created and returned.  Meanwhile, this warning can be suppressed, and the future behavior ensured, by passing a unique label to each axes instance.\n",
      "  warnings.warn(message, mplDeprecation, stacklevel=1)\n"
     ]
    },
    {
     "data": {
      "image/png": "[encoded data removed]",
      "text/plain": [
       "<Figure size 432x288 with 1 Axes>"
      ]
     },
     "metadata": {},
     "output_type": "display_data"
    }
   ],
   "source": [
    "for NAME, data in rawdataDict__['helio_posnEQ'].items() :\n",
    "    if NAME != 'Sedna': \n",
    "        x_ = data[:,0]\n",
    "        y_ = data[:,1]\n",
    "\n",
    "        plt.plot(x_,y_)\n",
    "        mx = 8\n",
    "        plt.xlim([-mx,mx])\n",
    "        plt.ylim([-mx,mx])\n",
    "        plt.axes().set_aspect('equal')#, 'datalim')\n"
   ]
  },
  {
   "cell_type": "markdown",
   "metadata": {},
   "source": [
    "# Convert the imported coordinates to ECLIPTIC"
   ]
  },
  {
   "cell_type": "code",
   "execution_count": 12,
   "metadata": {},
   "outputs": [],
   "source": [
    "rawdataDict__['helio_posn'] = {} \n",
    "for popn,NAME in sample__.items(): \n",
    "    rawdataDict__['helio_posn'][NAME] = np.array([ equatorial_to_ecliptic(vec) for vec in rawdataDict__['helio_posnEQ'][NAME]])\n"
   ]
  },
  {
   "cell_type": "code",
   "execution_count": 13,
   "metadata": {},
   "outputs": [
    {
     "name": "stderr",
     "output_type": "stream",
     "text": [
      "/Users/matthewjohnpayne/anaconda/lib/python3.5/site-packages/matplotlib/cbook/deprecation.py:107: MatplotlibDeprecationWarning: Adding an axes using the same arguments as a previous axes currently reuses the earlier instance.  In a future version, a new instance will always be created and returned.  Meanwhile, this warning can be suppressed, and the future behavior ensured, by passing a unique label to each axes instance.\n",
      "  warnings.warn(message, mplDeprecation, stacklevel=1)\n"
     ]
    },
    {
     "data": {
      "image/png": "[encoded data removed]",
      "text/plain": [
       "<Figure size 432x288 with 1 Axes>"
      ]
     },
     "metadata": {},
     "output_type": "display_data"
    }
   ],
   "source": [
    "for NAME, data in rawdataDict__['helio_posn'].items() :\n",
    "    if NAME != 'Sedna': \n",
    "        x_ = data[:,0]\n",
    "        y_ = data[:,1]\n",
    "\n",
    "        plt.plot(x_,y_)\n",
    "        mx = 8\n",
    "        plt.xlim([-mx,mx])\n",
    "        plt.ylim([-mx,mx])\n",
    "        plt.axes().set_aspect('equal')#, 'datalim')\n",
    "\n"
   ]
  },
  {
   "cell_type": "code",
   "execution_count": 14,
   "metadata": {},
   "outputs": [
    {
     "data": {
      "image/png": "[encoded data removed]",
      "text/plain": [
       "<Figure size 432x288 with 1 Axes>"
      ]
     },
     "metadata": {},
     "output_type": "display_data"
    }
   ],
   "source": [
    "for NAME in rawdataDict__['helio_posnEQ'].keys() :\n",
    "    EQ = rawdataDict__['helio_posnEQ'][NAME]\n",
    "    EC = rawdataDict__['helio_posn'][NAME]\n",
    "\n",
    "\n",
    "    if NAME != 'Sedna': \n",
    " \n",
    "        plt.plot(EQ[:,2],EC[:,2])\n",
    "        mx = 8\n",
    "        plt.xlim([-mx,mx])\n",
    "        #plt.ylim([-mx,mx])\n",
    "        #plt.axes().set_aspect('equal')#, 'datalim')\n",
    "\n"
   ]
  },
  {
   "cell_type": "markdown",
   "metadata": {
    "collapsed": true
   },
   "source": [
    "# Now going to experiment with using the \"CallHorizons\" routine to get the RA/Dec for those objects \n",
    " - I'm probably going to take the opportunity to check those results against explicit transformation\n",
    " - Will be of some use for writing tests for MPC code (mpcpp) "
   ]
  },
  {
   "cell_type": "raw",
   "metadata": {},
   "source": [
    "import callhorizons\n",
    "qry     = callhorizons.query('Eros')\n",
    "qry.set_discreteepochs([2457446.177083])\n",
    "qry.get_ephemerides('568')\n"
   ]
  },
  {
   "cell_type": "markdown",
   "metadata": {},
   "source": [
    "# For some fucking erason th ecallhorizons routine stopped working, so am going to try using the \"astroquery\" package"
   ]
  },
  {
   "cell_type": "code",
   "execution_count": 101,
   "metadata": {},
   "outputs": [
    {
     "name": "stdout",
     "output_type": "stream",
     "text": [
      "[292.46003, 293.09031] <class 'list'>\n"
     ]
    }
   ],
   "source": [
    "# For some fucking erason th ecallhorizons routine stopped working, so am going to try using the \"astroquery\" package\n",
    "from astroquery.jplhorizons import Horizons\n",
    "from astroquery.jplhorizons import conf\n",
    "conf.horizons_server = 'https://ssd.jpl.nasa.gov/horizons_batch.cgi'\n",
    "\n",
    "obj = Horizons(id='Eros', location='568',epochs=[2457446.177083,2457447.177083])\n",
    "eph = obj.ephemerides()\n",
    "eph\n",
    "print(list(eph['RA']), type(list(eph['RA'])))"
   ]
  },
  {
   "cell_type": "markdown",
   "metadata": {},
   "source": [
    "# Test call for ERO ...\n",
    " ### Here I establish that for some reason \"astroquery\" craps out for calls longer than ~500 time-samples (same as \"callhorizons\")"
   ]
  },
  {
   "cell_type": "raw",
   "metadata": {},
   "source": [
    "for n in [400,450,500, 550]:\n",
    "    start = 2457446.177083\n",
    "    stop = start + n\n",
    "    obj = Horizons(id='Eros', location='568',epochs=np.arange(start,stop,1.))\n",
    "    eph = obj.ephemerides()\n",
    "    print(n,len(eph))\n",
    "    "
   ]
  },
  {
   "cell_type": "markdown",
   "metadata": {},
   "source": [
    "### Here I deal with the above problem by\n",
    " - Chopping times into \"chunks\" \n",
    " - Smushing the data into some dictionary structure to cover the entire set of time-samples"
   ]
  },
  {
   "cell_type": "code",
   "execution_count": 102,
   "metadata": {},
   "outputs": [],
   "source": [
    "import sys\n",
    "def chunks(l, n):\n",
    "    n = max(1, n)\n",
    "    return [l[i:i+n] for i in range(0, len(l), n)]\n",
    "def extract_data_of_interest_from_query(qry):\n",
    "    return { field : list(qry[field]) for field in qry.columns }#if field in ['RA','DEC']}\n",
    "def combined_time_chunk_data(queries):\n",
    "    D__ = {} \n",
    "    for qry in queries:\n",
    "        for field,data in extract_data_of_interest_from_query(qry).items():\n",
    "            if field in D__:\n",
    "                D__[field] = np.append(D__[field],data)\n",
    "            else:\n",
    "                D__[field] = data\n",
    "    return D__ \n",
    "def query_JDs(Name, chunk , ObsCode):\n",
    "    obj = Horizons(id=Name, location=ObsCode,epochs=chunk)\n",
    "    return obj.ephemerides()\n",
    "    \n",
    "def query_wrapper(Name, times, ObsCode, step=499):\n",
    "    # chopping into lengths of 500, as established this worked above ... \n",
    "    queries = [ query_JDs(Name, chunk , ObsCode) for chunk in chunks(times,step) ]\n",
    "    return  combined_time_chunk_data(queries)\n",
    "\n",
    "\n",
    "    "
   ]
  },
  {
   "cell_type": "code",
   "execution_count": 103,
   "metadata": {},
   "outputs": [
    {
     "name": "stdout",
     "output_type": "stream",
     "text": [
      "400 400\n"
     ]
    },
    {
     "name": "stderr",
     "output_type": "stream",
     "text": [
      "/Users/matthewjohnpayne/anaconda/lib/python3.5/site-packages/numpy/core/numeric.py:553: UserWarning: Warning: converting a masked element to nan.\n",
      "  return array(a, dtype, copy=False, order=order, subok=True)\n"
     ]
    },
    {
     "name": "stdout",
     "output_type": "stream",
     "text": [
      "500 500\n",
      "700 700\n"
     ]
    }
   ],
   "source": [
    "# Here I am demonstrating that the above fix works\n",
    "# --- So don't need to continually rerun this  \n",
    "Name    = 'Ceres'\n",
    "for j in [400,500,700]:\n",
    "    temp_t = [2457446.17 + i for i in range(j)] #[2457446.177083,2457447.177083,2457448.177083]\n",
    "    D__ = query_wrapper(Name, temp_t, ObsCode)\n",
    "    print(j, len(D__['RA']) )\n",
    "\n"
   ]
  },
  {
   "cell_type": "markdown",
   "metadata": {},
   "source": [
    "# Let's go ahead and make all of the queries for all of the objects of interest ...\n"
   ]
  },
  {
   "cell_type": "code",
   "execution_count": 105,
   "metadata": {},
   "outputs": [
    {
     "name": "stderr",
     "output_type": "stream",
     "text": [
      "/Users/matthewjohnpayne/anaconda/lib/python3.5/site-packages/numpy/core/numeric.py:553: UserWarning: Warning: converting a masked element to nan.\n",
      "  return array(a, dtype, copy=False, order=order, subok=True)\n"
     ]
    },
    {
     "name": "stdout",
     "output_type": "stream",
     "text": [
      "Crocco  :  36 730\n",
      "Chiron  :  36 730\n",
      "Sedna  :  35 730\n",
      "Hilda  :  36 730\n",
      "Ceres  :  36 730\n",
      "Hungaria  :  36 730\n",
      "Achilles  :  36 730\n",
      "Alinda  :  36 730\n"
     ]
    }
   ],
   "source": [
    "rawdataDict__['GeoObs'] = {} \n",
    "rawdataDict__['F51Obs'] = {} \n",
    "\n",
    "for popn,NAME in sample__.items(): \n",
    "    # We are now make the query\n",
    "    # Each query returns a dictionary \n",
    "    # We then stuff the entire dictionary into the appropriate rawdataDict__ slot ...\n",
    "    rawdataDict__['GeoObs'][NAME] = query_wrapper(NAME, t_, '500')\n",
    "    rawdataDict__['F51Obs'][NAME] = query_wrapper(NAME, t_, 'F51')\n",
    "\n",
    "    print(NAME, \" : \", len(rawdataDict__['GeoObs'][NAME].keys()), len(rawdataDict__['GeoObs'][NAME]['RA']))\n",
    "    \n",
    "    "
   ]
  },
  {
   "cell_type": "markdown",
   "metadata": {},
   "source": [
    "# It'll be useful to do unit vector calculations for those observations\n",
    " - Hope the units are correct ... "
   ]
  },
  {
   "cell_type": "code",
   "execution_count": 106,
   "metadata": {},
   "outputs": [],
   "source": [
    "rawdataDict__['GeoUV'] = {} \n",
    "rawdataDict__['F51UV'] = {} \n"
   ]
  },
  {
   "cell_type": "code",
   "execution_count": 107,
   "metadata": {},
   "outputs": [
    {
     "name": "stdout",
     "output_type": "stream",
     "text": [
      "Crocco\n",
      "[306.03306 306.05055]\n",
      "[-34.70322 -34.6974 ]\n",
      "[array([ 0.48360902, -0.66482368, -0.56932573]), array([ 0.48384598, -0.66472278, -0.56924222])]\n",
      "Chiron\n",
      "[353.06982 353.06974]\n",
      "[1.11279 1.11255]\n",
      "[array([ 0.9925067 , -0.12063699,  0.01942063]), array([ 0.99250662, -0.12063839,  0.01941644])]\n",
      "Sedna\n",
      "[56.37924 56.37882]\n",
      "[7.48284 7.48277]\n",
      "[array([0.548978  , 0.82562915, 0.13022925]), array([0.54898414, 0.82562526, 0.13022804])]\n",
      "Hilda\n",
      "[20.78642 20.78413]\n",
      "[11.4454  11.44336]\n",
      "[array([0.91631843, 0.34782822, 0.19843403]), array([0.91633894, 0.3477941 , 0.19839913])]\n",
      "Ceres\n",
      "[142.10985 142.11571]\n",
      "[23.21031 23.21257]\n",
      "[array([-0.72531617,  0.564443  ,  0.3941073 ]), array([-0.72536162,  0.56435927,  0.39414355])]\n",
      "Hungaria\n",
      "[315.92177 315.9451 ]\n",
      "[-12.39474 -12.3949 ]\n",
      "[array([ 0.70164641, -0.67942591, -0.21464566]), array([ 0.70192257, -0.67913973, -0.21464839])]\n",
      "Achilles\n",
      "[278.79857 278.80721]\n",
      "[-28.3114  -28.31035]\n",
      "[array([ 0.13466442, -0.87002284, -0.47426339]), array([ 0.13479694, -0.87001111, -0.47424725])]\n",
      "Alinda\n",
      "[234.86859 234.88516]\n",
      "[-13.41155 -13.41545]\n",
      "[array([-0.55976057, -0.79553133, -0.231944  ]), array([-0.55952139, -0.79568026, -0.23201021])]\n"
     ]
    }
   ],
   "source": [
    "# Transform from observational RA/DEc to a Unit Vector towards the observation\n",
    "def get_unitvec_from_RADEC(RA,DEC):\n",
    "    raDeg, decDeg = RA,DEC # MPC_library.RA2degRA(RA), MPC_library.Dec2degDec(Dec)\n",
    "    x = np.cos(decDeg*np.pi/180.)*np.cos(raDeg*np.pi/180.)\n",
    "    y = np.cos(decDeg*np.pi/180.)*np.sin(raDeg*np.pi/180.)  \n",
    "    z = np.sin(decDeg*np.pi/180.)\n",
    "    return np.array( [x,y,z] )\n",
    "   \n",
    "# We add the unit vectors into the appropriate dictionary \n",
    "for popn,NAME in sample__.items(): \n",
    "    rawdataDict__['GeoUV'][NAME] = [ get_unitvec_from_RADEC(RA,DEC) for RA, DEC in zip( rawdataDict__['GeoObs'][NAME]['RA'],rawdataDict__['GeoObs'][NAME]['DEC'])]\n",
    "    rawdataDict__['F51UV'][NAME] = [ get_unitvec_from_RADEC(RA,DEC) for RA, DEC in zip( rawdataDict__['F51Obs'][NAME]['RA'],rawdataDict__['F51Obs'][NAME]['DEC'])]\n",
    "\n",
    "    print(NAME)\n",
    "    print(rawdataDict__['GeoObs'][NAME]['RA'][:2])\n",
    "    print(rawdataDict__['GeoObs'][NAME]['DEC'][:2])\n",
    "    print(rawdataDict__['GeoUV'][NAME][:2])\n",
    "\n",
    "\n"
   ]
  },
  {
   "cell_type": "markdown",
   "metadata": {},
   "source": [
    "# Make some trial RA/DEC plots"
   ]
  },
  {
   "cell_type": "code",
   "execution_count": 108,
   "metadata": {},
   "outputs": [
    {
     "data": {
      "text/plain": [
       "[<matplotlib.lines.Line2D at 0xb2324aeb8>]"
      ]
     },
     "execution_count": 108,
     "metadata": {},
     "output_type": "execute_result"
    },
    {
     "data": {
      "image/png": "[encoded data removed]",
      "text/plain": [
       "<Figure size 432x288 with 1 Axes>"
      ]
     },
     "metadata": {},
     "output_type": "display_data"
    }
   ],
   "source": [
    "i=000*2;\n",
    "f=200*2\n",
    "NAME = 'Ceres'\n",
    "plt.plot(rawdataDict__['GeoObs'][NAME]['RA'],rawdataDict__['GeoObs'][NAME]['DEC'],'.')   \n",
    "#plt.plot(rawdataDict__['F51UV'][NAME]['RA'][i:f]-rawdataDict__['F51UV'][NAME]['RA'][i:f],rawdataDict__['F51UV'][NAME]['DEC'][i:f]-rawdataDict__['F51UV'][NAME]['DEC'][i:f],'.')   \n",
    "\n",
    "\n"
   ]
  },
  {
   "cell_type": "markdown",
   "metadata": {},
   "source": [
    "# In the above, we have imported RA & DEC (amongst other things)\n",
    "## But the RA & DEC are (probably) in EQUATORIAL coordinates\n",
    "## And hence so are the UnitVectors derived from them \n",
    "## Let's convert these to ECLIPTIC coordinates"
   ]
  },
  {
   "cell_type": "code",
   "execution_count": 109,
   "metadata": {},
   "outputs": [],
   "source": [
    "rawdataDict__['TEC_GeoUV'] = {} \n",
    "rawdataDict__['TEC_F51UV'] = {} "
   ]
  },
  {
   "cell_type": "code",
   "execution_count": 110,
   "metadata": {},
   "outputs": [
    {
     "name": "stdout",
     "output_type": "stream",
     "text": [
      "[array([-0.55976057, -0.79553133, -0.231944  ]), array([-0.55952139, -0.79568026, -0.23201021])]\n",
      "[array([-0.55976057, -0.82214776,  0.10363959]), array([-0.55952139, -0.82231074,  0.10363808])]\n"
     ]
    }
   ],
   "source": [
    "for popn,NAME in sample__.items(): \n",
    "    rawdataDict__['TEC_GeoUV'][NAME] = [ equatorial_to_ecliptic(vec) for vec in rawdataDict__['GeoUV'][NAME] ]\n",
    "    rawdataDict__['TEC_F51UV'][NAME] = [ equatorial_to_ecliptic(vec) for vec in rawdataDict__['F51UV'][NAME] ]\n",
    " \n",
    "print(rawdataDict__['GeoUV'][NAME][:2])\n",
    "print(rawdataDict__['TEC_GeoUV'][NAME][:2])\n"
   ]
  },
  {
   "cell_type": "markdown",
   "metadata": {},
   "source": [
    "# Let's save all of the imported data into a pickle file so that we can restart from here without having to go through all of the above "
   ]
  },
  {
   "cell_type": "code",
   "execution_count": 111,
   "metadata": {},
   "outputs": [],
   "source": [
    "# Not enabled at present so that it doesn't run by accident ...\n",
    "pickle.dump( rawdataDict__, open( \"ExampleObjectPickle.p\", \"wb\" ) )"
   ]
  },
  {
   "cell_type": "markdown",
   "metadata": {},
   "source": [
    "# And now, the pickle import ..."
   ]
  },
  {
   "cell_type": "code",
   "execution_count": 112,
   "metadata": {},
   "outputs": [],
   "source": [
    "rawdataDict__ = pickle.load( open( \"ExampleObjectPickle.p\", \"rb\" ) )"
   ]
  },
  {
   "cell_type": "markdown",
   "metadata": {},
   "source": [
    "# I have defined a bunch of handy-dandy classes in \n",
    "HelioClustering_Utilities.py\n",
    "\n",
    "## These are intended to hold the detections/tracklets/arrows/..."
   ]
  },
  {
   "cell_type": "code",
   "execution_count": 113,
   "metadata": {},
   "outputs": [
    {
     "data": {
      "text/plain": [
       "<module 'HelioClustering_Utilities' from '/Users/matthewjohnpayne/Dropbox/ITF/HelioClustering_Utilities.py'>"
      ]
     },
     "execution_count": 113,
     "metadata": {},
     "output_type": "execute_result"
    }
   ],
   "source": [
    "import HelioClustering_Utilities as HCU\n",
    "import imp\n",
    "imp.reload(HCU)"
   ]
  },
  {
   "cell_type": "markdown",
   "metadata": {},
   "source": [
    "## Let's try to stuff the data into a set of detections & tracklets"
   ]
  },
  {
   "cell_type": "code",
   "execution_count": 114,
   "metadata": {},
   "outputs": [
    {
     "name": "stdout",
     "output_type": "stream",
     "text": [
      "REMEMBER, BEFORE YOU FREAK OUT, THEY HAVE ALL BEEN TRANSFORMED AS IF AT 2.5 AU ...\n",
      "\n",
      " Crocco\n",
      "Det:  [ 1.7934309  -1.56438108 -0.76571367]\n",
      "Track:\n",
      "2458088.5 [ 1.7934309  -1.56438108 -0.76571367]\n",
      "2458088.541667 [ 1.79366453 -1.56411154 -0.76571707]\n",
      "Simple counts of dets & tracklets ...  730 365\n",
      "\n",
      " Chiron\n",
      "Det:  [2.3939423  0.70768298 0.13500016]\n",
      "Track:\n",
      "2458088.5 [2.3939423  0.70768298 0.13500016]\n",
      "2458088.541667 [2.39388464 0.7078716  0.13503378]\n",
      "Simple counts of dets & tracklets ...  730 365\n",
      "\n",
      " Sedna\n",
      "Det:  [ 1.20424588  2.16701725 -0.32222367]\n",
      "Track:\n",
      "2458088.5 [ 1.20424588  2.16701725 -0.32222367]\n",
      "2458088.541667 [ 1.20364023  2.16735057 -0.32224475]\n",
      "Simple counts of dets & tracklets ...  730 365\n",
      "\n",
      " Hilda\n",
      "Det:  [1.92106351 1.59811088 0.07454259]\n",
      "Track:\n",
      "2458088.5 [1.92106351 1.59811088 0.07454259]\n",
      "2458088.541667 [1.92078372 1.59844784 0.074528  ]\n",
      "Simple counts of dets & tracklets ...  730 365\n",
      "\n",
      " Ceres\n",
      "Det:  [-1.06754103  2.24451461  0.26927739]\n",
      "Track:\n",
      "2458088.5 [-1.06754103  2.24451461  0.26927739]\n",
      "2458088.541667 [-1.06794839  2.24431334  0.26933965]\n",
      "Simple counts of dets & tracklets ...  730 365\n",
      "\n",
      " Hungaria\n",
      "Det:  [ 2.27474212 -1.01755918  0.20030375]\n",
      "Track:\n",
      "2458088.5 [ 2.27474212 -1.01755918  0.20030375]\n",
      "2458088.541667 [ 2.27508086 -1.01685865  0.20001389]\n",
      "Simple counts of dets & tracklets ...  730 365\n",
      "\n",
      " Achilles\n",
      "Det:  [ 0.8035266  -2.3489099  -0.29490214]\n",
      "Track:\n",
      "2458088.5 [ 0.8035266  -2.3489099  -0.29490214]\n",
      "2458088.541667 [ 0.80334211 -2.34897288 -0.29490313]\n",
      "Simple counts of dets & tracklets ...  730 365\n",
      "\n",
      " Alinda\n",
      "Det:  [-1.57012491 -1.91241771  0.35688411]\n",
      "Track:\n",
      "2458088.5 [-1.57012491 -1.91241771  0.35688411]\n",
      "2458088.541667 [-1.56990103 -1.9126052   0.35686426]\n",
      "Simple counts of dets & tracklets ...  730 365\n"
     ]
    }
   ],
   "source": [
    "## Let's try to stuff the data into a DETECTIONS ...\n",
    "detDict__ = {}\n",
    "trckDict__ = {}\n",
    "for popn,NAME in sample__.items(): \n",
    "    \n",
    "    # Stuff the detections for each object into a list \n",
    "    detDict__[NAME] = []\n",
    "    for t, HEC_F51, TEC_F51UV in zip(t_, HEC_F51_, rawdataDict__['TEC_F51UV'][NAME]):\n",
    "        # Create a detection\n",
    "        D = HCU.DETECTION()\n",
    "        # Add in the data\n",
    "        D.ADD_TIME(t)\n",
    "        D.ADD_OBSERVATORYPOSN(HEC_F51)\n",
    "        D.ADD_UNIT(TEC_F51UV)\n",
    "        # Do utility calculations (at the mo is just heliocentric conversion at assumed 2.5AU) \n",
    "        D.ROUGH_HELIO_CONVERSION(2.5)\n",
    "        # Stick all of the DETECTIONS into a list \n",
    "        detDict__[NAME].append( D )\n",
    "        \n",
    "        \n",
    "    # Now go through the above list and chop into tracklets based on day \n",
    "    trckDict__[NAME] = []\n",
    "    for i,D in enumerate(detDict__[NAME]):\n",
    "        # Create a new tracklet if appropriate\n",
    "        if i ==0 or ((int(D.time)- int(trckDict__[NAME][-1].times[0]))**2)**0.5 > 0.5 :\n",
    "            trckDict__[NAME].append(HCU.TRACKLET())\n",
    "            \n",
    "        # Put detections in last tracklet (and calc time list to help with sorting ...)\n",
    "        trckDict__[NAME][-1].ADD_DETECTION(D)\n",
    "        trckDict__[NAME][-1].GET_TIMES()\n",
    "\n",
    "        \n",
    "print(\"REMEMBER, BEFORE YOU FREAK OUT, THEY HAVE ALL BEEN TRANSFORMED AS IF AT 2.5 AU ...\")\n",
    "for popn,NAME in sample__.items(): \n",
    "    print(\"\\n\", NAME)\n",
    "    print(\"Det: \",detDict__[NAME][0].heliocentric_posn)\n",
    "    print(\"Track:\")\n",
    "    for det in trckDict__[NAME][0].dets_:\n",
    "        print(det.time, det.heliocentric_posn)\n",
    "    print(\"Simple counts of dets & tracklets ... \", len(detDict__[NAME]), len(trckDict__[NAME]))\n"
   ]
  },
  {
   "cell_type": "markdown",
   "metadata": {},
   "source": [
    "# Now let's look at forming ARROWS \n",
    " - This involves doing the transformations for a particular (gamma-gamma_dot) pair"
   ]
  },
  {
   "cell_type": "code",
   "execution_count": 115,
   "metadata": {},
   "outputs": [
    {
     "name": "stderr",
     "output_type": "stream",
     "text": [
      "/Users/matthewjohnpayne/Dropbox/ITF/HelioClustering_Utilities.py:196: FutureWarning: `rcond` parameter will change to the default of machine precision times ``max(M, N)`` where M and N are the input matrix dimensions.\n",
      "To use the future default and silence this warning we advise to pass `rcond=None`, to keep using the old, explicitly pass `rcond=-1`.\n",
      "  alpha_dot, alpha = np.linalg.lstsq(A, self.x)[0]\n",
      "/Users/matthewjohnpayne/Dropbox/ITF/HelioClustering_Utilities.py:200: FutureWarning: `rcond` parameter will change to the default of machine precision times ``max(M, N)`` where M and N are the input matrix dimensions.\n",
      "To use the future default and silence this warning we advise to pass `rcond=None`, to keep using the old, explicitly pass `rcond=-1`.\n",
      "  beta_dot, beta = np.linalg.lstsq(A, self.y)[0]\n"
     ]
    },
    {
     "name": "stdout",
     "output_type": "stream",
     "text": [
      "Crocco 638\n",
      "Chiron 592\n",
      "Sedna 706\n",
      "Hilda 728\n",
      "Ceres 122\n",
      "Hungaria 728\n",
      "Achilles 462\n",
      "Alinda 378\n"
     ]
    },
    {
     "data": {
      "image/png": "[encoded data removed]",
      "text/plain": [
       "<Figure size 432x288 with 1 Axes>"
      ]
     },
     "metadata": {},
     "output_type": "display_data"
    }
   ],
   "source": [
    "imp.reload(HCU)\n",
    "\n",
    "# Test what things look like for g_gdot  = (0.4, 0.0)\n",
    "g_gdot  = (0.4, 0.0)\n",
    "\n",
    "# Loop over  objects\n",
    "cnt=0\n",
    "plt.plot(rawdataDict__['HEC_Earth_'][:,0],rawdataDict__['HEC_Earth_'][:,1],'.',c='k')\n",
    "\n",
    "refDict__={}\n",
    "refDict__['ref_vec']={}\n",
    "refDict__['ref_t']={}\n",
    "refDict__['ref_ind']={}\n",
    "\n",
    "\n",
    "\n",
    "for popn,NAME in sample__.items(): \n",
    "\n",
    "    # To make things simple, want to choose a reference time and direction that is close to \n",
    "    # opposition\n",
    "    # Think i want to do this by dotting heliocentric vectors and choosing when closest to aligned...\n",
    "    \n",
    "    sepnVec=np.array ([np.dot(xyzE/np.linalg.norm(xyzE) ,xyzBody/np.linalg.norm(xyzBody))   for xyzE , xyzBody in zip(rawdataDict__['HEC_Earth_'] , rawdataDict__['helio_posn'][NAME])])\n",
    "    sepnInd = np.where(sepnVec == np.max(sepnVec))[0][0] # This is the index at which sepn is max\n",
    "    if sepnInd % 2 ==1: sepnInd -=1                      # Force even: => first detn in tracklet\n",
    "    \n",
    "    # Use above index to choose ref time & vector\n",
    "    ref_vec = detDict__[NAME][sepnInd].heliocentric_unit     # <<-- At directn of the Nth detection\n",
    "    ref_t   = t_[sepnInd]                                    # <<-- At time    of the Nth detection\n",
    "    refDict__['ref_vec'][NAME]  =  detDict__[NAME][sepnInd].heliocentric_unit  \n",
    "    refDict__['ref_t'][NAME]  =  t_[sepnInd]\n",
    "    refDict__['ref_ind'][NAME]  =  sepnInd\n",
    "\n",
    "\n",
    "\n",
    "    # create an ARROW for that g,g-dot\n",
    "    for T in trckDict__[NAME]:\n",
    "        T.ADD_ARROW(g_gdot,ref_vec,ref_t)\n",
    "        \n",
    "    # quick check ...\n",
    "    print(NAME, sepnInd)\n",
    "    '''\n",
    "    print('t_ref , vec_ref = ',ref_t, ref_vec)\n",
    "    print(\"times \",trckDict__[NAME][int(sepnInd/2)].times)\n",
    "    print(\"t_emit\",trckDict__[NAME][int(sepnInd/2)].ArrowDict__[g_gdot].t_emit)\n",
    "    print(\"LTTs\",trckDict__[NAME][int(sepnInd/2)].ArrowDict__[g_gdot].LTTs_)\n",
    "\n",
    "    print(\"theta0\",trckDict__[NAME][int(sepnInd/2)].ArrowDict__[g_gdot].theta_[0])\n",
    "    print(\"theta1\",trckDict__[NAME][int(sepnInd/2)].ArrowDict__[g_gdot].theta_[1])\n",
    "\n",
    "    print(\"x\",trckDict__[NAME][int(sepnInd/2)].ArrowDict__[g_gdot].x)\n",
    "    print(\"y\",trckDict__[NAME][int(sepnInd/2)].ArrowDict__[g_gdot].y)\n",
    "\n",
    "    print(\"also x?\",trckDict__[NAME][int(sepnInd/2)].ArrowDict__[g_gdot].rot_observatory_posn[0][0]*0.4)\n",
    "    print(\"also x?\",trckDict__[NAME][int(sepnInd/2)].ArrowDict__[g_gdot].rot_observatory_posn[1][0]*0.4)\n",
    "\n",
    "    print(\"HEC_Earth_\",rawdataDict__['HEC_Earth_'][sepnInd]) \n",
    "    print(\"orig obs posn\",detDict__[NAME][sepnInd].observatory_posn)\n",
    "    print(\"xyzE=rot_observatory_posn\",trckDict__[NAME][int(sepnInd/2)].ArrowDict__[g_gdot].rot_observatory_posn)\n",
    "\n",
    "    print(\"xyzE\",rawdataDict__['HEC_Earth_'][sepnInd]) \n",
    "    \n",
    "    print(\"body\", rawdataDict__['helio_posn'][NAME][sepnInd])\n",
    "    print(\"sepndot\", sepnVec[sepnInd])\n",
    "    print(\"alphavec\",trckDict__[NAME][int(sepnInd/2)].ArrowDict__[g_gdot].alphaVec)\n",
    "\n",
    "    '''\n",
    "\n",
    "    col = ['r', 'k', 'b', 'gray', 'y', 'darkgreen', 'pink', 'brown', 'orange']\n",
    "    if NAME!='Sedna' and NAME!='Chiron':\n",
    "        plt.plot(rawdataDict__['HEC_Earth_'][:,0][sepnInd],rawdataDict__['HEC_Earth_'][:,1][sepnInd],'x',c=col[cnt])\n",
    "        plt.plot(rawdataDict__['helio_posn'][NAME][:,0][sepnInd],rawdataDict__['helio_posn'][NAME][:,1][sepnInd],'x',c=col[cnt])\n",
    "        plt.plot(rawdataDict__['helio_posn'][NAME][:,0],rawdataDict__['helio_posn'][NAME][:,1],'-',c=col[cnt])\n",
    "    cnt+=1\n",
    "\n"
   ]
  },
  {
   "cell_type": "code",
   "execution_count": 116,
   "metadata": {},
   "outputs": [
    {
     "name": "stderr",
     "output_type": "stream",
     "text": [
      "/Users/matthewjohnpayne/Dropbox/ITF/HelioClustering_Utilities.py:196: FutureWarning: `rcond` parameter will change to the default of machine precision times ``max(M, N)`` where M and N are the input matrix dimensions.\n",
      "To use the future default and silence this warning we advise to pass `rcond=None`, to keep using the old, explicitly pass `rcond=-1`.\n",
      "  alpha_dot, alpha = np.linalg.lstsq(A, self.x)[0]\n",
      "/Users/matthewjohnpayne/Dropbox/ITF/HelioClustering_Utilities.py:200: FutureWarning: `rcond` parameter will change to the default of machine precision times ``max(M, N)`` where M and N are the input matrix dimensions.\n",
      "To use the future default and silence this warning we advise to pass `rcond=None`, to keep using the old, explicitly pass `rcond=-1`.\n",
      "  beta_dot, beta = np.linalg.lstsq(A, self.y)[0]\n"
     ]
    }
   ],
   "source": [
    "imp.reload(HCU)\n",
    "\n",
    "# Test what things look like for g_gdot  = (0.4, 0.0)\n",
    "g_gdotARR_  = [(0.4, 0.0), (0.288086599319,0.000904622728989)]\n",
    "for g_gdot in g_gdotARR_:\n",
    "    for popn,NAME in sample__.items(): \n",
    "        # create an ARROW for that g,g-dot\n",
    "        for T in trckDict__[NAME]:\n",
    "            #T.ADD_ARROW(g_gdot,ref_vec,ref_t)\n",
    "            T.ADD_ARROW(g_gdot,refDict__['ref_vec'][NAME] , refDict__['ref_t'][NAME])\n"
   ]
  },
  {
   "cell_type": "markdown",
   "metadata": {
    "collapsed": true
   },
   "source": [
    "# Now lets make some plots\n",
    " - At first this will be as part of debugging\n",
    " - But then later, for publishable figures"
   ]
  },
  {
   "cell_type": "code",
   "execution_count": 117,
   "metadata": {},
   "outputs": [
    {
     "name": "stdout",
     "output_type": "stream",
     "text": [
      "MBA Crocco\n",
      "CEN Chiron\n",
      "TNO Sedna\n",
      "HIL Hilda\n",
      "BIG Ceres\n",
      "HUN Hungaria\n",
      "JT Achilles\n",
      "NEO Alinda\n"
     ]
    }
   ],
   "source": [
    "for popn,NAME in sample__.items(): \n",
    "    print(popn, NAME)"
   ]
  },
  {
   "cell_type": "markdown",
   "metadata": {},
   "source": [
    "# It will be useful to know what the actual values of gamma & gamma-dot are for certain objects \n"
   ]
  },
  {
   "cell_type": "code",
   "execution_count": 119,
   "metadata": {},
   "outputs": [
    {
     "name": "stdout",
     "output_type": "stream",
     "text": [
      "2458277.5\n",
      "-0.958333000075072 3.468163152010161 0.28833706955810195\n",
      "0.0 3.471178466344795 0.28808659931939934\n",
      "0.04166699992492795 3.471309304133838 0.2880757409917755\n"
     ]
    }
   ],
   "source": [
    "# Reference time, \n",
    "print(ref_t)\n",
    "# Relative Time Array\n",
    "t_relD     = np.array(t_)-ref_t # Array length ~730\n",
    "\n",
    "\n",
    "\n",
    "NAME = 'Crocco'\n",
    "NAME = 'Alinda'\n",
    "rHelio=[ np.linalg.norm(item) for item in rawdataDict__['helio_posn'][NAME] ] \n",
    "for rH, t in zip(rHelio, t_relD):\n",
    "    if t > -1 and t < 1:\n",
    "        print(t, rH, 1/rH)"
   ]
  },
  {
   "cell_type": "markdown",
   "metadata": {},
   "source": [
    "# Refining the plot that is required for Fig 1 of the paper \n",
    " - March 18th 2018\n",
    "\n",
    "## Want to have \n",
    " - (i) Tracklets in topcentric RA/Dec\n",
    " - (ii) \\theta \\dot\\theta in transformed heliocentric projected coords \n",
    " - (iii) alpha, beta is helio transf coords"
   ]
  },
  {
   "cell_type": "code",
   "execution_count": 126,
   "metadata": {},
   "outputs": [
    {
     "name": "stderr",
     "output_type": "stream",
     "text": [
      "/Users/matthewjohnpayne/Dropbox/ITF/HelioClustering_Utilities.py:196: FutureWarning: `rcond` parameter will change to the default of machine precision times ``max(M, N)`` where M and N are the input matrix dimensions.\n",
      "To use the future default and silence this warning we advise to pass `rcond=None`, to keep using the old, explicitly pass `rcond=-1`.\n",
      "  alpha_dot, alpha = np.linalg.lstsq(A, self.x)[0]\n",
      "/Users/matthewjohnpayne/Dropbox/ITF/HelioClustering_Utilities.py:200: FutureWarning: `rcond` parameter will change to the default of machine precision times ``max(M, N)`` where M and N are the input matrix dimensions.\n",
      "To use the future default and silence this warning we advise to pass `rcond=None`, to keep using the old, explicitly pass `rcond=-1`.\n",
      "  beta_dot, beta = np.linalg.lstsq(A, self.y)[0]\n"
     ]
    },
    {
     "name": "stdout",
     "output_type": "stream",
     "text": [
      " \n",
      " \t NEED TO RETURN TO DOUBLE-CHECK THIS EXTRACTION OF THETA ... \n"
     ]
    },
    {
     "name": "stderr",
     "output_type": "stream",
     "text": [
      "/Users/matthewjohnpayne/anaconda/lib/python3.5/site-packages/matplotlib/font_manager.py:1328: UserWarning: findfont: Font family ['normal'] not found. Falling back to DejaVu Sans\n",
      "  (prop.get_family(), self.defaultFamily[fontext]))\n"
     ]
    },
    {
     "data": {
      "image/png": "[encoded data removed]",
      "text/plain": [
       "<Figure size 432x1080 with 11 Axes>"
      ]
     },
     "metadata": {},
     "output_type": "display_data"
    }
   ],
   "source": [
    "# make the transformations & arrows ...\n",
    "imp.reload(HCU)\n",
    "\n",
    "# Test what things look like for g_gdot  = (0.4, 0.0)\n",
    "# g_gdotARR_  = [(0.3,0.0009)]\n",
    "#g_gdotARR_  = [(0.4,0.0)]\n",
    "g_gdotARR_  = [(0.32,0.0)]\n",
    "for g_gdot in g_gdotARR_:\n",
    "    for popn,NAME in sample__.items(): \n",
    "        # create an ARROW for that g,g-dot\n",
    "        for T in trckDict__[NAME]:\n",
    "            #T.ADD_ARROW(g_gdot,ref_vec,ref_t)\n",
    "            T.ADD_ARROW(g_gdot,refDict__['ref_vec'][NAME] , refDict__['ref_t'][NAME])\n",
    "\n",
    "\n",
    "\n",
    "\n",
    "\n",
    "###### Make a simple plot of the data \n",
    "f, ((ax1, ax3, ax4, ax5)) = plt.subplots(4,1, figsize=(6,15))\n",
    "font = {'family' : 'normal','size'   : 10}\n",
    "plt.rc('font', **font)\n",
    "#cmp=plt.cm.get_cmap('gray')\n",
    "cmp=brewer2mpl.get_map('PRGn', 'diverging', 8, reverse=False).mpl_colormap\n",
    "\n",
    "# Lets look at one object, at the relative-time specified above \n",
    "NAME = 'Crocco'# 'Alinda' # 'Crocco'\n",
    "g_gdot = g_gdotARR_[0]\n",
    "ref_t  = refDict__['ref_t'][NAME]\n",
    "\n",
    "\n",
    "# Make explicitly clear how the selection of indicees is being done \n",
    "dd=15\n",
    "\n",
    "# Relative times for detections     \n",
    "t_relD     = np.array(t_)-ref_t                                              # Array length ~730\n",
    "# Relative times for tracklets \n",
    "t_relStart = np.array([T.times[0] for T in trckDict__[NAME]]) -ref_t      # Array length ~365 \n",
    "t_relEnd   = np.array([T.times[-1] for T in trckDict__[NAME]]) -ref_t     # Array length ~365 \n",
    "# Coming back to this on May 2nd ... \"t_relT\" undefinied for some reason\n",
    "# Don't know why: could it be something related to usinglaptop version? \n",
    "# Will try to force a definition for now ... \n",
    "t_relT = t_relStart\n",
    "\n",
    "# These are the (indicees for) tracklet start (and end) -times which are within 15 days of the reference time\n",
    "indT = [True if t>-dd and t<dd else False for t in t_relT ]\n",
    "# These are the indicees for the detection times that are within +-15 days \n",
    "dt=0.01\n",
    "indD = [True if t>t_relStart[indT][0]-dt and t<t_relEnd[indT][-1]+dt else False for t in t_relD ]\n",
    "\n",
    "\n",
    "\n",
    "\n",
    "\n",
    "\n",
    "# Flag to facilitate x-axis reversal \n",
    "xREVERSED = True\n",
    "\n",
    "\n",
    "\n",
    "\n",
    "\n",
    "# Overall Title \n",
    "f.suptitle(NAME + \" : \" + [k for k,v, in sample__.items() if v == NAME][0] + \"\\n $\\pm%d days$\" % dd)\n",
    "\n",
    "\n",
    "# ----------------- (A) ----------------------------------------------------------------\n",
    "# Plot the original (GeoCentric) RA/DEC\n",
    "ax1.set_xlabel('RA [deg]')\n",
    "ax1.set_ylabel('DEC [deg]')\n",
    "ax1.set_title('Topocentric RA/DEC', position=(0.5, 0.9),fontsize=8)\n",
    "#  - We use [::2] because the detections are arranged in pairs, one hour apart, with a day to the start of the next pair\n",
    "X = rawdataDict__['F51Obs'][NAME]['RA'][indD][::2]\n",
    "Y = rawdataDict__['F51Obs'][NAME]['DEC'][indD][::2]\n",
    "dX = rawdataDict__['F51Obs'][NAME]['RA'][indD][1::2] - X \n",
    "dY = rawdataDict__['F51Obs'][NAME]['DEC'][indD][1::2] - Y \n",
    "C = t_relD[indD][::2]\n",
    "\n",
    "'''\n",
    "print(\"RA\", rawdataDict__['F51Obs'][NAME]['RA'][indD][:3])\n",
    "print(\"X\",X[:2])\n",
    "print(\"dX\",dX[:2])\n",
    "print(\"DEC\", rawdataDict__['F51Obs'][NAME]['DEC'][indD][:3])\n",
    "print(\"Y\",Y[:2])\n",
    "print(\"dY\",dY[:2])\n",
    "'''\n",
    "\n",
    "\n",
    "\n",
    "# reverse the x-axis ?\n",
    "if xREVERSED:\n",
    "    cb1 = ax1.quiver(X,Y, dX, dY, C,cmap=cmp, angles='xy')\n",
    "    ax1.set_xlim(reversed(ax1.get_xlim()))\n",
    "else:\n",
    "    cb1 = ax1.quiver(X,Y, dX, dY, C,cmap=cmp, angles='xy')\n",
    "\n",
    "\n",
    "\n",
    "\n",
    "\n",
    "# ----------------- (B) ----------------------------------------------------------------    \n",
    "# Extract the Theta's from the arrows (N.B.: not really depn on g_gdot)\n",
    "Thetas = []\n",
    "for T in trckDict__[NAME] :\n",
    "    for theta in T.ArrowDict__[g_gdot].theta_:\n",
    "        Thetas.append(theta)\n",
    "Thetas = np.array( Thetas )[indD]\n",
    "TX = Thetas[:,0]\n",
    "TY = Thetas[:,1]\n",
    "print( \" \\n \\t NEED TO RETURN TO DOUBLE-CHECK THIS EXTRACTION OF THETA ... \")\n",
    "\n",
    "# Extracting the base point: plot this at the base of the arrow\n",
    "X = TX[::2]; \n",
    "Y = TY[::2]; \n",
    "dX = TX[1::2] - X \n",
    "dY = TY[1::2] - Y \n",
    "C = t_relT[indT]\n",
    "\n",
    "\n",
    "# reverse the x-axis ?\n",
    "if xREVERSED:\n",
    "    cb3 = ax3.quiver(X,Y, dX, dY, C,cmap=cmp, angles='xy')\n",
    "    ax3.set_xlim(reversed(ax3.get_xlim()))\n",
    "else:\n",
    "    cb3 = ax3.quiver(X,Y, dX, dY, C,cmap=cmp, angles='xy')\n",
    "\n",
    "ax3.set_xlabel('$\\\\theta_x$ [rad]')\n",
    "ax3.set_ylabel('$\\\\theta_y$ [rad]')\n",
    "ax3.set_title('Heliocentric Tangent Plane\\n ($\\\\gamma,\\\\dot\\\\gamma$)=(0.4,0)', position=(0.5, 0.81),fontsize=8)\n",
    "\n",
    "'''\n",
    "# Want to force the axes for the theta plot to be equal in scale \n",
    "xmid = 0.5*(X[-1]+X[0])\n",
    "ymid = 0.5*(Y[-1]+Y[0])\n",
    "sprd = 1.1*np.max( [((X[-1]-xmid)**2)**0.5 , ((Y[-1]-ymid)**2)**0.5] )\n",
    "ax3.set_xlim( [xmid-sprd, xmid+sprd] )\n",
    "ax3.set_ylim( [ymid-sprd, ymid+sprd] )\n",
    "'''\n",
    "\n",
    "# add a twin axes and set its limits so it matches the first\n",
    "# apply a function formatter\n",
    "ax3t = ax3.twinx()\n",
    "ax3t.set_ylabel('$\\\\theta_y$ [ArcMin]', rotation=270); ax3t.yaxis.set_label_coords(1.2,0.5)\n",
    "ax3t.set_ylim(ax3.get_ylim())\n",
    "formatter = mpl.ticker.FuncFormatter(lambda x, pos: '{:.0f}'.format(x*(180./np.pi)*60))\n",
    "\n",
    "ax3t.yaxis.set_major_formatter(formatter)\n",
    "ax3t = ax3.twiny()\n",
    "ax3t.set_xlabel('$\\\\theta_x$ [ArcMin]')\n",
    "ax3t.set_xlim(ax3.get_xlim())\n",
    "formatter = mpl.ticker.FuncFormatter(lambda x, pos: '{:.0f}'.format(x*(180./np.pi)*60))\n",
    "ax3t.xaxis.set_major_formatter(formatter)\n",
    "\n",
    "\n",
    "\n",
    "# ----------------- (C) & (D) ----------------------------------------------------------------\n",
    "\n",
    "g_gdot_lab = [ \"%.1e\"%item for item in g_gdot]\n",
    "\n",
    "# Plot the alpha/beta from the arrows\n",
    "Arrows = np.array( [T.ArrowDict__[g_gdot].alphaVec for T in trckDict__[NAME] ] )[indT]\n",
    "AX = Arrows[:,0]\n",
    "AU = Arrows[:,1]\n",
    "AY = Arrows[:,2]\n",
    "AV = Arrows[:,3]\n",
    "C  = t_relT[indT]\n",
    "\n",
    "# wide limits only on ax4\n",
    "halfwidth = 0.5*5e-3\n",
    "xmid = 0.5*(np.min(AX)+np.max(AX))\n",
    "ymid = 0.5*(np.min(AY)+np.max(AY))\n",
    "ax4.set_xlim( [xmid-halfwidth, xmid+halfwidth] )\n",
    "ax4.set_ylim( [ymid-halfwidth, ymid+halfwidth] )\n",
    "\n",
    "halfwidth = 0.5*5e-4\n",
    "xmid = 0.5*(np.min(AX)+np.max(AX))\n",
    "ymid = 0.5*(np.min(AY)+np.max(AY))\n",
    "ax5.set_xlim( [xmid-halfwidth, xmid+halfwidth] )\n",
    "ax5.set_ylim( [ymid-halfwidth, ymid+halfwidth] )\n",
    "\n",
    "for n,ax in enumerate([ax4,ax5]):\n",
    "\n",
    "    cb = ax.quiver(AX, AY, AU, AV, C,cmap=cmp)#, units='width')\n",
    "    \n",
    "    ax.set_xlabel('$\\\\alpha$ [rad]')\n",
    "    ax.set_ylabel('$\\\\beta$ [rad]')\n",
    "    ax.set_title('Propagated Arrows\\n$\\\\gamma=%s,\\\\dot\\\\gamma=%s$'%(g_gdot_lab[0],g_gdot_lab[1]), position=(0.5, 0.82),fontsize=8)\n",
    "\n",
    "    ax.ticklabel_format(useOffset=False)\n",
    "\n",
    "    \n",
    "    # add a twin axes and set its limits so it matches the first\n",
    "    # apply a function formatter\n",
    "    axt = ax.twinx()\n",
    "    axt.set_ylabel('$\\\\beta$ [ArcMin]',rotation=270 ) ; axt.yaxis.set_label_coords(1.2,0.5)\n",
    "    axt.set_ylim(ax.get_ylim())\n",
    "    if n == 0:\n",
    "        formatter = mpl.ticker.FuncFormatter(lambda x, pos: '{:.0f}'.format(x*(180./np.pi)*60))\n",
    "    else:\n",
    "        formatter = mpl.ticker.FuncFormatter(lambda x, pos: '{:.1f}'.format(x*(180./np.pi)*60))\n",
    "\n",
    "    axt.yaxis.set_major_formatter(formatter)\n",
    "    \n",
    "    axt = ax.twiny()\n",
    "    axt.set_xlabel('$\\\\alpha$ [ArcMin]')\n",
    "    axt.set_xlim(ax.get_xlim())\n",
    "    if n == 0:\n",
    "        formatter = mpl.ticker.FuncFormatter(lambda x, pos: '{:.0f}'.format(x*(180./np.pi)*60))\n",
    "    else:\n",
    "        formatter = mpl.ticker.FuncFormatter(lambda x, pos: '{:.1f}'.format(x*(180./np.pi)*60))\n",
    "    axt.xaxis.set_major_formatter(formatter)\n",
    "    \n",
    "    #axt.xaxis.set_major_formatter(FixedOrderFormatter(0))\n",
    "    #axt.yaxis.set_major_formatter(FixedOrderFormatter(0))\n",
    "    #axt.yaxis.set_label_coords(0.99,0.5)\n",
    "\n",
    "    \n",
    "\n",
    "from matplotlib.ticker import ScalarFormatter, FormatStrFormatter\n",
    "class FixedOrderFormatter(ScalarFormatter):\n",
    "    \"\"\"Formats axis ticks using scientific notation with a constant order of \n",
    "    magnitude\"\"\"\n",
    "    def __init__(self, order_of_mag=0, useOffset=True, useMathText=False):\n",
    "        self._order_of_mag = order_of_mag\n",
    "        ScalarFormatter.__init__(self, useOffset=useOffset, \n",
    "                                 useMathText=useMathText)\n",
    "    def _set_orderOfMagnitude(self, range):\n",
    "        \"\"\"Over-riding this to avoid having orderOfMagnitude reset elsewhere\"\"\"\n",
    "        self.orderOfMagnitude = self._order_of_mag\n",
    "        \n",
    "\n",
    "#ax5.xaxis.set_major_formatter(ScalarFormatter(useOffset=True))\n",
    "#ax5.yaxis.set_major_formatter(ScalarFormatter(useOffset=True))\n",
    "#ax5.xaxis.set_major_formatter(FormatStrFormatter('%.2e'))\n",
    "#ax5.yaxis.set_major_formatter(FormatStrFormatter('%.2e'))\n",
    "\n",
    "#ax4.xaxis.set_major_formatter(FixedOrderFormatter(-2))\n",
    "#ax4.yaxis.set_major_formatter(FixedOrderFormatter(-2))\n",
    "#ax5.xaxis.set_major_formatter(FixedOrderFormatter(-2))\n",
    "#ax5.yaxis.set_major_formatter(FixedOrderFormatter(-2))\n",
    "\n",
    "\n",
    "#f.tight_layout()\n",
    "#f.subplots_adjust(top=0.9)\n",
    "f.subplots_adjust(left=0.25, bottom=0.1, right=0.85, top=0.95, wspace=0.25, hspace=0.4)\n",
    "\n",
    "# plot colorbar\n",
    "cbaxes = f.add_axes([0.1, 0.03, 0.85, 0.02]) \n",
    "cb = plt.colorbar(cb1, cax = cbaxes,orientation=\"horizontal\",)  \n",
    "cb.set_label('Relative Time (days)')\n",
    "\n",
    "f.savefig('%s.png' % NAME)\n",
    "f.savefig('%s.pdf' % NAME)"
   ]
  },
  {
   "cell_type": "code",
   "execution_count": null,
   "metadata": {
    "collapsed": true
   },
   "outputs": [],
   "source": [
    "RA [259.61807 259.60811 259.37195]\n",
    "X [259.61807 259.37195]\n",
    "dX [-0.00996 -0.01006]\n",
    "DEC [-15.43543 -15.43512 -15.42789]\n",
    "Y [-15.43543 -15.42789]\n",
    "dY [0.00031 0.00029]"
   ]
  },
  {
   "cell_type": "markdown",
   "metadata": {},
   "source": [
    "# Let's try to make some different g-gdot combos to illustrate the effect"
   ]
  },
  {
   "cell_type": "code",
   "execution_count": 330,
   "metadata": {},
   "outputs": [
    {
     "name": "stderr",
     "output_type": "stream",
     "text": [
      "/pool/pistachio0/Dropbox/ITF/HelioClustering_Utilities.py:195: FutureWarning: `rcond` parameter will change to the default of machine precision times ``max(M, N)`` where M and N are the input matrix dimensions.\n",
      "To use the future default and silence this warning we advise to pass `rcond=None`, to keep using the old, explicitly pass `rcond=-1`.\n",
      "  \n",
      "/pool/pistachio0/Dropbox/ITF/HelioClustering_Utilities.py:199: FutureWarning: `rcond` parameter will change to the default of machine precision times ``max(M, N)`` where M and N are the input matrix dimensions.\n",
      "To use the future default and silence this warning we advise to pass `rcond=None`, to keep using the old, explicitly pass `rcond=-1`.\n",
      "  \n"
     ]
    }
   ],
   "source": []
  },
  {
   "cell_type": "code",
   "execution_count": 121,
   "metadata": {},
   "outputs": [
    {
     "name": "stderr",
     "output_type": "stream",
     "text": [
      "/Users/matthewjohnpayne/Dropbox/ITF/HelioClustering_Utilities.py:196: FutureWarning: `rcond` parameter will change to the default of machine precision times ``max(M, N)`` where M and N are the input matrix dimensions.\n",
      "To use the future default and silence this warning we advise to pass `rcond=None`, to keep using the old, explicitly pass `rcond=-1`.\n",
      "  alpha_dot, alpha = np.linalg.lstsq(A, self.x)[0]\n",
      "/Users/matthewjohnpayne/Dropbox/ITF/HelioClustering_Utilities.py:200: FutureWarning: `rcond` parameter will change to the default of machine precision times ``max(M, N)`` where M and N are the input matrix dimensions.\n",
      "To use the future default and silence this warning we advise to pass `rcond=None`, to keep using the old, explicitly pass `rcond=-1`.\n",
      "  beta_dot, beta = np.linalg.lstsq(A, self.y)[0]\n"
     ]
    },
    {
     "name": "stdout",
     "output_type": "stream",
     "text": [
      "-0.005605523744020259 0.004986096609923175 -0.014434647460072947 -0.00936635486067535 : -0.0003097135670485419 -0.011900501160374149\n"
     ]
    },
    {
     "name": "stderr",
     "output_type": "stream",
     "text": [
      "/Users/matthewjohnpayne/anaconda/lib/python3.5/site-packages/matplotlib/font_manager.py:1328: UserWarning: findfont: Font family ['normal'] not found. Falling back to DejaVu Sans\n",
      "  (prop.get_family(), self.defaultFamily[fontext]))\n"
     ]
    },
    {
     "data": {
      "image/png": "[encoded data removed]",
      "text/plain": [
       "<Figure size 432x360 with 3 Axes>"
      ]
     },
     "metadata": {},
     "output_type": "display_data"
    }
   ],
   "source": [
    "# Make the transformations / arrows \n",
    "imp.reload(HCU)\n",
    "\n",
    "# Set the reference g,gdot\n",
    "#g_gdotref =  (0.29,0.0009)\n",
    "g_gdotref =  (0.32,0.0009)\n",
    "g = g_gdotref[0]\n",
    "gdotref = g_gdotref[1]\n",
    "\n",
    "# Now make some g-dot variations\n",
    "#g_gdotARR_ = [ (g, gdotref*100),(g, gdotref*10),(g, gdotref),(g, 0.0),(g, -gdotref),(g, -10*gdotref),(g, -100*gdotref)]\n",
    "# g_gdotARR_ = [(g, gdotref),(g, 0.0),(g, -gdotref),(g, -2*gdotref)]\n",
    "g_gdotARR_ = [(g, -8e-3),(g, 0.0),(g, +8e-3)]\n",
    "\n",
    "for g_gdot in g_gdotARR_:\n",
    "    for popn,NAME in sample__.items(): \n",
    "\n",
    "        # To make things simple, want to choose a reference time and direction that is close to \n",
    "        # opposition\n",
    "         # --- Already done, can just grab from Dictionaries ...\n",
    "\n",
    "        # create an ARROW for that g,g-dot\n",
    "        for T in trckDict__[NAME]:\n",
    "            T.ADD_ARROW(g_gdot , refDict__['ref_vec'][NAME] , refDict__['ref_t'][NAME])\n",
    " \n",
    "\n",
    "\n",
    "\n",
    "# Make a simple plot of the data \n",
    "f, (ax2) = plt.subplots(1,1, figsize=(6,5))\n",
    "#f = plt.figure()\n",
    "#ax2 = f.add_axes([0.1, 0.1, 0.68, 0.68])\n",
    "\n",
    "font = {'family' : 'normal','size'   : 12}\n",
    "plt.rc('font', **font)\n",
    "\n",
    "\n",
    "arr = ['PRGn','BrBG', 'PiYG', 'PuOr', 'RdBu', 'RdGy', 'RdYlBu', 'RdYlGn', 'Spectral']\n",
    "cmp_ =[ brewer2mpl.get_map(arr[i], 'diverging', 8, reverse=False).mpl_colormap  for i,item in enumerate(g_gdotARR_) ]\n",
    "\n",
    "\n",
    "# Lets look at one object, at the relative-time specified above \n",
    "NAME = 'Crocco'\n",
    "g_gdot = g_gdotARR_[1]\n",
    "ref_t  = refDict__['ref_t'][NAME]\n",
    "\n",
    "\n",
    "# Make explicitly clear how the selection of indicees is being done \n",
    "dd=15\n",
    "\n",
    "# Relative times for detections     \n",
    "t_relD     = np.array(t_)-ref_t                                           # Array length ~730\n",
    "# Relative times for tracklets \n",
    "t_relStart = np.array([T.times[0] for T in trckDict__[NAME]]) -ref_t      # Array length ~365 \n",
    "t_relEnd   = np.array([T.times[-1] for T in trckDict__[NAME]]) -ref_t     # Array length ~365 \n",
    "# Coming back to this on May 2nd ... \"t_relT\" undefinied for some reason\n",
    "# Don't know why: could it be something related to usinglaptop version? \n",
    "# Will try to force a definition for now ... \n",
    "t_relT = t_relStart\n",
    "\n",
    "\n",
    "# These are the (indicees for) tracklet start (and end) -times which are within 15 days of the reference time\n",
    "### indT = [True if t>-dd and t<dd else False for t in t_relT ]\n",
    "indT = [True if t>-dd and t<dd else False for t in t_relStart ]\n",
    "\n",
    "# These are the indicees for the detection times that are within +-15 days \n",
    "dt=0.01\n",
    "indD = [True if t>t_relStart[indT][0]-dt and t<t_relEnd[indT][-1]+dt else False for t in t_relD ]\n",
    "\n",
    "\n",
    "\n",
    "# Looping over the various different gdots in g_gdotARR_ \n",
    "for n,g_gdot in enumerate(g_gdotARR_):\n",
    "\n",
    "    # Plot the arrows on top of the Thetas ... \n",
    "    # ... Can only do this for the first detection in each tracklet \n",
    "    Arrows = np.array( [T.ArrowDict__[g_gdot].alphaVec for T in trckDict__[NAME] ] )[indT]\n",
    "    AX = Arrows[:,0]\n",
    "    AU = Arrows[:,1]\n",
    "    AY = Arrows[:,2]\n",
    "    AV = Arrows[:,3]\n",
    "\n",
    "    # Arrows\n",
    "    cb2 = ax2.quiver(AX , AY + (n-1)*0.5e-2, AU, AV, t_relT[indT],cmap=cmp_[n])\n",
    "\n",
    " \n",
    "    # place a text box \n",
    "    ax2.text(AX[10]+0.01, AY[10] + (n-1)*0.5e-2, \"$\\\\dot\\\\gamma=$%.0e\" % (g_gdot[1]), fontsize=10, color='black', \n",
    "        va='center', bbox=dict(boxstyle='round', facecolor='wheat', alpha=0.5))\n",
    "\n",
    "\n",
    "ax2.text(-0.01, 0.0, \"Artificial Vertical Offset in this panel\", fontsize=10, color='black', \n",
    "        va='center', bbox=dict(boxstyle='round', facecolor='wheat', alpha=0.5))\n",
    "\n",
    "    \n",
    "# For publication, want to set the axis scales to be the same (betwen this plot and the one below )\n",
    "ScaleLen = 3.5e-2 # [radians]\n",
    "Xmin = np.min( [np.min( np.array( [T.ArrowDict__[g_gdot].alphaVec for T in trckDict__[NAME] ] )[indT][:,0]) for n,g_gdot in enumerate(g_gdotARR_) ] )\n",
    "Xmax = np.max( [np.max( np.array( [T.ArrowDict__[g_gdot].alphaVec for T in trckDict__[NAME] ] )[indT][:,0]) for n,g_gdot in enumerate(g_gdotARR_) ] )\n",
    "Ymin = np.min( [np.min( np.array( [T.ArrowDict__[g_gdot].alphaVec for T in trckDict__[NAME] ] )[indT][:,2]) for n,g_gdot in enumerate(g_gdotARR_) ] )\n",
    "Ymax = np.max( [np.max( np.array( [T.ArrowDict__[g_gdot].alphaVec for T in trckDict__[NAME] ] )[indT][:,2]) for n,g_gdot in enumerate(g_gdotARR_) ] )\n",
    "Xmid = 0.5*(Xmin+Xmax) \n",
    "Ymid = 0.5*(Ymin+Ymax) \n",
    "print(Xmin, Xmax, Ymin, Ymax, \":\", Xmid, Ymid)    \n",
    "ax2.set_xlim([Xmid-0.5*ScaleLen , Xmid+0.5*ScaleLen ])\n",
    "ax2.set_ylim([Ymid-0.5*ScaleLen , Ymid+0.5*ScaleLen ])\n",
    "\n",
    "\n",
    "    \n",
    "# Set all of the labels \n",
    "ax2.set_xlabel('$\\\\alpha$ [rad]')\n",
    "ax2.set_ylabel('$\\\\beta$ [rad]')\n",
    "\n",
    "ax2t = ax2.twinx()\n",
    "ax2t.set_ylabel('$\\\\beta$ [ArcMin]',rotation=270 ) ; ax2t.yaxis.set_label_coords(1.15,0.5)\n",
    "ax2t.set_ylim(ax2.get_ylim())\n",
    "formatter = mpl.ticker.FuncFormatter(lambda x, pos: '{:.0f}'.format(x*(180./np.pi)*60))\n",
    "ax2t.yaxis.set_major_formatter(formatter)\n",
    "\n",
    "ax2t = ax2.twiny()\n",
    "ax2t.set_xlabel('$\\\\alpha$ [ArcMin]')\n",
    "ax2t.set_xlim(ax2.get_xlim())\n",
    "formatter = mpl.ticker.FuncFormatter(lambda x, pos: '{:.0f}'.format(x*(180./np.pi)*60))\n",
    "ax2t.xaxis.set_major_formatter(formatter)\n",
    "\n",
    "\n",
    "\n",
    "\n",
    "\n",
    "\n",
    "\n",
    "f.tight_layout()\n",
    "\n",
    "# plot colorbar\n",
    "#cbaxes = f.add_axes([0.1, 0.05, 0.8, 0.02]) \n",
    "#cb = plt.colorbar(cb1, cax = cbaxes,orientation=\"horizontal\",)  \n",
    "#cb.set_label('Relative Time (days)')\n",
    "\n",
    "f.savefig('%s_gdot.png' % NAME)"
   ]
  },
  {
   "cell_type": "code",
   "execution_count": 122,
   "metadata": {},
   "outputs": [
    {
     "name": "stderr",
     "output_type": "stream",
     "text": [
      "/Users/matthewjohnpayne/Dropbox/ITF/HelioClustering_Utilities.py:196: FutureWarning: `rcond` parameter will change to the default of machine precision times ``max(M, N)`` where M and N are the input matrix dimensions.\n",
      "To use the future default and silence this warning we advise to pass `rcond=None`, to keep using the old, explicitly pass `rcond=-1`.\n",
      "  alpha_dot, alpha = np.linalg.lstsq(A, self.x)[0]\n",
      "/Users/matthewjohnpayne/Dropbox/ITF/HelioClustering_Utilities.py:200: FutureWarning: `rcond` parameter will change to the default of machine precision times ``max(M, N)`` where M and N are the input matrix dimensions.\n",
      "To use the future default and silence this warning we advise to pass `rcond=None`, to keep using the old, explicitly pass `rcond=-1`.\n",
      "  beta_dot, beta = np.linalg.lstsq(A, self.y)[0]\n",
      "/Users/matthewjohnpayne/anaconda/lib/python3.5/site-packages/matplotlib/font_manager.py:1328: UserWarning: findfont: Font family ['normal'] not found. Falling back to DejaVu Sans\n",
      "  (prop.get_family(), self.defaultFamily[fontext]))\n"
     ]
    },
    {
     "name": "stdout",
     "output_type": "stream",
     "text": [
      "-0.0015515617549890497 0.002961137285270308 -0.012282787707757368 0.016281995052312336 : 0.0007047877651406293 0.0019996036722774837\n"
     ]
    },
    {
     "data": {
      "image/png": "[encoded data removed]",
      "text/plain": [
       "<Figure size 432x360 with 3 Axes>"
      ]
     },
     "metadata": {},
     "output_type": "display_data"
    }
   ],
   "source": [
    "# Make the transformations / arrows \n",
    "imp.reload(HCU)\n",
    "\n",
    "# Set the reference g,gdot\n",
    "g_gdotref =  (0.32,0.0009)\n",
    "g = g_gdotref[0]\n",
    "gdotref = g_gdotref[1]\n",
    "\n",
    "# Now make some g-dot variations\n",
    "g_gdotARR_ = [(g, gdotref),(0.4, gdotref),(0.5, gdotref)]\n",
    "\n",
    "for g_gdot in g_gdotARR_:\n",
    "    for popn,NAME in sample__.items(): \n",
    "\n",
    "        # To make things simple, want to choose a reference time and direction that is close to \n",
    "        # opposition\n",
    "         # --- Already done, can just grab from Dictionaries ...\n",
    "\n",
    "        # create an ARROW for that g,g-dot\n",
    "        for T in trckDict__[NAME]:\n",
    "            T.ADD_ARROW(g_gdot , refDict__['ref_vec'][NAME] , refDict__['ref_t'][NAME])\n",
    " \n",
    "\n",
    "\n",
    "\n",
    "# Make a simple plot of the data \n",
    "f, (ax2) = plt.subplots(1,1, figsize=(6,5))\n",
    "font = {'family' : 'normal','size'   : 12}\n",
    "plt.rc('font', **font)\n",
    "f.tight_layout(pad=1.0, w_pad=1.0, h_pad=1.0)\n",
    "\n",
    "\n",
    "arr = ['PRGn','BrBG', 'PiYG', 'PuOr', 'RdBu', 'RdGy', 'RdYlBu', 'RdYlGn', 'Spectral']\n",
    "cmp_ =[ brewer2mpl.get_map(arr[i], 'diverging', 8, reverse=False).mpl_colormap  for i,item in enumerate(g_gdotARR_) ]\n",
    "\n",
    "\n",
    "# Lets look at one object, at the relative-time specified above \n",
    "NAME = 'Crocco'\n",
    "g_gdot = g_gdotARR_[1]\n",
    "ref_t  = refDict__['ref_t'][NAME]\n",
    "\n",
    "\n",
    "# Make explicitly clear how the selection of indicees is being done \n",
    "dd=15\n",
    "\n",
    "# Relative times for detections     \n",
    "t_relD     = np.array(t_)-ref_t                                              # Array length ~730\n",
    "# Relative times for tracklets \n",
    "t_relStart = np.array([T.times[0] for T in trckDict__[NAME]]) -ref_t      # Array length ~365 \n",
    "t_relEnd   = np.array([T.times[-1] for T in trckDict__[NAME]]) -ref_t     # Array length ~365 \n",
    "# Coming back to this on May 2nd ... \"t_relT\" undefinied for some reason\n",
    "# Don't know why: could it be something related to usinglaptop version? \n",
    "# Will try to force a definition for now ... \n",
    "t_relT = t_relStart\n",
    "\n",
    "\n",
    "# These are the (indicees for) tracklet start (and end) -times which are within 15 days of the reference time\n",
    "indT = [True if t>-dd and t<dd else False for t in t_relT ]\n",
    "# These are the indicees for the detection times that are within +-15 days \n",
    "dt=0.01\n",
    "indD = [True if t>t_relStart[indT][0]-dt and t<t_relEnd[indT][-1]+dt else False for t in t_relD ]\n",
    "\n",
    "\n",
    "\n",
    "\n",
    "\n",
    "\n",
    "# Flag to facilitate x-axis reversal \n",
    "xREVERSED = False\n",
    "\n",
    "\n",
    "\n",
    "# Looping over the various different gdots in g_gdotARR_ \n",
    "for n,g_gdot in enumerate(g_gdotARR_):\n",
    "\n",
    "    # Plot the arrows on top of the Thetas ... \n",
    "    # ... Can only do this for the first detection in each tracklet \n",
    "    Arrows = np.array( [T.ArrowDict__[g_gdot].alphaVec for T in trckDict__[NAME] ] )[indT]\n",
    "    AX = Arrows[:,0]\n",
    "    AU = Arrows[:,1]\n",
    "    AY = Arrows[:,2]\n",
    "    AV = Arrows[:,3]\n",
    "\n",
    "    # Arrows\n",
    "    cb2 = ax2.quiver(AX, AY, AU, AV, t_relT[indT],cmap=cmp_[n])\n",
    "\n",
    "    # place a text box \n",
    "    if n == 1 or n ==2 :\n",
    "        ax2.text(0.011, AY[0], \"$\\\\gamma=$%.1f\" % (g_gdot[0]), fontsize=10, color='black', \n",
    "            va='center', bbox=dict(boxstyle='round', facecolor='wheat', alpha=0.5))\n",
    "    else:\n",
    "        ax2.text(0.011, AY[0], \"$\\\\gamma=$%.1f\" % (g_gdot[0]), fontsize=10, color='black', \n",
    "            va='center', bbox=dict(boxstyle='round', facecolor='wheat', alpha=0.5))\n",
    "        \n",
    "    \n",
    "# For publication, want to set the axis scales to be the same (betwen this plot and the one above )\n",
    "ScaleLen = 3.5e-2 # [radians]\n",
    "Xmin = np.min( [np.min( np.array( [T.ArrowDict__[g_gdot].alphaVec for T in trckDict__[NAME] ] )[indT][:,0]) for n,g_gdot in enumerate(g_gdotARR_) ] )\n",
    "Xmax = np.max( [np.max( np.array( [T.ArrowDict__[g_gdot].alphaVec for T in trckDict__[NAME] ] )[indT][:,0]) for n,g_gdot in enumerate(g_gdotARR_) ] )\n",
    "Ymin = np.min( [np.min( np.array( [T.ArrowDict__[g_gdot].alphaVec for T in trckDict__[NAME] ] )[indT][:,2]) for n,g_gdot in enumerate(g_gdotARR_) ] )\n",
    "Ymax = np.max( [np.max( np.array( [T.ArrowDict__[g_gdot].alphaVec for T in trckDict__[NAME] ] )[indT][:,2]) for n,g_gdot in enumerate(g_gdotARR_) ] )\n",
    "Xmid = 0.5*(Xmin+Xmax) \n",
    "Ymid = 0.5*(Ymin+Ymax) \n",
    "print(Xmin, Xmax, Ymin, Ymax, \":\", Xmid, Ymid)    \n",
    "ax2.set_xlim([Xmid-0.5*ScaleLen , Xmid+0.5*ScaleLen ])\n",
    "ax2.set_ylim([Ymid-0.5*ScaleLen , Ymid+0.5*ScaleLen ])\n",
    "\n",
    "    \n",
    "    \n",
    "    \n",
    "# Set all of the labels \n",
    "ax2.set_xlabel('$\\\\alpha$ [rad]')\n",
    "ax2.set_ylabel('$\\\\beta$ [rad]')\n",
    "\n",
    "ax2t = ax2.twinx()\n",
    "ax2t.set_ylabel('$\\\\beta$ [ArcMin]',rotation=270 ) ; ax2t.yaxis.set_label_coords(1.15,0.5)\n",
    "ax2t.set_ylim(ax2.get_ylim())\n",
    "formatter = mpl.ticker.FuncFormatter(lambda x, pos: '{:.0f}'.format(x*(180./np.pi)*60))\n",
    "ax2t.yaxis.set_major_formatter(formatter)\n",
    "\n",
    "ax2t = ax2.twiny()\n",
    "ax2t.set_xlabel('$\\\\alpha$ [ArcMin]')\n",
    "ax2t.set_xlim(ax2.get_xlim())\n",
    "formatter = mpl.ticker.FuncFormatter(lambda x, pos: '{:.0f}'.format(x*(180./np.pi)*60))\n",
    "ax2t.xaxis.set_major_formatter(formatter)\n",
    "\n",
    "\n",
    "f.tight_layout()\n",
    "\n",
    "\n",
    "f.savefig('%s_g.png' % NAME)\n",
    "f.savefig('%s_g.pdf' % NAME)"
   ]
  },
  {
   "cell_type": "code",
   "execution_count": 387,
   "metadata": {},
   "outputs": [
    {
     "name": "stdout",
     "output_type": "stream",
     "text": [
      "NEO Alinda\n",
      "HUN Hungaria\n",
      "HIL Hilda\n",
      "TNO Sedna\n",
      "MBA Crocco\n",
      "CEN Chiron\n",
      "BIG Ceres\n",
      "JT Achilles\n"
     ]
    }
   ],
   "source": [
    "for popn,NAME in sample__.items(): \n",
    "    print(popn, NAME)"
   ]
  },
  {
   "cell_type": "code",
   "execution_count": 38,
   "metadata": {},
   "outputs": [
    {
     "name": "stdout",
     "output_type": "stream",
     "text": [
      "2.635509131752017 3.8355995384584975 3.3777201949605278\n",
      "0.379433327683151 0.2607154344381566 0.2960576786354223\n",
      "3.5920437939526018\n",
      "0.2783930423352726\n",
      "0.00010908822359256831\n",
      "0.0026181173662216395\n",
      "0.0007288656587732534\n"
     ]
    }
   ],
   "source": [
    "HP= rawdataDict__['helio_posn']['Alinda']\n",
    "r = np.array([np.linalg.norm(xyz) for xyz in HP ])\n",
    "\n",
    "dr = r[1:]-r[:-1]\n",
    "print( np.min(r), np.max(r), np.mean(r))\n",
    "print( 1/np.min(r), 1/np.max(r), 1/np.mean(r))\n",
    "\n",
    "print(r[refDict__['ref_ind'][NAME]])\n",
    "print(1/r[refDict__['ref_ind'][NAME]])\n",
    "\n",
    "print(dr[refDict__['ref_ind'][NAME]]) # AU per hour\n",
    "print(dr[refDict__['ref_ind'][NAME]]*24) # AU per day\n",
    "print((1/r[refDict__['ref_ind'][NAME]])*dr[refDict__['ref_ind'][NAME]]*24) #  per day\n",
    "\n",
    "\n",
    "\n"
   ]
  },
  {
   "cell_type": "markdown",
   "metadata": {
    "collapsed": true
   },
   "source": [
    "# Break"
   ]
  },
  {
   "cell_type": "markdown",
   "metadata": {},
   "source": [
    "\n",
    "\n",
    "\n",
    "-\n",
    "\n",
    "-\n",
    "\n",
    "\n",
    "\n",
    "# Now going to attempt to recreate a small section of the results made by Matt H\n",
    " - Going to use the data Matt made for plots in Fig 3 & 4 of the paper\n",
    " - These data include RA/DEC, Theta, and alpha/beta/etc \n",
    " - These data were made using Holman's main processing notebook, named something like \"ITF_2018.iynb\"\n",
    "\n",
    "\n",
    "\n",
    "\n"
   ]
  },
  {
   "cell_type": "code",
   "execution_count": null,
   "metadata": {
    "collapsed": true
   },
   "outputs": [],
   "source": [
    "import HelioClustering_Utilities as HCU\n",
    "import imp\n",
    "imp.reload(HCU)"
   ]
  },
  {
   "cell_type": "markdown",
   "metadata": {
    "collapsed": true
   },
   "source": [
    "### The following cells are copied from \"HelioClusteringSkyPlots_MJP\" to allow me to import the data from Holman quickly"
   ]
  },
  {
   "cell_type": "code",
   "execution_count": 42,
   "metadata": {
    "collapsed": true
   },
   "outputs": [],
   "source": [
    "# ------------ Extract Data from Output Dicts in Pickle-File Created by Holman -------------------------- \n",
    "def get_dicts(filepath):\n",
    "    # Get Raw Dicts\n",
    "    pickledata = pickle.load( open( filepath, \"rb\" ) )\n",
    "    dictTopo  = pickledata[0]\n",
    "    dictTheta = pickledata[1]\n",
    "    dictArrow = pickledata[2]\n",
    "    \n",
    "    # Simplify data dicts \n",
    "    dictTopo  = {item[0]:item[1:] for item in dictTopo[281] }\n",
    "    dictTheta = {item[0]:item[1:] for item in dictTheta[281] }\n",
    "    dictArrow = {item[0]:item[1:] for item in dictArrow[281][(0.4,0.0)] }\n",
    "    \n",
    "    return dictTopo, dictTheta, dictArrow\n",
    "\n",
    "dictTopo, dictTheta, dictArrow = get_dicts('for_figure3.pickle')\n",
    "zeroDict = {'dictTopo':dictTopo,'dictTheta':dictTheta , 'dictArrow':dictArrow} "
   ]
  },
  {
   "cell_type": "code",
   "execution_count": 43,
   "metadata": {},
   "outputs": [
    {
     "name": "stdout",
     "output_type": "stream",
     "text": [
      "dict_keys([(0.4, 0.004), (0.4, 0.0), (0.4, 0.002), (0.4, -0.004), (0.4, -0.002)])\n"
     ]
    }
   ],
   "source": [
    "def get_dicts_multi(filepath):\n",
    "    # Get Raw Dicts\n",
    "    pickledata = pickle.load( open( filepath, \"rb\" ) )\n",
    "    # Make useful dicts ...\n",
    "    dictofdicts = {} \n",
    "    for k,lst in pickledata[281].items():\n",
    "        dictofdicts[k] = {item[0]:item[1:] for item in lst }\n",
    "        \n",
    "    return dictofdicts\n",
    "\n",
    "dictofArrowdicts = get_dicts_multi('for_figure4.pickle')\n",
    "print(dictofArrowdicts.keys())"
   ]
  },
  {
   "cell_type": "code",
   "execution_count": 44,
   "metadata": {},
   "outputs": [
    {
     "name": "stdout",
     "output_type": "stream",
     "text": [
      "(9.081208333333333, 4.345, -4.73005756130442, 9.078875, 4.342555555555555, -4.7150376024656)\n",
      "(-0.11880731689842633, 0.0069078, -4.73005756130442, -0.11886101285718889, 0.0068845, -4.7150376024656)\n",
      "(-0.06550003796686624, 0.004805815785782635, -6.364704187224728e-05, -0.000890866391644699, -4.73005756130442)\n"
     ]
    }
   ],
   "source": [
    "print(dictTopo[('K15S08F_007', 57303, '703')])\n",
    "print(dictTheta[('K15S08F_007', 57303, '703')])\n",
    "print(dictArrow[('K15S08F_007', 57303, '703')])"
   ]
  },
  {
   "cell_type": "markdown",
   "metadata": {},
   "source": [
    "# Do some processing / calculations to put the data from Holman into a convenient format"
   ]
  },
  {
   "cell_type": "code",
   "execution_count": 46,
   "metadata": {
    "collapsed": true
   },
   "outputs": [],
   "source": [
    "# Define the process\n",
    "def process_SubDicts(Dict, dictArrow):\n",
    "    dictTopo, dictTheta, IGNOREdictArrow = Dict['dictTopo'], Dict['dictTheta'], Dict['dictArrow']\n",
    "    \n",
    "    # Ensure consistency in ordering (just in case)\n",
    "    listKeys = sorted([k for k,v in dictTopo.items()])\n",
    "\n",
    "    \n",
    "    # Sort out the times and IDs\n",
    "    Dict['t'] = np.array( [dictTheta[k][2] for k in listKeys] )\n",
    "    Dict['t1']= np.array( [dictTheta[k][5] for k in listKeys] )\n",
    "    Dict['ID']= np.array( [i for i,k in enumerate(listKeys) ] )\n",
    "    uniq = list(set([k[0][:7] for k in listKeys ] ))\n",
    "    D__  = {ID:i for i,ID in enumerate(uniq) }\n",
    "    Dict['ID']= np.array( [D__[k[0][:7]] for i,k in enumerate(listKeys) ] )\n",
    "    #print(Dict['ID'][:13])\n",
    "    \n",
    "    # Sort out the RA/Dec quantities\n",
    "    Dict['RA']    = np.array( [dictTopo[k][0] for k in listKeys] )\n",
    "    Dict['DEC']   = np.array( [dictTopo[k][1] for k in listKeys] )\n",
    "    Dict['RA1']   = np.array( [dictTopo[k][3] for k in listKeys] )\n",
    "    Dict['DEC1']  = np.array( [dictTopo[k][4] for k in listKeys] )                \n",
    "    Dict['dotRA'] =(Dict['RA1']-Dict['RA'])  #/(Dict['t1']-Dict['t'])\n",
    "    Dict['dotDEC']=(Dict['DEC1']-Dict['DEC'])#/(Dict['t1']-Dict['t'])\n",
    "\n",
    "    \n",
    "    # Sort out the Theta quantities \n",
    "    Dict['thetax'] = np.array( [dictTheta[k][0] for k in listKeys] )\n",
    "    Dict['thetay'] = np.array( [dictTheta[k][1] for k in listKeys] )\n",
    "    Dict['thetax1']= np.array( [dictTheta[k][3] for k in listKeys] )\n",
    "    Dict['thetay1']= np.array( [dictTheta[k][4] for k in listKeys] )\n",
    "    Dict['dotthetax']=(Dict['thetax1']-Dict['thetax'])/(Dict['t1']-Dict['t'])\n",
    "    Dict['dotthetay']=(Dict['thetay1']-Dict['thetay'])/(Dict['t1']-Dict['t'])\n",
    "\n",
    "    \n",
    "    # Sort out the Arrow quantities\n",
    "    # - Expect (alpha, alpha-dot, beta, beta-dot, t)\n",
    "    Dict['alpha']   = np.array( [dictArrow[k][0] for k in listKeys] )\n",
    "    Dict['beta']    = np.array( [dictArrow[k][2] for k in listKeys] )\n",
    "    Dict['dotalpha']= np.array( [dictArrow[k][1] for k in listKeys] )\n",
    "    Dict['dotbeta'] = np.array( [dictArrow[k][3] for k in listKeys] )\n",
    "\n",
    "# Run the process\n",
    "process_SubDicts(zeroDict, dictofArrowdicts[(0.4, 0.0)] )\n",
    "\n",
    "gdotNeg2 = -0.004\n",
    "negDict2 = zeroDict.copy()\n",
    "process_SubDicts(negDict2, dictofArrowdicts[(0.4, gdotNeg2)] )\n",
    "\n",
    "gdotNeg = -0.002\n",
    "negDict = zeroDict.copy()\n",
    "process_SubDicts(negDict, dictofArrowdicts[(0.4, gdotNeg)] )\n",
    "\n",
    "gdotPos = 0.002\n",
    "posDict = zeroDict.copy()\n",
    "process_SubDicts(posDict, dictofArrowdicts[(0.4, gdotPos)] )\n",
    "\n",
    "gdotPos2 = 0.004\n",
    "posDict2 = zeroDict.copy()\n",
    "process_SubDicts(posDict2, dictofArrowdicts[(0.4, gdotPos2)] )"
   ]
  },
  {
   "cell_type": "markdown",
   "metadata": {},
   "source": [
    "# Let's get comfortable with a small section of the data ...\n",
    "# ... so that I/we can be confident of the transformations that have to be checked/replicated"
   ]
  },
  {
   "cell_type": "code",
   "execution_count": 158,
   "metadata": {},
   "outputs": [
    {
     "name": "stdout",
     "output_type": "stream",
     "text": [
      "Topo :  (9.081208333333333, 4.345, -4.73005756130442, 9.078875, 4.342555555555555, -4.7150376024656)\n",
      "Theta:  (-0.11880731689842633, 0.0069078, -4.73005756130442, -0.11886101285718889, 0.0068845, -4.7150376024656)\n",
      "Arrow:  (-0.06582287637574988, 0.0052127840112038805, -0.00019044912107648036, -0.0009453019844149355, -4.73005756130442)\n",
      "Arrow:  (-0.06566145717130939, 0.0050092998984929814, -0.00012704808147395513, -0.0009180841880297309, -4.73005756130442)\n",
      "Arrow:  (-0.06550003796686624, 0.004805815785782635, -6.364704187224728e-05, -0.000890866391644699, -4.73005756130442)\n",
      "Arrow:  (-0.06533861876243616, 0.004602331673069521, -2.460022698858234e-07, -0.0008636485952595286, -4.73005756130442)\n",
      "Arrow:  (-0.06517719955799041, 0.004398847560359729, 6.315503733247419e-05, -0.0008364307988743586, -4.73005756130442)\n"
     ]
    }
   ],
   "source": [
    "# Pick a single tracklet to work with \n",
    "print(\"Topo : \",dictTopo[('K15S08F_007', 57303, '703')])\n",
    "print(\"Theta: \",dictTheta[('K15S08F_007', 57303, '703')])\n",
    "print(\"Arrow: \",dictofArrowdicts[(0.4, -0.004)][('K15S08F_007', 57303, '703')])\n",
    "print(\"Arrow: \",dictofArrowdicts[(0.4, -0.002)][('K15S08F_007', 57303, '703')])\n",
    "print(\"Arrow: \",dictofArrowdicts[(0.4, 0.0)][('K15S08F_007', 57303, '703')])\n",
    "print(\"Arrow: \",dictofArrowdicts[(0.4, 0.002)][('K15S08F_007', 57303, '703')])\n",
    "print(\"Arrow: \",dictofArrowdicts[(0.4, 0.004)][('K15S08F_007', 57303, '703')])"
   ]
  },
  {
   "cell_type": "markdown",
   "metadata": {},
   "source": [
    "# Some raw data that I believe would have been used by Holman to form the above ...\n"
   ]
  },
  {
   "cell_type": "code",
   "execution_count": 121,
   "metadata": {
    "collapsed": true
   },
   "outputs": [],
   "source": [
    "# (i) >>> grep K15S08F UnnObs_Training_1_line_C.txt | grep 703\n",
    "obs80 = [\n",
    "     \"     K15S08F  C2015 10 08.27492 00 36 19.49 +04 20 42.0          20.0 Vq~1Xwc703\",\n",
    "     \"     K15S08F  C2015 10 08.27992 00 36 19.38 +04 20 38.9          19.5 Vq~1Xwc703\",\n",
    "     \"     K15S08F  C2015 10 08.28494 00 36 19.13 +04 20 37.0          20.2 Vq~1Xwc703\",\n",
    "     \"     K15S08F  C2015 10 08.28994 00 36 18.93 +04 20 33.2          20.2 Vq~1Xwc703\",]\n",
    "# (ii) >>> grep K15S08F UnnObs_Training_1_line_C.mpc | grep \" 703 \"\n",
    "obsConv = [\n",
    "    \"K15S08F_007 2015 10 08.27492   703 20.0  V 2457303.775709    0.9846276    0.1573806    0.0757619     0.967721    0.2288199    0.0992142\",\n",
    "    \"K15S08F_007 2015 10 08.27992   703 19.5  V 2457303.780709    0.9846300    0.1573729    0.0757469     0.967698    0.2288972    0.0992472\",\n",
    "    \"K15S08F_007 2015 10 08.28494   703 20.2  V 2457303.785729    0.9846335    0.1573551    0.0757377     0.967675    0.2289748    0.0992804\",\n",
    "    \"K15S08F_007 2015 10 08.28994   703 20.2  V 2457303.790729    0.9846372    0.1573410    0.0757193     0.967652    0.2290520    0.0993134\"\n",
    "]\n",
    "# cd ../data\" ; grep K15S08F UnnObs_Training_1_line_C_ec_labelled_2457308.5_pm15.0_r2.5.trans | grep \" 703 \"\n",
    "obsTran = [\n",
    "    \"K15S08F_007 2015 10 08.27492   703 20.0  V 2457303.775709    0.9846276    0.1745302    0.0069078    0.9677209    0.2494033    0.0000080      0.008677    2.4470661    0.5116247    0.0103866   281\",\n",
    "    \"K15S08F_007 2015 10 08.27992   703 19.5  V 2457303.780709    0.9846300    0.1745172    0.0068971    0.9676979    0.2494873    0.0000075      0.008677    2.4470525    0.5116902    0.0103700   281\",\n",
    "    \"K15S08F_007 2015 10 08.28494   703 20.2  V 2457303.785729    0.9846335    0.1744972    0.0068958    0.9676748    0.2495717    0.0000071      0.008677    2.4470408    0.5117456    0.0103677   281\",\n",
    "    \"K15S08F_007 2015 10 08.28994   703 20.2  V 2457303.790729    0.9846372    0.1744770    0.0068845    0.9676518    0.2496557    0.0000066      0.008677    2.4470295    0.5118004    0.0103503   281\",\n",
    "]"
   ]
  },
  {
   "cell_type": "markdown",
   "metadata": {},
   "source": [
    "# Let's double-check I understand how to produce obsConv from obs80\n",
    " - Next ~5 cells\n",
    "\n",
    "## We see from doing this that in the \"obsConv\" list, the vectors are in equatorial coords\n",
    "  - (i) after the JD, the next three numbers are ObsUnitVector (in Helio EQUATORIAL coords)\n",
    "  - (ii) the last three numbers are the Observatory.Posn (in Helio EQUATORIAL coords )\n",
    "\n",
    "\n",
    "## We see from doing this that in the \"obsTran\" list, the vectors are in ecliptic coords\n",
    "\n",
    "  - (i) after the JD, the next three numbers are ObsUnitVector (in Helio ECLIPTIC coords)\n",
    "  - (ii) the next three numbers are the Observatory.Posn (in Helio ECLIPTIC coords )\n",
    "  - (iii) the next single number (0.008677) is a light travel time \n",
    "  - (iv) the next 3 numbers  (2.4470661    0.5116247    0.0103866) are the coords given the assumed 2.5AU distance\n",
    "  \n",
    "## I then find that in order to get the values of the arrows sent to me by Holman, I need to assume a lunation_center(-14) \n",
    " - From there, everything seems to be working OK\n",
    "  "
   ]
  },
  {
   "cell_type": "code",
   "execution_count": 123,
   "metadata": {
    "collapsed": true
   },
   "outputs": [],
   "source": [
    "# This returns the topocentric distances and new heliocentric\n",
    "# position vectors to the target, given the assumed distance\n",
    "# r and the position vector of the observatory re.\n",
    "def adjust_position(r, rho_target, re):\n",
    "    rho_x, rho_y, rho_z = rho_target\n",
    "    xe, ye, ze = re\n",
    "    Robs = np.sqrt(xe * xe + ye * ye + ze * ze)\n",
    "    cos_phi = -(rho_x * xe + rho_y * ye + rho_z * ze) / Robs\n",
    "    phi = np.arccos(cos_phi)\n",
    "    sin_phi = np.sin(phi)\n",
    "\n",
    "    xx2 = r*r - Robs*sin_phi * Robs*sin_phi\n",
    "    \n",
    "    if xx2 < 0:\n",
    "        None, None\n",
    "\n",
    "    xx = np.sqrt(xx2)\n",
    "    yy = Robs * cos_phi\n",
    "    \n",
    "    rho_p = yy + xx\n",
    "\n",
    "    # This could be done with numpy arrays\n",
    "    x_p = xe + rho_p*rho_x\n",
    "    y_p = ye + rho_p*rho_y\n",
    "    z_p = ze + rho_p*rho_z\n",
    "    \n",
    "    rho_m = yy - xx\n",
    "    \n",
    "    # This could be done with numpy arrays    \n",
    "    x_m = xe + rho_m*rho_x\n",
    "    y_m = ye + rho_m*rho_y\n",
    "    z_m = ze + rho_m*rho_z\n",
    "        \n",
    "    return (rho_p, (x_p, y_p, z_p)), (rho_m, (x_m, y_m, z_m))\n"
   ]
  },
  {
   "cell_type": "code",
   "execution_count": 135,
   "metadata": {
    "collapsed": true
   },
   "outputs": [],
   "source": [
    "def xyz_to_proj_matrix( r_ref):\n",
    "    '''This routine returns the 3-D rotation matrix for the \n",
    "    given reference vector.\n",
    "    # mat is a rotation matrix that converts from ecliptic\n",
    "    # vectors to the projection coordinate system.\n",
    "    # The projection coordinate system has z outward,\n",
    "    # x parallel to increasing ecliptic longitude, and\n",
    "    # y northward, making a right-handed system.\n",
    "    '''\n",
    "    x_ref, y_ref, z_ref = r_ref\n",
    "    r = np.sqrt(x_ref*x_ref + y_ref*y_ref + z_ref*z_ref)\n",
    "    lon0 = np.arctan2(y_ref, x_ref)\n",
    "    lat0 = np.arcsin(z_ref/r)\n",
    "    slon0 = np.sin(lon0)\n",
    "    clon0 = np.cos(lon0)\n",
    "    slat0 = np.sin(lat0)\n",
    "    clat0 = np.cos(lat0)\n",
    "\n",
    "    mat = np.array([[-slon0, clon0, 0], \n",
    "                    [-clon0*slat0, -slon0*slat0, clat0], \n",
    "                    [clon0*clat0, slon0*clat0, slat0 ]])\n",
    "\n",
    "    return mat"
   ]
  },
  {
   "cell_type": "code",
   "execution_count": 184,
   "metadata": {
    "collapsed": true
   },
   "outputs": [],
   "source": [
    "def fit_tracklet(t_ref, g, gdot, v, GM=MPC_library.Constants.GMsun):\n",
    "    # Here's a version that incorporates radial gravitational\n",
    "    # acceleration\n",
    "    t_emit = [(obs[0]-obs[1]-t_ref) for obs in v]\n",
    "    acc_z = -GM*g*g\n",
    "    fac =[(1.0 + gdot*t + 0.5*g*acc_z*t*t - g*obs[7]) for obs, t in zip(v, t_emit)]\n",
    "                \n",
    "    A = np.vstack([t_emit, np.ones(len(t_emit))]).T \n",
    "    \n",
    "    x = [obs[2]*f + obs[5]*g for obs, f in zip(v, fac)]                 \n",
    "    mx, cx = np.linalg.lstsq(A, x)[0]\n",
    "            \n",
    "    y = [obs[3]*f + obs[6]*g for obs, f in zip(v, fac)]                 \n",
    "    my, cy = np.linalg.lstsq(A, y)[0]\n",
    "    \n",
    "    return (cx, mx, cy, my, t_emit[0])\n",
    "\n",
    "def fit_tracklet_grav(t_ref, g, gdot, v, GM=MPC_library.Constants.GMsun, eps2=1e-16):\n",
    "    # Here's a more sophisticated version\n",
    "        \n",
    "    t_emit = [(obs[0]-obs[1]-t_ref) for obs in v]\n",
    "        \n",
    "    # We will approximate g_x(t), g_y(t), and g_z(t)\n",
    "    # using a Taylor expansion.  \n",
    "    # The first two terms are zero by design.  \n",
    "    #\n",
    "    # Given alpha, beta, gamma,\n",
    "    # we would have r_0^2 = (alpha^2 + beta^2 + 1)*z_0^2\n",
    "    # r^2 = (alpha^2 + beta^2 + 1)/gamma^2 ~ 1/gamma^2\n",
    "    # g_x(t) ~ -0.5*GM*x_0*t^2/r^3 + 1/6*jerk_x*t*t*t\n",
    "    # g_y(t) ~ -0.5*GM*y_0*t^2/r^3 + 1/6*jerk_y*t*t*t\n",
    "    # g_z(t) ~ -0.5*GM*z_0*t^2/r^3 + 1/6*jerk_z*t*t*t\n",
    "    #\n",
    "    # We do not have alpha and beta initially,\n",
    "    # but we assert gamma.\n",
    "    # \n",
    "    # We set alpha=beta=0 initially, least squares solve\n",
    "    # the tracklets and obtain alpha, alpha-dot, beta, \n",
    "    # and beta-dot.\n",
    "    # \n",
    "    # Then we use those values to estimate g_x,\n",
    "    # g_y, and g_z for the next iteration.\n",
    "    #\n",
    "    # The process converges when alpha, alpha-dot,\n",
    "    # beta, beta-dot do not change significantly.\n",
    "    #\n",
    "    # We could also do this same process with a \n",
    "    # Kepler-stepper or a full n-body integration.\n",
    "    \n",
    "    alpha = beta = 0.0\n",
    "    alpha_dot = beta_dot = 0.0\n",
    "    cx, cy = 1.0, 1.0\n",
    "    mx, my = 0.0, 0.0\n",
    "        \n",
    "    while(((cx-alpha)*(cx-alpha) + (cy-beta)*(cy-beta))>eps2):\n",
    "            \n",
    "        alpha, beta = cx, cy\n",
    "        alpha_dot, beta_dot = mx, my\n",
    "            \n",
    "        r2 = (alpha*alpha + beta*beta + 1.0)/(g*g)\n",
    "        r3 = r2*np.sqrt(r2)\n",
    "        r5 = r2*r3\n",
    "\n",
    "        x0 = alpha/g\n",
    "        y0 = beta/g\n",
    "        z0 = 1.0/g\n",
    "            \n",
    "        vx0 = alpha_dot/g\n",
    "        vy0 = beta_dot/g\n",
    "        vz0 = gdot/g\n",
    "            \n",
    "        # An alternative to the Taylor expansion is to\n",
    "        # to kepler step from\n",
    "        # x0, y0, z0 and vx0, vy0, vz0 at time 0\n",
    "        # to those at the times of each observation \n",
    "        # in the tracklet.  With that there will be no \n",
    "        # issue of convergence.\n",
    "        # Then simply subtract off the linear motion\n",
    "        # to give the gravitational perturbation.\n",
    "            \n",
    "        rrdot = x0*vx0 + y0*vy0 + z0*vz0\n",
    "        \n",
    "        acc_x = -GM*x0/r3\n",
    "        acc_y = -GM*y0/r3\n",
    "        acc_z = -GM*z0/r3\n",
    "            \n",
    "        jerk_x = -GM/r5*(r2*vx0 - 3.0*rrdot*x0)\n",
    "        jerk_y = -GM/r5*(r2*vy0 - 3.0*rrdot*y0)\n",
    "        jerk_z = -GM/r5*(r2*vz0 - 3.0*rrdot*z0)\n",
    "\n",
    "        fac =[(1.0 + gdot*t + 0.5*g*acc_z*t*t + (1./6.0)*g*jerk_z*t*t*t - g*obs[7]) for obs, t in zip(v, t_emit)]\n",
    "                \n",
    "        A = np.vstack([t_emit, np.ones(len(t_emit))]).T \n",
    "\n",
    "        x = [obs[2]*f + obs[5]*g - 0.5*g*acc_x*t*t - (1./6.0)*g*jerk_x*t*t*t for obs, f, t in zip(v, fac, t_emit)]                 \n",
    "        mx, cx = np.linalg.lstsq(A, x)[0]\n",
    "            \n",
    "        y = [obs[3]*f + obs[6]*g - 0.5*g*acc_y*t*t - (1./6.0)*g*jerk_y*t*t*t for obs, f, t in zip(v, fac, t_emit)]                 \n",
    "        my, cy = np.linalg.lstsq(A, y)[0]\n",
    "        \n",
    "        return (cx, mx, cy, my, t_emit[0])"
   ]
  },
  {
   "cell_type": "code",
   "execution_count": 187,
   "metadata": {},
   "outputs": [
    {
     "name": "stdout",
     "output_type": "stream",
     "text": [
      "r_target == xyz_helio-ecliptic\n",
      "[0.98462759 0.17453021 0.00690781]\n",
      "theta_x, theta_y, theta_z\n",
      "-0.11880730205875198 0.006907805128941721 0.992893301017698\n",
      "\n",
      "r_target == xyz_helio-ecliptic\n",
      "[0.98462997 0.17451719 0.00689712]\n",
      "theta_x, theta_y, theta_z\n",
      "-0.11882045585541492 0.006897117305260506 0.9928918012770518\n",
      "\n",
      "r_target == xyz_helio-ecliptic\n",
      "[0.98463352 0.17449721 0.00689577]\n",
      "theta_x, theta_y, theta_z\n",
      "-0.1188406026662833 0.006895767083635887 0.9928893994570809\n",
      "\n",
      "r_target == xyz_helio-ecliptic\n",
      "[0.98463719 0.17447697 0.00688452]\n",
      "theta_x, theta_y, theta_z\n",
      "-0.11886103957964422 0.00688452188863832 0.9928870311512841\n",
      "\n",
      "Fitted arrows ... \n",
      "cx, mx, cy, my\n",
      "a,adot,b,bdot\n",
      "-0.06550288043058565 0.004805214054377891 -6.121528904736185e-05 -0.0008903525258483633\n",
      "\n",
      "# -----------------------------------------------------------------------\n",
      "\t\t\t Everything looks good \n",
      "Critical values (theta's, arrows, etc) can all be made to match to Holman's\n",
      "# -----------------------------------------------------------------------\n"
     ]
    },
    {
     "name": "stderr",
     "output_type": "stream",
     "text": [
      "/opt/cfpython/anaconda3.4/lib/python3.4/site-packages/ipykernel/__main__.py:11: FutureWarning: `rcond` parameter will change to the default of machine precision times ``max(M, N)`` where M and N are the input matrix dimensions.\n",
      "To use the future default and silence this warning we advise to pass `rcond=None`, to keep using the old, explicitly pass `rcond=-1`.\n",
      "/opt/cfpython/anaconda3.4/lib/python3.4/site-packages/ipykernel/__main__.py:14: FutureWarning: `rcond` parameter will change to the default of machine precision times ``max(M, N)`` where M and N are the input matrix dimensions.\n",
      "To use the future default and silence this warning we advise to pass `rcond=None`, to keep using the old, explicitly pass `rcond=-1`.\n"
     ]
    }
   ],
   "source": [
    "imp.reload(HCU)\n",
    "v = []\n",
    "for line in obs80:\n",
    "    # Convert for convenience ... \n",
    "    objName, provDesig, disAst, note1, note2, dateObs, RA, Dec, mag, filt, obsCode = HCU.convertObs80(line)\n",
    "    #for item in (objName, provDesig, disAst, note1, note2, dateObs, RA, Dec, mag, filt, obsCode ):\n",
    "    #    print(item)\n",
    "\n",
    "    jd_utc = MPC_library.date2JD(dateObs)\n",
    "    jd_tdb  = MPC_library.EOP.jdTDB(jd_utc)\n",
    "    raDeg, decDeg = MPC_library.RA2degRA(RA), MPC_library.Dec2degDec(Dec)\n",
    "    # make a unit vector, still in equatorial coordinates\n",
    "    x = np.cos(decDeg*np.pi/180.)*np.cos(raDeg*np.pi/180.)\n",
    "    y = np.cos(decDeg*np.pi/180.)*np.sin(raDeg*np.pi/180.)  \n",
    "    z = np.sin(decDeg*np.pi/180.)\n",
    "    # Then we convert to ecliptic coords ...\n",
    "    xec, yec, zec = equatorial_to_ecliptic(np.array((x, y, z)))\n",
    "    #print(x,y,z )\n",
    "    #print(xec,yec,zec )\n",
    "    \n",
    "    if filt.isspace():\n",
    "        filt = '-'\n",
    "    if mag.isspace():\n",
    "        mag = '----'\n",
    "        \n",
    "    # Get the position of the observatory \n",
    "    # According to the MPC_library code, this is ...\n",
    "    # ... the heliocentric position of the observatory in equatorial cartesian coordinates.\n",
    "    xh, yh, zh = Observatories.getObservatoryPosition(obsCode, jd_utc)\n",
    "    # Then we convert to ecliptic coords ...\n",
    "    xhec, yhec, zhec = equatorial_to_ecliptic(np.array((xh, yh, zh)))\n",
    "\n",
    "    #print(xh,yh,zh)\n",
    "    #print(xhec,yhec,zhec)\n",
    "    \n",
    "    \n",
    "    # The last few columns in the .trans file are apparently \"dt         x_cor       y_cor        z_cor       pix\"\n",
    "    # the x_cor       y_cor        z_cor are the light-time corrected positions (of the observation)\n",
    "    # \n",
    "    # this code is from \"index_positions\" in ITF_mjh_trimmed.ipynb\n",
    "    # -----------------------------------------------------------------------\n",
    "    r_target = np.array([xec,yec,zec ])\n",
    "    print(\"r_target == xyz_helio-ecliptic\")\n",
    "    print(r_target)\n",
    "    '''\n",
    "    \n",
    "    # Adjust positions\n",
    "    dt = 0.0\n",
    "    r_assumed = 2.5\n",
    "    r_prev = r_assumed # r_func(jd_tdb-dt)\n",
    "    rho_r_p, rho_r_m = adjust_position(r_prev, r_target, r_obs)\n",
    "    dt = rho_r_p[0]/MPC_library.Constants.speed_of_light\n",
    "\n",
    "    # Do light-time iterations.\n",
    "    i=0\n",
    "    while(np.abs(r_assumed-r_prev)>1e-8):\n",
    "        rho_r_p, rho_r_m = adjust_position(r_prev, r_target, r_obs)\n",
    "        dt = rho_r_p[0]/MPC_library.Constants.speed_of_light\n",
    "        r_prev = r_assumed #r_func(jd_tdb-dt)\n",
    "        i += 1\n",
    "    xp, yp, zp = rho_r_p[1]    \n",
    "    if line == obs80[0]: print(\"dt         x_cor       y_cor        z_cor\")\n",
    "    print(dt,  xp, yp, zp)\n",
    "    # -----------------------------------------------------------------------\n",
    "    \n",
    "    '''\n",
    "    # -----------------------------------------------------------------------\n",
    "    # --- Get Theta from UV to Target ---\n",
    "    # specify ref direction \n",
    "    ref_vec = np.array(hp.pixelfunc.pix2vec(2**3, 281, nest=True))\n",
    "    vec = ref_vec/np.linalg.norm(ref_vec)\n",
    "    # standard rotn matrix to go from ecliptic to projection coords \n",
    "    mat = xyz_to_proj_matrix(vec)\n",
    "    # Rotate to projection coordinates\n",
    "    theta_x, theta_y, theta_z = np.dot(mat, r_target)\n",
    "    print(\"theta_x, theta_y, theta_z\")\n",
    "    print(theta_x, theta_y, theta_z)\n",
    "    print()\n",
    "    # -----------------------------------------------------------------------\n",
    "\n",
    "    # -----------------------------------------------------------------------\n",
    "    # --- Fit arrows for a given gamma, gamma-dot ---\n",
    "    \n",
    "    # Rot posn observatory to proj coords\n",
    "    r_obs    = np.array([xhec,yhec,zhec])\n",
    "    xe, ye, ze = np.dot(mat, r_obs)\n",
    "\n",
    "    # This is the light travel time\n",
    "    dlt = ze/MPC_library.Constants.speed_of_light\n",
    "\n",
    "    # Put everything into this tuple ...\n",
    "    v .append( (jd_tdb, dlt, theta_x, theta_y, theta_z, xe, ye, ze) )\n",
    "    # -----------------------------------------------------------------------\n",
    "  \n",
    "\n",
    "\n",
    "# -----------------------------------------------------------------------\n",
    "# --- Fit arrows for a given gamma, gamma-dot ---\n",
    "print(\"Fitted arrows ... \")\n",
    "# Define everything else \n",
    "# t_ref   = times_[0] - dictTopo[('K15S08F_007', 57303, '703')][2]\n",
    "t_ref   = 2457308.5 # == lunation_center(-14)\n",
    "g = 0.4 \n",
    "gdot = 0.0 \n",
    "\n",
    "# Call the arrow creation/fitting function \n",
    "cx, mx, cy, my, t0 = fit_tracklet(t_ref, g, gdot, v)\n",
    "print(\"cx, mx, cy, my\")\n",
    "print(\"a,adot,b,bdot\")\n",
    "print(cx, mx, cy, my)\n",
    "print()\n",
    "# -----------------------------------------------------------------------\n",
    "\n",
    "     \n",
    "    \n",
    "print(\"# -----------------------------------------------------------------------\")\n",
    "print(\"\\t\\t\\t Everything looks good \")\n",
    "print(\"Critical values (theta's, arrows, etc) can all be made to match to Holman's\")\n",
    "print(\"# -----------------------------------------------------------------------\")\n"
   ]
  },
  {
   "cell_type": "markdown",
   "metadata": {},
   "source": [
    "# Now I am going to do the same sort of thing again (reporducing Holman's numbers) \n",
    "## But I am going to do it using only the machinery I have in place in the Class structures, etc thatr are in place in HCU ..."
   ]
  },
  {
   "cell_type": "code",
   "execution_count": 188,
   "metadata": {},
   "outputs": [
    {
     "data": {
      "text/plain": [
       "<module 'HelioClustering_Utilities' from '/pool/pistachio0/Dropbox/ITF/HelioClustering_Utilities.py'>"
      ]
     },
     "execution_count": 188,
     "metadata": {},
     "output_type": "execute_result"
    }
   ],
   "source": [
    "imp.reload(HCU)"
   ]
  },
  {
   "cell_type": "code",
   "execution_count": 190,
   "metadata": {},
   "outputs": [
    {
     "name": "stdout",
     "output_type": "stream",
     "text": [
      "[2457303.775709, 2457303.780709, 2457303.785729, 2457303.790729]\n",
      "[array([0.967721 , 0.2288199, 0.0992142]), array([0.967698 , 0.2288972, 0.0992472]), array([0.967675 , 0.2289748, 0.0992804]), array([0.967652 , 0.229052 , 0.0993134])]\n",
      "[array([0.9846276, 0.1573806, 0.0757619]), array([0.98463  , 0.1573729, 0.0757469]), array([0.9846335, 0.1573551, 0.0757377]), array([0.9846372, 0.157341 , 0.0757193])]\n"
     ]
    }
   ],
   "source": [
    "# As per the above, the posn vectors in obsConv are in EQUATORIAL coordinates \n",
    "times_           = [float(item.split()[7]) for item in obsConv]\n",
    "UnitVector_      = [np.array( [float(item.split()[8]),float(item.split()[9]),float(item.split()[10])]) for item in obsConv]\n",
    "ObservatoryPosn_ = [np.array( [float(item.split()[11]),float(item.split()[12]),float(item.split()[13])]) for item in obsConv]\n",
    "#ObservatoryPosn_ = [np.array( [float(item.split()[8]),float(item.split()[9]),float(item.split()[10])]) for item in obsConv]\n",
    "#UnitVector_      = [np.array( [float(item.split()[11]),float(item.split()[12]),float(item.split()[13])]) for item in obsConv]\n",
    "\n",
    "print(times_)\n",
    "print(ObservatoryPosn_)\n",
    "print(UnitVector_) \n"
   ]
  },
  {
   "cell_type": "code",
   "execution_count": 191,
   "metadata": {},
   "outputs": [
    {
     "name": "stdout",
     "output_type": "stream",
     "text": [
      "[2457303.775709, 2457303.780709, 2457303.785729, 2457303.790729]\n",
      "[array([9.67721000e-01, 2.49403296e-01, 7.96353083e-06]), array([9.67698000e-01, 2.49487344e-01, 7.49227948e-06]), array([9.67675000e-01, 2.49571747e-01, 7.08519145e-06]), array([9.67652000e-01, 2.49655703e-01, 6.65371780e-06])]\n",
      "[array([0.9846276 , 0.17453023, 0.00690781]), array([0.98463   , 0.1745172 , 0.00689711]), array([0.9846335 , 0.17449721, 0.00689575]), array([0.9846372 , 0.17447695, 0.00688447])]\n"
     ]
    }
   ],
   "source": [
    "# Because I am going to  assume inputs in ecliptic coordinates for the vectors in my detectoins/tracklets below\n",
    "# => Need to convert to ecliptic\n",
    "EC_UnitVector_      = [HCU.equatorial_to_ecliptic(UV) for UV in UnitVector_]\n",
    "EC_ObservatoryPosn_ = [HCU.equatorial_to_ecliptic(OP) for OP in ObservatoryPosn_]\n",
    "print(times_)\n",
    "print(EC_ObservatoryPosn_)\n",
    "print(EC_UnitVector_) \n"
   ]
  },
  {
   "cell_type": "markdown",
   "metadata": {},
   "source": [
    "# Now let's look at what I do to form detections, tracklets & arrows ..."
   ]
  },
  {
   "cell_type": "code",
   "execution_count": 197,
   "metadata": {},
   "outputs": [
    {
     "name": "stdout",
     "output_type": "stream",
     "text": [
      "\n",
      "Detections ...\n",
      "\n",
      "Tracklets...\n",
      "N_tracklets =  1\n",
      "D_detections in tracklet =  4\n",
      "Unit vectors to detections, assumed to be in ecliptic coords \n",
      "2457303.775709 [0.9846276  0.17453023 0.00690781]\n",
      "2457303.780709 [0.98463    0.1745172  0.00689711]\n",
      "2457303.785729 [0.9846335  0.17449721 0.00689575]\n",
      "2457303.790729 [0.9846372  0.17447695 0.00688447]\n",
      "\n",
      "Arrows...\n",
      "ref_time =  2457308.5\n",
      "ref_vec (assumed ecliptic coords) =  [0.95694034 0.29028468 0.        ]\n",
      "Theta: \n",
      "[-0.11880729  0.00690781  0.99289332]\n",
      "[-0.11882046  0.00689711  0.99289183]\n",
      "[-0.1188406   0.00689575  0.99288938]\n",
      "[-0.11886106  0.00688447  0.99288704]\n",
      "Arrow: \n",
      "alpha, alpha-dot, beta, beta-dot, gamma, gamma-dot\n",
      "[-6.55139100e-02  4.80287915e-03 -6.28166949e-05 -8.90688387e-04\n",
      "  4.00000000e-01  0.00000000e+00]\n",
      "# -----------------------------------------------------------------------\n",
      "\t Comparison between the above calculations using HCU and Holman's numbers (below)\n",
      "\t suggests that all is well !\n",
      "Theta: \n",
      "theta_x0, theta_y0, t0, theta_x1, theta_y1, t1\n",
      "(-0.11880731689842633, 0.0069078, -4.73005756130442, -0.11886101285718889, 0.0068845, -4.7150376024656)\n",
      "Arrow: \n",
      "alpha, alpha-dot, beta, beta-dot, t\n",
      "(-0.06550003796686624, 0.004805815785782635, -6.364704187224728e-05, -0.000890866391644699, -4.73005756130442)\n",
      "# -----------------------------------------------------------------------\n"
     ]
    },
    {
     "name": "stderr",
     "output_type": "stream",
     "text": [
      "/pool/pistachio0/Dropbox/ITF/HelioClustering_Utilities.py:195: FutureWarning: `rcond` parameter will change to the default of machine precision times ``max(M, N)`` where M and N are the input matrix dimensions.\n",
      "To use the future default and silence this warning we advise to pass `rcond=None`, to keep using the old, explicitly pass `rcond=-1`.\n",
      "  \n",
      "/pool/pistachio0/Dropbox/ITF/HelioClustering_Utilities.py:199: FutureWarning: `rcond` parameter will change to the default of machine precision times ``max(M, N)`` where M and N are the input matrix dimensions.\n",
      "To use the future default and silence this warning we advise to pass `rcond=None`, to keep using the old, explicitly pass `rcond=-1`.\n",
      "  \n"
     ]
    }
   ],
   "source": [
    "imp.reload(HCU)\n",
    "# ----------------- Detections -------------------------------------------------------\n",
    "print(\"\\nDetections ...\")\n",
    "detList_ = []\n",
    "    \n",
    "# Stuff the detections for each object into a list \n",
    "detDict__[NAME] = []\n",
    "for t, OP, UV in zip(times_, EC_ObservatoryPosn_, EC_UnitVector_):\n",
    "    # Create a detection\n",
    "    D = HCU.DETECTION()\n",
    "    # Add in the data\n",
    "    D.ADD_TIME(t)\n",
    "    D.ADD_OBSERVATORYPOSN(OP)\n",
    "    D.ADD_UNIT(UV)\n",
    "    # Do utility calculations (at the mo is just heliocentric conversion at assumed 2.5AU) \n",
    "    D.ROUGH_HELIO_CONVERSION(2.5)\n",
    "    # Stick all of the DETECTIONS into a list \n",
    "    detList_.append( D )\n",
    "\n",
    "# ----------------- Tracklets -------------------------------------------------------\n",
    "print(\"\\nTracklets...\")\n",
    "# Now go through the above list and chop into tracklets based on day \n",
    "trckList_ = []\n",
    "for i,D in enumerate(detList_):\n",
    "    # Create a new tracklet if appropriate\n",
    "    if i ==0 or ((int(D.time)- int(trckList_[-1].times[0]))**2)**0.5 > 0.5 :\n",
    "        trckList_.append(HCU.TRACKLET())\n",
    "\n",
    "    # Put detections in last tracklet (and calc time list to help with sorting ...)\n",
    "    trckList_[-1].ADD_DETECTION(D)\n",
    "    trckList_[-1].GET_TIMES()\n",
    "print(\"N_tracklets = \", len(trckList_))\n",
    "print(\"D_detections in tracklet = \", len(trckList_[-1].dets_))\n",
    "print(\"Unit vectors to detections, assumed to be in ecliptic coords \")\n",
    "for det in trckList_[0].dets_:\n",
    "    print(det.time, det.unit)\n",
    "    \n",
    "    \n",
    "# ----------------- Arrows -------------------------------------------------------\n",
    "print(\"\\nArrows...\")\n",
    "# Test what things look like for g_gdot  = (0.4, 0.0001)\n",
    "g_gdotARR_  = [(0.4, 0.0)]\n",
    "ref_t   = lunation_center(-14) # times_[0] + dictTopo[('K15S08F_007', 57303, '703')][2]\n",
    "print(\"ref_time = \", ref_t)\n",
    "# ......= unit vector to 281 in a 768 HEALPIX enumeration () \n",
    "# ...... MJP believes that MJH is assuming that the input vec (derived from HP) is in ECLIPTIC coords ...\n",
    "ref_vec = np.array(hp.pixelfunc.pix2vec(2**3, 281, nest=True))\n",
    "print(\"ref_vec (assumed ecliptic coords) = \",ref_vec)\n",
    "\n",
    "for g_gdot in g_gdotARR_:\n",
    "    # create an ARROW for that g,g-dot\n",
    "    for T in trckList_:\n",
    "        T.ADD_ARROW(g_gdot,ref_vec,ref_t)\n",
    "\n",
    "\n",
    "print(\"Theta: \")\n",
    "for item in trckList_[0].ArrowDict__[g_gdotARR_[0]].theta_:\n",
    "    print(item)\n",
    "\n",
    "print(\"Arrow: \")\n",
    "print(\"alpha, alpha-dot, beta, beta-dot, gamma, gamma-dot\")\n",
    "print(trckList_[0].ArrowDict__[g_gdotARR_[0]].alphaVec)\n",
    "\n",
    "# ----------------- Comparison -------------------------------------------------------\n",
    "print(\"# -----------------------------------------------------------------------\")\n",
    "print(\"\\t Comparison between the above calculations using HCU and Holman's numbers (below)\\n\\t suggests that all is well !\")\n",
    "#print(\"Topo : \",dictTopo[('K15S08F_007', 57303, '703')])\n",
    "print(\"Theta: \")\n",
    "print(\"theta_x0, theta_y0, t0, theta_x1, theta_y1, t1\")\n",
    "print(dictTheta[('K15S08F_007', 57303, '703')])\n",
    "print(\"Arrow: \")\n",
    "print(\"alpha, alpha-dot, beta, beta-dot, t\")\n",
    "print(dictofArrowdicts[g_gdotARR_[0]][('K15S08F_007', 57303, '703')])\n",
    "print(\"# -----------------------------------------------------------------------\")\n"
   ]
  },
  {
   "cell_type": "code",
   "execution_count": 76,
   "metadata": {},
   "outputs": [
    {
     "name": "stdout",
     "output_type": "stream",
     "text": [
      "768\n",
      "(-0.18889539204367667, 0.9496412643017708, 0.25)\n",
      "(0.9569403357322088, 0.29028467725446233, 0.0)\n"
     ]
    }
   ],
   "source": [
    "# Double-check what healpix\n",
    "print( hp.pixelfunc.nside2npix(2**3) )\n",
    "print( hp.pixelfunc.pix2vec(2**3, 281, nest=False) ) \n",
    "print( hp.pixelfunc.pix2vec(2**3, 281, nest=True) ) "
   ]
  },
  {
   "cell_type": "code",
   "execution_count": 175,
   "metadata": {},
   "outputs": [
    {
     "name": "stdout",
     "output_type": "stream",
     "text": [
      "2457397.5\n",
      "2457308.5\n",
      "2457219.5\n",
      "2457131.5\n",
      "2457042.5\n"
     ]
    }
   ],
   "source": [
    "# Returns the jd of new moon, to the nearest half day\n",
    "def lunation_center(n, tref=2457722.0125, p=29.53055):\n",
    "    t = tref + p*n\n",
    "    tp = np.floor(t) + 0.5\n",
    "    return tp\n",
    "for n in [-11, -14, -17, -20, -23]:\n",
    "    print(lunation_center(n))"
   ]
  },
  {
   "cell_type": "code",
   "execution_count": null,
   "metadata": {
    "collapsed": true
   },
   "outputs": [],
   "source": [
    "2457303.775709"
   ]
  }
 ],
 "metadata": {
  "anaconda-cloud": {},
  "kernelspec": {
   "display_name": "Python 3",
   "language": "python",
   "name": "python3"
  },
  "language_info": {
   "codemirror_mode": {
    "name": "ipython",
    "version": 3
   },
   "file_extension": ".py",
   "mimetype": "text/x-python",
   "name": "python",
   "nbconvert_exporter": "python",
   "pygments_lexer": "ipython3",
   "version": "3.8.3"
  }
 },
 "nbformat": 4,
 "nbformat_minor": 1
}
