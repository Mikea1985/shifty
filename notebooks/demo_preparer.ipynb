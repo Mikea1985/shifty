{
 "cells": [
  {
   "cell_type": "markdown",
   "metadata": {},
   "source": [
    "# Demonstration of shifty.py's \"preparer\" module\n",
    " - 201911XX & 202002XX\n",
    " - Payne \n",
    " \n",
    "The \"preparer\" module facilitates loading fits files from disk into a \"STACKED FITS FILE\" \n",
    " - To do this requires not only simple loading, but also more detailed \"cleaning\" and \"preparation\" of the data to ensure that the stacked fits file object that is ultimately created has only the required, clean data in it. \n",
    "\n",
    "There is a \"parent\" class\" called \"ImagePreparer\".\n",
    " - This is NOT likely to be used directly at all \n",
    "\n",
    "There are \"child\" classes for each type of data that will be downloaded:\n",
    " - These ARE likely to be directly used in practice. \n",
    " \n",
    "It intended that there be a specific loader for a specific kind of data.\n",
    "E.g.\n",
    " - The \"TESSImagePreparer\" class provides methods to download TESS data (from mast)\n",
    " - The \"HSTImagePreparer\" class is just a stub and does not yet have much functionality\n",
    " \n",
    "This notebook:\n",
    " - Demonstrates the key components / classes / functions available in the loader module\n",
    " - Acts as a complement to the tests of the same module. "
   ]
  },
  {
   "cell_type": "markdown",
   "metadata": {},
   "source": [
    "#### Import statements "
   ]
  },
  {
   "cell_type": "code",
   "execution_count": 20,
   "metadata": {},
   "outputs": [
    {
     "data": {
      "text/plain": [
       "<module 'refcat' from '/Users/matthewjohnpayne/Envs/shifty/shifty/refcat.py'>"
      ]
     },
     "execution_count": 20,
     "metadata": {},
     "output_type": "execute_result"
    }
   ],
   "source": [
    "# -------------------------------------------------------------------------------------\n",
    "# Third party imports\n",
    "# -------------------------------------------------------------------------------------\n",
    "import numpy as np \n",
    "import matplotlib.pyplot as plt\n",
    "import os, sys\n",
    "import glob \n",
    "\n",
    "import astropy\n",
    "from astropy.io import fits\n",
    "from astropy.time import Time\n",
    "from astropy.units import allclose as quantity_allclose\n",
    "from astropy import units as u\n",
    "from astropy.coordinates import SkyCoord\n",
    "from astropy.coordinates.builtin_frames import FK5, ICRS, GCRS, GeocentricMeanEcliptic, BarycentricMeanEcliptic, HeliocentricMeanEcliptic, GeocentricTrueEcliptic, BarycentricTrueEcliptic, HeliocentricTrueEcliptic, HeliocentricEclipticIAU76\n",
    "from astropy.constants import R_sun, R_earth\n",
    "\n",
    "import importlib\n",
    "\n",
    "# -------------------------------------------------------------------------------------\n",
    "# Local imports\n",
    "# -------------------------------------------------------------------------------------\n",
    "sys.path.append(os.path.join(os.path.split(os.getcwd())[0], 'shifty'))\n",
    "import data \n",
    "import downloader \n",
    "import preparer\n",
    "import refcat\n",
    "\n",
    "importlib.reload(data)\n",
    "importlib.reload(preparer)\n",
    "importlib.reload(downloader)\n",
    "importlib.reload(refcat)\n",
    "\n"
   ]
  },
  {
   "cell_type": "markdown",
   "metadata": {},
   "source": [
    "# Examples of some *HIGH LEVEL, PUBLIC* functionaliteis from TESSImagePreparer\n",
    " - These are the functionalities that we expect to be used externally\n",
    " - Lower-level funcs are demo'ed below"
   ]
  },
  {
   "cell_type": "markdown",
   "metadata": {
    "scrolled": false
   },
   "source": [
    "### Instantiate TESSImagePreparer object\n",
    " - Note that TESSImagePreparer object has an 'obs_code' quantity: this is passed into the output ImageDataSet to allow later understanding/calculation of the location of the observatory as a function of time. "
   ]
  },
  {
   "cell_type": "code",
   "execution_count": 2,
   "metadata": {
    "scrolled": false
   },
   "outputs": [
    {
     "name": "stdout",
     "output_type": "stream",
     "text": [
      "local_dir /Users/matthewjohnpayne/.shifty_data\n",
      "obs_code C57\n",
      "tess_dir /Users/matthewjohnpayne/.shifty_data/tess\n",
      "\n",
      "It is *True* that '/Users/matthewjohnpayne/.shifty_data' exists on disk\n",
      "It is *True* that '/Users/matthewjohnpayne/.shifty_data/tess' exists on disk\n"
     ]
    }
   ],
   "source": [
    "# creation of TESSImageLoader object\n",
    "T = preparer.TESSImagePreparer()\n",
    "\n",
    "# examination of instantiated variables\n",
    "# - these are defining some local data storage \n",
    "for k,v in T.__dict__.items():\n",
    "    print(k,v)\n",
    "print()\n",
    "\n",
    "# check that storage directories exist on disk \n",
    "for d in [T.local_dir, T.tess_dir ]:\n",
    "    print( 'It is *%r* that %r exists on disk' % (os.path.isdir(d), d)  )"
   ]
  },
  {
   "cell_type": "markdown",
   "metadata": {},
   "source": [
    "### Use TESSImagePreparer to generate a  \"stack_file\" based on just a small set of development data\n",
    " - Note that this loads 10 fits files into a combined/stacked fits file (development = True , automatically specifies a fixed set of 10 files to be used)\n",
    " - Note that this does *no* cleaning (the default is to do no cleaning)  "
   ]
  },
  {
   "cell_type": "code",
   "execution_count": 3,
   "metadata": {},
   "outputs": [
    {
     "name": "stdout",
     "output_type": "stream",
     "text": [
      "It is True that the returned object is a valid filepath: (/Users/matthewjohnpayne/.shifty_data/shift.fits)\n"
     ]
    }
   ],
   "source": [
    "# Delete demo stack file if it already exists \n",
    "stack_filepath = '/Users/matthewjohnpayne/.shifty_data/shift.fits'\n",
    "if os.path.isfile(stack_filepath): os.remove(stack_filepath)\n",
    "\n",
    "# load the test data(this is specified below by passing in development = True)\n",
    "stack_fits_filepath = T.generate_cleaned_stack_file( development = True )\n",
    "\n",
    "# check that the returned object actually is an ImageDataSet \n",
    "print('It is %r that the returned object is a valid filepath: (%s)' % ( os.path.isfile(stack_fits_filepath) , \n",
    "                                                                      stack_fits_filepath ) )\n",
    "\n"
   ]
  },
  {
   "cell_type": "markdown",
   "metadata": {},
   "source": [
    "### Use TESSImagePreparer to load prf's (previously downloaded using the TESSDownloader module)\n",
    " - *** NOT YET OPERATIONAL ***"
   ]
  },
  {
   "cell_type": "raw",
   "metadata": {},
   "source": [
    "listHDUs = T.get_prfs()\n",
    "prf_filepaths = T.download_prf()\n",
    "\n",
    "len(listHDUs), prf_filepaths"
   ]
  },
  {
   "cell_type": "markdown",
   "metadata": {},
   "source": [
    "### Use TESSImageLoader to perform various \"cleaning\" tasks ... "
   ]
  },
  {
   "cell_type": "markdown",
   "metadata": {},
   "source": [
    "#### masking stars\n",
    " - It may be of use to simply 'mask-out' the regions/pixels on an image that have stars on them. \n",
    " - Here we pass a mask=True option to the *get_image_data_set()* function to turn-on the masking\n",
    " - Note that this is ultimately calling the _mask_stars() function to do the work of masking"
   ]
  },
  {
   "cell_type": "code",
   "execution_count": null,
   "metadata": {},
   "outputs": [],
   "source": [
    "IDU = T.generate_cleaned_stack_file( **{'development' : True , 'mask' : True } )\n",
    "print(' * AT PRESENT THIS DOES NOTHING BECAUSE THE MASK FUNCTION JUST PASSES THE DATA THROUGH WITHOUT DOING ANYTHING !!!! * ')"
   ]
  },
  {
   "cell_type": "code",
   "execution_count": null,
   "metadata": {},
   "outputs": [],
   "source": []
  },
  {
   "cell_type": "markdown",
   "metadata": {},
   "source": [
    "# Examples of some *LOW LEVEL, PRIVATE* functionality from TESSImagePreparer\n",
    " - Just demonstrating how they work, etc : hopefully they won't need to be used (much?) in practice"
   ]
  },
  {
   "cell_type": "markdown",
   "metadata": {},
   "source": [
    "##### _ parse _ filespec\n",
    " - Convenience function to allow passed-in-parameters to flexibly specify the files that are to be loaded from FITS file "
   ]
  },
  {
   "cell_type": "code",
   "execution_count": null,
   "metadata": {},
   "outputs": [],
   "source": [
    "# (i)(a) should get simple pass-through of file-list when 'fits_filepaths' used\n",
    "result = T._parse_filespec( fits_filepaths = T._ensure_test_data_available_locally() )\n",
    "assert result == T._ensure_test_data_available_locally(), \\\n",
    "    'did not get simple pass-through of fits_filepaths'\n",
    "\n",
    "# (i)(b) should get filepaths for development files when 'development' = True is specified\n",
    "result = T._parse_filespec( development = True )\n",
    "assert result == T._ensure_test_data_available_locally(), \\\n",
    "    'did not get development fits_filepaths'\n",
    "\n",
    "# (i)(c) should get all filepaths in chip sub-dir when 'sectorNumber', 'cameraNumber', 'chipNumber' specified\n",
    "sectorNumber, cameraNumber, chipNumber = 4,3,2\n",
    "result = T._parse_filespec(sectorNumber = sectorNumber,\n",
    "                           cameraNumber = cameraNumber,\n",
    "                           chipNumber   = chipNumber )\n",
    "result.sort()\n",
    "expected_directory_path = os.path.join( T.tess_dir,str(sectorNumber),str(cameraNumber),str(chipNumber))\n",
    "expected_fits_filepaths = glob.glob( os.path.join(expected_directory_path , '*.fits') )\n",
    "expected_fits_filepaths.sort()\n",
    "assert result == expected_fits_filepaths, \\\n",
    "    'did not get expected_fits_filepaths for %r' % expected_directory_path\n"
   ]
  },
  {
   "cell_type": "markdown",
   "metadata": {},
   "source": [
    "##### _ parse _ filespec\n",
    " - Convenience function to allow passed-in-parameters to flexibly specify the \"patch\" of a fits-array that will be used (i.e. we cut-out a slice of the array)\n",
    " - The specification is in terms of pixel indicees "
   ]
  },
  {
   "cell_type": "code",
   "execution_count": null,
   "metadata": {},
   "outputs": [],
   "source": [
    "# (ii) test the private-method *_parse_patchspec()*\n",
    "# (ii)(a) if use pythonic-zero-based-numbering, then numbers unaltered\n",
    "X0,X1,Y0,Y1 = 11,17,1,4\n",
    "x0,x1,y0,y1 = T._parse_patchspec(patch=True, python=True, xlim=(X0,X1), ylim=np.array([Y0,Y1]) )\n",
    "assert [x0,x1,y0,y1]==[X0,X1,Y0,Y1], \\\n",
    "    'returned limits are not as expected ... %r' % [x0,x1,y0,y1]\n",
    "\n",
    "# (ii)(b) if use pixel-one-based-numbering, then numbers shifted by one\n",
    "X0,X1,Y0,Y1 = 11,17,1,4\n",
    "x0,x1,y0,y1 = T._parse_patchspec(patch=True, pixel=True, xlim=(X0,X1), ylim=np.array([Y0,Y1]) )\n",
    "assert [x0,x1,y0,y1]==[X0-1,X1-1,Y0-1,Y1-1], \\\n",
    "    'returned limits are not as expected ... %r' % [x0,x1,y0,y1]\n"
   ]
  },
  {
   "cell_type": "markdown",
   "metadata": {},
   "source": [
    "##### _ initialize _ stack _ HDUlist\n",
    " - should create a fits-file and an hdulist"
   ]
  },
  {
   "cell_type": "code",
   "execution_count": null,
   "metadata": {},
   "outputs": [],
   "source": [
    "# test the private-method *_initialize_stack_HDUlist()*\n",
    "# - should create a fits-file and an hdulist\n",
    "stack_filepath = os.path.join(T._fetch_data_directory(), 'stack.fits')\n",
    "if os.path.isfile(stack_filepath):\n",
    "    os.remove(stack_filepath)\n",
    "assert not os.path.isfile(stack_filepath)\n",
    "result = T._initialize_stack_HDUlist(stack_filepath)\n",
    "assert isinstance( result, astropy.io.fits.hdu.hdulist.HDUList)\n",
    "assert os.path.isfile(stack_filepath)\n"
   ]
  },
  {
   "cell_type": "markdown",
   "metadata": {},
   "source": [
    "##### _ clean _ data\n",
    " - Wrapper around the various \"cleaning\" methods that have-been/will-be implemented \n"
   ]
  },
  {
   "cell_type": "code",
   "execution_count": null,
   "metadata": {},
   "outputs": [],
   "source": []
  },
  {
   "cell_type": "markdown",
   "metadata": {},
   "source": [
    "##### _ mask _ stars"
   ]
  },
  {
   "cell_type": "code",
   "execution_count": 21,
   "metadata": {},
   "outputs": [],
   "source": [
    "importlib.reload(preparer)\n",
    "T = preparer.TESSImagePreparer()\n",
    "\n",
    "# Need to create header, image_data \n",
    "list_of_HDUs = T._load_test_images()\n",
    "header  = list_of_HDUs[0][1].header\n",
    "data    = list_of_HDUs[0][1].data\n",
    "\n",
    "# create a copy of the original *before* any masking \n",
    "import copy \n",
    "orig    = copy.deepcopy(data) "
   ]
  },
  {
   "cell_type": "code",
   "execution_count": 22,
   "metadata": {},
   "outputs": [
    {
     "name": "stdout",
     "output_type": "stream",
     "text": [
      "              **              WARNING: HARD-CODED MAG-LIMITS & SEARCH DIRECTORIES IN find_all_stars_on_image()              **              \n"
     ]
    }
   ],
   "source": [
    "importlib.reload(refcat)\n",
    "# run the script *find_all_stars_on_image()*\n",
    "# - This is *NOT* necessary for running / demonstrating the \"preparer\" functions\n",
    "# - I just want it for the purposes of visualization\n",
    "# -----------------------------------------\n",
    "ra, dec, pix, int_pix = refcat.RefCat().find_all_stars_on_image(header , orig )"
   ]
  },
  {
   "cell_type": "code",
   "execution_count": 23,
   "metadata": {},
   "outputs": [
    {
     "name": "stdout",
     "output_type": "stream",
     "text": [
      "in calc loop\n",
      "              **              WARNING: HARD-CODED MAG-LIMITS & SEARCH DIRECTORIES IN find_all_stars_on_image()              **              \n",
      " ** WARNING: just outputting a single central mask pixel at present ** \n"
     ]
    }
   ],
   "source": [
    "# run the mask_stars script that I am attempting to demonstrate ...\n",
    "kwargs = { 'dummy_key' : True , 'refcat_dict' : {} }\n",
    "T._mask_stars(header , data, **kwargs)"
   ]
  },
  {
   "cell_type": "code",
   "execution_count": 29,
   "metadata": {},
   "outputs": [
    {
     "name": "stdout",
     "output_type": "stream",
     "text": [
      "Pixel value of sources ... translated by -1, -1 inside *find_all_stars_on_image()* to match with positions in data-array from fits\n"
     ]
    },
    {
     "data": {
      "text/plain": [
       "(50, 85)"
      ]
     },
     "execution_count": 29,
     "metadata": {},
     "output_type": "execute_result"
    },
    {
     "data": {
      "image/png": "[encoded data removed]",
      "text/plain": [
       "<Figure size 1296x648 with 2 Axes>"
      ]
     },
     "metadata": {},
     "output_type": "display_data"
    }
   ],
   "source": [
    "# set up plot environment \n",
    "# -----------------------------------------\n",
    "from astropy.visualization import astropy_mpl_style\n",
    "plt.style.use(astropy_mpl_style)\n",
    "fig, (ax0,ax1) = plt.subplots(1, 2, figsize=(18,9))\n",
    "\n",
    "# plot the FFIs before & after masking\n",
    "# -----------------------------------------\n",
    "cb = ax0.imshow(orig,  vmin=85.00, vmax=150.)\n",
    "cb = ax1.imshow(data,  vmin=85.00, vmax=150.)\n",
    "\n",
    "# plot the sources from refcat\n",
    "# -----------------------------------------\n",
    "ax0.plot(pix[0], pix[1], 'x', color='gray', alpha=2. , ms=19.)\n",
    "ax1.plot(pix[0], pix[1], 'x', color='gray', alpha=2. , ms=19.)\n",
    "xmin, xmax, ymin, ymax = 50,85 , 50,85\n",
    "print('Pixel value of sources ... translated by -1, -1 inside *find_all_stars_on_image()* to match with positions in data-array from fits')\n",
    "for xp, yp in zip(pix[0], pix[1]):\n",
    "    if xp > xmin and xp < xmax and yp > ymin and yp < ymax:\n",
    "        pass #print(xp-1, yp-1)\n",
    "ax0.set_xlim([xmin, xmax])\n",
    "ax0.set_ylim([ymin, ymax])\n",
    "ax1.set_xlim([xmin, xmax])\n",
    "ax1.set_ylim([ymin, ymax])\n"
   ]
  },
  {
   "cell_type": "code",
   "execution_count": null,
   "metadata": {},
   "outputs": [],
   "source": []
  }
 ],
 "metadata": {
  "kernelspec": {
   "display_name": "Python [conda env:anaconda]",
   "language": "python",
   "name": "conda-env-anaconda-py"
  },
  "language_info": {
   "codemirror_mode": {
    "name": "ipython",
    "version": 3
   },
   "file_extension": ".py",
   "mimetype": "text/x-python",
   "name": "python",
   "nbconvert_exporter": "python",
   "pygments_lexer": "ipython3",
   "version": "3.5.5"
  }
 },
 "nbformat": 4,
 "nbformat_minor": 2
}
