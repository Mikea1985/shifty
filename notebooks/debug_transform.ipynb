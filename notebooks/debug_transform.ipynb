{
 "cells": [
  {
   "cell_type": "code",
   "execution_count": 1,
   "metadata": {},
   "outputs": [],
   "source": [
    "# -------------------------------------------------------------------------------------\n",
    "# Third party imports\n",
    "# -------------------------------------------------------------------------------------\n",
    "import numpy as np \n",
    "import matplotlib\n",
    "import matplotlib.pyplot as plt\n",
    "import os, sys\n",
    "import glob \n",
    "\n",
    "import astropy\n",
    "from astropy.io import fits\n",
    "from astropy.time import Time\n",
    "from astropy.units import allclose as quantity_allclose\n",
    "from astropy import units as u\n",
    "from astropy.coordinates import SkyCoord\n",
    "from astropy.coordinates.builtin_frames import FK5, ICRS, GCRS, GeocentricMeanEcliptic, BarycentricMeanEcliptic, HeliocentricMeanEcliptic, GeocentricTrueEcliptic, BarycentricTrueEcliptic, HeliocentricTrueEcliptic, HeliocentricEclipticIAU76\n",
    "from astropy.constants import R_sun, R_earth\n",
    "from astropy.nddata import CCDData\n",
    "\n",
    "from matplotlib.colors import LogNorm\n",
    "\n",
    "from ccdproc import Combiner\n",
    "from ccdproc import wcs_project\n",
    "\n",
    "import inspect\n",
    "import importlib\n",
    "import warnings\n",
    "warnings.filterwarnings('ignore')\n",
    "\n",
    "# Plot setup\n",
    "matplotlib.rc('font', size=22, family='normal', weight='bold')\n",
    "plt.rcParams['figure.figsize'] = [10, 4]"
   ]
  },
  {
   "cell_type": "code",
   "execution_count": 2,
   "metadata": {},
   "outputs": [],
   "source": [
    "'''\n",
    "Define an array of times, JD UTCs. \n",
    "These happen to be the same as the images we have, but for debugging, doesn't matter. \n",
    "'''\n",
    "times = np.array([2457627.86493123, 2457627.88069257, 2457627.90520602,\n",
    "                  2457627.92903088, 2457627.95309834, 2457627.97736067,\n",
    "                  2457628.00173241, 2457628.02665333, 2457628.05195827,\n",
    "                  2457628.07674963, 2457628.1009381 , 2457628.12582866])"
   ]
  },
  {
   "cell_type": "code",
   "execution_count": 3,
   "metadata": {},
   "outputs": [
    {
     "name": "stdout",
     "output_type": "stream",
     "text": [
      "[[  0.      0.   ]\n",
      " [ -0.792  -0.468]\n",
      " [ -2.016  -1.188]\n",
      " [ -3.204  -1.872]\n",
      " [ -4.428  -2.592]\n",
      " [ -5.652  -3.276]\n",
      " [ -6.876  -3.996]\n",
      " [ -8.136  -4.716]\n",
      " [ -9.432  -5.472]\n",
      " [-10.692  -6.192]\n",
      " [-11.916  -6.912]\n",
      " [-13.176  -7.632]]\n"
     ]
    }
   ],
   "source": [
    "'''\n",
    "Get the EXPECTED shifts from the JPL Horizons ephemerides.\n",
    "'''\n",
    "from astroquery.jplhorizons import Horizons\n",
    "horizons_query = Horizons(id='2015 RS281', location='568', epochs=times, id_type='smallbody')\n",
    "horizons_radec = horizons_query.ephemerides(extra_precision=False)\n",
    "# extra_precision=True would be better, but JPL recently broke astroquery.\n",
    "shift_expected_RA = (horizons_radec['RA'] - horizons_radec['RA'][0]) * 3600\n",
    "shift_expected_Dec = (horizons_radec['DEC'] - horizons_radec['DEC'][0]) * 3600\n",
    "shift_expected_asec = np.array([shift_expected_RA, shift_expected_Dec]).T\n",
    "shift_expected_pix = shift_expected_asec / 0.170\n",
    "# 0.170 is surprisingly accurate. Using wcs is neccessary for debugging.\n",
    "print(shift_expected_asec)"
   ]
  },
  {
   "cell_type": "code",
   "execution_count": 4,
   "metadata": {},
   "outputs": [],
   "source": [
    "'''\n",
    "Setting some initial conditions for transforming 2015 RS281.\n",
    "These were obtained using Bernstein's fit_radec and an obs80 file that includes \n",
    "a measurement of the first observation as the first line (making it reference time & direction).\n",
    "    K15RS1S  C2016 08 27.36490 00 41 35.095+06 39 14.91                     568\n",
    "Full obs file in shifty/dev_data/K15RS1S.obs\n",
    "'''\n",
    "radec0 = np.array([(0 + 41./60 + 35.0957/3600) * 15, (6 + 39./60 + 14.840/3600)])  # 0:41:35.0957, +6:39:14.840\n",
    "time0 = times[0]  # 2457627.86493123\n",
    "abg = np.array([0.00001448, -0.00001140, 0.02444520, # alpha, beta, gamma\n",
    "                0.02121046, -0.01700159, 0.00597912]) # a-dot, b-dot, g-dot"
   ]
  },
  {
   "cell_type": "code",
   "execution_count": 5,
   "metadata": {},
   "outputs": [],
   "source": [
    "def radec_to_proj_matrix(radec_ref=np.array([0., 0.])):\n",
    "    '''This routine returns the 3-D rotation matrix for the\n",
    "    given reference ra & dec.\n",
    "    # matrix is a rotation matrix that converts from ecliptic\n",
    "    # vectors to the projection coordinate system.\n",
    "    # The projection coordinate system has z outward,\n",
    "    # x parallel to increasing ecliptic longitude, and\n",
    "    # y northward, making a right-handed system\n",
    "    '''\n",
    "    coord_ref = SkyCoord(ra=radec_ref[0] * u.deg, dec=radec_ref[1] * u.deg,\n",
    "                         distance=50 * u.au)\n",
    "    # The distance assumed does not change the final result,\n",
    "    # but just in case, I'm assuming 50 au above.\n",
    "    x_ref, y_ref, z_ref = coord_ref.cartesian.xyz.value\n",
    "    r = np.sqrt(x_ref * x_ref + y_ref * y_ref + z_ref * z_ref)\n",
    "    lon0 = np.arctan2(y_ref, x_ref)\n",
    "    lat0 = np.arcsin(z_ref / r)\n",
    "    slon0 = np.sin(lon0)\n",
    "    clon0 = np.cos(lon0)\n",
    "    slat0 = np.sin(lat0)\n",
    "    clat0 = np.cos(lat0)\n",
    "\n",
    "    matrix = np.array([[-slon0, clon0, 0], \n",
    "                    [-clon0 * slat0, -slon0 * slat0, clat0],\n",
    "                    [clon0 * clat0, slon0 * clat0, slat0]])\n",
    "\n",
    "    return matrix"
   ]
  },
  {
   "cell_type": "code",
   "execution_count": 6,
   "metadata": {},
   "outputs": [
    {
     "name": "stdout",
     "output_type": "stream",
     "text": [
      "[[-0.18045446  0.98358334  0.        ]\n",
      " [-0.11397316 -0.02091024  0.99326375]\n",
      " [ 0.97695768  0.17923888  0.11587545]]\n"
     ]
    }
   ],
   "source": [
    "'''\n",
    "Calculate projection matrix (needed later)\n",
    "'''\n",
    "projection_matrix = radec_to_proj_matrix(radec0)\n",
    "print(projection_matrix)"
   ]
  },
  {
   "cell_type": "code",
   "execution_count": 7,
   "metadata": {},
   "outputs": [],
   "source": [
    "def get_heliocentic_equatorial_XYZ_from_JPL(times, obs_code='500',\n",
    "                                            verbose=False):\n",
    "    '''\n",
    "    Query horizons for the EQUATORIAL heliocentric\n",
    "    observatory position at a sequence of times.\n",
    "\n",
    "    input:\n",
    "    obs_code    - string\n",
    "                - Note that Horizons uses some weird ones sometimes,\n",
    "                  like \"500@-95\" for Tess.\n",
    "    times       - array of JD times (UTC)\n",
    "    '''\n",
    "    from astroquery.jplhorizons import Horizons\n",
    "    times_AP = Time(times, format='jd', scale='utc')\n",
    "    # convert times to tdb, the time system used by Horizons for vectors. \n",
    "    times_tdb = times_AP.tdb.value\n",
    "    horizons_query = Horizons(id='10', location=obs_code,\n",
    "                              epochs=times_tdb, id_type='id')\n",
    "    horizons_vector = horizons_query.vectors(refplane='earth')\n",
    "    helio_OBS_equ = 0 - np.array([horizons_vector['x'], horizons_vector['y'],\n",
    "                                  horizons_vector['z']]).T\n",
    "    if verbose:\n",
    "        print('No verbosity implemented yet, sorry')\n",
    "    return helio_OBS_equ"
   ]
  },
  {
   "cell_type": "code",
   "execution_count": 8,
   "metadata": {},
   "outputs": [],
   "source": [
    "'''\n",
    "Get the position of the observer position. \n",
    "'''\n",
    "# Observer's heliocentric equatorial location at all times.\n",
    "observer_helio_equator = get_heliocentic_equatorial_XYZ_from_JPL(times, '568')\n",
    "# Observer's heliocentric equatorial location at reference times.\n",
    "observer_helio_equator0 = get_heliocentic_equatorial_XYZ_from_JPL(time0, '568')\n",
    "# Observer's equatorial location relative to the location at the reference time\n",
    "observer_helio_equator_relative = observer_helio_equator - observer_helio_equator0\n",
    "# Observer's location in the projection coordinate space, relative to the reference time\n",
    "observer_projected = np.array([np.dot(projection_matrix, obspos) for obspos in observer_helio_equator_relative])"
   ]
  },
  {
   "cell_type": "code",
   "execution_count": 9,
   "metadata": {},
   "outputs": [],
   "source": [
    "def abg2theta(timesJD, timeJD0, abg, obscode, xyz_E):\n",
    "    '''\n",
    "    Converts input abg to a theta vector at time dtime from reference time.\n",
    "    inputs:\n",
    "    -------\n",
    "    abg    - array length 6 - array containing alpha, beta, gamma,\n",
    "                              alpha-dot, beta-dot, gamma-dot.\n",
    "    timesJD - float - times in Julian days\n",
    "    '''\n",
    "    # convert times to YEARS since reference time\n",
    "    dtime = (timesJD - timeJD0) / 365.\n",
    "    grav = [0, 0, 0]\n",
    "    x_E, y_E, z_E = xyz_E.T\n",
    "    num_x = abg[0] + abg[3] * dtime + abg[2] * grav[0] - abg[2] * x_E\n",
    "    num_y = abg[1] + abg[4] * dtime + abg[2] * grav[1] - abg[2] * y_E\n",
    "    denominator = 1 + abg[5] * dtime + abg[2] * grav[2] - abg[2] * z_E\n",
    "    theta_x = num_x / denominator                       # eq 6\n",
    "    theta_y = num_y / denominator                       # eq 6\n",
    "    #theta_x = abg[0] + abg[3] * dtime - abg[2] * x_E   # eq 16\n",
    "    #theta_y = abg[1] + abg[4] * dtime - abg[2] * y_E   # eq 16\n",
    "    return np.array([theta_x, theta_y]).T"
   ]
  },
  {
   "cell_type": "code",
   "execution_count": 10,
   "metadata": {},
   "outputs": [
    {
     "name": "stdout",
     "output_type": "stream",
     "text": [
      "[[  2.98671439  -2.35141879]\n",
      " [  2.16034244  -2.89690038]\n",
      " [  0.8715591   -3.74577128]\n",
      " [ -0.3847289   -4.5714214 ]\n",
      " [ -1.65698033  -5.4061562 ]\n",
      " [ -2.94214946  -6.24838171]\n",
      " [ -4.23508845  -7.09517728]\n",
      " [ -5.55846903  -7.96187493]\n",
      " [ -6.90279948  -8.84278453]\n",
      " [ -8.2196083   -9.70664524]\n",
      " [ -9.50344645 -10.55026941]\n",
      " [-10.82286817 -11.41914175]]\n",
      "[[  0.           0.        ]\n",
      " [ -0.82637195  -0.54548159]\n",
      " [ -2.11515529  -1.39435248]\n",
      " [ -3.37144329  -2.22000261]\n",
      " [ -4.64369472  -3.05473741]\n",
      " [ -5.92886385  -3.89696292]\n",
      " [ -7.22180284  -4.74375849]\n",
      " [ -8.54518342  -5.61045614]\n",
      " [ -9.88951388  -6.49136574]\n",
      " [-11.2063227   -7.35522645]\n",
      " [-12.49016085  -8.19885062]\n",
      " [-13.80958256  -9.06772296]]\n"
     ]
    }
   ],
   "source": [
    "'''\n",
    "Now get the theta values. \n",
    "'''\n",
    "# Theta from ABG values. These are in radians.\n",
    "thetas = abg2theta(times, time0, abg, '568', observer_projected)\n",
    "# Convert to arcseconds\n",
    "thetas_asec = np.degrees(thetas) * 3600  # radians to arc-sec\n",
    "# For some reason, the thetas aren't 0 at reference time, so subtract off the value at reference time. \n",
    "thetas_offset_asec = thetas_asec - thetas_asec[0]  # subtract off common base\n",
    "# Convert to pixels\n",
    "thetas_offset_pix = thetas_offset_asec / 0.170  # arcsec to pixel (accurate to <0.01\")\n",
    "print(thetas_asec)\n",
    "print(thetas_offset_asec)"
   ]
  },
  {
   "cell_type": "code",
   "execution_count": 11,
   "metadata": {},
   "outputs": [
    {
     "data": {
      "text/plain": [
       "<matplotlib.legend.Legend at 0x7fe8411b47d0>"
      ]
     },
     "execution_count": 11,
     "metadata": {},
     "output_type": "execute_result"
    },
    {
     "name": "stderr",
     "output_type": "stream",
     "text": [
      "findfont: Font family ['normal'] not found. Falling back to DejaVu Sans.\n"
     ]
    },
    {
     "data": {
      "image/png": "[encoded data removed]",
      "text/plain": [
       "<Figure size 720x288 with 1 Axes>"
      ]
     },
     "metadata": {
      "needs_background": "light"
     },
     "output_type": "display_data"
    }
   ],
   "source": [
    "plt.plot(*shift_expected_asec.T, '+', label='expected')\n",
    "plt.plot(*thetas_offset_asec.T, '+', label='from abg')\n",
    "plt.gca().set_aspect('equal')\n",
    "plt.legend()"
   ]
  },
  {
   "cell_type": "code",
   "execution_count": null,
   "metadata": {},
   "outputs": [],
   "source": []
  }
 ],
 "metadata": {
  "kernelspec": {
   "display_name": "Python 3",
   "language": "python",
   "name": "python3"
  },
  "language_info": {
   "codemirror_mode": {
    "name": "ipython",
    "version": 3
   },
   "file_extension": ".py",
   "mimetype": "text/x-python",
   "name": "python",
   "nbconvert_exporter": "python",
   "pygments_lexer": "ipython3",
   "version": "3.7.7"
  }
 },
 "nbformat": 4,
 "nbformat_minor": 4
}
