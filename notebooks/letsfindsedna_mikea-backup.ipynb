{
 "cells": [
  {
   "cell_type": "markdown",
   "metadata": {},
   "source": [
    "Import statements from Matt"
   ]
  },
  {
   "cell_type": "code",
   "execution_count": 2,
   "metadata": {},
   "outputs": [
    {
     "data": {
      "text/plain": [
       "<module 'downloader' from '/arc/home/mikea/Github/shifty/shifty/downloader.py'>"
      ]
     },
     "execution_count": 2,
     "metadata": {},
     "output_type": "execute_result"
    }
   ],
   "source": [
    "import astropy\n",
    "from astropy.io import fits\n",
    "import numpy as np \n",
    "import textwrap\n",
    "import matplotlib.pyplot as plt\n",
    "import os, sys \n",
    "import importlib\n",
    "import glob\n",
    "from tqdm import tqdm\n",
    "\n",
    "\n",
    "from astropy.time import Time\n",
    "from astropy.units import allclose as quantity_allclose\n",
    "from astropy import units as u\n",
    "from astropy.coordinates import SkyCoord\n",
    "from astropy.coordinates.builtin_frames import FK5, ICRS, GCRS, GeocentricMeanEcliptic, BarycentricMeanEcliptic, HeliocentricMeanEcliptic, GeocentricTrueEcliptic, BarycentricTrueEcliptic, HeliocentricTrueEcliptic, HeliocentricEclipticIAU76\n",
    "from astropy.constants import R_sun, R_earth\n",
    "from astropy.wcs import WCS\n",
    "\n",
    "import fitsio\n",
    "\n",
    "\n",
    "# -------------------------------------------------------------------------------------\n",
    "# Local imports\n",
    "# -------------------------------------------------------------------------------------\n",
    "sys.path.append(os.path.join(os.path.split(os.getcwd())[0], 'shifty'))\n",
    "import known\n",
    "import downloader\n",
    "\n",
    "importlib.reload(known)\n",
    "importlib.reload(downloader)\n"
   ]
  },
  {
   "cell_type": "code",
   "execution_count": 3,
   "metadata": {},
   "outputs": [
    {
     "data": {
      "text/plain": [
       "('5.1', ['/opt/conda/lib/python3.9/site-packages/astropy'])"
      ]
     },
     "execution_count": 3,
     "metadata": {},
     "output_type": "execute_result"
    }
   ],
   "source": [
    "import astropy \n",
    "astropy.__version__ , astropy.__path__"
   ]
  },
  {
   "cell_type": "code",
   "execution_count": 4,
   "metadata": {},
   "outputs": [],
   "source": [
    "# Some notes on which camera/ccd/etc we expect Sedna to be in \n",
    "# - These came from inputing 57.136 7.6549 into lightkurve's tess-cut/tess-search function \n",
    "camera = 1 \n",
    "ccd = 4\n",
    "col, row = 1550, 1101"
   ]
  },
  {
   "cell_type": "code",
   "execution_count": 5,
   "metadata": {},
   "outputs": [
    {
     "name": "stdout",
     "output_type": "stream",
     "text": [
      "2458436.5 57.136303009 7.65500855\n",
      "2458436.541666667 57.135914678 7.65489896\n",
      "\n"
     ]
    }
   ],
   "source": [
    "importlib.reload(known)\n",
    "K = known.Known()\n",
    "\n",
    "# These are the values from JPL at hourly intervals\n",
    "JD_, RA_, Dec_  = K._radec_for_sedna()\n",
    "for t,r,d in zip(JD_[:2], RA_[:2], Dec_[:2]):\n",
    "    print(t,r,d)\n",
    "print()\n",
    "\n",
    "# Plot the positions across the course of the November 2019 (Sector-5) period  \n",
    "RA_, Dec_ = K._interpolate_radec_for_sedna(JD_)\n",
    "#plt.plot(JD_, RA_ , '.')\n",
    "#plt.plot(JD_, Dec_ , '.')"
   ]
  },
  {
   "cell_type": "code",
   "execution_count": 6,
   "metadata": {},
   "outputs": [
    {
     "name": "stdout",
     "output_type": "stream",
     "text": [
      "1108 files\n"
     ]
    }
   ],
   "source": [
    "# Local imports\n",
    "sys.path.append(os.path.join(os.path.split(os.getcwd())[0], 'shifty'))\n",
    "import imagehandler\n",
    "importlib.reload(imagehandler)\n",
    "import glob\n",
    "filenames=sorted(glob.glob('/arc/home/mikea/.shifty_data/tess/5/1/4/tess20183??????*.fits'))[0::1]\n",
    "print(f\"{len(filenames)} files\")\n",
    "#print(' '.join(filenames))"
   ]
  },
  {
   "cell_type": "code",
   "execution_count": 7,
   "metadata": {},
   "outputs": [
    {
     "name": "stdout",
     "output_type": "stream",
     "text": [
      "Reading image 1: /arc/home/mikea/.shifty_data/tess/5/1/4/tess2018319232938-s0005-1-4-0125-s_ffic.fits\r"
     ]
    },
    {
     "name": "stderr",
     "output_type": "stream",
     "text": [
      "WARNING: VerifyWarning: Keyword name 'OLD_CRPIX1' is greater than 8 characters or contains characters not allowed by the FITS standard; a HIERARCH card will be created. [astropy.io.fits.card]\n",
      "WARNING: VerifyWarning: Keyword name 'OLD_CRPIX2' is greater than 8 characters or contains characters not allowed by the FITS standard; a HIERARCH card will be created. [astropy.io.fits.card]\n",
      "WARNING: VerifyWarning: Keyword name 'OLD_NAXIS1' is greater than 8 characters or contains characters not allowed by the FITS standard; a HIERARCH card will be created. [astropy.io.fits.card]\n",
      "WARNING: VerifyWarning: Keyword name 'OLD_NAXIS2' is greater than 8 characters or contains characters not allowed by the FITS standard; a HIERARCH card will be created. [astropy.io.fits.card]\n",
      "WARNING: VerifyWarning: Keyword name 'SHIFTY_EXPTIME' is greater than 8 characters or contains characters not allowed by the FITS standard; a HIERARCH card will be created. [astropy.io.fits.card]\n",
      "WARNING: VerifyWarning: Keyword name 'SHIFTY_MAGZERO' is greater than 8 characters or contains characters not allowed by the FITS standard; a HIERARCH card will be created. [astropy.io.fits.card]\n",
      "WARNING: VerifyWarning: Keyword name 'SHIFTY_MJD_START' is greater than 8 characters or contains characters not allowed by the FITS standard; a HIERARCH card will be created. [astropy.io.fits.card]\n",
      "WARNING: VerifyWarning: Keyword name 'SHIFTY_GAIN' is greater than 8 characters or contains characters not allowed by the FITS standard; a HIERARCH card will be created. [astropy.io.fits.card]\n",
      "WARNING: VerifyWarning: Keyword name 'SHIFTY_FILTER' is greater than 8 characters or contains characters not allowed by the FITS standard; a HIERARCH card will be created. [astropy.io.fits.card]\n",
      "WARNING: VerifyWarning: Keyword name 'SHIFTY_NAXIS1' is greater than 8 characters or contains characters not allowed by the FITS standard; a HIERARCH card will be created. [astropy.io.fits.card]\n",
      "WARNING: VerifyWarning: Keyword name 'SHIFTY_NAXIS2' is greater than 8 characters or contains characters not allowed by the FITS standard; a HIERARCH card will be created. [astropy.io.fits.card]\n",
      "WARNING: VerifyWarning: Keyword name 'SHIFTY_INSTRUMENT' is greater than 8 characters or contains characters not allowed by the FITS standard; a HIERARCH card will be created. [astropy.io.fits.card]\n",
      "WARNING: VerifyWarning: Keyword name 'SHIFTY_MJD_MID' is greater than 8 characters or contains characters not allowed by the FITS standard; a HIERARCH card will be created. [astropy.io.fits.card]\n",
      "WARNING: FITSFixedWarning: 'datfix' made the change 'Set MJD-OBS to 58437.963666 from DATE-OBS.\n",
      "Set MJD-END to 58437.984499 from DATE-END'. [astropy.wcs.wcs]\n"
     ]
    },
    {
     "name": "stdout",
     "output_type": "stream",
     "text": [
      "Reading image 3: /arc/home/mikea/.shifty_data/tess/5/1/4/tess2018320002938-s0005-1-4-0125-s_ffic.fits\r"
     ]
    },
    {
     "name": "stderr",
     "output_type": "stream",
     "text": [
      "WARNING: FITSFixedWarning: 'datfix' made the change 'Set MJD-OBS to 58437.984500 from DATE-OBS.\n",
      "Set MJD-END to 58438.005333 from DATE-END'. [astropy.wcs.wcs]\n",
      "WARNING: FITSFixedWarning: 'datfix' made the change 'Set MJD-OBS to 58438.005334 from DATE-OBS.\n",
      "Set MJD-END to 58438.026167 from DATE-END'. [astropy.wcs.wcs]\n"
     ]
    },
    {
     "name": "stdout",
     "output_type": "stream",
     "text": [
      "Reading image 5: /arc/home/mikea/.shifty_data/tess/5/1/4/tess2018320012938-s0005-1-4-0125-s_ffic.fits\r"
     ]
    },
    {
     "name": "stderr",
     "output_type": "stream",
     "text": [
      "WARNING: FITSFixedWarning: 'datfix' made the change 'Set MJD-OBS to 58438.026167 from DATE-OBS.\n",
      "Set MJD-END to 58438.047000 from DATE-END'. [astropy.wcs.wcs]\n",
      "WARNING: FITSFixedWarning: 'datfix' made the change 'Set MJD-OBS to 58438.047001 from DATE-OBS.\n",
      "Set MJD-END to 58438.067834 from DATE-END'. [astropy.wcs.wcs]\n"
     ]
    },
    {
     "name": "stdout",
     "output_type": "stream",
     "text": [
      "Reading image 7: /arc/home/mikea/.shifty_data/tess/5/1/4/tess2018320022938-s0005-1-4-0125-s_ffic.fits\r"
     ]
    },
    {
     "name": "stderr",
     "output_type": "stream",
     "text": [
      "WARNING: FITSFixedWarning: 'datfix' made the change 'Set MJD-OBS to 58438.067834 from DATE-OBS.\n",
      "Set MJD-END to 58438.088668 from DATE-END'. [astropy.wcs.wcs]\n",
      "WARNING: FITSFixedWarning: 'datfix' made the change 'Set MJD-OBS to 58438.088668 from DATE-OBS.\n",
      "Set MJD-END to 58438.109501 from DATE-END'. [astropy.wcs.wcs]\n"
     ]
    },
    {
     "name": "stdout",
     "output_type": "stream",
     "text": [
      "Reading image 10: /arc/home/mikea/.shifty_data/tess/5/1/4/tess2018320035938-s0005-1-4-0125-s_ffic.fits\r"
     ]
    },
    {
     "name": "stderr",
     "output_type": "stream",
     "text": [
      "WARNING: FITSFixedWarning: 'datfix' made the change 'Set MJD-OBS to 58438.109502 from DATE-OBS.\n",
      "Set MJD-END to 58438.130335 from DATE-END'. [astropy.wcs.wcs]\n",
      "WARNING: FITSFixedWarning: 'datfix' made the change 'Set MJD-OBS to 58438.130335 from DATE-OBS.\n",
      "Set MJD-END to 58438.151168 from DATE-END'. [astropy.wcs.wcs]\n",
      "WARNING: FITSFixedWarning: 'datfix' made the change 'Set MJD-OBS to 58438.151169 from DATE-OBS.\n",
      "Set MJD-END to 58438.172002 from DATE-END'. [astropy.wcs.wcs]\n"
     ]
    },
    {
     "name": "stdout",
     "output_type": "stream",
     "text": [
      "Reading image 12: /arc/home/mikea/.shifty_data/tess/5/1/4/tess2018320045938-s0005-1-4-0125-s_ffic.fits\r"
     ]
    },
    {
     "name": "stderr",
     "output_type": "stream",
     "text": [
      "WARNING: FITSFixedWarning: 'datfix' made the change 'Set MJD-OBS to 58438.172003 from DATE-OBS.\n",
      "Set MJD-END to 58438.192836 from DATE-END'. [astropy.wcs.wcs]\n",
      "WARNING: FITSFixedWarning: 'datfix' made the change 'Set MJD-OBS to 58438.192836 from DATE-OBS.\n",
      "Set MJD-END to 58438.213669 from DATE-END'. [astropy.wcs.wcs]\n"
     ]
    },
    {
     "name": "stdout",
     "output_type": "stream",
     "text": [
      "Reading image 14: /arc/home/mikea/.shifty_data/tess/5/1/4/tess2018320055938-s0005-1-4-0125-s_ffic.fits\r"
     ]
    },
    {
     "name": "stderr",
     "output_type": "stream",
     "text": [
      "WARNING: FITSFixedWarning: 'datfix' made the change 'Set MJD-OBS to 58438.213670 from DATE-OBS.\n",
      "Set MJD-END to 58438.234503 from DATE-END'. [astropy.wcs.wcs]\n",
      "WARNING: FITSFixedWarning: 'datfix' made the change 'Set MJD-OBS to 58438.234503 from DATE-OBS.\n",
      "Set MJD-END to 58438.255337 from DATE-END'. [astropy.wcs.wcs]\n"
     ]
    },
    {
     "name": "stdout",
     "output_type": "stream",
     "text": [
      "Reading image 17: /arc/home/mikea/.shifty_data/tess/5/1/4/tess2018320072938-s0005-1-4-0125-s_ffic.fits\r"
     ]
    },
    {
     "name": "stderr",
     "output_type": "stream",
     "text": [
      "WARNING: FITSFixedWarning: 'datfix' made the change 'Set MJD-OBS to 58438.255337 from DATE-OBS.\n",
      "Set MJD-END to 58438.276170 from DATE-END'. [astropy.wcs.wcs]\n",
      "WARNING: FITSFixedWarning: 'datfix' made the change 'Set MJD-OBS to 58438.276171 from DATE-OBS.\n",
      "Set MJD-END to 58438.297004 from DATE-END'. [astropy.wcs.wcs]\n",
      "WARNING: FITSFixedWarning: 'datfix' made the change 'Set MJD-OBS to 58438.297004 from DATE-OBS.\n",
      "Set MJD-END to 58438.317837 from DATE-END'. [astropy.wcs.wcs]\n"
     ]
    },
    {
     "name": "stdout",
     "output_type": "stream",
     "text": [
      "Reading image 19: /arc/home/mikea/.shifty_data/tess/5/1/4/tess2018320082938-s0005-1-4-0125-s_ffic.fits\r"
     ]
    },
    {
     "name": "stderr",
     "output_type": "stream",
     "text": [
      "WARNING: FITSFixedWarning: 'datfix' made the change 'Set MJD-OBS to 58438.317838 from DATE-OBS.\n",
      "Set MJD-END to 58438.338671 from DATE-END'. [astropy.wcs.wcs]\n",
      "WARNING: FITSFixedWarning: 'datfix' made the change 'Set MJD-OBS to 58438.338672 from DATE-OBS.\n",
      "Set MJD-END to 58438.359505 from DATE-END'. [astropy.wcs.wcs]\n"
     ]
    },
    {
     "name": "stdout",
     "output_type": "stream",
     "text": [
      "Reading image 21: /arc/home/mikea/.shifty_data/tess/5/1/4/tess2018320092938-s0005-1-4-0125-s_ffic.fits\r"
     ]
    },
    {
     "name": "stderr",
     "output_type": "stream",
     "text": [
      "WARNING: FITSFixedWarning: 'datfix' made the change 'Set MJD-OBS to 58438.359505 from DATE-OBS.\n",
      "Set MJD-END to 58438.380338 from DATE-END'. [astropy.wcs.wcs]\n",
      "WARNING: FITSFixedWarning: 'datfix' made the change 'Set MJD-OBS to 58438.380339 from DATE-OBS.\n",
      "Set MJD-END to 58438.401172 from DATE-END'. [astropy.wcs.wcs]\n"
     ]
    },
    {
     "name": "stdout",
     "output_type": "stream",
     "text": [
      "Reading image 22: /arc/home/mikea/.shifty_data/tess/5/1/4/tess2018320095938-s0005-1-4-0125-s_ffic.fits\r"
     ]
    },
    {
     "name": "stderr",
     "output_type": "stream",
     "text": [
      "WARNING: FITSFixedWarning: 'datfix' made the change 'Set MJD-OBS to 58438.401172 from DATE-OBS.\n",
      "Set MJD-END to 58438.422005 from DATE-END'. [astropy.wcs.wcs]\n",
      "WARNING: FITSFixedWarning: 'datfix' made the change 'Set MJD-OBS to 58438.422006 from DATE-OBS.\n",
      "Set MJD-END to 58438.442839 from DATE-END'. [astropy.wcs.wcs]\n"
     ]
    },
    {
     "name": "stdout",
     "output_type": "stream",
     "text": [
      "Reading image 25: /arc/home/mikea/.shifty_data/tess/5/1/4/tess2018320112938-s0005-1-4-0125-s_ffic.fits\r"
     ]
    },
    {
     "name": "stderr",
     "output_type": "stream",
     "text": [
      "WARNING: FITSFixedWarning: 'datfix' made the change 'Set MJD-OBS to 58438.442840 from DATE-OBS.\n",
      "Set MJD-END to 58438.463673 from DATE-END'. [astropy.wcs.wcs]\n",
      "WARNING: FITSFixedWarning: 'datfix' made the change 'Set MJD-OBS to 58438.463673 from DATE-OBS.\n",
      "Set MJD-END to 58438.484506 from DATE-END'. [astropy.wcs.wcs]\n",
      "WARNING: FITSFixedWarning: 'datfix' made the change 'Set MJD-OBS to 58438.484507 from DATE-OBS.\n",
      "Set MJD-END to 58438.505340 from DATE-END'. [astropy.wcs.wcs]\n"
     ]
    },
    {
     "name": "stdout",
     "output_type": "stream",
     "text": [
      "Reading image 27: /arc/home/mikea/.shifty_data/tess/5/1/4/tess2018320122938-s0005-1-4-0125-s_ffic.fits\r"
     ]
    },
    {
     "name": "stderr",
     "output_type": "stream",
     "text": [
      "WARNING: FITSFixedWarning: 'datfix' made the change 'Set MJD-OBS to 58438.505340 from DATE-OBS.\n",
      "Set MJD-END to 58438.526173 from DATE-END'. [astropy.wcs.wcs]\n",
      "WARNING: FITSFixedWarning: 'datfix' made the change 'Set MJD-OBS to 58438.526174 from DATE-OBS.\n",
      "Set MJD-END to 58438.547007 from DATE-END'. [astropy.wcs.wcs]\n"
     ]
    },
    {
     "name": "stdout",
     "output_type": "stream",
     "text": [
      "Reading image 29: /arc/home/mikea/.shifty_data/tess/5/1/4/tess2018320132938-s0005-1-4-0125-s_ffic.fits\r"
     ]
    },
    {
     "name": "stderr",
     "output_type": "stream",
     "text": [
      "WARNING: FITSFixedWarning: 'datfix' made the change 'Set MJD-OBS to 58438.547007 from DATE-OBS.\n",
      "Set MJD-END to 58438.567841 from DATE-END'. [astropy.wcs.wcs]\n",
      "WARNING: FITSFixedWarning: 'datfix' made the change 'Set MJD-OBS to 58438.567841 from DATE-OBS.\n",
      "Set MJD-END to 58438.588674 from DATE-END'. [astropy.wcs.wcs]\n",
      "WARNING: FITSFixedWarning: 'datfix' made the change 'Set MJD-OBS to 58438.588675 from DATE-OBS.\n",
      "Set MJD-END to 58438.609508 from DATE-END'. [astropy.wcs.wcs]\n"
     ]
    },
    {
     "name": "stdout",
     "output_type": "stream",
     "text": [
      "Reading image 31: /arc/home/mikea/.shifty_data/tess/5/1/4/tess2018320142938-s0005-1-4-0125-s_ffic.fits\r"
     ]
    },
    {
     "name": "stderr",
     "output_type": "stream",
     "text": [
      "WARNING: FITSFixedWarning: 'datfix' made the change 'Set MJD-OBS to 58438.609508 from DATE-OBS.\n",
      "Set MJD-END to 58438.630341 from DATE-END'. [astropy.wcs.wcs]\n",
      "WARNING: FITSFixedWarning: 'datfix' made the change 'Set MJD-OBS to 58438.630342 from DATE-OBS.\n",
      "Set MJD-END to 58438.651175 from DATE-END'. [astropy.wcs.wcs]\n",
      "WARNING: FITSFixedWarning: 'datfix' made the change 'Set MJD-OBS to 58438.651175 from DATE-OBS.\n",
      "Set MJD-END to 58438.672009 from DATE-END'. [astropy.wcs.wcs]\n"
     ]
    },
    {
     "name": "stdout",
     "output_type": "stream",
     "text": [
      "Reading image 36: /arc/home/mikea/.shifty_data/tess/5/1/4/tess2018320165938-s0005-1-4-0125-s_ffic.fits\r"
     ]
    },
    {
     "name": "stderr",
     "output_type": "stream",
     "text": [
      "WARNING: FITSFixedWarning: 'datfix' made the change 'Set MJD-OBS to 58438.672009 from DATE-OBS.\n",
      "Set MJD-END to 58438.692842 from DATE-END'. [astropy.wcs.wcs]\n",
      "WARNING: FITSFixedWarning: 'datfix' made the change 'Set MJD-OBS to 58438.692843 from DATE-OBS.\n",
      "Set MJD-END to 58438.713676 from DATE-END'. [astropy.wcs.wcs]\n"
     ]
    },
    {
     "name": "stdout",
     "output_type": "stream",
     "text": [
      "Reading image 38: /arc/home/mikea/.shifty_data/tess/5/1/4/tess2018320175938-s0005-1-4-0125-s_ffic.fits\r"
     ]
    },
    {
     "name": "stderr",
     "output_type": "stream",
     "text": [
      "WARNING: FITSFixedWarning: 'datfix' made the change 'Set MJD-OBS to 58438.713676 from DATE-OBS.\n",
      "Set MJD-END to 58438.734509 from DATE-END'. [astropy.wcs.wcs]\n",
      "WARNING: FITSFixedWarning: 'datfix' made the change 'Set MJD-OBS to 58438.734510 from DATE-OBS.\n",
      "Set MJD-END to 58438.755343 from DATE-END'. [astropy.wcs.wcs]\n",
      "WARNING: FITSFixedWarning: 'datfix' made the change 'Set MJD-OBS to 58438.755343 from DATE-OBS.\n",
      "Set MJD-END to 58438.776176 from DATE-END'. [astropy.wcs.wcs]\n",
      "WARNING: FITSFixedWarning: 'datfix' made the change 'Set MJD-OBS to 58438.776177 from DATE-OBS.\n",
      "Set MJD-END to 58438.797010 from DATE-END'. [astropy.wcs.wcs]\n"
     ]
    },
    {
     "name": "stdout",
     "output_type": "stream",
     "text": [
      "Reading image 42: /arc/home/mikea/.shifty_data/tess/5/1/4/tess2018320195938-s0005-1-4-0125-s_ffic.fits\r"
     ]
    },
    {
     "name": "stderr",
     "output_type": "stream",
     "text": [
      "WARNING: FITSFixedWarning: 'datfix' made the change 'Set MJD-OBS to 58438.797010 from DATE-OBS.\n",
      "Set MJD-END to 58438.817844 from DATE-END'. [astropy.wcs.wcs]\n",
      "WARNING: FITSFixedWarning: 'datfix' made the change 'Set MJD-OBS to 58438.817844 from DATE-OBS.\n",
      "Set MJD-END to 58438.838677 from DATE-END'. [astropy.wcs.wcs]\n",
      "WARNING: FITSFixedWarning: 'datfix' made the change 'Set MJD-OBS to 58438.838678 from DATE-OBS.\n",
      "Set MJD-END to 58438.859511 from DATE-END'. [astropy.wcs.wcs]\n"
     ]
    },
    {
     "name": "stdout",
     "output_type": "stream",
     "text": [
      "Reading image 44: /arc/home/mikea/.shifty_data/tess/5/1/4/tess2018320205938-s0005-1-4-0125-s_ffic.fits\r"
     ]
    },
    {
     "name": "stderr",
     "output_type": "stream",
     "text": [
      "WARNING: FITSFixedWarning: 'datfix' made the change 'Set MJD-OBS to 58438.859511 from DATE-OBS.\n",
      "Set MJD-END to 58438.880344 from DATE-END'. [astropy.wcs.wcs]\n",
      "WARNING: FITSFixedWarning: 'datfix' made the change 'Set MJD-OBS to 58438.880345 from DATE-OBS.\n",
      "Set MJD-END to 58438.901178 from DATE-END'. [astropy.wcs.wcs]\n"
     ]
    },
    {
     "name": "stdout",
     "output_type": "stream",
     "text": [
      "Reading image 46: /arc/home/mikea/.shifty_data/tess/5/1/4/tess2018320215938-s0005-1-4-0125-s_ffic.fits\r"
     ]
    },
    {
     "name": "stderr",
     "output_type": "stream",
     "text": [
      "WARNING: FITSFixedWarning: 'datfix' made the change 'Set MJD-OBS to 58438.901178 from DATE-OBS.\n",
      "Set MJD-END to 58438.922011 from DATE-END'. [astropy.wcs.wcs]\n",
      "WARNING: FITSFixedWarning: 'datfix' made the change 'Set MJD-OBS to 58438.922012 from DATE-OBS.\n",
      "Set MJD-END to 58438.942845 from DATE-END'. [astropy.wcs.wcs]\n",
      "WARNING: FITSFixedWarning: 'datfix' made the change 'Set MJD-OBS to 58438.942845 from DATE-OBS.\n",
      "Set MJD-END to 58438.963679 from DATE-END'. [astropy.wcs.wcs]\n"
     ]
    },
    {
     "name": "stdout",
     "output_type": "stream",
     "text": [
      "Reading image 49: /arc/home/mikea/.shifty_data/tess/5/1/4/tess2018320232938-s0005-1-4-0125-s_ffic.fits\r"
     ]
    },
    {
     "name": "stderr",
     "output_type": "stream",
     "text": [
      "WARNING: FITSFixedWarning: 'datfix' made the change 'Set MJD-OBS to 58438.963679 from DATE-OBS.\n",
      "Set MJD-END to 58438.984512 from DATE-END'. [astropy.wcs.wcs]\n",
      "WARNING: FITSFixedWarning: 'datfix' made the change 'Set MJD-OBS to 58438.984513 from DATE-OBS.\n",
      "Set MJD-END to 58439.005346 from DATE-END'. [astropy.wcs.wcs]\n",
      "WARNING: FITSFixedWarning: 'datfix' made the change 'Set MJD-OBS to 58439.005346 from DATE-OBS.\n",
      "Set MJD-END to 58439.026179 from DATE-END'. [astropy.wcs.wcs]\n"
     ]
    },
    {
     "name": "stdout",
     "output_type": "stream",
     "text": [
      "Reading image 53: /arc/home/mikea/.shifty_data/tess/5/1/4/tess2018321012938-s0005-1-4-0125-s_ffic.fits\r"
     ]
    },
    {
     "name": "stderr",
     "output_type": "stream",
     "text": [
      "WARNING: FITSFixedWarning: 'datfix' made the change 'Set MJD-OBS to 58439.026180 from DATE-OBS.\n",
      "Set MJD-END to 58439.047013 from DATE-END'. [astropy.wcs.wcs]\n",
      "WARNING: FITSFixedWarning: 'datfix' made the change 'Set MJD-OBS to 58439.047013 from DATE-OBS.\n",
      "Set MJD-END to 58439.067846 from DATE-END'. [astropy.wcs.wcs]\n"
     ]
    },
    {
     "name": "stdout",
     "output_type": "stream",
     "text": [
      "Reading image 55: /arc/home/mikea/.shifty_data/tess/5/1/4/tess2018321022938-s0005-1-4-0125-s_ffic.fits\r"
     ]
    },
    {
     "name": "stderr",
     "output_type": "stream",
     "text": [
      "WARNING: FITSFixedWarning: 'datfix' made the change 'Set MJD-OBS to 58439.067847 from DATE-OBS.\n",
      "Set MJD-END to 58439.088680 from DATE-END'. [astropy.wcs.wcs]\n",
      "WARNING: FITSFixedWarning: 'datfix' made the change 'Set MJD-OBS to 58439.088680 from DATE-OBS.\n",
      "Set MJD-END to 58439.109513 from DATE-END'. [astropy.wcs.wcs]\n"
     ]
    },
    {
     "name": "stdout",
     "output_type": "stream",
     "text": [
      "Reading image 58: /arc/home/mikea/.shifty_data/tess/5/1/4/tess2018321035938-s0005-1-4-0125-s_ffic.fits\r"
     ]
    },
    {
     "name": "stderr",
     "output_type": "stream",
     "text": [
      "WARNING: FITSFixedWarning: 'datfix' made the change 'Set MJD-OBS to 58439.109514 from DATE-OBS.\n",
      "Set MJD-END to 58439.130347 from DATE-END'. [astropy.wcs.wcs]\n",
      "WARNING: FITSFixedWarning: 'datfix' made the change 'Set MJD-OBS to 58439.130347 from DATE-OBS.\n",
      "Set MJD-END to 58439.151180 from DATE-END'. [astropy.wcs.wcs]\n",
      "WARNING: FITSFixedWarning: 'datfix' made the change 'Set MJD-OBS to 58439.151181 from DATE-OBS.\n",
      "Set MJD-END to 58439.172014 from DATE-END'. [astropy.wcs.wcs]\n"
     ]
    },
    {
     "name": "stdout",
     "output_type": "stream",
     "text": [
      "Reading image 61: /arc/home/mikea/.shifty_data/tess/5/1/4/tess2018321052938-s0005-1-4-0125-s_ffic.fits\r"
     ]
    },
    {
     "name": "stderr",
     "output_type": "stream",
     "text": [
      "WARNING: FITSFixedWarning: 'datfix' made the change 'Set MJD-OBS to 58439.172014 from DATE-OBS.\n",
      "Set MJD-END to 58439.192848 from DATE-END'. [astropy.wcs.wcs]\n",
      "WARNING: FITSFixedWarning: 'datfix' made the change 'Set MJD-OBS to 58439.192848 from DATE-OBS.\n",
      "Set MJD-END to 58439.213681 from DATE-END'. [astropy.wcs.wcs]\n",
      "WARNING: FITSFixedWarning: 'datfix' made the change 'Set MJD-OBS to 58439.213682 from DATE-OBS.\n",
      "Set MJD-END to 58439.234515 from DATE-END'. [astropy.wcs.wcs]\n"
     ]
    },
    {
     "name": "stdout",
     "output_type": "stream",
     "text": [
      "Reading image 63: /arc/home/mikea/.shifty_data/tess/5/1/4/tess2018321062938-s0005-1-4-0125-s_ffic.fits\r"
     ]
    },
    {
     "name": "stderr",
     "output_type": "stream",
     "text": [
      "WARNING: FITSFixedWarning: 'datfix' made the change 'Set MJD-OBS to 58439.234515 from DATE-OBS.\n",
      "Set MJD-END to 58439.255348 from DATE-END'. [astropy.wcs.wcs]\n",
      "WARNING: FITSFixedWarning: 'datfix' made the change 'Set MJD-OBS to 58439.255349 from DATE-OBS.\n",
      "Set MJD-END to 58439.276182 from DATE-END'. [astropy.wcs.wcs]\n"
     ]
    },
    {
     "name": "stdout",
     "output_type": "stream",
     "text": [
      "Reading image 66: /arc/home/mikea/.shifty_data/tess/5/1/4/tess2018321075938-s0005-1-4-0125-s_ffic.fits\r"
     ]
    },
    {
     "name": "stderr",
     "output_type": "stream",
     "text": [
      "WARNING: FITSFixedWarning: 'datfix' made the change 'Set MJD-OBS to 58439.276182 from DATE-OBS.\n",
      "Set MJD-END to 58439.297015 from DATE-END'. [astropy.wcs.wcs]\n",
      "WARNING: FITSFixedWarning: 'datfix' made the change 'Set MJD-OBS to 58439.297016 from DATE-OBS.\n",
      "Set MJD-END to 58439.317849 from DATE-END'. [astropy.wcs.wcs]\n",
      "WARNING: FITSFixedWarning: 'datfix' made the change 'Set MJD-OBS to 58439.317849 from DATE-OBS.\n",
      "Set MJD-END to 58439.338682 from DATE-END'. [astropy.wcs.wcs]\n"
     ]
    },
    {
     "name": "stdout",
     "output_type": "stream",
     "text": [
      "Reading image 67: /arc/home/mikea/.shifty_data/tess/5/1/4/tess2018321082938-s0005-1-4-0125-s_ffic.fits\r"
     ]
    },
    {
     "name": "stderr",
     "output_type": "stream",
     "text": [
      "WARNING: FITSFixedWarning: 'datfix' made the change 'Set MJD-OBS to 58439.338683 from DATE-OBS.\n",
      "Set MJD-END to 58439.359516 from DATE-END'. [astropy.wcs.wcs]\n",
      "WARNING: FITSFixedWarning: 'datfix' made the change 'Set MJD-OBS to 58439.359516 from DATE-OBS.\n",
      "Set MJD-END to 58439.380349 from DATE-END'. [astropy.wcs.wcs]\n"
     ]
    },
    {
     "name": "stdout",
     "output_type": "stream",
     "text": [
      "Reading image 70: /arc/home/mikea/.shifty_data/tess/5/1/4/tess2018321095938-s0005-1-4-0125-s_ffic.fits\r"
     ]
    },
    {
     "name": "stderr",
     "output_type": "stream",
     "text": [
      "WARNING: FITSFixedWarning: 'datfix' made the change 'Set MJD-OBS to 58439.380350 from DATE-OBS.\n",
      "Set MJD-END to 58439.401183 from DATE-END'. [astropy.wcs.wcs]\n",
      "WARNING: FITSFixedWarning: 'datfix' made the change 'Set MJD-OBS to 58439.401183 from DATE-OBS.\n",
      "Set MJD-END to 58439.422016 from DATE-END'. [astropy.wcs.wcs]\n",
      "WARNING: FITSFixedWarning: 'datfix' made the change 'Set MJD-OBS to 58439.422017 from DATE-OBS.\n",
      "Set MJD-END to 58439.442850 from DATE-END'. [astropy.wcs.wcs]\n"
     ]
    },
    {
     "name": "stdout",
     "output_type": "stream",
     "text": [
      "Reading image 72: /arc/home/mikea/.shifty_data/tess/5/1/4/tess2018321105938-s0005-1-4-0125-s_ffic.fits\r"
     ]
    },
    {
     "name": "stderr",
     "output_type": "stream",
     "text": [
      "WARNING: FITSFixedWarning: 'datfix' made the change 'Set MJD-OBS to 58439.442850 from DATE-OBS.\n",
      "Set MJD-END to 58439.463683 from DATE-END'. [astropy.wcs.wcs]\n",
      "WARNING: FITSFixedWarning: 'datfix' made the change 'Set MJD-OBS to 58439.463684 from DATE-OBS.\n",
      "Set MJD-END to 58439.484517 from DATE-END'. [astropy.wcs.wcs]\n",
      "WARNING: FITSFixedWarning: 'datfix' made the change 'Set MJD-OBS to 58439.484517 from DATE-OBS.\n",
      "Set MJD-END to 58439.505350 from DATE-END'. [astropy.wcs.wcs]\n"
     ]
    },
    {
     "name": "stdout",
     "output_type": "stream",
     "text": [
      "Reading image 76: /arc/home/mikea/.shifty_data/tess/5/1/4/tess2018321125938-s0005-1-4-0125-s_ffic.fits\r"
     ]
    },
    {
     "name": "stderr",
     "output_type": "stream",
     "text": [
      "WARNING: FITSFixedWarning: 'datfix' made the change 'Set MJD-OBS to 58439.505351 from DATE-OBS.\n",
      "Set MJD-END to 58439.526184 from DATE-END'. [astropy.wcs.wcs]\n",
      "WARNING: FITSFixedWarning: 'datfix' made the change 'Set MJD-OBS to 58439.526184 from DATE-OBS.\n",
      "Set MJD-END to 58439.547018 from DATE-END'. [astropy.wcs.wcs]\n"
     ]
    },
    {
     "name": "stdout",
     "output_type": "stream",
     "text": [
      "Reading image 79: /arc/home/mikea/.shifty_data/tess/5/1/4/tess2018321142938-s0005-1-4-0125-s_ffic.fits\r"
     ]
    },
    {
     "name": "stderr",
     "output_type": "stream",
     "text": [
      "WARNING: FITSFixedWarning: 'datfix' made the change 'Set MJD-OBS to 58439.547018 from DATE-OBS.\n",
      "Set MJD-END to 58439.567851 from DATE-END'. [astropy.wcs.wcs]\n",
      "WARNING: FITSFixedWarning: 'datfix' made the change 'Set MJD-OBS to 58439.567851 from DATE-OBS.\n",
      "Set MJD-END to 58439.588685 from DATE-END'. [astropy.wcs.wcs]\n",
      "WARNING: FITSFixedWarning: 'datfix' made the change 'Set MJD-OBS to 58439.588685 from DATE-OBS.\n",
      "Set MJD-END to 58439.609518 from DATE-END'. [astropy.wcs.wcs]\n"
     ]
    },
    {
     "name": "stdout",
     "output_type": "stream",
     "text": [
      "Reading image 80: /arc/home/mikea/.shifty_data/tess/5/1/4/tess2018321145938-s0005-1-4-0125-s_ffic.fits\r"
     ]
    },
    {
     "name": "stderr",
     "output_type": "stream",
     "text": [
      "WARNING: FITSFixedWarning: 'datfix' made the change 'Set MJD-OBS to 58439.609518 from DATE-OBS.\n",
      "Set MJD-END to 58439.630352 from DATE-END'. [astropy.wcs.wcs]\n",
      "WARNING: FITSFixedWarning: 'datfix' made the change 'Set MJD-OBS to 58439.630352 from DATE-OBS.\n",
      "Set MJD-END to 58439.651185 from DATE-END'. [astropy.wcs.wcs]\n"
     ]
    },
    {
     "name": "stdout",
     "output_type": "stream",
     "text": [
      "Reading image 83: /arc/home/mikea/.shifty_data/tess/5/1/4/tess2018321162938-s0005-1-4-0125-s_ffic.fits\r"
     ]
    },
    {
     "name": "stderr",
     "output_type": "stream",
     "text": [
      "WARNING: FITSFixedWarning: 'datfix' made the change 'Set MJD-OBS to 58439.651185 from DATE-OBS.\n",
      "Set MJD-END to 58439.672019 from DATE-END'. [astropy.wcs.wcs]\n",
      "WARNING: FITSFixedWarning: 'datfix' made the change 'Set MJD-OBS to 58439.672019 from DATE-OBS.\n",
      "Set MJD-END to 58439.692852 from DATE-END'. [astropy.wcs.wcs]\n",
      "WARNING: FITSFixedWarning: 'datfix' made the change 'Set MJD-OBS to 58439.692852 from DATE-OBS.\n",
      "Set MJD-END to 58439.713686 from DATE-END'. [astropy.wcs.wcs]\n"
     ]
    },
    {
     "name": "stdout",
     "output_type": "stream",
     "text": [
      "Reading image 87: /arc/home/mikea/.shifty_data/tess/5/1/4/tess2018321182938-s0005-1-4-0125-s_ffic.fits\r"
     ]
    },
    {
     "name": "stderr",
     "output_type": "stream",
     "text": [
      "WARNING: FITSFixedWarning: 'datfix' made the change 'Set MJD-OBS to 58439.713686 from DATE-OBS.\n",
      "Set MJD-END to 58439.734519 from DATE-END'. [astropy.wcs.wcs]\n",
      "WARNING: FITSFixedWarning: 'datfix' made the change 'Set MJD-OBS to 58439.734520 from DATE-OBS.\n",
      "Set MJD-END to 58439.755353 from DATE-END'. [astropy.wcs.wcs]\n",
      "WARNING: FITSFixedWarning: 'datfix' made the change 'Set MJD-OBS to 58439.755353 from DATE-OBS.\n",
      "Set MJD-END to 58439.776186 from DATE-END'. [astropy.wcs.wcs]\n"
     ]
    },
    {
     "name": "stdout",
     "output_type": "stream",
     "text": [
      "Reading image 90: /arc/home/mikea/.shifty_data/tess/5/1/4/tess2018321195938-s0005-1-4-0125-s_ffic.fits\r"
     ]
    },
    {
     "name": "stderr",
     "output_type": "stream",
     "text": [
      "WARNING: FITSFixedWarning: 'datfix' made the change 'Set MJD-OBS to 58439.776187 from DATE-OBS.\n",
      "Set MJD-END to 58439.797020 from DATE-END'. [astropy.wcs.wcs]\n",
      "WARNING: FITSFixedWarning: 'datfix' made the change 'Set MJD-OBS to 58439.797020 from DATE-OBS.\n",
      "Set MJD-END to 58439.817853 from DATE-END'. [astropy.wcs.wcs]\n",
      "WARNING: FITSFixedWarning: 'datfix' made the change 'Set MJD-OBS to 58439.817853 from DATE-OBS.\n",
      "Set MJD-END to 58439.838687 from DATE-END'. [astropy.wcs.wcs]\n"
     ]
    },
    {
     "name": "stdout",
     "output_type": "stream",
     "text": [
      "Reading image 93: /arc/home/mikea/.shifty_data/tess/5/1/4/tess2018321212938-s0005-1-4-0125-s_ffic.fits\r"
     ]
    },
    {
     "name": "stderr",
     "output_type": "stream",
     "text": [
      "WARNING: FITSFixedWarning: 'datfix' made the change 'Set MJD-OBS to 58439.838687 from DATE-OBS.\n",
      "Set MJD-END to 58439.859520 from DATE-END'. [astropy.wcs.wcs]\n",
      "WARNING: FITSFixedWarning: 'datfix' made the change 'Set MJD-OBS to 58439.859520 from DATE-OBS.\n",
      "Set MJD-END to 58439.880354 from DATE-END'. [astropy.wcs.wcs]\n",
      "WARNING: FITSFixedWarning: 'datfix' made the change 'Set MJD-OBS to 58439.880354 from DATE-OBS.\n",
      "Set MJD-END to 58439.901187 from DATE-END'. [astropy.wcs.wcs]\n"
     ]
    },
    {
     "name": "stdout",
     "output_type": "stream",
     "text": [
      "Reading image 95: /arc/home/mikea/.shifty_data/tess/5/1/4/tess2018321222938-s0005-1-4-0125-s_ffic.fits\r"
     ]
    },
    {
     "name": "stderr",
     "output_type": "stream",
     "text": [
      "WARNING: FITSFixedWarning: 'datfix' made the change 'Set MJD-OBS to 58439.901187 from DATE-OBS.\n",
      "Set MJD-END to 58439.922021 from DATE-END'. [astropy.wcs.wcs]\n",
      "WARNING: FITSFixedWarning: 'datfix' made the change 'Set MJD-OBS to 58439.922021 from DATE-OBS.\n",
      "Set MJD-END to 58439.942854 from DATE-END'. [astropy.wcs.wcs]\n"
     ]
    },
    {
     "name": "stdout",
     "output_type": "stream",
     "text": [
      "Reading image 98: /arc/home/mikea/.shifty_data/tess/5/1/4/tess2018321235938-s0005-1-4-0125-s_ffic.fits\r"
     ]
    },
    {
     "name": "stderr",
     "output_type": "stream",
     "text": [
      "WARNING: FITSFixedWarning: 'datfix' made the change 'Set MJD-OBS to 58439.942854 from DATE-OBS.\n",
      "Set MJD-END to 58439.963688 from DATE-END'. [astropy.wcs.wcs]\n",
      "WARNING: FITSFixedWarning: 'datfix' made the change 'Set MJD-OBS to 58439.963688 from DATE-OBS.\n",
      "Set MJD-END to 58439.984521 from DATE-END'. [astropy.wcs.wcs]\n",
      "WARNING: FITSFixedWarning: 'datfix' made the change 'Set MJD-OBS to 58439.984521 from DATE-OBS.\n",
      "Set MJD-END to 58440.005355 from DATE-END'. [astropy.wcs.wcs]\n"
     ]
    },
    {
     "name": "stdout",
     "output_type": "stream",
     "text": [
      "Reading image 99: /arc/home/mikea/.shifty_data/tess/5/1/4/tess2018322002938-s0005-1-4-0125-s_ffic.fits\r"
     ]
    },
    {
     "name": "stderr",
     "output_type": "stream",
     "text": [
      "WARNING: FITSFixedWarning: 'datfix' made the change 'Set MJD-OBS to 58440.005355 from DATE-OBS.\n",
      "Set MJD-END to 58440.026188 from DATE-END'. [astropy.wcs.wcs]\n",
      "WARNING: FITSFixedWarning: 'datfix' made the change 'Set MJD-OBS to 58440.026188 from DATE-OBS.\n",
      "Set MJD-END to 58440.047021 from DATE-END'. [astropy.wcs.wcs]\n",
      "WARNING: FITSFixedWarning: 'datfix' made the change 'Set MJD-OBS to 58440.047022 from DATE-OBS.\n",
      "Set MJD-END to 58440.067855 from DATE-END'. [astropy.wcs.wcs]\n"
     ]
    },
    {
     "name": "stdout",
     "output_type": "stream",
     "text": [
      "Reading image 102: /arc/home/mikea/.shifty_data/tess/5/1/4/tess2018322015938-s0005-1-4-0125-s_ffic.fits\r"
     ]
    },
    {
     "name": "stderr",
     "output_type": "stream",
     "text": [
      "WARNING: FITSFixedWarning: 'datfix' made the change 'Set MJD-OBS to 58440.067855 from DATE-OBS.\n",
      "Set MJD-END to 58440.088688 from DATE-END'. [astropy.wcs.wcs]\n"
     ]
    },
    {
     "name": "stdout",
     "output_type": "stream",
     "text": [
      "Reading image 104: /arc/home/mikea/.shifty_data/tess/5/1/4/tess2018322025938-s0005-1-4-0125-s_ffic.fits\r"
     ]
    },
    {
     "name": "stderr",
     "output_type": "stream",
     "text": [
      "WARNING: FITSFixedWarning: 'datfix' made the change 'Set MJD-OBS to 58440.088689 from DATE-OBS.\n",
      "Set MJD-END to 58440.109522 from DATE-END'. [astropy.wcs.wcs]\n",
      "WARNING: FITSFixedWarning: 'datfix' made the change 'Set MJD-OBS to 58440.109522 from DATE-OBS.\n",
      "Set MJD-END to 58440.130355 from DATE-END'. [astropy.wcs.wcs]\n",
      "WARNING: FITSFixedWarning: 'datfix' made the change 'Set MJD-OBS to 58440.130356 from DATE-OBS.\n",
      "Set MJD-END to 58440.151189 from DATE-END'. [astropy.wcs.wcs]\n"
     ]
    },
    {
     "name": "stdout",
     "output_type": "stream",
     "text": [
      "Reading image 106: /arc/home/mikea/.shifty_data/tess/5/1/4/tess2018322035938-s0005-1-4-0125-s_ffic.fits\r"
     ]
    },
    {
     "name": "stderr",
     "output_type": "stream",
     "text": [
      "WARNING: FITSFixedWarning: 'datfix' made the change 'Set MJD-OBS to 58440.151189 from DATE-OBS.\n",
      "Set MJD-END to 58440.172022 from DATE-END'. [astropy.wcs.wcs]\n",
      "WARNING: FITSFixedWarning: 'datfix' made the change 'Set MJD-OBS to 58440.172023 from DATE-OBS.\n",
      "Set MJD-END to 58440.192856 from DATE-END'. [astropy.wcs.wcs]\n"
     ]
    },
    {
     "name": "stdout",
     "output_type": "stream",
     "text": [
      "Reading image 108: /arc/home/mikea/.shifty_data/tess/5/1/4/tess2018322045938-s0005-1-4-0125-s_ffic.fits\r"
     ]
    },
    {
     "name": "stderr",
     "output_type": "stream",
     "text": [
      "WARNING: FITSFixedWarning: 'datfix' made the change 'Set MJD-OBS to 58440.192856 from DATE-OBS.\n",
      "Set MJD-END to 58440.213689 from DATE-END'. [astropy.wcs.wcs]\n",
      "WARNING: FITSFixedWarning: 'datfix' made the change 'Set MJD-OBS to 58440.213690 from DATE-OBS.\n",
      "Set MJD-END to 58440.234523 from DATE-END'. [astropy.wcs.wcs]\n",
      "WARNING: FITSFixedWarning: 'datfix' made the change 'Set MJD-OBS to 58440.234523 from DATE-OBS.\n",
      "Set MJD-END to 58440.255356 from DATE-END'. [astropy.wcs.wcs]\n"
     ]
    },
    {
     "name": "stdout",
     "output_type": "stream",
     "text": [
      "Reading image 111: /arc/home/mikea/.shifty_data/tess/5/1/4/tess2018322062938-s0005-1-4-0125-s_ffic.fits\r"
     ]
    },
    {
     "name": "stderr",
     "output_type": "stream",
     "text": [
      "WARNING: FITSFixedWarning: 'datfix' made the change 'Set MJD-OBS to 58440.255357 from DATE-OBS.\n",
      "Set MJD-END to 58440.276190 from DATE-END'. [astropy.wcs.wcs]\n"
     ]
    },
    {
     "name": "stdout",
     "output_type": "stream",
     "text": [
      "Reading image 113: /arc/home/mikea/.shifty_data/tess/5/1/4/tess2018322072938-s0005-1-4-0125-s_ffic.fits\r"
     ]
    },
    {
     "name": "stderr",
     "output_type": "stream",
     "text": [
      "WARNING: FITSFixedWarning: 'datfix' made the change 'Set MJD-OBS to 58440.276190 from DATE-OBS.\n",
      "Set MJD-END to 58440.297023 from DATE-END'. [astropy.wcs.wcs]\n",
      "WARNING: FITSFixedWarning: 'datfix' made the change 'Set MJD-OBS to 58440.297024 from DATE-OBS.\n",
      "Set MJD-END to 58440.317857 from DATE-END'. [astropy.wcs.wcs]\n",
      "WARNING: FITSFixedWarning: 'datfix' made the change 'Set MJD-OBS to 58440.317857 from DATE-OBS.\n",
      "Set MJD-END to 58440.338690 from DATE-END'. [astropy.wcs.wcs]\n"
     ]
    },
    {
     "name": "stdout",
     "output_type": "stream",
     "text": [
      "Reading image 117: /arc/home/mikea/.shifty_data/tess/5/1/4/tess2018322092938-s0005-1-4-0125-s_ffic.fits\r"
     ]
    },
    {
     "name": "stderr",
     "output_type": "stream",
     "text": [
      "WARNING: FITSFixedWarning: 'datfix' made the change 'Set MJD-OBS to 58440.338690 from DATE-OBS.\n",
      "Set MJD-END to 58440.359524 from DATE-END'. [astropy.wcs.wcs]\n",
      "WARNING: FITSFixedWarning: 'datfix' made the change 'Set MJD-OBS to 58440.359524 from DATE-OBS.\n",
      "Set MJD-END to 58440.380357 from DATE-END'. [astropy.wcs.wcs]\n",
      "WARNING: FITSFixedWarning: 'datfix' made the change 'Set MJD-OBS to 58440.380357 from DATE-OBS.\n",
      "Set MJD-END to 58440.401190 from DATE-END'. [astropy.wcs.wcs]\n"
     ]
    },
    {
     "name": "stdout",
     "output_type": "stream",
     "text": [
      "Reading image 119: /arc/home/mikea/.shifty_data/tess/5/1/4/tess2018322102938-s0005-1-4-0125-s_ffic.fits\r"
     ]
    },
    {
     "name": "stderr",
     "output_type": "stream",
     "text": [
      "WARNING: FITSFixedWarning: 'datfix' made the change 'Set MJD-OBS to 58440.401191 from DATE-OBS.\n",
      "Set MJD-END to 58440.422024 from DATE-END'. [astropy.wcs.wcs]\n",
      "WARNING: FITSFixedWarning: 'datfix' made the change 'Set MJD-OBS to 58440.422024 from DATE-OBS.\n",
      "Set MJD-END to 58440.442857 from DATE-END'. [astropy.wcs.wcs]\n"
     ]
    },
    {
     "name": "stdout",
     "output_type": "stream",
     "text": [
      "Reading image 122: /arc/home/mikea/.shifty_data/tess/5/1/4/tess2018322115938-s0005-1-4-0125-s_ffic.fits\r"
     ]
    },
    {
     "name": "stderr",
     "output_type": "stream",
     "text": [
      "WARNING: FITSFixedWarning: 'datfix' made the change 'Set MJD-OBS to 58440.442858 from DATE-OBS.\n",
      "Set MJD-END to 58440.463691 from DATE-END'. [astropy.wcs.wcs]\n",
      "WARNING: FITSFixedWarning: 'datfix' made the change 'Set MJD-OBS to 58440.463691 from DATE-OBS.\n",
      "Set MJD-END to 58440.484524 from DATE-END'. [astropy.wcs.wcs]\n",
      "WARNING: FITSFixedWarning: 'datfix' made the change 'Set MJD-OBS to 58440.484525 from DATE-OBS.\n",
      "Set MJD-END to 58440.505358 from DATE-END'. [astropy.wcs.wcs]\n"
     ]
    },
    {
     "name": "stdout",
     "output_type": "stream",
     "text": [
      "Reading image 125: /arc/home/mikea/.shifty_data/tess/5/1/4/tess2018322145938-s0005-1-4-0125-s_ffic.fits\r"
     ]
    },
    {
     "name": "stderr",
     "output_type": "stream",
     "text": [
      "WARNING: FITSFixedWarning: 'datfix' made the change 'Set MJD-OBS to 58440.505358 from DATE-OBS.\n",
      "Set MJD-END to 58440.526191 from DATE-END'. [astropy.wcs.wcs]\n",
      "WARNING: FITSFixedWarning: 'datfix' made the change 'Set MJD-OBS to 58440.547025 from DATE-OBS.\n",
      "Set MJD-END to 58440.567858 from DATE-END'. [astropy.wcs.wcs]\n",
      "WARNING: FITSFixedWarning: 'datfix' made the change 'Set MJD-OBS to 58440.567858 from DATE-OBS.\n",
      "Set MJD-END to 58440.588692 from DATE-END'. [astropy.wcs.wcs]\n"
     ]
    },
    {
     "name": "stdout",
     "output_type": "stream",
     "text": [
      "Reading image 126: /arc/home/mikea/.shifty_data/tess/5/1/4/tess2018322155938-s0005-1-4-0125-s_ffic.fits\r"
     ]
    },
    {
     "name": "stderr",
     "output_type": "stream",
     "text": [
      "WARNING: FITSFixedWarning: 'datfix' made the change 'Set MJD-OBS to 58440.630359 from DATE-OBS.\n",
      "Set MJD-END to 58440.651192 from DATE-END'. [astropy.wcs.wcs]\n"
     ]
    },
    {
     "name": "stdout",
     "output_type": "stream",
     "text": [
      "Reading image 129: /arc/home/mikea/.shifty_data/tess/5/1/4/tess2018322172938-s0005-1-4-0125-s_ffic.fits\r"
     ]
    },
    {
     "name": "stderr",
     "output_type": "stream",
     "text": [
      "WARNING: FITSFixedWarning: 'datfix' made the change 'Set MJD-OBS to 58440.672026 from DATE-OBS.\n",
      "Set MJD-END to 58440.692859 from DATE-END'. [astropy.wcs.wcs]\n",
      "WARNING: FITSFixedWarning: 'datfix' made the change 'Set MJD-OBS to 58440.692859 from DATE-OBS.\n",
      "Set MJD-END to 58440.713692 from DATE-END'. [astropy.wcs.wcs]\n",
      "WARNING: FITSFixedWarning: 'datfix' made the change 'Set MJD-OBS to 58440.713693 from DATE-OBS.\n",
      "Set MJD-END to 58440.734526 from DATE-END'. [astropy.wcs.wcs]\n"
     ]
    },
    {
     "name": "stdout",
     "output_type": "stream",
     "text": [
      "Reading image 131: /arc/home/mikea/.shifty_data/tess/5/1/4/tess2018322185938-s0005-1-4-0125-s_ffic.fits\r"
     ]
    },
    {
     "name": "stderr",
     "output_type": "stream",
     "text": [
      "WARNING: FITSFixedWarning: 'datfix' made the change 'Set MJD-OBS to 58440.734526 from DATE-OBS.\n",
      "Set MJD-END to 58440.755359 from DATE-END'. [astropy.wcs.wcs]\n",
      "WARNING: FITSFixedWarning: 'datfix' made the change 'Set MJD-OBS to 58440.776193 from DATE-OBS.\n",
      "Set MJD-END to 58440.797026 from DATE-END'. [astropy.wcs.wcs]\n"
     ]
    },
    {
     "name": "stdout",
     "output_type": "stream",
     "text": [
      "Reading image 133: /arc/home/mikea/.shifty_data/tess/5/1/4/tess2018322195938-s0005-1-4-0125-s_ffic.fits\r"
     ]
    },
    {
     "name": "stderr",
     "output_type": "stream",
     "text": [
      "WARNING: FITSFixedWarning: 'datfix' made the change 'Set MJD-OBS to 58440.797026 from DATE-OBS.\n",
      "Set MJD-END to 58440.817859 from DATE-END'. [astropy.wcs.wcs]\n",
      "WARNING: FITSFixedWarning: 'datfix' made the change 'Set MJD-OBS to 58440.817860 from DATE-OBS.\n",
      "Set MJD-END to 58440.838693 from DATE-END'. [astropy.wcs.wcs]\n"
     ]
    },
    {
     "name": "stdout",
     "output_type": "stream",
     "text": [
      "Reading image 135: /arc/home/mikea/.shifty_data/tess/5/1/4/tess2018322205938-s0005-1-4-0125-s_ffic.fits\r"
     ]
    },
    {
     "name": "stderr",
     "output_type": "stream",
     "text": [
      "WARNING: FITSFixedWarning: 'datfix' made the change 'Set MJD-OBS to 58440.838693 from DATE-OBS.\n",
      "Set MJD-END to 58440.859526 from DATE-END'. [astropy.wcs.wcs]\n",
      "WARNING: FITSFixedWarning: 'datfix' made the change 'Set MJD-OBS to 58440.859527 from DATE-OBS.\n",
      "Set MJD-END to 58440.880360 from DATE-END'. [astropy.wcs.wcs]\n"
     ]
    },
    {
     "name": "stdout",
     "output_type": "stream",
     "text": [
      "Reading image 137: /arc/home/mikea/.shifty_data/tess/5/1/4/tess2018322215938-s0005-1-4-0125-s_ffic.fits\r"
     ]
    },
    {
     "name": "stderr",
     "output_type": "stream",
     "text": [
      "WARNING: FITSFixedWarning: 'datfix' made the change 'Set MJD-OBS to 58440.880360 from DATE-OBS.\n",
      "Set MJD-END to 58440.901193 from DATE-END'. [astropy.wcs.wcs]\n",
      "WARNING: FITSFixedWarning: 'datfix' made the change 'Set MJD-OBS to 58440.901194 from DATE-OBS.\n",
      "Set MJD-END to 58440.922027 from DATE-END'. [astropy.wcs.wcs]\n"
     ]
    },
    {
     "name": "stdout",
     "output_type": "stream",
     "text": [
      "Reading image 139: /arc/home/mikea/.shifty_data/tess/5/1/4/tess2018322225938-s0005-1-4-0125-s_ffic.fits\r"
     ]
    },
    {
     "name": "stderr",
     "output_type": "stream",
     "text": [
      "WARNING: FITSFixedWarning: 'datfix' made the change 'Set MJD-OBS to 58440.922027 from DATE-OBS.\n",
      "Set MJD-END to 58440.942860 from DATE-END'. [astropy.wcs.wcs]\n",
      "WARNING: FITSFixedWarning: 'datfix' made the change 'Set MJD-OBS to 58440.942860 from DATE-OBS.\n",
      "Set MJD-END to 58440.963693 from DATE-END'. [astropy.wcs.wcs]\n"
     ]
    },
    {
     "name": "stdout",
     "output_type": "stream",
     "text": [
      "Reading image 142: /arc/home/mikea/.shifty_data/tess/5/1/4/tess2018323002938-s0005-1-4-0125-s_ffic.fits\r"
     ]
    },
    {
     "name": "stderr",
     "output_type": "stream",
     "text": [
      "WARNING: FITSFixedWarning: 'datfix' made the change 'Set MJD-OBS to 58440.963694 from DATE-OBS.\n",
      "Set MJD-END to 58440.984527 from DATE-END'. [astropy.wcs.wcs]\n",
      "WARNING: FITSFixedWarning: 'datfix' made the change 'Set MJD-OBS to 58440.984527 from DATE-OBS.\n",
      "Set MJD-END to 58441.005360 from DATE-END'. [astropy.wcs.wcs]\n",
      "WARNING: FITSFixedWarning: 'datfix' made the change 'Set MJD-OBS to 58441.005361 from DATE-OBS.\n",
      "Set MJD-END to 58441.026194 from DATE-END'. [astropy.wcs.wcs]\n"
     ]
    },
    {
     "name": "stdout",
     "output_type": "stream",
     "text": [
      "Reading image 144: /arc/home/mikea/.shifty_data/tess/5/1/4/tess2018323012938-s0005-1-4-0125-s_ffic.fits\r"
     ]
    },
    {
     "name": "stderr",
     "output_type": "stream",
     "text": [
      "WARNING: FITSFixedWarning: 'datfix' made the change 'Set MJD-OBS to 58441.026194 from DATE-OBS.\n",
      "Set MJD-END to 58441.047027 from DATE-END'. [astropy.wcs.wcs]\n",
      "WARNING: FITSFixedWarning: 'datfix' made the change 'Set MJD-OBS to 58441.047028 from DATE-OBS.\n",
      "Set MJD-END to 58441.067861 from DATE-END'. [astropy.wcs.wcs]\n",
      "WARNING: FITSFixedWarning: 'datfix' made the change 'Set MJD-OBS to 58441.067861 from DATE-OBS.\n",
      "Set MJD-END to 58441.088694 from DATE-END'. [astropy.wcs.wcs]\n"
     ]
    },
    {
     "name": "stdout",
     "output_type": "stream",
     "text": [
      "Reading image 146: /arc/home/mikea/.shifty_data/tess/5/1/4/tess2018323022938-s0005-1-4-0125-s_ffic.fits\r"
     ]
    },
    {
     "name": "stderr",
     "output_type": "stream",
     "text": [
      "WARNING: FITSFixedWarning: 'datfix' made the change 'Set MJD-OBS to 58441.088694 from DATE-OBS.\n",
      "Set MJD-END to 58441.109527 from DATE-END'. [astropy.wcs.wcs]\n",
      "WARNING: FITSFixedWarning: 'datfix' made the change 'Set MJD-OBS to 58441.109528 from DATE-OBS.\n",
      "Set MJD-END to 58441.130361 from DATE-END'. [astropy.wcs.wcs]\n"
     ]
    },
    {
     "name": "stdout",
     "output_type": "stream",
     "text": [
      "Reading image 148: /arc/home/mikea/.shifty_data/tess/5/1/4/tess2018323032938-s0005-1-4-0125-s_ffic.fits\r"
     ]
    },
    {
     "name": "stderr",
     "output_type": "stream",
     "text": [
      "WARNING: FITSFixedWarning: 'datfix' made the change 'Set MJD-OBS to 58441.130361 from DATE-OBS.\n",
      "Set MJD-END to 58441.151194 from DATE-END'. [astropy.wcs.wcs]\n",
      "WARNING: FITSFixedWarning: 'datfix' made the change 'Set MJD-OBS to 58441.151195 from DATE-OBS.\n",
      "Set MJD-END to 58441.172028 from DATE-END'. [astropy.wcs.wcs]\n",
      "WARNING: FITSFixedWarning: 'datfix' made the change 'Set MJD-OBS to 58441.172028 from DATE-OBS.\n",
      "Set MJD-END to 58441.192861 from DATE-END'. [astropy.wcs.wcs]\n"
     ]
    },
    {
     "name": "stdout",
     "output_type": "stream",
     "text": [
      "Reading image 151: /arc/home/mikea/.shifty_data/tess/5/1/4/tess2018323045938-s0005-1-4-0125-s_ffic.fits\r"
     ]
    },
    {
     "name": "stderr",
     "output_type": "stream",
     "text": [
      "WARNING: FITSFixedWarning: 'datfix' made the change 'Set MJD-OBS to 58441.192861 from DATE-OBS.\n",
      "Set MJD-END to 58441.213695 from DATE-END'. [astropy.wcs.wcs]\n",
      "WARNING: FITSFixedWarning: 'datfix' made the change 'Set MJD-OBS to 58441.213695 from DATE-OBS.\n",
      "Set MJD-END to 58441.234528 from DATE-END'. [astropy.wcs.wcs]\n",
      "WARNING: FITSFixedWarning: 'datfix' made the change 'Set MJD-OBS to 58441.234528 from DATE-OBS.\n",
      "Set MJD-END to 58441.255361 from DATE-END'. [astropy.wcs.wcs]\n"
     ]
    },
    {
     "name": "stdout",
     "output_type": "stream",
     "text": [
      "Reading image 154: /arc/home/mikea/.shifty_data/tess/5/1/4/tess2018323062938-s0005-1-4-0125-s_ffic.fits\r"
     ]
    },
    {
     "name": "stderr",
     "output_type": "stream",
     "text": [
      "WARNING: FITSFixedWarning: 'datfix' made the change 'Set MJD-OBS to 58441.255362 from DATE-OBS.\n",
      "Set MJD-END to 58441.276195 from DATE-END'. [astropy.wcs.wcs]\n",
      "WARNING: FITSFixedWarning: 'datfix' made the change 'Set MJD-OBS to 58441.276195 from DATE-OBS.\n",
      "Set MJD-END to 58441.297028 from DATE-END'. [astropy.wcs.wcs]\n"
     ]
    },
    {
     "name": "stdout",
     "output_type": "stream",
     "text": [
      "Reading image 156: /arc/home/mikea/.shifty_data/tess/5/1/4/tess2018323072938-s0005-1-4-0125-s_ffic.fits\r"
     ]
    },
    {
     "name": "stderr",
     "output_type": "stream",
     "text": [
      "WARNING: FITSFixedWarning: 'datfix' made the change 'Set MJD-OBS to 58441.297028 from DATE-OBS.\n",
      "Set MJD-END to 58441.317862 from DATE-END'. [astropy.wcs.wcs]\n",
      "WARNING: FITSFixedWarning: 'datfix' made the change 'Set MJD-OBS to 58441.317862 from DATE-OBS.\n",
      "Set MJD-END to 58441.338695 from DATE-END'. [astropy.wcs.wcs]\n",
      "WARNING: FITSFixedWarning: 'datfix' made the change 'Set MJD-OBS to 58441.338695 from DATE-OBS.\n",
      "Set MJD-END to 58441.359528 from DATE-END'. [astropy.wcs.wcs]\n"
     ]
    },
    {
     "name": "stdout",
     "output_type": "stream",
     "text": [
      "Reading image 159: /arc/home/mikea/.shifty_data/tess/5/1/4/tess2018323085938-s0005-1-4-0125-s_ffic.fits\r"
     ]
    },
    {
     "name": "stderr",
     "output_type": "stream",
     "text": [
      "WARNING: FITSFixedWarning: 'datfix' made the change 'Set MJD-OBS to 58441.359529 from DATE-OBS.\n",
      "Set MJD-END to 58441.380362 from DATE-END'. [astropy.wcs.wcs]\n",
      "WARNING: FITSFixedWarning: 'datfix' made the change 'Set MJD-OBS to 58441.380362 from DATE-OBS.\n",
      "Set MJD-END to 58441.401195 from DATE-END'. [astropy.wcs.wcs]\n"
     ]
    },
    {
     "name": "stdout",
     "output_type": "stream",
     "text": [
      "Reading image 161: /arc/home/mikea/.shifty_data/tess/5/1/4/tess2018323095938-s0005-1-4-0125-s_ffic.fits\r"
     ]
    },
    {
     "name": "stderr",
     "output_type": "stream",
     "text": [
      "WARNING: FITSFixedWarning: 'datfix' made the change 'Set MJD-OBS to 58441.401196 from DATE-OBS.\n",
      "Set MJD-END to 58441.422029 from DATE-END'. [astropy.wcs.wcs]\n",
      "WARNING: FITSFixedWarning: 'datfix' made the change 'Set MJD-OBS to 58441.422029 from DATE-OBS.\n",
      "Set MJD-END to 58441.442862 from DATE-END'. [astropy.wcs.wcs]\n"
     ]
    },
    {
     "name": "stdout",
     "output_type": "stream",
     "text": [
      "Reading image 164: /arc/home/mikea/.shifty_data/tess/5/1/4/tess2018323112938-s0005-1-4-0125-s_ffic.fits\r"
     ]
    },
    {
     "name": "stderr",
     "output_type": "stream",
     "text": [
      "WARNING: FITSFixedWarning: 'datfix' made the change 'Set MJD-OBS to 58441.442862 from DATE-OBS.\n",
      "Set MJD-END to 58441.463695 from DATE-END'. [astropy.wcs.wcs]\n",
      "WARNING: FITSFixedWarning: 'datfix' made the change 'Set MJD-OBS to 58441.463696 from DATE-OBS.\n",
      "Set MJD-END to 58441.484529 from DATE-END'. [astropy.wcs.wcs]\n",
      "WARNING: FITSFixedWarning: 'datfix' made the change 'Set MJD-OBS to 58441.484529 from DATE-OBS.\n",
      "Set MJD-END to 58441.505362 from DATE-END'. [astropy.wcs.wcs]\n"
     ]
    },
    {
     "name": "stdout",
     "output_type": "stream",
     "text": [
      "Reading image 167: /arc/home/mikea/.shifty_data/tess/5/1/4/tess2018323125938-s0005-1-4-0125-s_ffic.fits\r"
     ]
    },
    {
     "name": "stderr",
     "output_type": "stream",
     "text": [
      "WARNING: FITSFixedWarning: 'datfix' made the change 'Set MJD-OBS to 58441.505363 from DATE-OBS.\n",
      "Set MJD-END to 58441.526196 from DATE-END'. [astropy.wcs.wcs]\n",
      "WARNING: FITSFixedWarning: 'datfix' made the change 'Set MJD-OBS to 58441.526196 from DATE-OBS.\n",
      "Set MJD-END to 58441.547029 from DATE-END'. [astropy.wcs.wcs]\n",
      "WARNING: FITSFixedWarning: 'datfix' made the change 'Set MJD-OBS to 58441.547029 from DATE-OBS.\n",
      "Set MJD-END to 58441.567862 from DATE-END'. [astropy.wcs.wcs]\n"
     ]
    },
    {
     "name": "stdout",
     "output_type": "stream",
     "text": [
      "Reading image 169: /arc/home/mikea/.shifty_data/tess/5/1/4/tess2018323135938-s0005-1-4-0125-s_ffic.fits\r"
     ]
    },
    {
     "name": "stderr",
     "output_type": "stream",
     "text": [
      "WARNING: FITSFixedWarning: 'datfix' made the change 'Set MJD-OBS to 58441.567863 from DATE-OBS.\n",
      "Set MJD-END to 58441.588696 from DATE-END'. [astropy.wcs.wcs]\n",
      "WARNING: FITSFixedWarning: 'datfix' made the change 'Set MJD-OBS to 58441.588696 from DATE-OBS.\n",
      "Set MJD-END to 58441.609529 from DATE-END'. [astropy.wcs.wcs]\n",
      "WARNING: FITSFixedWarning: 'datfix' made the change 'Set MJD-OBS to 58441.609529 from DATE-OBS.\n",
      "Set MJD-END to 58441.630363 from DATE-END'. [astropy.wcs.wcs]\n"
     ]
    },
    {
     "name": "stdout",
     "output_type": "stream",
     "text": [
      "Reading image 172: /arc/home/mikea/.shifty_data/tess/5/1/4/tess2018323152938-s0005-1-4-0125-s_ffic.fits\r"
     ]
    },
    {
     "name": "stderr",
     "output_type": "stream",
     "text": [
      "WARNING: FITSFixedWarning: 'datfix' made the change 'Set MJD-OBS to 58441.630363 from DATE-OBS.\n",
      "Set MJD-END to 58441.651196 from DATE-END'. [astropy.wcs.wcs]\n",
      "WARNING: FITSFixedWarning: 'datfix' made the change 'Set MJD-OBS to 58441.651196 from DATE-OBS.\n",
      "Set MJD-END to 58441.672029 from DATE-END'. [astropy.wcs.wcs]\n",
      "WARNING: FITSFixedWarning: 'datfix' made the change 'Set MJD-OBS to 58441.672030 from DATE-OBS.\n",
      "Set MJD-END to 58441.692863 from DATE-END'. [astropy.wcs.wcs]\n"
     ]
    },
    {
     "name": "stdout",
     "output_type": "stream",
     "text": [
      "Reading image 174: /arc/home/mikea/.shifty_data/tess/5/1/4/tess2018323162938-s0005-1-4-0125-s_ffic.fits\r"
     ]
    },
    {
     "name": "stderr",
     "output_type": "stream",
     "text": [
      "WARNING: FITSFixedWarning: 'datfix' made the change 'Set MJD-OBS to 58441.692863 from DATE-OBS.\n",
      "Set MJD-END to 58441.713696 from DATE-END'. [astropy.wcs.wcs]\n",
      "WARNING: FITSFixedWarning: 'datfix' made the change 'Set MJD-OBS to 58441.713696 from DATE-OBS.\n",
      "Set MJD-END to 58441.734530 from DATE-END'. [astropy.wcs.wcs]\n"
     ]
    },
    {
     "name": "stdout",
     "output_type": "stream",
     "text": [
      "Reading image 176: /arc/home/mikea/.shifty_data/tess/5/1/4/tess2018323172938-s0005-1-4-0125-s_ffic.fits\r"
     ]
    },
    {
     "name": "stderr",
     "output_type": "stream",
     "text": [
      "WARNING: FITSFixedWarning: 'datfix' made the change 'Set MJD-OBS to 58441.734530 from DATE-OBS.\n",
      "Set MJD-END to 58441.755363 from DATE-END'. [astropy.wcs.wcs]\n",
      "WARNING: FITSFixedWarning: 'datfix' made the change 'Set MJD-OBS to 58441.755363 from DATE-OBS.\n",
      "Set MJD-END to 58441.776196 from DATE-END'. [astropy.wcs.wcs]\n"
     ]
    },
    {
     "name": "stdout",
     "output_type": "stream",
     "text": [
      "Reading image 178: /arc/home/mikea/.shifty_data/tess/5/1/4/tess2018323182938-s0005-1-4-0125-s_ffic.fits\r"
     ]
    },
    {
     "name": "stderr",
     "output_type": "stream",
     "text": [
      "WARNING: FITSFixedWarning: 'datfix' made the change 'Set MJD-OBS to 58441.776197 from DATE-OBS.\n",
      "Set MJD-END to 58441.797030 from DATE-END'. [astropy.wcs.wcs]\n",
      "WARNING: FITSFixedWarning: 'datfix' made the change 'Set MJD-OBS to 58441.797030 from DATE-OBS.\n",
      "Set MJD-END to 58441.817863 from DATE-END'. [astropy.wcs.wcs]\n"
     ]
    },
    {
     "name": "stdout",
     "output_type": "stream",
     "text": [
      "Reading image 182: /arc/home/mikea/.shifty_data/tess/5/1/4/tess2018323202938-s0005-1-4-0125-s_ffic.fits\r"
     ]
    },
    {
     "name": "stderr",
     "output_type": "stream",
     "text": [
      "WARNING: FITSFixedWarning: 'datfix' made the change 'Set MJD-OBS to 58441.817863 from DATE-OBS.\n",
      "Set MJD-END to 58441.838696 from DATE-END'. [astropy.wcs.wcs]\n",
      "WARNING: FITSFixedWarning: 'datfix' made the change 'Set MJD-OBS to 58441.838697 from DATE-OBS.\n",
      "Set MJD-END to 58441.859530 from DATE-END'. [astropy.wcs.wcs]\n"
     ]
    },
    {
     "name": "stdout",
     "output_type": "stream",
     "text": [
      "Reading image 183: /arc/home/mikea/.shifty_data/tess/5/1/4/tess2018323205938-s0005-1-4-0125-s_ffic.fits\r"
     ]
    },
    {
     "name": "stderr",
     "output_type": "stream",
     "text": [
      "WARNING: FITSFixedWarning: 'datfix' made the change 'Set MJD-OBS to 58441.859530 from DATE-OBS.\n",
      "Set MJD-END to 58441.880363 from DATE-END'. [astropy.wcs.wcs]\n"
     ]
    },
    {
     "name": "stdout",
     "output_type": "stream",
     "text": [
      "Reading image 185: /arc/home/mikea/.shifty_data/tess/5/1/4/tess2018323215938-s0005-1-4-0125-s_ffic.fits\r"
     ]
    },
    {
     "name": "stderr",
     "output_type": "stream",
     "text": [
      "WARNING: FITSFixedWarning: 'datfix' made the change 'Set MJD-OBS to 58441.880363 from DATE-OBS.\n",
      "Set MJD-END to 58441.901197 from DATE-END'. [astropy.wcs.wcs]\n",
      "WARNING: FITSFixedWarning: 'datfix' made the change 'Set MJD-OBS to 58441.901197 from DATE-OBS.\n",
      "Set MJD-END to 58441.922030 from DATE-END'. [astropy.wcs.wcs]\n",
      "WARNING: FITSFixedWarning: 'datfix' made the change 'Set MJD-OBS to 58441.922030 from DATE-OBS.\n",
      "Set MJD-END to 58441.942863 from DATE-END'. [astropy.wcs.wcs]\n"
     ]
    },
    {
     "name": "stdout",
     "output_type": "stream",
     "text": [
      "Reading image 188: /arc/home/mikea/.shifty_data/tess/5/1/4/tess2018323232938-s0005-1-4-0125-s_ffic.fits\r"
     ]
    },
    {
     "name": "stderr",
     "output_type": "stream",
     "text": [
      "WARNING: FITSFixedWarning: 'datfix' made the change 'Set MJD-OBS to 58441.942864 from DATE-OBS.\n",
      "Set MJD-END to 58441.963697 from DATE-END'. [astropy.wcs.wcs]\n",
      "WARNING: FITSFixedWarning: 'datfix' made the change 'Set MJD-OBS to 58441.963697 from DATE-OBS.\n",
      "Set MJD-END to 58441.984530 from DATE-END'. [astropy.wcs.wcs]\n",
      "WARNING: FITSFixedWarning: 'datfix' made the change 'Set MJD-OBS to 58441.984530 from DATE-OBS.\n",
      "Set MJD-END to 58442.005363 from DATE-END'. [astropy.wcs.wcs]\n"
     ]
    },
    {
     "name": "stdout",
     "output_type": "stream",
     "text": [
      "Reading image 190: /arc/home/mikea/.shifty_data/tess/5/1/4/tess2018324002938-s0005-1-4-0125-s_ffic.fits\r"
     ]
    },
    {
     "name": "stderr",
     "output_type": "stream",
     "text": [
      "WARNING: FITSFixedWarning: 'datfix' made the change 'Set MJD-OBS to 58442.005364 from DATE-OBS.\n",
      "Set MJD-END to 58442.026197 from DATE-END'. [astropy.wcs.wcs]\n",
      "WARNING: FITSFixedWarning: 'datfix' made the change 'Set MJD-OBS to 58442.026197 from DATE-OBS.\n",
      "Set MJD-END to 58442.047030 from DATE-END'. [astropy.wcs.wcs]\n",
      "WARNING: FITSFixedWarning: 'datfix' made the change 'Set MJD-OBS to 58442.047030 from DATE-OBS.\n",
      "Set MJD-END to 58442.067864 from DATE-END'. [astropy.wcs.wcs]\n"
     ]
    },
    {
     "name": "stdout",
     "output_type": "stream",
     "text": [
      "Reading image 193: /arc/home/mikea/.shifty_data/tess/5/1/4/tess2018324015938-s0005-1-4-0125-s_ffic.fits\r"
     ]
    },
    {
     "name": "stderr",
     "output_type": "stream",
     "text": [
      "WARNING: FITSFixedWarning: 'datfix' made the change 'Set MJD-OBS to 58442.067864 from DATE-OBS.\n",
      "Set MJD-END to 58442.088697 from DATE-END'. [astropy.wcs.wcs]\n",
      "WARNING: FITSFixedWarning: 'datfix' made the change 'Set MJD-OBS to 58442.088697 from DATE-OBS.\n",
      "Set MJD-END to 58442.109530 from DATE-END'. [astropy.wcs.wcs]\n"
     ]
    },
    {
     "name": "stdout",
     "output_type": "stream",
     "text": [
      "Reading image 195: /arc/home/mikea/.shifty_data/tess/5/1/4/tess2018324025938-s0005-1-4-0125-s_ffic.fits\r"
     ]
    },
    {
     "name": "stderr",
     "output_type": "stream",
     "text": [
      "WARNING: FITSFixedWarning: 'datfix' made the change 'Set MJD-OBS to 58442.109531 from DATE-OBS.\n",
      "Set MJD-END to 58442.130364 from DATE-END'. [astropy.wcs.wcs]\n",
      "WARNING: FITSFixedWarning: 'datfix' made the change 'Set MJD-OBS to 58442.130364 from DATE-OBS.\n",
      "Set MJD-END to 58442.151197 from DATE-END'. [astropy.wcs.wcs]\n"
     ]
    },
    {
     "name": "stdout",
     "output_type": "stream",
     "text": [
      "Reading image 197: /arc/home/mikea/.shifty_data/tess/5/1/4/tess2018324035938-s0005-1-4-0125-s_ffic.fits\r"
     ]
    },
    {
     "name": "stderr",
     "output_type": "stream",
     "text": [
      "WARNING: FITSFixedWarning: 'datfix' made the change 'Set MJD-OBS to 58442.151197 from DATE-OBS.\n",
      "Set MJD-END to 58442.172030 from DATE-END'. [astropy.wcs.wcs]\n",
      "WARNING: FITSFixedWarning: 'datfix' made the change 'Set MJD-OBS to 58442.172031 from DATE-OBS.\n",
      "Set MJD-END to 58442.192864 from DATE-END'. [astropy.wcs.wcs]\n"
     ]
    },
    {
     "name": "stdout",
     "output_type": "stream",
     "text": [
      "Reading image 199: /arc/home/mikea/.shifty_data/tess/5/1/4/tess2018324045938-s0005-1-4-0125-s_ffic.fits\r"
     ]
    },
    {
     "name": "stderr",
     "output_type": "stream",
     "text": [
      "WARNING: FITSFixedWarning: 'datfix' made the change 'Set MJD-OBS to 58442.192864 from DATE-OBS.\n",
      "Set MJD-END to 58442.213697 from DATE-END'. [astropy.wcs.wcs]\n",
      "WARNING: FITSFixedWarning: 'datfix' made the change 'Set MJD-OBS to 58442.213697 from DATE-OBS.\n",
      "Set MJD-END to 58442.234530 from DATE-END'. [astropy.wcs.wcs]\n",
      "WARNING: FITSFixedWarning: 'datfix' made the change 'Set MJD-OBS to 58442.234531 from DATE-OBS.\n",
      "Set MJD-END to 58442.255364 from DATE-END'. [astropy.wcs.wcs]\n"
     ]
    },
    {
     "name": "stdout",
     "output_type": "stream",
     "text": [
      "Reading image 203: /arc/home/mikea/.shifty_data/tess/5/1/4/tess2018324065938-s0005-1-4-0125-s_ffic.fits\r"
     ]
    },
    {
     "name": "stderr",
     "output_type": "stream",
     "text": [
      "WARNING: FITSFixedWarning: 'datfix' made the change 'Set MJD-OBS to 58442.255364 from DATE-OBS.\n",
      "Set MJD-END to 58442.276197 from DATE-END'. [astropy.wcs.wcs]\n",
      "WARNING: FITSFixedWarning: 'datfix' made the change 'Set MJD-OBS to 58442.276197 from DATE-OBS.\n",
      "Set MJD-END to 58442.297031 from DATE-END'. [astropy.wcs.wcs]\n"
     ]
    },
    {
     "name": "stdout",
     "output_type": "stream",
     "text": [
      "Reading image 205: /arc/home/mikea/.shifty_data/tess/5/1/4/tess2018324075938-s0005-1-4-0125-s_ffic.fits\r"
     ]
    },
    {
     "name": "stderr",
     "output_type": "stream",
     "text": [
      "WARNING: FITSFixedWarning: 'datfix' made the change 'Set MJD-OBS to 58442.297031 from DATE-OBS.\n",
      "Set MJD-END to 58442.317864 from DATE-END'. [astropy.wcs.wcs]\n",
      "WARNING: FITSFixedWarning: 'datfix' made the change 'Set MJD-OBS to 58442.317864 from DATE-OBS.\n",
      "Set MJD-END to 58442.338697 from DATE-END'. [astropy.wcs.wcs]\n",
      "WARNING: FITSFixedWarning: 'datfix' made the change 'Set MJD-OBS to 58442.338698 from DATE-OBS.\n",
      "Set MJD-END to 58442.359531 from DATE-END'. [astropy.wcs.wcs]\n"
     ]
    },
    {
     "name": "stdout",
     "output_type": "stream",
     "text": [
      "Reading image 207: /arc/home/mikea/.shifty_data/tess/5/1/4/tess2018324085938-s0005-1-4-0125-s_ffic.fits\r"
     ]
    },
    {
     "name": "stderr",
     "output_type": "stream",
     "text": [
      "WARNING: FITSFixedWarning: 'datfix' made the change 'Set MJD-OBS to 58442.359531 from DATE-OBS.\n",
      "Set MJD-END to 58442.380364 from DATE-END'. [astropy.wcs.wcs]\n",
      "WARNING: FITSFixedWarning: 'datfix' made the change 'Set MJD-OBS to 58442.380364 from DATE-OBS.\n",
      "Set MJD-END to 58442.401197 from DATE-END'. [astropy.wcs.wcs]\n"
     ]
    },
    {
     "name": "stdout",
     "output_type": "stream",
     "text": [
      "Reading image 210: /arc/home/mikea/.shifty_data/tess/5/1/4/tess2018324102938-s0005-1-4-0125-s_ffic.fits\r"
     ]
    },
    {
     "name": "stderr",
     "output_type": "stream",
     "text": [
      "WARNING: FITSFixedWarning: 'datfix' made the change 'Set MJD-OBS to 58442.401198 from DATE-OBS.\n",
      "Set MJD-END to 58442.422031 from DATE-END'. [astropy.wcs.wcs]\n",
      "WARNING: FITSFixedWarning: 'datfix' made the change 'Set MJD-OBS to 58442.422031 from DATE-OBS.\n",
      "Set MJD-END to 58442.442864 from DATE-END'. [astropy.wcs.wcs]\n",
      "WARNING: FITSFixedWarning: 'datfix' made the change 'Set MJD-OBS to 58442.442864 from DATE-OBS.\n",
      "Set MJD-END to 58442.463697 from DATE-END'. [astropy.wcs.wcs]\n"
     ]
    },
    {
     "name": "stdout",
     "output_type": "stream",
     "text": [
      "Reading image 212: /arc/home/mikea/.shifty_data/tess/5/1/4/tess2018324112938-s0005-1-4-0125-s_ffic.fits\r"
     ]
    },
    {
     "name": "stderr",
     "output_type": "stream",
     "text": [
      "WARNING: FITSFixedWarning: 'datfix' made the change 'Set MJD-OBS to 58442.463698 from DATE-OBS.\n",
      "Set MJD-END to 58442.484531 from DATE-END'. [astropy.wcs.wcs]\n",
      "WARNING: FITSFixedWarning: 'datfix' made the change 'Set MJD-OBS to 58442.484531 from DATE-OBS.\n",
      "Set MJD-END to 58442.505364 from DATE-END'. [astropy.wcs.wcs]\n"
     ]
    },
    {
     "name": "stdout",
     "output_type": "stream",
     "text": [
      "Reading image 215: /arc/home/mikea/.shifty_data/tess/5/1/4/tess2018324125938-s0005-1-4-0125-s_ffic.fits\r"
     ]
    },
    {
     "name": "stderr",
     "output_type": "stream",
     "text": [
      "WARNING: FITSFixedWarning: 'datfix' made the change 'Set MJD-OBS to 58442.505364 from DATE-OBS.\n",
      "Set MJD-END to 58442.526197 from DATE-END'. [astropy.wcs.wcs]\n",
      "WARNING: FITSFixedWarning: 'datfix' made the change 'Set MJD-OBS to 58442.526198 from DATE-OBS.\n",
      "Set MJD-END to 58442.547031 from DATE-END'. [astropy.wcs.wcs]\n",
      "WARNING: FITSFixedWarning: 'datfix' made the change 'Set MJD-OBS to 58442.547031 from DATE-OBS.\n",
      "Set MJD-END to 58442.567864 from DATE-END'. [astropy.wcs.wcs]\n"
     ]
    },
    {
     "name": "stdout",
     "output_type": "stream",
     "text": [
      "Reading image 218: /arc/home/mikea/.shifty_data/tess/5/1/4/tess2018324142938-s0005-1-4-0125-s_ffic.fits\r"
     ]
    },
    {
     "name": "stderr",
     "output_type": "stream",
     "text": [
      "WARNING: FITSFixedWarning: 'datfix' made the change 'Set MJD-OBS to 58442.567864 from DATE-OBS.\n",
      "Set MJD-END to 58442.588697 from DATE-END'. [astropy.wcs.wcs]\n",
      "WARNING: FITSFixedWarning: 'datfix' made the change 'Set MJD-OBS to 58442.588698 from DATE-OBS.\n",
      "Set MJD-END to 58442.609531 from DATE-END'. [astropy.wcs.wcs]\n",
      "WARNING: FITSFixedWarning: 'datfix' made the change 'Set MJD-OBS to 58442.609531 from DATE-OBS.\n",
      "Set MJD-END to 58442.630364 from DATE-END'. [astropy.wcs.wcs]\n"
     ]
    },
    {
     "name": "stdout",
     "output_type": "stream",
     "text": [
      "Reading image 221: /arc/home/mikea/.shifty_data/tess/5/1/4/tess2018324155938-s0005-1-4-0125-s_ffic.fits\r"
     ]
    },
    {
     "name": "stderr",
     "output_type": "stream",
     "text": [
      "WARNING: FITSFixedWarning: 'datfix' made the change 'Set MJD-OBS to 58442.630364 from DATE-OBS.\n",
      "Set MJD-END to 58442.651197 from DATE-END'. [astropy.wcs.wcs]\n",
      "WARNING: FITSFixedWarning: 'datfix' made the change 'Set MJD-OBS to 58442.651198 from DATE-OBS.\n",
      "Set MJD-END to 58442.672031 from DATE-END'. [astropy.wcs.wcs]\n",
      "WARNING: FITSFixedWarning: 'datfix' made the change 'Set MJD-OBS to 58442.672031 from DATE-OBS.\n",
      "Set MJD-END to 58442.692864 from DATE-END'. [astropy.wcs.wcs]\n"
     ]
    },
    {
     "name": "stdout",
     "output_type": "stream",
     "text": [
      "Reading image 224: /arc/home/mikea/.shifty_data/tess/5/1/4/tess2018324172938-s0005-1-4-0125-s_ffic.fits\r"
     ]
    },
    {
     "name": "stderr",
     "output_type": "stream",
     "text": [
      "WARNING: FITSFixedWarning: 'datfix' made the change 'Set MJD-OBS to 58442.692864 from DATE-OBS.\n",
      "Set MJD-END to 58442.713697 from DATE-END'. [astropy.wcs.wcs]\n",
      "WARNING: FITSFixedWarning: 'datfix' made the change 'Set MJD-OBS to 58442.713698 from DATE-OBS.\n",
      "Set MJD-END to 58442.734531 from DATE-END'. [astropy.wcs.wcs]\n",
      "WARNING: FITSFixedWarning: 'datfix' made the change 'Set MJD-OBS to 58442.734531 from DATE-OBS.\n",
      "Set MJD-END to 58442.755364 from DATE-END'. [astropy.wcs.wcs]\n"
     ]
    },
    {
     "name": "stdout",
     "output_type": "stream",
     "text": [
      "Reading image 227: /arc/home/mikea/.shifty_data/tess/5/1/4/tess2018324185938-s0005-1-4-0125-s_ffic.fits\r"
     ]
    },
    {
     "name": "stderr",
     "output_type": "stream",
     "text": [
      "WARNING: FITSFixedWarning: 'datfix' made the change 'Set MJD-OBS to 58442.755364 from DATE-OBS.\n",
      "Set MJD-END to 58442.776197 from DATE-END'. [astropy.wcs.wcs]\n",
      "WARNING: FITSFixedWarning: 'datfix' made the change 'Set MJD-OBS to 58442.776198 from DATE-OBS.\n",
      "Set MJD-END to 58442.797031 from DATE-END'. [astropy.wcs.wcs]\n",
      "WARNING: FITSFixedWarning: 'datfix' made the change 'Set MJD-OBS to 58442.797031 from DATE-OBS.\n",
      "Set MJD-END to 58442.817864 from DATE-END'. [astropy.wcs.wcs]\n"
     ]
    },
    {
     "name": "stdout",
     "output_type": "stream",
     "text": [
      "Reading image 229: /arc/home/mikea/.shifty_data/tess/5/1/4/tess2018324195938-s0005-1-4-0125-s_ffic.fits\r"
     ]
    },
    {
     "name": "stderr",
     "output_type": "stream",
     "text": [
      "WARNING: FITSFixedWarning: 'datfix' made the change 'Set MJD-OBS to 58442.817864 from DATE-OBS.\n",
      "Set MJD-END to 58442.838697 from DATE-END'. [astropy.wcs.wcs]\n"
     ]
    },
    {
     "name": "stdout",
     "output_type": "stream",
     "text": [
      "Reading image 232: /arc/home/mikea/.shifty_data/tess/5/1/4/tess2018324212938-s0005-1-4-0125-s_ffic.fits\r"
     ]
    },
    {
     "name": "stderr",
     "output_type": "stream",
     "text": [
      "WARNING: FITSFixedWarning: 'datfix' made the change 'Set MJD-OBS to 58442.838698 from DATE-OBS.\n",
      "Set MJD-END to 58442.859531 from DATE-END'. [astropy.wcs.wcs]\n",
      "WARNING: FITSFixedWarning: 'datfix' made the change 'Set MJD-OBS to 58442.859531 from DATE-OBS.\n",
      "Set MJD-END to 58442.880364 from DATE-END'. [astropy.wcs.wcs]\n",
      "WARNING: FITSFixedWarning: 'datfix' made the change 'Set MJD-OBS to 58442.880364 from DATE-OBS.\n",
      "Set MJD-END to 58442.901197 from DATE-END'. [astropy.wcs.wcs]\n"
     ]
    },
    {
     "name": "stdout",
     "output_type": "stream",
     "text": [
      "Reading image 235: /arc/home/mikea/.shifty_data/tess/5/1/4/tess2018324225938-s0005-1-4-0125-s_ffic.fits\r"
     ]
    },
    {
     "name": "stderr",
     "output_type": "stream",
     "text": [
      "WARNING: FITSFixedWarning: 'datfix' made the change 'Set MJD-OBS to 58442.901198 from DATE-OBS.\n",
      "Set MJD-END to 58442.922031 from DATE-END'. [astropy.wcs.wcs]\n",
      "WARNING: FITSFixedWarning: 'datfix' made the change 'Set MJD-OBS to 58442.922031 from DATE-OBS.\n",
      "Set MJD-END to 58442.942864 from DATE-END'. [astropy.wcs.wcs]\n",
      "WARNING: FITSFixedWarning: 'datfix' made the change 'Set MJD-OBS to 58442.942864 from DATE-OBS.\n",
      "Set MJD-END to 58442.963697 from DATE-END'. [astropy.wcs.wcs]\n"
     ]
    },
    {
     "name": "stdout",
     "output_type": "stream",
     "text": [
      "Reading image 238: /arc/home/mikea/.shifty_data/tess/5/1/4/tess2018325002938-s0005-1-4-0125-s_ffic.fits\r"
     ]
    },
    {
     "name": "stderr",
     "output_type": "stream",
     "text": [
      "WARNING: FITSFixedWarning: 'datfix' made the change 'Set MJD-OBS to 58442.963698 from DATE-OBS.\n",
      "Set MJD-END to 58442.984531 from DATE-END'. [astropy.wcs.wcs]\n",
      "WARNING: FITSFixedWarning: 'datfix' made the change 'Set MJD-OBS to 58442.984531 from DATE-OBS.\n",
      "Set MJD-END to 58443.005364 from DATE-END'. [astropy.wcs.wcs]\n",
      "WARNING: FITSFixedWarning: 'datfix' made the change 'Set MJD-OBS to 58443.005364 from DATE-OBS.\n",
      "Set MJD-END to 58443.026197 from DATE-END'. [astropy.wcs.wcs]\n"
     ]
    },
    {
     "name": "stdout",
     "output_type": "stream",
     "text": [
      "Reading image 241: /arc/home/mikea/.shifty_data/tess/5/1/4/tess2018325015938-s0005-1-4-0125-s_ffic.fits\r"
     ]
    },
    {
     "name": "stderr",
     "output_type": "stream",
     "text": [
      "WARNING: FITSFixedWarning: 'datfix' made the change 'Set MJD-OBS to 58443.026198 from DATE-OBS.\n",
      "Set MJD-END to 58443.047031 from DATE-END'. [astropy.wcs.wcs]\n",
      "WARNING: FITSFixedWarning: 'datfix' made the change 'Set MJD-OBS to 58443.047031 from DATE-OBS.\n",
      "Set MJD-END to 58443.067864 from DATE-END'. [astropy.wcs.wcs]\n",
      "WARNING: FITSFixedWarning: 'datfix' made the change 'Set MJD-OBS to 58443.067864 from DATE-OBS.\n",
      "Set MJD-END to 58443.088697 from DATE-END'. [astropy.wcs.wcs]\n"
     ]
    },
    {
     "name": "stdout",
     "output_type": "stream",
     "text": [
      "Reading image 242: /arc/home/mikea/.shifty_data/tess/5/1/4/tess2018325022938-s0005-1-4-0125-s_ffic.fits\r"
     ]
    },
    {
     "name": "stderr",
     "output_type": "stream",
     "text": [
      "WARNING: FITSFixedWarning: 'datfix' made the change 'Set MJD-OBS to 58443.088698 from DATE-OBS.\n",
      "Set MJD-END to 58443.109531 from DATE-END'. [astropy.wcs.wcs]\n",
      "WARNING: FITSFixedWarning: 'datfix' made the change 'Set MJD-OBS to 58443.109531 from DATE-OBS.\n",
      "Set MJD-END to 58443.130364 from DATE-END'. [astropy.wcs.wcs]\n",
      "WARNING: FITSFixedWarning: 'datfix' made the change 'Set MJD-OBS to 58443.130364 from DATE-OBS.\n",
      "Set MJD-END to 58443.151197 from DATE-END'. [astropy.wcs.wcs]\n"
     ]
    },
    {
     "name": "stdout",
     "output_type": "stream",
     "text": [
      "Reading image 245: /arc/home/mikea/.shifty_data/tess/5/1/4/tess2018325035938-s0005-1-4-0125-s_ffic.fits\r"
     ]
    },
    {
     "name": "stderr",
     "output_type": "stream",
     "text": [
      "WARNING: FITSFixedWarning: 'datfix' made the change 'Set MJD-OBS to 58443.151197 from DATE-OBS.\n",
      "Set MJD-END to 58443.172031 from DATE-END'. [astropy.wcs.wcs]\n",
      "WARNING: FITSFixedWarning: 'datfix' made the change 'Set MJD-OBS to 58443.172031 from DATE-OBS.\n",
      "Set MJD-END to 58443.192864 from DATE-END'. [astropy.wcs.wcs]\n"
     ]
    },
    {
     "name": "stdout",
     "output_type": "stream",
     "text": [
      "Reading image 247: /arc/home/mikea/.shifty_data/tess/5/1/4/tess2018325045938-s0005-1-4-0125-s_ffic.fits\r"
     ]
    },
    {
     "name": "stderr",
     "output_type": "stream",
     "text": [
      "WARNING: FITSFixedWarning: 'datfix' made the change 'Set MJD-OBS to 58443.192864 from DATE-OBS.\n",
      "Set MJD-END to 58443.213697 from DATE-END'. [astropy.wcs.wcs]\n",
      "WARNING: FITSFixedWarning: 'datfix' made the change 'Set MJD-OBS to 58443.213697 from DATE-OBS.\n",
      "Set MJD-END to 58443.234531 from DATE-END'. [astropy.wcs.wcs]\n",
      "WARNING: FITSFixedWarning: 'datfix' made the change 'Set MJD-OBS to 58443.234531 from DATE-OBS.\n",
      "Set MJD-END to 58443.255364 from DATE-END'. [astropy.wcs.wcs]\n"
     ]
    },
    {
     "name": "stdout",
     "output_type": "stream",
     "text": [
      "Reading image 250: /arc/home/mikea/.shifty_data/tess/5/1/4/tess2018325062938-s0005-1-4-0125-s_ffic.fits\r"
     ]
    },
    {
     "name": "stderr",
     "output_type": "stream",
     "text": [
      "WARNING: FITSFixedWarning: 'datfix' made the change 'Set MJD-OBS to 58443.255364 from DATE-OBS.\n",
      "Set MJD-END to 58443.276197 from DATE-END'. [astropy.wcs.wcs]\n",
      "WARNING: FITSFixedWarning: 'datfix' made the change 'Set MJD-OBS to 58443.276197 from DATE-OBS.\n",
      "Set MJD-END to 58443.297030 from DATE-END'. [astropy.wcs.wcs]\n",
      "WARNING: FITSFixedWarning: 'datfix' made the change 'Set MJD-OBS to 58443.297031 from DATE-OBS.\n",
      "Set MJD-END to 58443.317864 from DATE-END'. [astropy.wcs.wcs]\n"
     ]
    },
    {
     "name": "stdout",
     "output_type": "stream",
     "text": [
      "Reading image 253: /arc/home/mikea/.shifty_data/tess/5/1/4/tess2018325075938-s0005-1-4-0125-s_ffic.fits\r"
     ]
    },
    {
     "name": "stderr",
     "output_type": "stream",
     "text": [
      "WARNING: FITSFixedWarning: 'datfix' made the change 'Set MJD-OBS to 58443.317864 from DATE-OBS.\n",
      "Set MJD-END to 58443.338697 from DATE-END'. [astropy.wcs.wcs]\n",
      "WARNING: FITSFixedWarning: 'datfix' made the change 'Set MJD-OBS to 58443.338697 from DATE-OBS.\n",
      "Set MJD-END to 58443.359530 from DATE-END'. [astropy.wcs.wcs]\n"
     ]
    },
    {
     "name": "stdout",
     "output_type": "stream",
     "text": [
      "Reading image 255: /arc/home/mikea/.shifty_data/tess/5/1/4/tess2018325085938-s0005-1-4-0125-s_ffic.fits\r"
     ]
    },
    {
     "name": "stderr",
     "output_type": "stream",
     "text": [
      "WARNING: FITSFixedWarning: 'datfix' made the change 'Set MJD-OBS to 58443.359531 from DATE-OBS.\n",
      "Set MJD-END to 58443.380364 from DATE-END'. [astropy.wcs.wcs]\n",
      "WARNING: FITSFixedWarning: 'datfix' made the change 'Set MJD-OBS to 58443.380364 from DATE-OBS.\n",
      "Set MJD-END to 58443.401197 from DATE-END'. [astropy.wcs.wcs]\n",
      "WARNING: FITSFixedWarning: 'datfix' made the change 'Set MJD-OBS to 58443.401197 from DATE-OBS.\n",
      "Set MJD-END to 58443.422030 from DATE-END'. [astropy.wcs.wcs]\n"
     ]
    },
    {
     "name": "stdout",
     "output_type": "stream",
     "text": [
      "Reading image 258: /arc/home/mikea/.shifty_data/tess/5/1/4/tess2018325102938-s0005-1-4-0125-s_ffic.fits\r"
     ]
    },
    {
     "name": "stderr",
     "output_type": "stream",
     "text": [
      "WARNING: FITSFixedWarning: 'datfix' made the change 'Set MJD-OBS to 58443.422030 from DATE-OBS.\n",
      "Set MJD-END to 58443.442864 from DATE-END'. [astropy.wcs.wcs]\n",
      "WARNING: FITSFixedWarning: 'datfix' made the change 'Set MJD-OBS to 58443.442864 from DATE-OBS.\n",
      "Set MJD-END to 58443.463697 from DATE-END'. [astropy.wcs.wcs]\n",
      "WARNING: FITSFixedWarning: 'datfix' made the change 'Set MJD-OBS to 58443.463697 from DATE-OBS.\n",
      "Set MJD-END to 58443.484530 from DATE-END'. [astropy.wcs.wcs]\n"
     ]
    },
    {
     "name": "stdout",
     "output_type": "stream",
     "text": [
      "Reading image 262: /arc/home/mikea/.shifty_data/tess/5/1/4/tess2018325132938-s0005-1-4-0125-s_ffic.fits\r"
     ]
    },
    {
     "name": "stderr",
     "output_type": "stream",
     "text": [
      "WARNING: FITSFixedWarning: 'datfix' made the change 'Set MJD-OBS to 58443.484530 from DATE-OBS.\n",
      "Set MJD-END to 58443.505363 from DATE-END'. [astropy.wcs.wcs]\n",
      "WARNING: FITSFixedWarning: 'datfix' made the change 'Set MJD-OBS to 58443.505364 from DATE-OBS.\n",
      "Set MJD-END to 58443.526197 from DATE-END'. [astropy.wcs.wcs]\n"
     ]
    },
    {
     "name": "stdout",
     "output_type": "stream",
     "text": [
      "Reading image 265: /arc/home/mikea/.shifty_data/tess/5/1/4/tess2018325145938-s0005-1-4-0125-s_ffic.fits\r"
     ]
    },
    {
     "name": "stderr",
     "output_type": "stream",
     "text": [
      "WARNING: FITSFixedWarning: 'datfix' made the change 'Set MJD-OBS to 58443.567864 from DATE-OBS.\n",
      "Set MJD-END to 58443.588697 from DATE-END'. [astropy.wcs.wcs]\n",
      "WARNING: FITSFixedWarning: 'datfix' made the change 'Set MJD-OBS to 58443.588697 from DATE-OBS.\n",
      "Set MJD-END to 58443.609530 from DATE-END'. [astropy.wcs.wcs]\n",
      "WARNING: FITSFixedWarning: 'datfix' made the change 'Set MJD-OBS to 58443.609530 from DATE-OBS.\n",
      "Set MJD-END to 58443.630363 from DATE-END'. [astropy.wcs.wcs]\n"
     ]
    },
    {
     "name": "stdout",
     "output_type": "stream",
     "text": [
      "Reading image 268: /arc/home/mikea/.shifty_data/tess/5/1/4/tess2018325162938-s0005-1-4-0125-s_ffic.fits\r"
     ]
    },
    {
     "name": "stderr",
     "output_type": "stream",
     "text": [
      "WARNING: FITSFixedWarning: 'datfix' made the change 'Set MJD-OBS to 58443.630363 from DATE-OBS.\n",
      "Set MJD-END to 58443.651196 from DATE-END'. [astropy.wcs.wcs]\n",
      "WARNING: FITSFixedWarning: 'datfix' made the change 'Set MJD-OBS to 58443.651197 from DATE-OBS.\n",
      "Set MJD-END to 58443.672030 from DATE-END'. [astropy.wcs.wcs]\n",
      "WARNING: FITSFixedWarning: 'datfix' made the change 'Set MJD-OBS to 58443.672030 from DATE-OBS.\n",
      "Set MJD-END to 58443.692863 from DATE-END'. [astropy.wcs.wcs]\n"
     ]
    },
    {
     "name": "stdout",
     "output_type": "stream",
     "text": [
      "Reading image 270: /arc/home/mikea/.shifty_data/tess/5/1/4/tess2018325172938-s0005-1-4-0125-s_ffic.fits\r"
     ]
    },
    {
     "name": "stderr",
     "output_type": "stream",
     "text": [
      "WARNING: FITSFixedWarning: 'datfix' made the change 'Set MJD-OBS to 58443.692863 from DATE-OBS.\n",
      "Set MJD-END to 58443.713696 from DATE-END'. [astropy.wcs.wcs]\n",
      "WARNING: FITSFixedWarning: 'datfix' made the change 'Set MJD-OBS to 58443.713697 from DATE-OBS.\n",
      "Set MJD-END to 58443.734530 from DATE-END'. [astropy.wcs.wcs]\n"
     ]
    },
    {
     "name": "stdout",
     "output_type": "stream",
     "text": [
      "Reading image 273: /arc/home/mikea/.shifty_data/tess/5/1/4/tess2018325185938-s0005-1-4-0125-s_ffic.fits\r"
     ]
    },
    {
     "name": "stderr",
     "output_type": "stream",
     "text": [
      "WARNING: FITSFixedWarning: 'datfix' made the change 'Set MJD-OBS to 58443.734530 from DATE-OBS.\n",
      "Set MJD-END to 58443.755363 from DATE-END'. [astropy.wcs.wcs]\n",
      "WARNING: FITSFixedWarning: 'datfix' made the change 'Set MJD-OBS to 58443.755363 from DATE-OBS.\n",
      "Set MJD-END to 58443.776196 from DATE-END'. [astropy.wcs.wcs]\n",
      "WARNING: FITSFixedWarning: 'datfix' made the change 'Set MJD-OBS to 58443.776196 from DATE-OBS.\n",
      "Set MJD-END to 58443.797029 from DATE-END'. [astropy.wcs.wcs]\n"
     ]
    },
    {
     "name": "stdout",
     "output_type": "stream",
     "text": [
      "Reading image 275: /arc/home/mikea/.shifty_data/tess/5/1/4/tess2018325195938-s0005-1-4-0125-s_ffic.fits\r"
     ]
    },
    {
     "name": "stderr",
     "output_type": "stream",
     "text": [
      "WARNING: FITSFixedWarning: 'datfix' made the change 'Set MJD-OBS to 58443.797030 from DATE-OBS.\n",
      "Set MJD-END to 58443.817863 from DATE-END'. [astropy.wcs.wcs]\n",
      "WARNING: FITSFixedWarning: 'datfix' made the change 'Set MJD-OBS to 58443.817863 from DATE-OBS.\n",
      "Set MJD-END to 58443.838696 from DATE-END'. [astropy.wcs.wcs]\n",
      "WARNING: FITSFixedWarning: 'datfix' made the change 'Set MJD-OBS to 58443.838696 from DATE-OBS.\n",
      "Set MJD-END to 58443.859529 from DATE-END'. [astropy.wcs.wcs]\n"
     ]
    },
    {
     "name": "stdout",
     "output_type": "stream",
     "text": [
      "Reading image 278: /arc/home/mikea/.shifty_data/tess/5/1/4/tess2018325212938-s0005-1-4-0125-s_ffic.fits\r"
     ]
    },
    {
     "name": "stderr",
     "output_type": "stream",
     "text": [
      "WARNING: FITSFixedWarning: 'datfix' made the change 'Set MJD-OBS to 58443.859530 from DATE-OBS.\n",
      "Set MJD-END to 58443.880363 from DATE-END'. [astropy.wcs.wcs]\n",
      "WARNING: FITSFixedWarning: 'datfix' made the change 'Set MJD-OBS to 58443.880363 from DATE-OBS.\n",
      "Set MJD-END to 58443.901196 from DATE-END'. [astropy.wcs.wcs]\n",
      "WARNING: FITSFixedWarning: 'datfix' made the change 'Set MJD-OBS to 58443.901196 from DATE-OBS.\n",
      "Set MJD-END to 58443.922029 from DATE-END'. [astropy.wcs.wcs]\n"
     ]
    },
    {
     "name": "stdout",
     "output_type": "stream",
     "text": [
      "Reading image 281: /arc/home/mikea/.shifty_data/tess/5/1/4/tess2018325225938-s0005-1-4-0125-s_ffic.fits\r"
     ]
    },
    {
     "name": "stderr",
     "output_type": "stream",
     "text": [
      "WARNING: FITSFixedWarning: 'datfix' made the change 'Set MJD-OBS to 58443.922029 from DATE-OBS.\n",
      "Set MJD-END to 58443.942862 from DATE-END'. [astropy.wcs.wcs]\n",
      "WARNING: FITSFixedWarning: 'datfix' made the change 'Set MJD-OBS to 58443.942863 from DATE-OBS.\n",
      "Set MJD-END to 58443.963696 from DATE-END'. [astropy.wcs.wcs]\n"
     ]
    },
    {
     "name": "stdout",
     "output_type": "stream",
     "text": [
      "Reading image 283: /arc/home/mikea/.shifty_data/tess/5/1/4/tess2018325235938-s0005-1-4-0125-s_ffic.fits\r"
     ]
    },
    {
     "name": "stderr",
     "output_type": "stream",
     "text": [
      "WARNING: FITSFixedWarning: 'datfix' made the change 'Set MJD-OBS to 58443.963696 from DATE-OBS.\n",
      "Set MJD-END to 58443.984529 from DATE-END'. [astropy.wcs.wcs]\n",
      "WARNING: FITSFixedWarning: 'datfix' made the change 'Set MJD-OBS to 58443.984529 from DATE-OBS.\n",
      "Set MJD-END to 58444.005362 from DATE-END'. [astropy.wcs.wcs]\n",
      "WARNING: FITSFixedWarning: 'datfix' made the change 'Set MJD-OBS to 58444.005362 from DATE-OBS.\n",
      "Set MJD-END to 58444.026196 from DATE-END'. [astropy.wcs.wcs]\n"
     ]
    },
    {
     "name": "stdout",
     "output_type": "stream",
     "text": [
      "Reading image 286: /arc/home/mikea/.shifty_data/tess/5/1/4/tess2018326012938-s0005-1-4-0125-s_ffic.fits\r"
     ]
    },
    {
     "name": "stderr",
     "output_type": "stream",
     "text": [
      "WARNING: FITSFixedWarning: 'datfix' made the change 'Set MJD-OBS to 58444.026196 from DATE-OBS.\n",
      "Set MJD-END to 58444.047029 from DATE-END'. [astropy.wcs.wcs]\n",
      "WARNING: FITSFixedWarning: 'datfix' made the change 'Set MJD-OBS to 58444.047029 from DATE-OBS.\n",
      "Set MJD-END to 58444.067862 from DATE-END'. [astropy.wcs.wcs]\n",
      "WARNING: FITSFixedWarning: 'datfix' made the change 'Set MJD-OBS to 58444.067862 from DATE-OBS.\n",
      "Set MJD-END to 58444.088695 from DATE-END'. [astropy.wcs.wcs]\n"
     ]
    },
    {
     "name": "stdout",
     "output_type": "stream",
     "text": [
      "Reading image 289: /arc/home/mikea/.shifty_data/tess/5/1/4/tess2018326025938-s0005-1-4-0125-s_ffic.fits\r"
     ]
    },
    {
     "name": "stderr",
     "output_type": "stream",
     "text": [
      "WARNING: FITSFixedWarning: 'datfix' made the change 'Set MJD-OBS to 58444.088695 from DATE-OBS.\n",
      "Set MJD-END to 58444.109529 from DATE-END'. [astropy.wcs.wcs]\n",
      "WARNING: FITSFixedWarning: 'datfix' made the change 'Set MJD-OBS to 58444.109529 from DATE-OBS.\n",
      "Set MJD-END to 58444.130362 from DATE-END'. [astropy.wcs.wcs]\n",
      "WARNING: FITSFixedWarning: 'datfix' made the change 'Set MJD-OBS to 58444.130362 from DATE-OBS.\n",
      "Set MJD-END to 58444.151195 from DATE-END'. [astropy.wcs.wcs]\n"
     ]
    },
    {
     "name": "stdout",
     "output_type": "stream",
     "text": [
      "Reading image 292: /arc/home/mikea/.shifty_data/tess/5/1/4/tess2018326042938-s0005-1-4-0125-s_ffic.fits\r"
     ]
    },
    {
     "name": "stderr",
     "output_type": "stream",
     "text": [
      "WARNING: FITSFixedWarning: 'datfix' made the change 'Set MJD-OBS to 58444.151195 from DATE-OBS.\n",
      "Set MJD-END to 58444.172028 from DATE-END'. [astropy.wcs.wcs]\n",
      "WARNING: FITSFixedWarning: 'datfix' made the change 'Set MJD-OBS to 58444.172029 from DATE-OBS.\n",
      "Set MJD-END to 58444.192862 from DATE-END'. [astropy.wcs.wcs]\n",
      "WARNING: FITSFixedWarning: 'datfix' made the change 'Set MJD-OBS to 58444.192862 from DATE-OBS.\n",
      "Set MJD-END to 58444.213695 from DATE-END'. [astropy.wcs.wcs]\n"
     ]
    },
    {
     "name": "stdout",
     "output_type": "stream",
     "text": [
      "Reading image 294: /arc/home/mikea/.shifty_data/tess/5/1/4/tess2018326052938-s0005-1-4-0125-s_ffic.fits\r"
     ]
    },
    {
     "name": "stderr",
     "output_type": "stream",
     "text": [
      "WARNING: FITSFixedWarning: 'datfix' made the change 'Set MJD-OBS to 58444.213695 from DATE-OBS.\n",
      "Set MJD-END to 58444.234528 from DATE-END'. [astropy.wcs.wcs]\n",
      "WARNING: FITSFixedWarning: 'datfix' made the change 'Set MJD-OBS to 58444.234528 from DATE-OBS.\n",
      "Set MJD-END to 58444.255361 from DATE-END'. [astropy.wcs.wcs]\n",
      "WARNING: FITSFixedWarning: 'datfix' made the change 'Set MJD-OBS to 58444.255362 from DATE-OBS.\n",
      "Set MJD-END to 58444.276195 from DATE-END'. [astropy.wcs.wcs]\n"
     ]
    },
    {
     "name": "stdout",
     "output_type": "stream",
     "text": [
      "Reading image 297: /arc/home/mikea/.shifty_data/tess/5/1/4/tess2018326065938-s0005-1-4-0125-s_ffic.fits\r"
     ]
    },
    {
     "name": "stderr",
     "output_type": "stream",
     "text": [
      "WARNING: FITSFixedWarning: 'datfix' made the change 'Set MJD-OBS to 58444.276195 from DATE-OBS.\n",
      "Set MJD-END to 58444.297028 from DATE-END'. [astropy.wcs.wcs]\n",
      "WARNING: FITSFixedWarning: 'datfix' made the change 'Set MJD-OBS to 58444.297028 from DATE-OBS.\n",
      "Set MJD-END to 58444.317861 from DATE-END'. [astropy.wcs.wcs]\n"
     ]
    },
    {
     "name": "stdout",
     "output_type": "stream",
     "text": [
      "Reading image 298: /arc/home/mikea/.shifty_data/tess/5/1/4/tess2018326072938-s0005-1-4-0125-s_ffic.fits\r"
     ]
    },
    {
     "name": "stderr",
     "output_type": "stream",
     "text": [
      "WARNING: FITSFixedWarning: 'datfix' made the change 'Set MJD-OBS to 58444.317861 from DATE-OBS.\n",
      "Set MJD-END to 58444.338694 from DATE-END'. [astropy.wcs.wcs]\n",
      "WARNING: FITSFixedWarning: 'datfix' made the change 'Set MJD-OBS to 58444.338695 from DATE-OBS.\n",
      "Set MJD-END to 58444.359528 from DATE-END'. [astropy.wcs.wcs]\n"
     ]
    },
    {
     "name": "stdout",
     "output_type": "stream",
     "text": [
      "Reading image 302: /arc/home/mikea/.shifty_data/tess/5/1/4/tess2018326092938-s0005-1-4-0125-s_ffic.fits\r"
     ]
    },
    {
     "name": "stderr",
     "output_type": "stream",
     "text": [
      "WARNING: FITSFixedWarning: 'datfix' made the change 'Set MJD-OBS to 58444.359528 from DATE-OBS.\n",
      "Set MJD-END to 58444.380361 from DATE-END'. [astropy.wcs.wcs]\n",
      "WARNING: FITSFixedWarning: 'datfix' made the change 'Set MJD-OBS to 58444.380361 from DATE-OBS.\n",
      "Set MJD-END to 58444.401194 from DATE-END'. [astropy.wcs.wcs]\n"
     ]
    },
    {
     "name": "stdout",
     "output_type": "stream",
     "text": [
      "Reading image 305: /arc/home/mikea/.shifty_data/tess/5/1/4/tess2018326105938-s0005-1-4-0125-s_ffic.fits\r"
     ]
    },
    {
     "name": "stderr",
     "output_type": "stream",
     "text": [
      "WARNING: FITSFixedWarning: 'datfix' made the change 'Set MJD-OBS to 58444.401194 from DATE-OBS.\n",
      "Set MJD-END to 58444.422027 from DATE-END'. [astropy.wcs.wcs]\n",
      "WARNING: FITSFixedWarning: 'datfix' made the change 'Set MJD-OBS to 58444.422028 from DATE-OBS.\n",
      "Set MJD-END to 58444.442861 from DATE-END'. [astropy.wcs.wcs]\n",
      "WARNING: FITSFixedWarning: 'datfix' made the change 'Set MJD-OBS to 58444.442861 from DATE-OBS.\n",
      "Set MJD-END to 58444.463694 from DATE-END'. [astropy.wcs.wcs]\n"
     ]
    },
    {
     "name": "stdout",
     "output_type": "stream",
     "text": [
      "Reading image 307: /arc/home/mikea/.shifty_data/tess/5/1/4/tess2018326115938-s0005-1-4-0125-s_ffic.fits\r"
     ]
    },
    {
     "name": "stderr",
     "output_type": "stream",
     "text": [
      "WARNING: FITSFixedWarning: 'datfix' made the change 'Set MJD-OBS to 58444.463694 from DATE-OBS.\n",
      "Set MJD-END to 58444.484527 from DATE-END'. [astropy.wcs.wcs]\n",
      "WARNING: FITSFixedWarning: 'datfix' made the change 'Set MJD-OBS to 58444.484527 from DATE-OBS.\n",
      "Set MJD-END to 58444.505360 from DATE-END'. [astropy.wcs.wcs]\n"
     ]
    },
    {
     "name": "stdout",
     "output_type": "stream",
     "text": [
      "Reading image 309: /arc/home/mikea/.shifty_data/tess/5/1/4/tess2018326125938-s0005-1-4-0125-s_ffic.fits\r"
     ]
    },
    {
     "name": "stderr",
     "output_type": "stream",
     "text": [
      "WARNING: FITSFixedWarning: 'datfix' made the change 'Set MJD-OBS to 58444.505361 from DATE-OBS.\n",
      "Set MJD-END to 58444.526194 from DATE-END'. [astropy.wcs.wcs]\n",
      "WARNING: FITSFixedWarning: 'datfix' made the change 'Set MJD-OBS to 58444.526194 from DATE-OBS.\n",
      "Set MJD-END to 58444.547027 from DATE-END'. [astropy.wcs.wcs]\n"
     ]
    },
    {
     "name": "stdout",
     "output_type": "stream",
     "text": [
      "Reading image 311: /arc/home/mikea/.shifty_data/tess/5/1/4/tess2018326135938-s0005-1-4-0125-s_ffic.fits\r"
     ]
    },
    {
     "name": "stderr",
     "output_type": "stream",
     "text": [
      "WARNING: FITSFixedWarning: 'datfix' made the change 'Set MJD-OBS to 58444.547027 from DATE-OBS.\n",
      "Set MJD-END to 58444.567860 from DATE-END'. [astropy.wcs.wcs]\n",
      "WARNING: FITSFixedWarning: 'datfix' made the change 'Set MJD-OBS to 58444.567860 from DATE-OBS.\n",
      "Set MJD-END to 58444.588693 from DATE-END'. [astropy.wcs.wcs]\n"
     ]
    },
    {
     "name": "stdout",
     "output_type": "stream",
     "text": [
      "Reading image 313: /arc/home/mikea/.shifty_data/tess/5/1/4/tess2018326145938-s0005-1-4-0125-s_ffic.fits\r"
     ]
    },
    {
     "name": "stderr",
     "output_type": "stream",
     "text": [
      "WARNING: FITSFixedWarning: 'datfix' made the change 'Set MJD-OBS to 58444.588694 from DATE-OBS.\n",
      "Set MJD-END to 58444.609527 from DATE-END'. [astropy.wcs.wcs]\n",
      "WARNING: FITSFixedWarning: 'datfix' made the change 'Set MJD-OBS to 58444.609527 from DATE-OBS.\n",
      "Set MJD-END to 58444.630360 from DATE-END'. [astropy.wcs.wcs]\n"
     ]
    },
    {
     "name": "stdout",
     "output_type": "stream",
     "text": [
      "Reading image 315: /arc/home/mikea/.shifty_data/tess/5/1/4/tess2018326155938-s0005-1-4-0125-s_ffic.fits\r"
     ]
    },
    {
     "name": "stderr",
     "output_type": "stream",
     "text": [
      "WARNING: FITSFixedWarning: 'datfix' made the change 'Set MJD-OBS to 58444.630360 from DATE-OBS.\n",
      "Set MJD-END to 58444.651193 from DATE-END'. [astropy.wcs.wcs]\n",
      "WARNING: FITSFixedWarning: 'datfix' made the change 'Set MJD-OBS to 58444.651193 from DATE-OBS.\n",
      "Set MJD-END to 58444.672026 from DATE-END'. [astropy.wcs.wcs]\n",
      "WARNING: FITSFixedWarning: 'datfix' made the change 'Set MJD-OBS to 58444.672027 from DATE-OBS.\n",
      "Set MJD-END to 58444.692860 from DATE-END'. [astropy.wcs.wcs]\n"
     ]
    },
    {
     "name": "stdout",
     "output_type": "stream",
     "text": [
      "Reading image 318: /arc/home/mikea/.shifty_data/tess/5/1/4/tess2018326172938-s0005-1-4-0125-s_ffic.fits\r"
     ]
    },
    {
     "name": "stderr",
     "output_type": "stream",
     "text": [
      "WARNING: FITSFixedWarning: 'datfix' made the change 'Set MJD-OBS to 58444.692860 from DATE-OBS.\n",
      "Set MJD-END to 58444.713693 from DATE-END'. [astropy.wcs.wcs]\n",
      "WARNING: FITSFixedWarning: 'datfix' made the change 'Set MJD-OBS to 58444.713693 from DATE-OBS.\n",
      "Set MJD-END to 58444.734526 from DATE-END'. [astropy.wcs.wcs]\n",
      "WARNING: FITSFixedWarning: 'datfix' made the change 'Set MJD-OBS to 58444.734526 from DATE-OBS.\n",
      "Set MJD-END to 58444.755359 from DATE-END'. [astropy.wcs.wcs]\n"
     ]
    },
    {
     "name": "stdout",
     "output_type": "stream",
     "text": [
      "Reading image 320: /arc/home/mikea/.shifty_data/tess/5/1/4/tess2018326182938-s0005-1-4-0125-s_ffic.fits\r"
     ]
    },
    {
     "name": "stderr",
     "output_type": "stream",
     "text": [
      "WARNING: FITSFixedWarning: 'datfix' made the change 'Set MJD-OBS to 58444.755360 from DATE-OBS.\n",
      "Set MJD-END to 58444.776193 from DATE-END'. [astropy.wcs.wcs]\n",
      "WARNING: FITSFixedWarning: 'datfix' made the change 'Set MJD-OBS to 58444.776193 from DATE-OBS.\n",
      "Set MJD-END to 58444.797026 from DATE-END'. [astropy.wcs.wcs]\n",
      "WARNING: FITSFixedWarning: 'datfix' made the change 'Set MJD-OBS to 58444.797026 from DATE-OBS.\n",
      "Set MJD-END to 58444.817859 from DATE-END'. [astropy.wcs.wcs]\n"
     ]
    },
    {
     "name": "stdout",
     "output_type": "stream",
     "text": [
      "Reading image 323: /arc/home/mikea/.shifty_data/tess/5/1/4/tess2018326195938-s0005-1-4-0125-s_ffic.fits\r"
     ]
    },
    {
     "name": "stderr",
     "output_type": "stream",
     "text": [
      "WARNING: FITSFixedWarning: 'datfix' made the change 'Set MJD-OBS to 58444.817859 from DATE-OBS.\n",
      "Set MJD-END to 58444.838692 from DATE-END'. [astropy.wcs.wcs]\n",
      "WARNING: FITSFixedWarning: 'datfix' made the change 'Set MJD-OBS to 58444.838692 from DATE-OBS.\n",
      "Set MJD-END to 58444.859526 from DATE-END'. [astropy.wcs.wcs]\n",
      "WARNING: FITSFixedWarning: 'datfix' made the change 'Set MJD-OBS to 58444.859526 from DATE-OBS.\n",
      "Set MJD-END to 58444.880359 from DATE-END'. [astropy.wcs.wcs]\n"
     ]
    },
    {
     "name": "stdout",
     "output_type": "stream",
     "text": [
      "Reading image 326: /arc/home/mikea/.shifty_data/tess/5/1/4/tess2018326212938-s0005-1-4-0125-s_ffic.fits\r"
     ]
    },
    {
     "name": "stderr",
     "output_type": "stream",
     "text": [
      "WARNING: FITSFixedWarning: 'datfix' made the change 'Set MJD-OBS to 58444.880359 from DATE-OBS.\n",
      "Set MJD-END to 58444.901192 from DATE-END'. [astropy.wcs.wcs]\n",
      "WARNING: FITSFixedWarning: 'datfix' made the change 'Set MJD-OBS to 58444.901192 from DATE-OBS.\n",
      "Set MJD-END to 58444.922025 from DATE-END'. [astropy.wcs.wcs]\n",
      "WARNING: FITSFixedWarning: 'datfix' made the change 'Set MJD-OBS to 58444.922025 from DATE-OBS.\n",
      "Set MJD-END to 58444.942858 from DATE-END'. [astropy.wcs.wcs]\n"
     ]
    },
    {
     "name": "stdout",
     "output_type": "stream",
     "text": [
      "Reading image 329: /arc/home/mikea/.shifty_data/tess/5/1/4/tess2018326225938-s0005-1-4-0125-s_ffic.fits\r"
     ]
    },
    {
     "name": "stderr",
     "output_type": "stream",
     "text": [
      "WARNING: FITSFixedWarning: 'datfix' made the change 'Set MJD-OBS to 58444.942859 from DATE-OBS.\n",
      "Set MJD-END to 58444.963692 from DATE-END'. [astropy.wcs.wcs]\n",
      "WARNING: FITSFixedWarning: 'datfix' made the change 'Set MJD-OBS to 58444.963692 from DATE-OBS.\n",
      "Set MJD-END to 58444.984525 from DATE-END'. [astropy.wcs.wcs]\n",
      "WARNING: FITSFixedWarning: 'datfix' made the change 'Set MJD-OBS to 58444.984525 from DATE-OBS.\n",
      "Set MJD-END to 58445.005358 from DATE-END'. [astropy.wcs.wcs]\n"
     ]
    },
    {
     "name": "stdout",
     "output_type": "stream",
     "text": [
      "Reading image 333: /arc/home/mikea/.shifty_data/tess/5/1/4/tess2018327005938-s0005-1-4-0125-s_ffic.fits\r"
     ]
    },
    {
     "name": "stderr",
     "output_type": "stream",
     "text": [
      "WARNING: FITSFixedWarning: 'datfix' made the change 'Set MJD-OBS to 58445.005358 from DATE-OBS.\n",
      "Set MJD-END to 58445.026191 from DATE-END'. [astropy.wcs.wcs]\n",
      "WARNING: FITSFixedWarning: 'datfix' made the change 'Set MJD-OBS to 58445.026192 from DATE-OBS.\n",
      "Set MJD-END to 58445.047025 from DATE-END'. [astropy.wcs.wcs]\n"
     ]
    },
    {
     "name": "stdout",
     "output_type": "stream",
     "text": [
      "Reading image 336: /arc/home/mikea/.shifty_data/tess/5/1/4/tess2018327022938-s0005-1-4-0125-s_ffic.fits\r"
     ]
    },
    {
     "name": "stderr",
     "output_type": "stream",
     "text": [
      "WARNING: FITSFixedWarning: 'datfix' made the change 'Set MJD-OBS to 58445.047025 from DATE-OBS.\n",
      "Set MJD-END to 58445.067858 from DATE-END'. [astropy.wcs.wcs]\n",
      "WARNING: FITSFixedWarning: 'datfix' made the change 'Set MJD-OBS to 58445.067858 from DATE-OBS.\n",
      "Set MJD-END to 58445.088691 from DATE-END'. [astropy.wcs.wcs]\n",
      "WARNING: FITSFixedWarning: 'datfix' made the change 'Set MJD-OBS to 58445.088691 from DATE-OBS.\n",
      "Set MJD-END to 58445.109524 from DATE-END'. [astropy.wcs.wcs]\n"
     ]
    },
    {
     "name": "stdout",
     "output_type": "stream",
     "text": [
      "Reading image 339: /arc/home/mikea/.shifty_data/tess/5/1/4/tess2018327035938-s0005-1-4-0125-s_ffic.fits\r"
     ]
    },
    {
     "name": "stderr",
     "output_type": "stream",
     "text": [
      "WARNING: FITSFixedWarning: 'datfix' made the change 'Set MJD-OBS to 58445.109524 from DATE-OBS.\n",
      "Set MJD-END to 58445.130357 from DATE-END'. [astropy.wcs.wcs]\n",
      "WARNING: FITSFixedWarning: 'datfix' made the change 'Set MJD-OBS to 58445.130358 from DATE-OBS.\n",
      "Set MJD-END to 58445.151191 from DATE-END'. [astropy.wcs.wcs]\n",
      "WARNING: FITSFixedWarning: 'datfix' made the change 'Set MJD-OBS to 58445.151191 from DATE-OBS.\n",
      "Set MJD-END to 58445.172024 from DATE-END'. [astropy.wcs.wcs]\n"
     ]
    },
    {
     "name": "stdout",
     "output_type": "stream",
     "text": [
      "Reading image 342: /arc/home/mikea/.shifty_data/tess/5/1/4/tess2018327052938-s0005-1-4-0125-s_ffic.fits\r"
     ]
    },
    {
     "name": "stderr",
     "output_type": "stream",
     "text": [
      "WARNING: FITSFixedWarning: 'datfix' made the change 'Set MJD-OBS to 58445.172024 from DATE-OBS.\n",
      "Set MJD-END to 58445.192857 from DATE-END'. [astropy.wcs.wcs]\n",
      "WARNING: FITSFixedWarning: 'datfix' made the change 'Set MJD-OBS to 58445.192857 from DATE-OBS.\n",
      "Set MJD-END to 58445.213690 from DATE-END'. [astropy.wcs.wcs]\n",
      "WARNING: FITSFixedWarning: 'datfix' made the change 'Set MJD-OBS to 58445.213690 from DATE-OBS.\n",
      "Set MJD-END to 58445.234524 from DATE-END'. [astropy.wcs.wcs]\n"
     ]
    },
    {
     "name": "stdout",
     "output_type": "stream",
     "text": [
      "Reading image 345: /arc/home/mikea/.shifty_data/tess/5/1/4/tess2018327065938-s0005-1-4-0125-s_ffic.fits\r"
     ]
    },
    {
     "name": "stderr",
     "output_type": "stream",
     "text": [
      "WARNING: FITSFixedWarning: 'datfix' made the change 'Set MJD-OBS to 58445.234524 from DATE-OBS.\n",
      "Set MJD-END to 58445.255357 from DATE-END'. [astropy.wcs.wcs]\n",
      "WARNING: FITSFixedWarning: 'datfix' made the change 'Set MJD-OBS to 58445.255357 from DATE-OBS.\n",
      "Set MJD-END to 58445.276190 from DATE-END'. [astropy.wcs.wcs]\n",
      "WARNING: FITSFixedWarning: 'datfix' made the change 'Set MJD-OBS to 58445.276190 from DATE-OBS.\n",
      "Set MJD-END to 58445.297023 from DATE-END'. [astropy.wcs.wcs]\n"
     ]
    },
    {
     "name": "stdout",
     "output_type": "stream",
     "text": [
      "Reading image 348: /arc/home/mikea/.shifty_data/tess/5/1/4/tess2018327082938-s0005-1-4-0125-s_ffic.fits\r"
     ]
    },
    {
     "name": "stderr",
     "output_type": "stream",
     "text": [
      "WARNING: FITSFixedWarning: 'datfix' made the change 'Set MJD-OBS to 58445.297023 from DATE-OBS.\n",
      "Set MJD-END to 58445.317856 from DATE-END'. [astropy.wcs.wcs]\n",
      "WARNING: FITSFixedWarning: 'datfix' made the change 'Set MJD-OBS to 58445.317857 from DATE-OBS.\n",
      "Set MJD-END to 58445.338690 from DATE-END'. [astropy.wcs.wcs]\n",
      "WARNING: FITSFixedWarning: 'datfix' made the change 'Set MJD-OBS to 58445.338690 from DATE-OBS.\n",
      "Set MJD-END to 58445.359523 from DATE-END'. [astropy.wcs.wcs]\n"
     ]
    },
    {
     "name": "stdout",
     "output_type": "stream",
     "text": [
      "Reading image 351: /arc/home/mikea/.shifty_data/tess/5/1/4/tess2018327095938-s0005-1-4-0125-s_ffic.fits\r"
     ]
    },
    {
     "name": "stderr",
     "output_type": "stream",
     "text": [
      "WARNING: FITSFixedWarning: 'datfix' made the change 'Set MJD-OBS to 58445.359523 from DATE-OBS.\n",
      "Set MJD-END to 58445.380356 from DATE-END'. [astropy.wcs.wcs]\n",
      "WARNING: FITSFixedWarning: 'datfix' made the change 'Set MJD-OBS to 58445.380356 from DATE-OBS.\n",
      "Set MJD-END to 58445.401189 from DATE-END'. [astropy.wcs.wcs]\n",
      "WARNING: FITSFixedWarning: 'datfix' made the change 'Set MJD-OBS to 58445.401189 from DATE-OBS.\n",
      "Set MJD-END to 58445.422022 from DATE-END'. [astropy.wcs.wcs]\n"
     ]
    },
    {
     "name": "stdout",
     "output_type": "stream",
     "text": [
      "Reading image 354: /arc/home/mikea/.shifty_data/tess/5/1/4/tess2018327112938-s0005-1-4-0125-s_ffic.fits\r"
     ]
    },
    {
     "name": "stderr",
     "output_type": "stream",
     "text": [
      "WARNING: FITSFixedWarning: 'datfix' made the change 'Set MJD-OBS to 58445.422023 from DATE-OBS.\n",
      "Set MJD-END to 58445.442856 from DATE-END'. [astropy.wcs.wcs]\n",
      "WARNING: FITSFixedWarning: 'datfix' made the change 'Set MJD-OBS to 58445.442856 from DATE-OBS.\n",
      "Set MJD-END to 58445.463689 from DATE-END'. [astropy.wcs.wcs]\n",
      "WARNING: FITSFixedWarning: 'datfix' made the change 'Set MJD-OBS to 58445.463689 from DATE-OBS.\n",
      "Set MJD-END to 58445.484522 from DATE-END'. [astropy.wcs.wcs]\n"
     ]
    },
    {
     "name": "stdout",
     "output_type": "stream",
     "text": [
      "Reading image 357: /arc/home/mikea/.shifty_data/tess/5/1/4/tess2018327125938-s0005-1-4-0125-s_ffic.fits\r"
     ]
    },
    {
     "name": "stderr",
     "output_type": "stream",
     "text": [
      "WARNING: FITSFixedWarning: 'datfix' made the change 'Set MJD-OBS to 58445.484522 from DATE-OBS.\n",
      "Set MJD-END to 58445.505355 from DATE-END'. [astropy.wcs.wcs]\n",
      "WARNING: FITSFixedWarning: 'datfix' made the change 'Set MJD-OBS to 58445.505355 from DATE-OBS.\n",
      "Set MJD-END to 58445.526188 from DATE-END'. [astropy.wcs.wcs]\n",
      "WARNING: FITSFixedWarning: 'datfix' made the change 'Set MJD-OBS to 58445.526189 from DATE-OBS.\n",
      "Set MJD-END to 58445.547022 from DATE-END'. [astropy.wcs.wcs]\n"
     ]
    },
    {
     "name": "stdout",
     "output_type": "stream",
     "text": [
      "Reading image 359: /arc/home/mikea/.shifty_data/tess/5/1/4/tess2018327135938-s0005-1-4-0125-s_ffic.fits\r"
     ]
    },
    {
     "name": "stderr",
     "output_type": "stream",
     "text": [
      "WARNING: FITSFixedWarning: 'datfix' made the change 'Set MJD-OBS to 58445.547022 from DATE-OBS.\n",
      "Set MJD-END to 58445.567855 from DATE-END'. [astropy.wcs.wcs]\n",
      "WARNING: FITSFixedWarning: 'datfix' made the change 'Set MJD-OBS to 58445.567855 from DATE-OBS.\n",
      "Set MJD-END to 58445.588688 from DATE-END'. [astropy.wcs.wcs]\n"
     ]
    },
    {
     "name": "stdout",
     "output_type": "stream",
     "text": [
      "Reading image 361: /arc/home/mikea/.shifty_data/tess/5/1/4/tess2018327145938-s0005-1-4-0125-s_ffic.fits\r"
     ]
    },
    {
     "name": "stderr",
     "output_type": "stream",
     "text": [
      "WARNING: FITSFixedWarning: 'datfix' made the change 'Set MJD-OBS to 58445.588688 from DATE-OBS.\n",
      "Set MJD-END to 58445.609521 from DATE-END'. [astropy.wcs.wcs]\n",
      "WARNING: FITSFixedWarning: 'datfix' made the change 'Set MJD-OBS to 58445.609521 from DATE-OBS.\n",
      "Set MJD-END to 58445.630354 from DATE-END'. [astropy.wcs.wcs]\n"
     ]
    },
    {
     "name": "stdout",
     "output_type": "stream",
     "text": [
      "Reading image 364: /arc/home/mikea/.shifty_data/tess/5/1/4/tess2018327162938-s0005-1-4-0125-s_ffic.fits\r"
     ]
    },
    {
     "name": "stderr",
     "output_type": "stream",
     "text": [
      "WARNING: FITSFixedWarning: 'datfix' made the change 'Set MJD-OBS to 58445.630355 from DATE-OBS.\n",
      "Set MJD-END to 58445.651188 from DATE-END'. [astropy.wcs.wcs]\n",
      "WARNING: FITSFixedWarning: 'datfix' made the change 'Set MJD-OBS to 58445.651188 from DATE-OBS.\n",
      "Set MJD-END to 58445.672021 from DATE-END'. [astropy.wcs.wcs]\n",
      "WARNING: FITSFixedWarning: 'datfix' made the change 'Set MJD-OBS to 58445.672021 from DATE-OBS.\n",
      "Set MJD-END to 58445.692854 from DATE-END'. [astropy.wcs.wcs]\n"
     ]
    },
    {
     "name": "stdout",
     "output_type": "stream",
     "text": [
      "Reading image 366: /arc/home/mikea/.shifty_data/tess/5/1/4/tess2018327172938-s0005-1-4-0125-s_ffic.fits\r"
     ]
    },
    {
     "name": "stderr",
     "output_type": "stream",
     "text": [
      "WARNING: FITSFixedWarning: 'datfix' made the change 'Set MJD-OBS to 58445.692854 from DATE-OBS.\n",
      "Set MJD-END to 58445.713687 from DATE-END'. [astropy.wcs.wcs]\n",
      "WARNING: FITSFixedWarning: 'datfix' made the change 'Set MJD-OBS to 58445.713687 from DATE-OBS.\n",
      "Set MJD-END to 58445.734520 from DATE-END'. [astropy.wcs.wcs]\n"
     ]
    },
    {
     "name": "stdout",
     "output_type": "stream",
     "text": [
      "Reading image 368: /arc/home/mikea/.shifty_data/tess/5/1/4/tess2018327182938-s0005-1-4-0125-s_ffic.fits\r"
     ]
    },
    {
     "name": "stderr",
     "output_type": "stream",
     "text": [
      "WARNING: FITSFixedWarning: 'datfix' made the change 'Set MJD-OBS to 58445.734521 from DATE-OBS.\n",
      "Set MJD-END to 58445.755354 from DATE-END'. [astropy.wcs.wcs]\n",
      "WARNING: FITSFixedWarning: 'datfix' made the change 'Set MJD-OBS to 58445.755354 from DATE-OBS.\n",
      "Set MJD-END to 58445.776187 from DATE-END'. [astropy.wcs.wcs]\n"
     ]
    },
    {
     "name": "stdout",
     "output_type": "stream",
     "text": [
      "Reading image 370: /arc/home/mikea/.shifty_data/tess/5/1/4/tess2018327192938-s0005-1-4-0125-s_ffic.fits\r"
     ]
    },
    {
     "name": "stderr",
     "output_type": "stream",
     "text": [
      "WARNING: FITSFixedWarning: 'datfix' made the change 'Set MJD-OBS to 58445.776187 from DATE-OBS.\n",
      "Set MJD-END to 58445.797020 from DATE-END'. [astropy.wcs.wcs]\n",
      "WARNING: FITSFixedWarning: 'datfix' made the change 'Set MJD-OBS to 58445.797020 from DATE-OBS.\n",
      "Set MJD-END to 58445.817853 from DATE-END'. [astropy.wcs.wcs]\n"
     ]
    },
    {
     "name": "stdout",
     "output_type": "stream",
     "text": [
      "Reading image 371: /arc/home/mikea/.shifty_data/tess/5/1/4/tess2018327195938-s0005-1-4-0125-s_ffic.fits\r"
     ]
    },
    {
     "name": "stderr",
     "output_type": "stream",
     "text": [
      "WARNING: FITSFixedWarning: 'datfix' made the change 'Set MJD-OBS to 58445.817853 from DATE-OBS.\n",
      "Set MJD-END to 58445.838686 from DATE-END'. [astropy.wcs.wcs]\n",
      "WARNING: FITSFixedWarning: 'datfix' made the change 'Set MJD-OBS to 58445.838686 from DATE-OBS.\n",
      "Set MJD-END to 58445.859520 from DATE-END'. [astropy.wcs.wcs]\n"
     ]
    },
    {
     "name": "stdout",
     "output_type": "stream",
     "text": [
      "Reading image 374: /arc/home/mikea/.shifty_data/tess/5/1/4/tess2018327212938-s0005-1-4-0125-s_ffic.fits\r"
     ]
    },
    {
     "name": "stderr",
     "output_type": "stream",
     "text": [
      "WARNING: FITSFixedWarning: 'datfix' made the change 'Set MJD-OBS to 58445.859520 from DATE-OBS.\n",
      "Set MJD-END to 58445.880353 from DATE-END'. [astropy.wcs.wcs]\n",
      "WARNING: FITSFixedWarning: 'datfix' made the change 'Set MJD-OBS to 58445.880353 from DATE-OBS.\n",
      "Set MJD-END to 58445.901186 from DATE-END'. [astropy.wcs.wcs]\n",
      "WARNING: FITSFixedWarning: 'datfix' made the change 'Set MJD-OBS to 58445.901186 from DATE-OBS.\n",
      "Set MJD-END to 58445.922019 from DATE-END'. [astropy.wcs.wcs]\n"
     ]
    },
    {
     "name": "stdout",
     "output_type": "stream",
     "text": [
      "Reading image 376: /arc/home/mikea/.shifty_data/tess/5/1/4/tess2018327222938-s0005-1-4-0125-s_ffic.fits\r"
     ]
    },
    {
     "name": "stderr",
     "output_type": "stream",
     "text": [
      "WARNING: FITSFixedWarning: 'datfix' made the change 'Set MJD-OBS to 58445.922019 from DATE-OBS.\n",
      "Set MJD-END to 58445.942852 from DATE-END'. [astropy.wcs.wcs]\n"
     ]
    },
    {
     "name": "stdout",
     "output_type": "stream",
     "text": [
      "Reading image 379: /arc/home/mikea/.shifty_data/tess/5/1/4/tess2018327235938-s0005-1-4-0125-s_ffic.fits\r"
     ]
    },
    {
     "name": "stderr",
     "output_type": "stream",
     "text": [
      "WARNING: FITSFixedWarning: 'datfix' made the change 'Set MJD-OBS to 58445.942852 from DATE-OBS.\n",
      "Set MJD-END to 58445.963685 from DATE-END'. [astropy.wcs.wcs]\n",
      "WARNING: FITSFixedWarning: 'datfix' made the change 'Set MJD-OBS to 58445.963686 from DATE-OBS.\n",
      "Set MJD-END to 58445.984519 from DATE-END'. [astropy.wcs.wcs]\n",
      "WARNING: FITSFixedWarning: 'datfix' made the change 'Set MJD-OBS to 58445.984519 from DATE-OBS.\n",
      "Set MJD-END to 58446.005352 from DATE-END'. [astropy.wcs.wcs]\n"
     ]
    },
    {
     "name": "stdout",
     "output_type": "stream",
     "text": [
      "Reading image 381: /arc/home/mikea/.shifty_data/tess/5/1/4/tess2018328005938-s0005-1-4-0125-s_ffic.fits\r"
     ]
    },
    {
     "name": "stderr",
     "output_type": "stream",
     "text": [
      "WARNING: FITSFixedWarning: 'datfix' made the change 'Set MJD-OBS to 58446.005352 from DATE-OBS.\n",
      "Set MJD-END to 58446.026185 from DATE-END'. [astropy.wcs.wcs]\n",
      "WARNING: FITSFixedWarning: 'datfix' made the change 'Set MJD-OBS to 58446.026185 from DATE-OBS.\n",
      "Set MJD-END to 58446.047018 from DATE-END'. [astropy.wcs.wcs]\n"
     ]
    },
    {
     "name": "stdout",
     "output_type": "stream",
     "text": [
      "Reading image 384: /arc/home/mikea/.shifty_data/tess/5/1/4/tess2018328022938-s0005-1-4-0125-s_ffic.fits\r"
     ]
    },
    {
     "name": "stderr",
     "output_type": "stream",
     "text": [
      "WARNING: FITSFixedWarning: 'datfix' made the change 'Set MJD-OBS to 58446.047018 from DATE-OBS.\n",
      "Set MJD-END to 58446.067851 from DATE-END'. [astropy.wcs.wcs]\n",
      "WARNING: FITSFixedWarning: 'datfix' made the change 'Set MJD-OBS to 58446.067851 from DATE-OBS.\n",
      "Set MJD-END to 58446.088685 from DATE-END'. [astropy.wcs.wcs]\n",
      "WARNING: FITSFixedWarning: 'datfix' made the change 'Set MJD-OBS to 58446.088685 from DATE-OBS.\n",
      "Set MJD-END to 58446.109518 from DATE-END'. [astropy.wcs.wcs]\n"
     ]
    },
    {
     "name": "stdout",
     "output_type": "stream",
     "text": [
      "Reading image 387: /arc/home/mikea/.shifty_data/tess/5/1/4/tess2018328035938-s0005-1-4-0125-s_ffic.fits\r"
     ]
    },
    {
     "name": "stderr",
     "output_type": "stream",
     "text": [
      "WARNING: FITSFixedWarning: 'datfix' made the change 'Set MJD-OBS to 58446.109518 from DATE-OBS.\n",
      "Set MJD-END to 58446.130351 from DATE-END'. [astropy.wcs.wcs]\n",
      "WARNING: FITSFixedWarning: 'datfix' made the change 'Set MJD-OBS to 58446.130351 from DATE-OBS.\n",
      "Set MJD-END to 58446.151184 from DATE-END'. [astropy.wcs.wcs]\n",
      "WARNING: FITSFixedWarning: 'datfix' made the change 'Set MJD-OBS to 58446.151184 from DATE-OBS.\n",
      "Set MJD-END to 58446.172017 from DATE-END'. [astropy.wcs.wcs]\n"
     ]
    },
    {
     "name": "stdout",
     "output_type": "stream",
     "text": [
      "Reading image 390: /arc/home/mikea/.shifty_data/tess/5/1/4/tess2018328052938-s0005-1-4-0125-s_ffic.fits\r"
     ]
    },
    {
     "name": "stderr",
     "output_type": "stream",
     "text": [
      "WARNING: FITSFixedWarning: 'datfix' made the change 'Set MJD-OBS to 58446.172017 from DATE-OBS.\n",
      "Set MJD-END to 58446.192850 from DATE-END'. [astropy.wcs.wcs]\n",
      "WARNING: FITSFixedWarning: 'datfix' made the change 'Set MJD-OBS to 58446.192850 from DATE-OBS.\n",
      "Set MJD-END to 58446.213684 from DATE-END'. [astropy.wcs.wcs]\n",
      "WARNING: FITSFixedWarning: 'datfix' made the change 'Set MJD-OBS to 58446.213684 from DATE-OBS.\n",
      "Set MJD-END to 58446.234517 from DATE-END'. [astropy.wcs.wcs]\n"
     ]
    },
    {
     "name": "stdout",
     "output_type": "stream",
     "text": [
      "Reading image 393: /arc/home/mikea/.shifty_data/tess/5/1/4/tess2018328065938-s0005-1-4-0125-s_ffic.fits\r"
     ]
    },
    {
     "name": "stderr",
     "output_type": "stream",
     "text": [
      "WARNING: FITSFixedWarning: 'datfix' made the change 'Set MJD-OBS to 58446.234517 from DATE-OBS.\n",
      "Set MJD-END to 58446.255350 from DATE-END'. [astropy.wcs.wcs]\n",
      "WARNING: FITSFixedWarning: 'datfix' made the change 'Set MJD-OBS to 58446.255350 from DATE-OBS.\n",
      "Set MJD-END to 58446.276183 from DATE-END'. [astropy.wcs.wcs]\n",
      "WARNING: FITSFixedWarning: 'datfix' made the change 'Set MJD-OBS to 58446.276183 from DATE-OBS.\n",
      "Set MJD-END to 58446.297016 from DATE-END'. [astropy.wcs.wcs]\n"
     ]
    },
    {
     "name": "stdout",
     "output_type": "stream",
     "text": [
      "Reading image 396: /arc/home/mikea/.shifty_data/tess/5/1/4/tess2018328082938-s0005-1-4-0125-s_ffic.fits\r"
     ]
    },
    {
     "name": "stderr",
     "output_type": "stream",
     "text": [
      "WARNING: FITSFixedWarning: 'datfix' made the change 'Set MJD-OBS to 58446.297016 from DATE-OBS.\n",
      "Set MJD-END to 58446.317849 from DATE-END'. [astropy.wcs.wcs]\n",
      "WARNING: FITSFixedWarning: 'datfix' made the change 'Set MJD-OBS to 58446.317849 from DATE-OBS.\n",
      "Set MJD-END to 58446.338683 from DATE-END'. [astropy.wcs.wcs]\n",
      "WARNING: FITSFixedWarning: 'datfix' made the change 'Set MJD-OBS to 58446.338683 from DATE-OBS.\n",
      "Set MJD-END to 58446.359516 from DATE-END'. [astropy.wcs.wcs]\n"
     ]
    },
    {
     "name": "stdout",
     "output_type": "stream",
     "text": [
      "Reading image 399: /arc/home/mikea/.shifty_data/tess/5/1/4/tess2018328095938-s0005-1-4-0125-s_ffic.fits\r"
     ]
    },
    {
     "name": "stderr",
     "output_type": "stream",
     "text": [
      "WARNING: FITSFixedWarning: 'datfix' made the change 'Set MJD-OBS to 58446.359516 from DATE-OBS.\n",
      "Set MJD-END to 58446.380349 from DATE-END'. [astropy.wcs.wcs]\n",
      "WARNING: FITSFixedWarning: 'datfix' made the change 'Set MJD-OBS to 58446.380349 from DATE-OBS.\n",
      "Set MJD-END to 58446.401182 from DATE-END'. [astropy.wcs.wcs]\n",
      "WARNING: FITSFixedWarning: 'datfix' made the change 'Set MJD-OBS to 58446.401182 from DATE-OBS.\n",
      "Set MJD-END to 58446.422015 from DATE-END'. [astropy.wcs.wcs]\n"
     ]
    },
    {
     "name": "stdout",
     "output_type": "stream",
     "text": [
      "Reading image 401: /arc/home/mikea/.shifty_data/tess/5/1/4/tess2018328105938-s0005-1-4-0125-s_ffic.fits\r"
     ]
    },
    {
     "name": "stderr",
     "output_type": "stream",
     "text": [
      "WARNING: FITSFixedWarning: 'datfix' made the change 'Set MJD-OBS to 58446.422015 from DATE-OBS.\n",
      "Set MJD-END to 58446.442848 from DATE-END'. [astropy.wcs.wcs]\n",
      "WARNING: FITSFixedWarning: 'datfix' made the change 'Set MJD-OBS to 58446.442848 from DATE-OBS.\n",
      "Set MJD-END to 58446.463682 from DATE-END'. [astropy.wcs.wcs]\n"
     ]
    },
    {
     "name": "stdout",
     "output_type": "stream",
     "text": [
      "Reading image 403: /arc/home/mikea/.shifty_data/tess/5/1/4/tess2018328115938-s0005-1-4-0125-s_ffic.fits\r"
     ]
    },
    {
     "name": "stderr",
     "output_type": "stream",
     "text": [
      "WARNING: FITSFixedWarning: 'datfix' made the change 'Set MJD-OBS to 58446.463682 from DATE-OBS.\n",
      "Set MJD-END to 58446.484515 from DATE-END'. [astropy.wcs.wcs]\n",
      "WARNING: FITSFixedWarning: 'datfix' made the change 'Set MJD-OBS to 58446.484515 from DATE-OBS.\n",
      "Set MJD-END to 58446.505348 from DATE-END'. [astropy.wcs.wcs]\n"
     ]
    },
    {
     "name": "stdout",
     "output_type": "stream",
     "text": [
      "Reading image 406: /arc/home/mikea/.shifty_data/tess/5/1/4/tess2018328135938-s0005-1-4-0125-s_ffic.fits\r"
     ]
    },
    {
     "name": "stderr",
     "output_type": "stream",
     "text": [
      "WARNING: FITSFixedWarning: 'datfix' made the change 'Set MJD-OBS to 58446.505348 from DATE-OBS.\n",
      "Set MJD-END to 58446.526181 from DATE-END'. [astropy.wcs.wcs]\n",
      "WARNING: FITSFixedWarning: 'datfix' made the change 'Set MJD-OBS to 58446.547014 from DATE-OBS.\n",
      "Set MJD-END to 58446.567847 from DATE-END'. [astropy.wcs.wcs]\n",
      "WARNING: FITSFixedWarning: 'datfix' made the change 'Set MJD-OBS to 58446.567847 from DATE-OBS.\n",
      "Set MJD-END to 58446.588680 from DATE-END'. [astropy.wcs.wcs]\n"
     ]
    },
    {
     "name": "stdout",
     "output_type": "stream",
     "text": [
      "Reading image 408: /arc/home/mikea/.shifty_data/tess/5/1/4/tess2018328145938-s0005-1-4-0125-s_ffic.fits\r"
     ]
    },
    {
     "name": "stderr",
     "output_type": "stream",
     "text": [
      "WARNING: FITSFixedWarning: 'datfix' made the change 'Set MJD-OBS to 58446.588681 from DATE-OBS.\n",
      "Set MJD-END to 58446.609514 from DATE-END'. [astropy.wcs.wcs]\n",
      "WARNING: FITSFixedWarning: 'datfix' made the change 'Set MJD-OBS to 58446.609514 from DATE-OBS.\n",
      "Set MJD-END to 58446.630347 from DATE-END'. [astropy.wcs.wcs]\n"
     ]
    },
    {
     "name": "stdout",
     "output_type": "stream",
     "text": [
      "Reading image 411: /arc/home/mikea/.shifty_data/tess/5/1/4/tess2018328162938-s0005-1-4-0125-s_ffic.fits\r"
     ]
    },
    {
     "name": "stderr",
     "output_type": "stream",
     "text": [
      "WARNING: FITSFixedWarning: 'datfix' made the change 'Set MJD-OBS to 58446.630347 from DATE-OBS.\n",
      "Set MJD-END to 58446.651180 from DATE-END'. [astropy.wcs.wcs]\n",
      "WARNING: FITSFixedWarning: 'datfix' made the change 'Set MJD-OBS to 58446.651180 from DATE-OBS.\n",
      "Set MJD-END to 58446.672013 from DATE-END'. [astropy.wcs.wcs]\n",
      "WARNING: FITSFixedWarning: 'datfix' made the change 'Set MJD-OBS to 58446.672013 from DATE-OBS.\n",
      "Set MJD-END to 58446.692846 from DATE-END'. [astropy.wcs.wcs]\n"
     ]
    },
    {
     "name": "stdout",
     "output_type": "stream",
     "text": [
      "Reading image 414: /arc/home/mikea/.shifty_data/tess/5/1/4/tess2018328175938-s0005-1-4-0125-s_ffic.fits\r"
     ]
    },
    {
     "name": "stderr",
     "output_type": "stream",
     "text": [
      "WARNING: FITSFixedWarning: 'datfix' made the change 'Set MJD-OBS to 58446.692846 from DATE-OBS.\n",
      "Set MJD-END to 58446.713679 from DATE-END'. [astropy.wcs.wcs]\n",
      "WARNING: FITSFixedWarning: 'datfix' made the change 'Set MJD-OBS to 58446.713679 from DATE-OBS.\n",
      "Set MJD-END to 58446.734512 from DATE-END'. [astropy.wcs.wcs]\n",
      "WARNING: FITSFixedWarning: 'datfix' made the change 'Set MJD-OBS to 58446.734513 from DATE-OBS.\n",
      "Set MJD-END to 58446.755346 from DATE-END'. [astropy.wcs.wcs]\n",
      "WARNING: FITSFixedWarning: 'datfix' made the change 'Set MJD-OBS to 58446.755346 from DATE-OBS.\n",
      "Set MJD-END to 58446.776179 from DATE-END'. [astropy.wcs.wcs]\n",
      "WARNING: FITSFixedWarning: 'datfix' made the change 'Set MJD-OBS to 58446.776179 from DATE-OBS.\n",
      "Set MJD-END to 58446.797012 from DATE-END'. [astropy.wcs.wcs]\n",
      "WARNING: FITSFixedWarning: 'datfix' made the change 'Set MJD-OBS to 58446.797012 from DATE-OBS.\n",
      "Set MJD-END to 58446.817845 from DATE-END'. [astropy.wcs.wcs]\n"
     ]
    },
    {
     "name": "stdout",
     "output_type": "stream",
     "text": [
      "Reading image 420: /arc/home/mikea/.shifty_data/tess/5/1/4/tess2018328205938-s0005-1-4-0125-s_ffic.fits\r"
     ]
    },
    {
     "name": "stderr",
     "output_type": "stream",
     "text": [
      "WARNING: FITSFixedWarning: 'datfix' made the change 'Set MJD-OBS to 58446.817845 from DATE-OBS.\n",
      "Set MJD-END to 58446.838678 from DATE-END'. [astropy.wcs.wcs]\n",
      "WARNING: FITSFixedWarning: 'datfix' made the change 'Set MJD-OBS to 58446.838678 from DATE-OBS.\n",
      "Set MJD-END to 58446.859511 from DATE-END'. [astropy.wcs.wcs]\n",
      "WARNING: FITSFixedWarning: 'datfix' made the change 'Set MJD-OBS to 58446.859511 from DATE-OBS.\n",
      "Set MJD-END to 58446.880344 from DATE-END'. [astropy.wcs.wcs]\n"
     ]
    },
    {
     "name": "stdout",
     "output_type": "stream",
     "text": [
      "Reading image 422: /arc/home/mikea/.shifty_data/tess/5/1/4/tess2018328215938-s0005-1-4-0125-s_ffic.fits\r"
     ]
    },
    {
     "name": "stderr",
     "output_type": "stream",
     "text": [
      "WARNING: FITSFixedWarning: 'datfix' made the change 'Set MJD-OBS to 58446.880345 from DATE-OBS.\n",
      "Set MJD-END to 58446.901178 from DATE-END'. [astropy.wcs.wcs]\n",
      "WARNING: FITSFixedWarning: 'datfix' made the change 'Set MJD-OBS to 58446.901178 from DATE-OBS.\n",
      "Set MJD-END to 58446.922011 from DATE-END'. [astropy.wcs.wcs]\n"
     ]
    },
    {
     "name": "stdout",
     "output_type": "stream",
     "text": [
      "Reading image 425: /arc/home/mikea/.shifty_data/tess/5/1/4/tess2018328232938-s0005-1-4-0125-s_ffic.fits\r"
     ]
    },
    {
     "name": "stderr",
     "output_type": "stream",
     "text": [
      "WARNING: FITSFixedWarning: 'datfix' made the change 'Set MJD-OBS to 58446.922011 from DATE-OBS.\n",
      "Set MJD-END to 58446.942844 from DATE-END'. [astropy.wcs.wcs]\n",
      "WARNING: FITSFixedWarning: 'datfix' made the change 'Set MJD-OBS to 58446.942844 from DATE-OBS.\n",
      "Set MJD-END to 58446.963677 from DATE-END'. [astropy.wcs.wcs]\n",
      "WARNING: FITSFixedWarning: 'datfix' made the change 'Set MJD-OBS to 58446.963677 from DATE-OBS.\n",
      "Set MJD-END to 58446.984510 from DATE-END'. [astropy.wcs.wcs]\n"
     ]
    },
    {
     "name": "stdout",
     "output_type": "stream",
     "text": [
      "Reading image 428: /arc/home/mikea/.shifty_data/tess/5/1/4/tess2018329005938-s0005-1-4-0125-s_ffic.fits\r"
     ]
    },
    {
     "name": "stderr",
     "output_type": "stream",
     "text": [
      "WARNING: FITSFixedWarning: 'datfix' made the change 'Set MJD-OBS to 58446.984510 from DATE-OBS.\n",
      "Set MJD-END to 58447.005343 from DATE-END'. [astropy.wcs.wcs]\n",
      "WARNING: FITSFixedWarning: 'datfix' made the change 'Set MJD-OBS to 58447.005343 from DATE-OBS.\n",
      "Set MJD-END to 58447.026176 from DATE-END'. [astropy.wcs.wcs]\n",
      "WARNING: FITSFixedWarning: 'datfix' made the change 'Set MJD-OBS to 58447.026176 from DATE-OBS.\n",
      "Set MJD-END to 58447.047010 from DATE-END'. [astropy.wcs.wcs]\n"
     ]
    },
    {
     "name": "stdout",
     "output_type": "stream",
     "text": [
      "Reading image 431: /arc/home/mikea/.shifty_data/tess/5/1/4/tess2018329022938-s0005-1-4-0125-s_ffic.fits\r"
     ]
    },
    {
     "name": "stderr",
     "output_type": "stream",
     "text": [
      "WARNING: FITSFixedWarning: 'datfix' made the change 'Set MJD-OBS to 58447.047010 from DATE-OBS.\n",
      "Set MJD-END to 58447.067843 from DATE-END'. [astropy.wcs.wcs]\n",
      "WARNING: FITSFixedWarning: 'datfix' made the change 'Set MJD-OBS to 58447.067843 from DATE-OBS.\n",
      "Set MJD-END to 58447.088676 from DATE-END'. [astropy.wcs.wcs]\n",
      "WARNING: FITSFixedWarning: 'datfix' made the change 'Set MJD-OBS to 58447.088676 from DATE-OBS.\n",
      "Set MJD-END to 58447.109509 from DATE-END'. [astropy.wcs.wcs]\n"
     ]
    },
    {
     "name": "stdout",
     "output_type": "stream",
     "text": [
      "Reading image 434: /arc/home/mikea/.shifty_data/tess/5/1/4/tess2018329035938-s0005-1-4-0125-s_ffic.fits\r"
     ]
    },
    {
     "name": "stderr",
     "output_type": "stream",
     "text": [
      "WARNING: FITSFixedWarning: 'datfix' made the change 'Set MJD-OBS to 58447.109509 from DATE-OBS.\n",
      "Set MJD-END to 58447.130342 from DATE-END'. [astropy.wcs.wcs]\n",
      "WARNING: FITSFixedWarning: 'datfix' made the change 'Set MJD-OBS to 58447.130342 from DATE-OBS.\n",
      "Set MJD-END to 58447.151175 from DATE-END'. [astropy.wcs.wcs]\n",
      "WARNING: FITSFixedWarning: 'datfix' made the change 'Set MJD-OBS to 58447.151175 from DATE-OBS.\n",
      "Set MJD-END to 58447.172008 from DATE-END'. [astropy.wcs.wcs]\n"
     ]
    },
    {
     "name": "stdout",
     "output_type": "stream",
     "text": [
      "Reading image 436: /arc/home/mikea/.shifty_data/tess/5/1/4/tess2018329045938-s0005-1-4-0125-s_ffic.fits\r"
     ]
    },
    {
     "name": "stderr",
     "output_type": "stream",
     "text": [
      "WARNING: FITSFixedWarning: 'datfix' made the change 'Set MJD-OBS to 58447.172008 from DATE-OBS.\n",
      "Set MJD-END to 58447.192841 from DATE-END'. [astropy.wcs.wcs]\n",
      "WARNING: FITSFixedWarning: 'datfix' made the change 'Set MJD-OBS to 58447.192842 from DATE-OBS.\n",
      "Set MJD-END to 58447.213675 from DATE-END'. [astropy.wcs.wcs]\n"
     ]
    },
    {
     "name": "stdout",
     "output_type": "stream",
     "text": [
      "Reading image 438: /arc/home/mikea/.shifty_data/tess/5/1/4/tess2018329055938-s0005-1-4-0125-s_ffic.fits\r"
     ]
    },
    {
     "name": "stderr",
     "output_type": "stream",
     "text": [
      "WARNING: FITSFixedWarning: 'datfix' made the change 'Set MJD-OBS to 58447.213675 from DATE-OBS.\n",
      "Set MJD-END to 58447.234508 from DATE-END'. [astropy.wcs.wcs]\n",
      "WARNING: FITSFixedWarning: 'datfix' made the change 'Set MJD-OBS to 58447.234508 from DATE-OBS.\n",
      "Set MJD-END to 58447.255341 from DATE-END'. [astropy.wcs.wcs]\n"
     ]
    },
    {
     "name": "stdout",
     "output_type": "stream",
     "text": [
      "Reading image 440: /arc/home/mikea/.shifty_data/tess/5/1/4/tess2018329065938-s0005-1-4-0125-s_ffic.fits\r"
     ]
    },
    {
     "name": "stderr",
     "output_type": "stream",
     "text": [
      "WARNING: FITSFixedWarning: 'datfix' made the change 'Set MJD-OBS to 58447.255341 from DATE-OBS.\n",
      "Set MJD-END to 58447.276174 from DATE-END'. [astropy.wcs.wcs]\n",
      "WARNING: FITSFixedWarning: 'datfix' made the change 'Set MJD-OBS to 58447.276174 from DATE-OBS.\n",
      "Set MJD-END to 58447.297007 from DATE-END'. [astropy.wcs.wcs]\n"
     ]
    },
    {
     "name": "stdout",
     "output_type": "stream",
     "text": [
      "Reading image 443: /arc/home/mikea/.shifty_data/tess/5/1/4/tess2018329082938-s0005-1-4-0125-s_ffic.fits\r"
     ]
    },
    {
     "name": "stderr",
     "output_type": "stream",
     "text": [
      "WARNING: FITSFixedWarning: 'datfix' made the change 'Set MJD-OBS to 58447.297007 from DATE-OBS.\n",
      "Set MJD-END to 58447.317840 from DATE-END'. [astropy.wcs.wcs]\n",
      "WARNING: FITSFixedWarning: 'datfix' made the change 'Set MJD-OBS to 58447.317840 from DATE-OBS.\n",
      "Set MJD-END to 58447.338673 from DATE-END'. [astropy.wcs.wcs]\n",
      "WARNING: FITSFixedWarning: 'datfix' made the change 'Set MJD-OBS to 58447.338673 from DATE-OBS.\n",
      "Set MJD-END to 58447.359506 from DATE-END'. [astropy.wcs.wcs]\n"
     ]
    },
    {
     "name": "stdout",
     "output_type": "stream",
     "text": [
      "Reading image 446: /arc/home/mikea/.shifty_data/tess/5/1/4/tess2018329095938-s0005-1-4-0125-s_ffic.fits\r"
     ]
    },
    {
     "name": "stderr",
     "output_type": "stream",
     "text": [
      "WARNING: FITSFixedWarning: 'datfix' made the change 'Set MJD-OBS to 58447.359506 from DATE-OBS.\n",
      "Set MJD-END to 58447.380340 from DATE-END'. [astropy.wcs.wcs]\n",
      "WARNING: FITSFixedWarning: 'datfix' made the change 'Set MJD-OBS to 58447.380340 from DATE-OBS.\n",
      "Set MJD-END to 58447.401173 from DATE-END'. [astropy.wcs.wcs]\n",
      "WARNING: FITSFixedWarning: 'datfix' made the change 'Set MJD-OBS to 58447.401173 from DATE-OBS.\n",
      "Set MJD-END to 58447.422006 from DATE-END'. [astropy.wcs.wcs]\n"
     ]
    },
    {
     "name": "stdout",
     "output_type": "stream",
     "text": [
      "Reading image 449: /arc/home/mikea/.shifty_data/tess/5/1/4/tess2018329112938-s0005-1-4-0125-s_ffic.fits\r"
     ]
    },
    {
     "name": "stderr",
     "output_type": "stream",
     "text": [
      "WARNING: FITSFixedWarning: 'datfix' made the change 'Set MJD-OBS to 58447.422006 from DATE-OBS.\n",
      "Set MJD-END to 58447.442839 from DATE-END'. [astropy.wcs.wcs]\n",
      "WARNING: FITSFixedWarning: 'datfix' made the change 'Set MJD-OBS to 58447.442839 from DATE-OBS.\n",
      "Set MJD-END to 58447.463672 from DATE-END'. [astropy.wcs.wcs]\n",
      "WARNING: FITSFixedWarning: 'datfix' made the change 'Set MJD-OBS to 58447.463672 from DATE-OBS.\n",
      "Set MJD-END to 58447.484505 from DATE-END'. [astropy.wcs.wcs]\n"
     ]
    },
    {
     "name": "stdout",
     "output_type": "stream",
     "text": [
      "Reading image 451: /arc/home/mikea/.shifty_data/tess/5/1/4/tess2018329122938-s0005-1-4-0125-s_ffic.fits\r"
     ]
    },
    {
     "name": "stderr",
     "output_type": "stream",
     "text": [
      "WARNING: FITSFixedWarning: 'datfix' made the change 'Set MJD-OBS to 58447.484505 from DATE-OBS.\n",
      "Set MJD-END to 58447.505338 from DATE-END'. [astropy.wcs.wcs]\n",
      "WARNING: FITSFixedWarning: 'datfix' made the change 'Set MJD-OBS to 58447.505338 from DATE-OBS.\n",
      "Set MJD-END to 58447.526171 from DATE-END'. [astropy.wcs.wcs]\n",
      "WARNING: FITSFixedWarning: 'datfix' made the change 'Set MJD-OBS to 58447.526171 from DATE-OBS.\n",
      "Set MJD-END to 58447.547004 from DATE-END'. [astropy.wcs.wcs]\n"
     ]
    },
    {
     "name": "stdout",
     "output_type": "stream",
     "text": [
      "Reading image 453: /arc/home/mikea/.shifty_data/tess/5/1/4/tess2018329132938-s0005-1-4-0125-s_ffic.fits\r"
     ]
    },
    {
     "name": "stderr",
     "output_type": "stream",
     "text": [
      "WARNING: FITSFixedWarning: 'datfix' made the change 'Set MJD-OBS to 58447.547004 from DATE-OBS.\n",
      "Set MJD-END to 58447.567838 from DATE-END'. [astropy.wcs.wcs]\n",
      "WARNING: FITSFixedWarning: 'datfix' made the change 'Set MJD-OBS to 58447.567838 from DATE-OBS.\n",
      "Set MJD-END to 58447.588671 from DATE-END'. [astropy.wcs.wcs]\n"
     ]
    },
    {
     "name": "stdout",
     "output_type": "stream",
     "text": [
      "Reading image 455: /arc/home/mikea/.shifty_data/tess/5/1/4/tess2018329142938-s0005-1-4-0125-s_ffic.fits\r"
     ]
    },
    {
     "name": "stderr",
     "output_type": "stream",
     "text": [
      "WARNING: FITSFixedWarning: 'datfix' made the change 'Set MJD-OBS to 58447.588671 from DATE-OBS.\n",
      "Set MJD-END to 58447.609504 from DATE-END'. [astropy.wcs.wcs]\n"
     ]
    },
    {
     "name": "stdout",
     "output_type": "stream",
     "text": [
      "Reading image 457: /arc/home/mikea/.shifty_data/tess/5/1/4/tess2018329152938-s0005-1-4-0125-s_ffic.fits\r"
     ]
    },
    {
     "name": "stderr",
     "output_type": "stream",
     "text": [
      "WARNING: FITSFixedWarning: 'datfix' made the change 'Set MJD-OBS to 58447.609504 from DATE-OBS.\n",
      "Set MJD-END to 58447.630337 from DATE-END'. [astropy.wcs.wcs]\n",
      "WARNING: FITSFixedWarning: 'datfix' made the change 'Set MJD-OBS to 58447.630337 from DATE-OBS.\n",
      "Set MJD-END to 58447.651170 from DATE-END'. [astropy.wcs.wcs]\n"
     ]
    },
    {
     "name": "stdout",
     "output_type": "stream",
     "text": [
      "Reading image 460: /arc/home/mikea/.shifty_data/tess/5/1/4/tess2018329165938-s0005-1-4-0125-s_ffic.fits\r"
     ]
    },
    {
     "name": "stderr",
     "output_type": "stream",
     "text": [
      "WARNING: FITSFixedWarning: 'datfix' made the change 'Set MJD-OBS to 58447.651170 from DATE-OBS.\n",
      "Set MJD-END to 58447.672003 from DATE-END'. [astropy.wcs.wcs]\n",
      "WARNING: FITSFixedWarning: 'datfix' made the change 'Set MJD-OBS to 58447.672003 from DATE-OBS.\n",
      "Set MJD-END to 58447.692836 from DATE-END'. [astropy.wcs.wcs]\n",
      "WARNING: FITSFixedWarning: 'datfix' made the change 'Set MJD-OBS to 58447.692836 from DATE-OBS.\n",
      "Set MJD-END to 58447.713669 from DATE-END'. [astropy.wcs.wcs]\n"
     ]
    },
    {
     "name": "stdout",
     "output_type": "stream",
     "text": [
      "Reading image 463: /arc/home/mikea/.shifty_data/tess/5/1/4/tess2018329182938-s0005-1-4-0125-s_ffic.fits\r"
     ]
    },
    {
     "name": "stderr",
     "output_type": "stream",
     "text": [
      "WARNING: FITSFixedWarning: 'datfix' made the change 'Set MJD-OBS to 58447.713669 from DATE-OBS.\n",
      "Set MJD-END to 58447.734502 from DATE-END'. [astropy.wcs.wcs]\n",
      "WARNING: FITSFixedWarning: 'datfix' made the change 'Set MJD-OBS to 58447.734502 from DATE-OBS.\n",
      "Set MJD-END to 58447.755336 from DATE-END'. [astropy.wcs.wcs]\n",
      "WARNING: FITSFixedWarning: 'datfix' made the change 'Set MJD-OBS to 58447.755336 from DATE-OBS.\n",
      "Set MJD-END to 58447.776169 from DATE-END'. [astropy.wcs.wcs]\n"
     ]
    },
    {
     "name": "stdout",
     "output_type": "stream",
     "text": [
      "Reading image 466: /arc/home/mikea/.shifty_data/tess/5/1/4/tess2018329195938-s0005-1-4-0125-s_ffic.fits\r"
     ]
    },
    {
     "name": "stderr",
     "output_type": "stream",
     "text": [
      "WARNING: FITSFixedWarning: 'datfix' made the change 'Set MJD-OBS to 58447.776169 from DATE-OBS.\n",
      "Set MJD-END to 58447.797002 from DATE-END'. [astropy.wcs.wcs]\n",
      "WARNING: FITSFixedWarning: 'datfix' made the change 'Set MJD-OBS to 58447.797002 from DATE-OBS.\n",
      "Set MJD-END to 58447.817835 from DATE-END'. [astropy.wcs.wcs]\n",
      "WARNING: FITSFixedWarning: 'datfix' made the change 'Set MJD-OBS to 58447.817835 from DATE-OBS.\n",
      "Set MJD-END to 58447.838668 from DATE-END'. [astropy.wcs.wcs]\n"
     ]
    },
    {
     "name": "stdout",
     "output_type": "stream",
     "text": [
      "Reading image 468: /arc/home/mikea/.shifty_data/tess/5/1/4/tess2018329205938-s0005-1-4-0125-s_ffic.fits\r"
     ]
    },
    {
     "name": "stderr",
     "output_type": "stream",
     "text": [
      "WARNING: FITSFixedWarning: 'datfix' made the change 'Set MJD-OBS to 58447.838668 from DATE-OBS.\n",
      "Set MJD-END to 58447.859501 from DATE-END'. [astropy.wcs.wcs]\n",
      "WARNING: FITSFixedWarning: 'datfix' made the change 'Set MJD-OBS to 58447.859501 from DATE-OBS.\n",
      "Set MJD-END to 58447.880334 from DATE-END'. [astropy.wcs.wcs]\n"
     ]
    },
    {
     "name": "stdout",
     "output_type": "stream",
     "text": [
      "Reading image 471: /arc/home/mikea/.shifty_data/tess/5/1/4/tess2018329222938-s0005-1-4-0125-s_ffic.fits\r"
     ]
    },
    {
     "name": "stderr",
     "output_type": "stream",
     "text": [
      "WARNING: FITSFixedWarning: 'datfix' made the change 'Set MJD-OBS to 58447.880334 from DATE-OBS.\n",
      "Set MJD-END to 58447.901167 from DATE-END'. [astropy.wcs.wcs]\n",
      "WARNING: FITSFixedWarning: 'datfix' made the change 'Set MJD-OBS to 58447.901167 from DATE-OBS.\n",
      "Set MJD-END to 58447.922000 from DATE-END'. [astropy.wcs.wcs]\n",
      "WARNING: FITSFixedWarning: 'datfix' made the change 'Set MJD-OBS to 58447.922000 from DATE-OBS.\n",
      "Set MJD-END to 58447.942833 from DATE-END'. [astropy.wcs.wcs]\n"
     ]
    },
    {
     "name": "stdout",
     "output_type": "stream",
     "text": [
      "Reading image 473: /arc/home/mikea/.shifty_data/tess/5/1/4/tess2018329232938-s0005-1-4-0125-s_ffic.fits\r"
     ]
    },
    {
     "name": "stderr",
     "output_type": "stream",
     "text": [
      "WARNING: FITSFixedWarning: 'datfix' made the change 'Set MJD-OBS to 58447.942833 from DATE-OBS.\n",
      "Set MJD-END to 58447.963666 from DATE-END'. [astropy.wcs.wcs]\n",
      "WARNING: FITSFixedWarning: 'datfix' made the change 'Set MJD-OBS to 58447.963666 from DATE-OBS.\n",
      "Set MJD-END to 58447.984500 from DATE-END'. [astropy.wcs.wcs]\n"
     ]
    },
    {
     "name": "stdout",
     "output_type": "stream",
     "text": [
      "Reading image 475: /arc/home/mikea/.shifty_data/tess/5/1/4/tess2018330002938-s0005-1-4-0125-s_ffic.fits\r"
     ]
    },
    {
     "name": "stderr",
     "output_type": "stream",
     "text": [
      "WARNING: FITSFixedWarning: 'datfix' made the change 'Set MJD-OBS to 58447.984500 from DATE-OBS.\n",
      "Set MJD-END to 58448.005333 from DATE-END'. [astropy.wcs.wcs]\n",
      "WARNING: FITSFixedWarning: 'datfix' made the change 'Set MJD-OBS to 58448.005333 from DATE-OBS.\n",
      "Set MJD-END to 58448.026166 from DATE-END'. [astropy.wcs.wcs]\n"
     ]
    },
    {
     "name": "stdout",
     "output_type": "stream",
     "text": [
      "Reading image 477: /arc/home/mikea/.shifty_data/tess/5/1/4/tess2018330012938-s0005-1-4-0125-s_ffic.fits\r"
     ]
    },
    {
     "name": "stderr",
     "output_type": "stream",
     "text": [
      "WARNING: FITSFixedWarning: 'datfix' made the change 'Set MJD-OBS to 58448.026166 from DATE-OBS.\n",
      "Set MJD-END to 58448.046999 from DATE-END'. [astropy.wcs.wcs]\n",
      "WARNING: FITSFixedWarning: 'datfix' made the change 'Set MJD-OBS to 58448.046999 from DATE-OBS.\n",
      "Set MJD-END to 58448.067832 from DATE-END'. [astropy.wcs.wcs]\n",
      "WARNING: FITSFixedWarning: 'datfix' made the change 'Set MJD-OBS to 58448.067832 from DATE-OBS.\n",
      "Set MJD-END to 58448.088665 from DATE-END'. [astropy.wcs.wcs]\n",
      "WARNING: FITSFixedWarning: 'datfix' made the change 'Set MJD-OBS to 58448.088665 from DATE-OBS.\n",
      "Set MJD-END to 58448.109498 from DATE-END'. [astropy.wcs.wcs]\n",
      "WARNING: FITSFixedWarning: 'datfix' made the change 'Set MJD-OBS to 58448.109498 from DATE-OBS.\n",
      "Set MJD-END to 58448.130331 from DATE-END'. [astropy.wcs.wcs]\n"
     ]
    },
    {
     "name": "stdout",
     "output_type": "stream",
     "text": [
      "Reading image 482: /arc/home/mikea/.shifty_data/tess/5/1/4/tess2018330035938-s0005-1-4-0125-s_ffic.fits\r"
     ]
    },
    {
     "name": "stderr",
     "output_type": "stream",
     "text": [
      "WARNING: FITSFixedWarning: 'datfix' made the change 'Set MJD-OBS to 58448.130331 from DATE-OBS.\n",
      "Set MJD-END to 58448.151164 from DATE-END'. [astropy.wcs.wcs]\n",
      "WARNING: FITSFixedWarning: 'datfix' made the change 'Set MJD-OBS to 58448.151164 from DATE-OBS.\n",
      "Set MJD-END to 58448.171997 from DATE-END'. [astropy.wcs.wcs]\n"
     ]
    },
    {
     "name": "stdout",
     "output_type": "stream",
     "text": [
      "Reading image 484: /arc/home/mikea/.shifty_data/tess/5/1/4/tess2018330045938-s0005-1-4-0125-s_ffic.fits\r"
     ]
    },
    {
     "name": "stderr",
     "output_type": "stream",
     "text": [
      "WARNING: FITSFixedWarning: 'datfix' made the change 'Set MJD-OBS to 58448.171997 from DATE-OBS.\n",
      "Set MJD-END to 58448.192830 from DATE-END'. [astropy.wcs.wcs]\n",
      "WARNING: FITSFixedWarning: 'datfix' made the change 'Set MJD-OBS to 58448.192830 from DATE-OBS.\n",
      "Set MJD-END to 58448.213664 from DATE-END'. [astropy.wcs.wcs]\n"
     ]
    },
    {
     "name": "stdout",
     "output_type": "stream",
     "text": [
      "Reading image 485: /arc/home/mikea/.shifty_data/tess/5/1/4/tess2018330052938-s0005-1-4-0125-s_ffic.fits\r"
     ]
    },
    {
     "name": "stderr",
     "output_type": "stream",
     "text": [
      "WARNING: FITSFixedWarning: 'datfix' made the change 'Set MJD-OBS to 58448.213664 from DATE-OBS.\n",
      "Set MJD-END to 58448.234497 from DATE-END'. [astropy.wcs.wcs]\n",
      "WARNING: FITSFixedWarning: 'datfix' made the change 'Set MJD-OBS to 58448.234497 from DATE-OBS.\n",
      "Set MJD-END to 58448.255330 from DATE-END'. [astropy.wcs.wcs]\n"
     ]
    },
    {
     "name": "stdout",
     "output_type": "stream",
     "text": [
      "Reading image 488: /arc/home/mikea/.shifty_data/tess/5/1/4/tess2018330065938-s0005-1-4-0125-s_ffic.fits\r"
     ]
    },
    {
     "name": "stderr",
     "output_type": "stream",
     "text": [
      "WARNING: FITSFixedWarning: 'datfix' made the change 'Set MJD-OBS to 58448.255330 from DATE-OBS.\n",
      "Set MJD-END to 58448.276163 from DATE-END'. [astropy.wcs.wcs]\n",
      "WARNING: FITSFixedWarning: 'datfix' made the change 'Set MJD-OBS to 58448.276163 from DATE-OBS.\n",
      "Set MJD-END to 58448.296996 from DATE-END'. [astropy.wcs.wcs]\n",
      "WARNING: FITSFixedWarning: 'datfix' made the change 'Set MJD-OBS to 58448.296996 from DATE-OBS.\n",
      "Set MJD-END to 58448.317829 from DATE-END'. [astropy.wcs.wcs]\n"
     ]
    },
    {
     "name": "stdout",
     "output_type": "stream",
     "text": [
      "Reading image 491: /arc/home/mikea/.shifty_data/tess/5/1/4/tess2018330082938-s0005-1-4-0125-s_ffic.fits\r"
     ]
    },
    {
     "name": "stderr",
     "output_type": "stream",
     "text": [
      "WARNING: FITSFixedWarning: 'datfix' made the change 'Set MJD-OBS to 58448.317829 from DATE-OBS.\n",
      "Set MJD-END to 58448.338662 from DATE-END'. [astropy.wcs.wcs]\n",
      "WARNING: FITSFixedWarning: 'datfix' made the change 'Set MJD-OBS to 58448.338662 from DATE-OBS.\n",
      "Set MJD-END to 58448.359495 from DATE-END'. [astropy.wcs.wcs]\n",
      "WARNING: FITSFixedWarning: 'datfix' made the change 'Set MJD-OBS to 58448.359495 from DATE-OBS.\n",
      "Set MJD-END to 58448.380328 from DATE-END'. [astropy.wcs.wcs]\n"
     ]
    },
    {
     "name": "stdout",
     "output_type": "stream",
     "text": [
      "Reading image 494: /arc/home/mikea/.shifty_data/tess/5/1/4/tess2018330095938-s0005-1-4-0125-s_ffic.fits\r"
     ]
    },
    {
     "name": "stderr",
     "output_type": "stream",
     "text": [
      "WARNING: FITSFixedWarning: 'datfix' made the change 'Set MJD-OBS to 58448.380328 from DATE-OBS.\n",
      "Set MJD-END to 58448.401161 from DATE-END'. [astropy.wcs.wcs]\n",
      "WARNING: FITSFixedWarning: 'datfix' made the change 'Set MJD-OBS to 58448.401161 from DATE-OBS.\n",
      "Set MJD-END to 58448.421994 from DATE-END'. [astropy.wcs.wcs]\n"
     ]
    },
    {
     "name": "stdout",
     "output_type": "stream",
     "text": [
      "Reading image 496: /arc/home/mikea/.shifty_data/tess/5/1/4/tess2018330105938-s0005-1-4-0125-s_ffic.fits\r"
     ]
    },
    {
     "name": "stderr",
     "output_type": "stream",
     "text": [
      "WARNING: FITSFixedWarning: 'datfix' made the change 'Set MJD-OBS to 58448.421994 from DATE-OBS.\n",
      "Set MJD-END to 58448.442827 from DATE-END'. [astropy.wcs.wcs]\n",
      "WARNING: FITSFixedWarning: 'datfix' made the change 'Set MJD-OBS to 58448.442827 from DATE-OBS.\n",
      "Set MJD-END to 58448.463661 from DATE-END'. [astropy.wcs.wcs]\n"
     ]
    },
    {
     "name": "stdout",
     "output_type": "stream",
     "text": [
      "Reading image 499: /arc/home/mikea/.shifty_data/tess/5/1/4/tess2018330122938-s0005-1-4-0125-s_ffic.fits\r"
     ]
    },
    {
     "name": "stderr",
     "output_type": "stream",
     "text": [
      "WARNING: FITSFixedWarning: 'datfix' made the change 'Set MJD-OBS to 58448.463660 from DATE-OBS.\n",
      "Set MJD-END to 58448.484494 from DATE-END'. [astropy.wcs.wcs]\n",
      "WARNING: FITSFixedWarning: 'datfix' made the change 'Set MJD-OBS to 58448.484494 from DATE-OBS.\n",
      "Set MJD-END to 58448.505327 from DATE-END'. [astropy.wcs.wcs]\n",
      "WARNING: FITSFixedWarning: 'datfix' made the change 'Set MJD-OBS to 58448.505327 from DATE-OBS.\n",
      "Set MJD-END to 58448.526160 from DATE-END'. [astropy.wcs.wcs]\n"
     ]
    },
    {
     "name": "stdout",
     "output_type": "stream",
     "text": [
      "Reading image 502: /arc/home/mikea/.shifty_data/tess/5/1/4/tess2018330135938-s0005-1-4-0125-s_ffic.fits\r"
     ]
    },
    {
     "name": "stderr",
     "output_type": "stream",
     "text": [
      "WARNING: FITSFixedWarning: 'datfix' made the change 'Set MJD-OBS to 58448.526160 from DATE-OBS.\n",
      "Set MJD-END to 58448.546993 from DATE-END'. [astropy.wcs.wcs]\n",
      "WARNING: FITSFixedWarning: 'datfix' made the change 'Set MJD-OBS to 58448.546993 from DATE-OBS.\n",
      "Set MJD-END to 58448.567826 from DATE-END'. [astropy.wcs.wcs]\n",
      "WARNING: FITSFixedWarning: 'datfix' made the change 'Set MJD-OBS to 58448.567826 from DATE-OBS.\n",
      "Set MJD-END to 58448.588659 from DATE-END'. [astropy.wcs.wcs]\n"
     ]
    },
    {
     "name": "stdout",
     "output_type": "stream",
     "text": [
      "Reading image 505: /arc/home/mikea/.shifty_data/tess/5/1/4/tess2018330152938-s0005-1-4-0125-s_ffic.fits\r"
     ]
    },
    {
     "name": "stderr",
     "output_type": "stream",
     "text": [
      "WARNING: FITSFixedWarning: 'datfix' made the change 'Set MJD-OBS to 58448.588659 from DATE-OBS.\n",
      "Set MJD-END to 58448.609492 from DATE-END'. [astropy.wcs.wcs]\n",
      "WARNING: FITSFixedWarning: 'datfix' made the change 'Set MJD-OBS to 58448.609492 from DATE-OBS.\n",
      "Set MJD-END to 58448.630325 from DATE-END'. [astropy.wcs.wcs]\n",
      "WARNING: FITSFixedWarning: 'datfix' made the change 'Set MJD-OBS to 58448.630325 from DATE-OBS.\n",
      "Set MJD-END to 58448.651158 from DATE-END'. [astropy.wcs.wcs]\n"
     ]
    },
    {
     "name": "stdout",
     "output_type": "stream",
     "text": [
      "Reading image 508: /arc/home/mikea/.shifty_data/tess/5/1/4/tess2018330165938-s0005-1-4-0125-s_ffic.fits\r"
     ]
    },
    {
     "name": "stderr",
     "output_type": "stream",
     "text": [
      "WARNING: FITSFixedWarning: 'datfix' made the change 'Set MJD-OBS to 58448.651158 from DATE-OBS.\n",
      "Set MJD-END to 58448.671991 from DATE-END'. [astropy.wcs.wcs]\n",
      "WARNING: FITSFixedWarning: 'datfix' made the change 'Set MJD-OBS to 58448.671991 from DATE-OBS.\n",
      "Set MJD-END to 58448.692824 from DATE-END'. [astropy.wcs.wcs]\n",
      "WARNING: FITSFixedWarning: 'datfix' made the change 'Set MJD-OBS to 58448.692824 from DATE-OBS.\n",
      "Set MJD-END to 58448.713657 from DATE-END'. [astropy.wcs.wcs]\n"
     ]
    },
    {
     "name": "stdout",
     "output_type": "stream",
     "text": [
      "Reading image 510: /arc/home/mikea/.shifty_data/tess/5/1/4/tess2018330175938-s0005-1-4-0125-s_ffic.fits\r"
     ]
    },
    {
     "name": "stderr",
     "output_type": "stream",
     "text": [
      "WARNING: FITSFixedWarning: 'datfix' made the change 'Set MJD-OBS to 58448.713657 from DATE-OBS.\n",
      "Set MJD-END to 58448.734490 from DATE-END'. [astropy.wcs.wcs]\n",
      "WARNING: FITSFixedWarning: 'datfix' made the change 'Set MJD-OBS to 58448.734490 from DATE-OBS.\n",
      "Set MJD-END to 58448.755323 from DATE-END'. [astropy.wcs.wcs]\n"
     ]
    },
    {
     "name": "stdout",
     "output_type": "stream",
     "text": [
      "Reading image 513: /arc/home/mikea/.shifty_data/tess/5/1/4/tess2018330192938-s0005-1-4-0125-s_ffic.fits\r"
     ]
    },
    {
     "name": "stderr",
     "output_type": "stream",
     "text": [
      "WARNING: FITSFixedWarning: 'datfix' made the change 'Set MJD-OBS to 58448.755323 from DATE-OBS.\n",
      "Set MJD-END to 58448.776157 from DATE-END'. [astropy.wcs.wcs]\n",
      "WARNING: FITSFixedWarning: 'datfix' made the change 'Set MJD-OBS to 58448.776157 from DATE-OBS.\n",
      "Set MJD-END to 58448.796990 from DATE-END'. [astropy.wcs.wcs]\n",
      "WARNING: FITSFixedWarning: 'datfix' made the change 'Set MJD-OBS to 58448.796990 from DATE-OBS.\n",
      "Set MJD-END to 58448.817823 from DATE-END'. [astropy.wcs.wcs]\n"
     ]
    },
    {
     "name": "stdout",
     "output_type": "stream",
     "text": [
      "Reading image 516: /arc/home/mikea/.shifty_data/tess/5/1/4/tess2018330205938-s0005-1-4-0125-s_ffic.fits\r"
     ]
    },
    {
     "name": "stderr",
     "output_type": "stream",
     "text": [
      "WARNING: FITSFixedWarning: 'datfix' made the change 'Set MJD-OBS to 58448.817823 from DATE-OBS.\n",
      "Set MJD-END to 58448.838656 from DATE-END'. [astropy.wcs.wcs]\n",
      "WARNING: FITSFixedWarning: 'datfix' made the change 'Set MJD-OBS to 58448.838656 from DATE-OBS.\n",
      "Set MJD-END to 58448.859489 from DATE-END'. [astropy.wcs.wcs]\n",
      "WARNING: FITSFixedWarning: 'datfix' made the change 'Set MJD-OBS to 58448.859489 from DATE-OBS.\n",
      "Set MJD-END to 58448.880322 from DATE-END'. [astropy.wcs.wcs]\n"
     ]
    },
    {
     "name": "stdout",
     "output_type": "stream",
     "text": [
      "Reading image 519: /arc/home/mikea/.shifty_data/tess/5/1/4/tess2018330222938-s0005-1-4-0125-s_ffic.fits\r"
     ]
    },
    {
     "name": "stderr",
     "output_type": "stream",
     "text": [
      "WARNING: FITSFixedWarning: 'datfix' made the change 'Set MJD-OBS to 58448.880322 from DATE-OBS.\n",
      "Set MJD-END to 58448.901155 from DATE-END'. [astropy.wcs.wcs]\n",
      "WARNING: FITSFixedWarning: 'datfix' made the change 'Set MJD-OBS to 58448.901155 from DATE-OBS.\n",
      "Set MJD-END to 58448.921988 from DATE-END'. [astropy.wcs.wcs]\n",
      "WARNING: FITSFixedWarning: 'datfix' made the change 'Set MJD-OBS to 58448.921988 from DATE-OBS.\n",
      "Set MJD-END to 58448.942821 from DATE-END'. [astropy.wcs.wcs]\n"
     ]
    },
    {
     "name": "stdout",
     "output_type": "stream",
     "text": [
      "Reading image 521: /arc/home/mikea/.shifty_data/tess/5/1/4/tess2018330232938-s0005-1-4-0125-s_ffic.fits\r"
     ]
    },
    {
     "name": "stderr",
     "output_type": "stream",
     "text": [
      "WARNING: FITSFixedWarning: 'datfix' made the change 'Set MJD-OBS to 58448.942821 from DATE-OBS.\n",
      "Set MJD-END to 58448.963654 from DATE-END'. [astropy.wcs.wcs]\n",
      "WARNING: FITSFixedWarning: 'datfix' made the change 'Set MJD-OBS to 58448.963654 from DATE-OBS.\n",
      "Set MJD-END to 58448.984487 from DATE-END'. [astropy.wcs.wcs]\n",
      "WARNING: FITSFixedWarning: 'datfix' made the change 'Set MJD-OBS to 58448.984487 from DATE-OBS.\n",
      "Set MJD-END to 58449.005320 from DATE-END'. [astropy.wcs.wcs]\n"
     ]
    },
    {
     "name": "stdout",
     "output_type": "stream",
     "text": [
      "Reading image 524: /arc/home/mikea/.shifty_data/tess/5/1/4/tess2018331005938-s0005-1-4-0125-s_ffic.fits\r"
     ]
    },
    {
     "name": "stderr",
     "output_type": "stream",
     "text": [
      "WARNING: FITSFixedWarning: 'datfix' made the change 'Set MJD-OBS to 58449.005320 from DATE-OBS.\n",
      "Set MJD-END to 58449.026153 from DATE-END'. [astropy.wcs.wcs]\n",
      "WARNING: FITSFixedWarning: 'datfix' made the change 'Set MJD-OBS to 58449.026153 from DATE-OBS.\n",
      "Set MJD-END to 58449.046986 from DATE-END'. [astropy.wcs.wcs]\n"
     ]
    },
    {
     "name": "stdout",
     "output_type": "stream",
     "text": [
      "Reading image 527: /arc/home/mikea/.shifty_data/tess/5/1/4/tess2018331022938-s0005-1-4-0125-s_ffic.fits\r"
     ]
    },
    {
     "name": "stderr",
     "output_type": "stream",
     "text": [
      "WARNING: FITSFixedWarning: 'datfix' made the change 'Set MJD-OBS to 58449.046986 from DATE-OBS.\n",
      "Set MJD-END to 58449.067819 from DATE-END'. [astropy.wcs.wcs]\n",
      "WARNING: FITSFixedWarning: 'datfix' made the change 'Set MJD-OBS to 58449.067819 from DATE-OBS.\n",
      "Set MJD-END to 58449.088652 from DATE-END'. [astropy.wcs.wcs]\n",
      "WARNING: FITSFixedWarning: 'datfix' made the change 'Set MJD-OBS to 58449.088652 from DATE-OBS.\n",
      "Set MJD-END to 58449.109486 from DATE-END'. [astropy.wcs.wcs]\n"
     ]
    },
    {
     "name": "stdout",
     "output_type": "stream",
     "text": [
      "Reading image 529: /arc/home/mikea/.shifty_data/tess/5/1/4/tess2018331032938-s0005-1-4-0125-s_ffic.fits\r"
     ]
    },
    {
     "name": "stderr",
     "output_type": "stream",
     "text": [
      "WARNING: FITSFixedWarning: 'datfix' made the change 'Set MJD-OBS to 58449.109485 from DATE-OBS.\n",
      "Set MJD-END to 58449.130319 from DATE-END'. [astropy.wcs.wcs]\n",
      "WARNING: FITSFixedWarning: 'datfix' made the change 'Set MJD-OBS to 58449.130319 from DATE-OBS.\n",
      "Set MJD-END to 58449.151152 from DATE-END'. [astropy.wcs.wcs]\n",
      "WARNING: FITSFixedWarning: 'datfix' made the change 'Set MJD-OBS to 58449.151152 from DATE-OBS.\n",
      "Set MJD-END to 58449.171985 from DATE-END'. [astropy.wcs.wcs]\n"
     ]
    },
    {
     "name": "stdout",
     "output_type": "stream",
     "text": [
      "Reading image 532: /arc/home/mikea/.shifty_data/tess/5/1/4/tess2018331045938-s0005-1-4-0125-s_ffic.fits\r"
     ]
    },
    {
     "name": "stderr",
     "output_type": "stream",
     "text": [
      "WARNING: FITSFixedWarning: 'datfix' made the change 'Set MJD-OBS to 58449.171985 from DATE-OBS.\n",
      "Set MJD-END to 58449.192818 from DATE-END'. [astropy.wcs.wcs]\n",
      "WARNING: FITSFixedWarning: 'datfix' made the change 'Set MJD-OBS to 58449.192818 from DATE-OBS.\n",
      "Set MJD-END to 58449.213651 from DATE-END'. [astropy.wcs.wcs]\n"
     ]
    },
    {
     "name": "stdout",
     "output_type": "stream",
     "text": [
      "Reading image 535: /arc/home/mikea/.shifty_data/tess/5/1/4/tess2018331062938-s0005-1-4-0125-s_ffic.fits\r"
     ]
    },
    {
     "name": "stderr",
     "output_type": "stream",
     "text": [
      "WARNING: FITSFixedWarning: 'datfix' made the change 'Set MJD-OBS to 58449.213651 from DATE-OBS.\n",
      "Set MJD-END to 58449.234484 from DATE-END'. [astropy.wcs.wcs]\n",
      "WARNING: FITSFixedWarning: 'datfix' made the change 'Set MJD-OBS to 58449.234484 from DATE-OBS.\n",
      "Set MJD-END to 58449.255317 from DATE-END'. [astropy.wcs.wcs]\n",
      "WARNING: FITSFixedWarning: 'datfix' made the change 'Set MJD-OBS to 58449.255317 from DATE-OBS.\n",
      "Set MJD-END to 58449.276150 from DATE-END'. [astropy.wcs.wcs]\n"
     ]
    },
    {
     "name": "stdout",
     "output_type": "stream",
     "text": [
      "Reading image 537: /arc/home/mikea/.shifty_data/tess/5/1/4/tess2018331072938-s0005-1-4-0125-s_ffic.fits\r"
     ]
    },
    {
     "name": "stderr",
     "output_type": "stream",
     "text": [
      "WARNING: FITSFixedWarning: 'datfix' made the change 'Set MJD-OBS to 58449.276150 from DATE-OBS.\n",
      "Set MJD-END to 58449.296983 from DATE-END'. [astropy.wcs.wcs]\n",
      "WARNING: FITSFixedWarning: 'datfix' made the change 'Set MJD-OBS to 58449.296983 from DATE-OBS.\n",
      "Set MJD-END to 58449.317816 from DATE-END'. [astropy.wcs.wcs]\n"
     ]
    },
    {
     "name": "stdout",
     "output_type": "stream",
     "text": [
      "Reading image 540: /arc/home/mikea/.shifty_data/tess/5/1/4/tess2018331085938-s0005-1-4-0125-s_ffic.fits\r"
     ]
    },
    {
     "name": "stderr",
     "output_type": "stream",
     "text": [
      "WARNING: FITSFixedWarning: 'datfix' made the change 'Set MJD-OBS to 58449.317816 from DATE-OBS.\n",
      "Set MJD-END to 58449.338649 from DATE-END'. [astropy.wcs.wcs]\n",
      "WARNING: FITSFixedWarning: 'datfix' made the change 'Set MJD-OBS to 58449.338649 from DATE-OBS.\n",
      "Set MJD-END to 58449.359482 from DATE-END'. [astropy.wcs.wcs]\n",
      "WARNING: FITSFixedWarning: 'datfix' made the change 'Set MJD-OBS to 58449.359482 from DATE-OBS.\n",
      "Set MJD-END to 58449.380315 from DATE-END'. [astropy.wcs.wcs]\n"
     ]
    },
    {
     "name": "stdout",
     "output_type": "stream",
     "text": [
      "Reading image 543: /arc/home/mikea/.shifty_data/tess/5/1/4/tess2018331102938-s0005-1-4-0125-s_ffic.fits\r"
     ]
    },
    {
     "name": "stderr",
     "output_type": "stream",
     "text": [
      "WARNING: FITSFixedWarning: 'datfix' made the change 'Set MJD-OBS to 58449.380315 from DATE-OBS.\n",
      "Set MJD-END to 58449.401148 from DATE-END'. [astropy.wcs.wcs]\n",
      "WARNING: FITSFixedWarning: 'datfix' made the change 'Set MJD-OBS to 58449.401148 from DATE-OBS.\n",
      "Set MJD-END to 58449.421981 from DATE-END'. [astropy.wcs.wcs]\n",
      "WARNING: FITSFixedWarning: 'datfix' made the change 'Set MJD-OBS to 58449.421981 from DATE-OBS.\n",
      "Set MJD-END to 58449.442814 from DATE-END'. [astropy.wcs.wcs]\n"
     ]
    },
    {
     "name": "stdout",
     "output_type": "stream",
     "text": [
      "Reading image 545: /arc/home/mikea/.shifty_data/tess/5/1/4/tess2018331112938-s0005-1-4-0125-s_ffic.fits\r"
     ]
    },
    {
     "name": "stderr",
     "output_type": "stream",
     "text": [
      "WARNING: FITSFixedWarning: 'datfix' made the change 'Set MJD-OBS to 58449.442814 from DATE-OBS.\n",
      "Set MJD-END to 58449.463648 from DATE-END'. [astropy.wcs.wcs]\n",
      "WARNING: FITSFixedWarning: 'datfix' made the change 'Set MJD-OBS to 58449.463648 from DATE-OBS.\n",
      "Set MJD-END to 58449.484481 from DATE-END'. [astropy.wcs.wcs]\n"
     ]
    },
    {
     "name": "stdout",
     "output_type": "stream",
     "text": [
      "Reading image 548: /arc/home/mikea/.shifty_data/tess/5/1/4/tess2018333072938-s0005-1-4-0125-s_ffic.fits\r"
     ]
    },
    {
     "name": "stderr",
     "output_type": "stream",
     "text": [
      "WARNING: FITSFixedWarning: 'datfix' made the change 'Set MJD-OBS to 58449.484481 from DATE-OBS.\n",
      "Set MJD-END to 58449.505314 from DATE-END'. [astropy.wcs.wcs]\n",
      "WARNING: FITSFixedWarning: 'datfix' made the change 'Set MJD-OBS to 58449.505314 from DATE-OBS.\n",
      "Set MJD-END to 58449.526147 from DATE-END'. [astropy.wcs.wcs]\n",
      "WARNING: FITSFixedWarning: 'datfix' made the change 'Set MJD-OBS to 58451.296965 from DATE-OBS.\n",
      "Set MJD-END to 58451.317798 from DATE-END'. [astropy.wcs.wcs]\n"
     ]
    },
    {
     "name": "stdout",
     "output_type": "stream",
     "text": [
      "Reading image 551: /arc/home/mikea/.shifty_data/tess/5/1/4/tess2018333085938-s0005-1-4-0125-s_ffic.fits\r"
     ]
    },
    {
     "name": "stderr",
     "output_type": "stream",
     "text": [
      "WARNING: FITSFixedWarning: 'datfix' made the change 'Set MJD-OBS to 58451.317798 from DATE-OBS.\n",
      "Set MJD-END to 58451.338631 from DATE-END'. [astropy.wcs.wcs]\n",
      "WARNING: FITSFixedWarning: 'datfix' made the change 'Set MJD-OBS to 58451.338631 from DATE-OBS.\n",
      "Set MJD-END to 58451.359464 from DATE-END'. [astropy.wcs.wcs]\n",
      "WARNING: FITSFixedWarning: 'datfix' made the change 'Set MJD-OBS to 58451.359464 from DATE-OBS.\n",
      "Set MJD-END to 58451.380297 from DATE-END'. [astropy.wcs.wcs]\n"
     ]
    },
    {
     "name": "stdout",
     "output_type": "stream",
     "text": [
      "Reading image 554: /arc/home/mikea/.shifty_data/tess/5/1/4/tess2018333102938-s0005-1-4-0125-s_ffic.fits\r"
     ]
    },
    {
     "name": "stderr",
     "output_type": "stream",
     "text": [
      "WARNING: FITSFixedWarning: 'datfix' made the change 'Set MJD-OBS to 58451.380297 from DATE-OBS.\n",
      "Set MJD-END to 58451.401131 from DATE-END'. [astropy.wcs.wcs]\n",
      "WARNING: FITSFixedWarning: 'datfix' made the change 'Set MJD-OBS to 58451.401131 from DATE-OBS.\n",
      "Set MJD-END to 58451.421964 from DATE-END'. [astropy.wcs.wcs]\n",
      "WARNING: FITSFixedWarning: 'datfix' made the change 'Set MJD-OBS to 58451.421964 from DATE-OBS.\n",
      "Set MJD-END to 58451.442797 from DATE-END'. [astropy.wcs.wcs]\n"
     ]
    },
    {
     "name": "stdout",
     "output_type": "stream",
     "text": [
      "Reading image 557: /arc/home/mikea/.shifty_data/tess/5/1/4/tess2018333115938-s0005-1-4-0125-s_ffic.fits\r"
     ]
    },
    {
     "name": "stderr",
     "output_type": "stream",
     "text": [
      "WARNING: FITSFixedWarning: 'datfix' made the change 'Set MJD-OBS to 58451.442797 from DATE-OBS.\n",
      "Set MJD-END to 58451.463630 from DATE-END'. [astropy.wcs.wcs]\n",
      "WARNING: FITSFixedWarning: 'datfix' made the change 'Set MJD-OBS to 58451.463630 from DATE-OBS.\n",
      "Set MJD-END to 58451.484463 from DATE-END'. [astropy.wcs.wcs]\n",
      "WARNING: FITSFixedWarning: 'datfix' made the change 'Set MJD-OBS to 58451.484463 from DATE-OBS.\n",
      "Set MJD-END to 58451.505296 from DATE-END'. [astropy.wcs.wcs]\n"
     ]
    },
    {
     "name": "stdout",
     "output_type": "stream",
     "text": [
      "Reading image 559: /arc/home/mikea/.shifty_data/tess/5/1/4/tess2018333125938-s0005-1-4-0125-s_ffic.fits\r"
     ]
    },
    {
     "name": "stderr",
     "output_type": "stream",
     "text": [
      "WARNING: FITSFixedWarning: 'datfix' made the change 'Set MJD-OBS to 58451.505296 from DATE-OBS.\n",
      "Set MJD-END to 58451.526129 from DATE-END'. [astropy.wcs.wcs]\n",
      "WARNING: FITSFixedWarning: 'datfix' made the change 'Set MJD-OBS to 58451.526130 from DATE-OBS.\n",
      "Set MJD-END to 58451.546963 from DATE-END'. [astropy.wcs.wcs]\n"
     ]
    },
    {
     "name": "stdout",
     "output_type": "stream",
     "text": [
      "Reading image 562: /arc/home/mikea/.shifty_data/tess/5/1/4/tess2018333142938-s0005-1-4-0125-s_ffic.fits\r"
     ]
    },
    {
     "name": "stderr",
     "output_type": "stream",
     "text": [
      "WARNING: FITSFixedWarning: 'datfix' made the change 'Set MJD-OBS to 58451.546963 from DATE-OBS.\n",
      "Set MJD-END to 58451.567796 from DATE-END'. [astropy.wcs.wcs]\n",
      "WARNING: FITSFixedWarning: 'datfix' made the change 'Set MJD-OBS to 58451.567796 from DATE-OBS.\n",
      "Set MJD-END to 58451.588629 from DATE-END'. [astropy.wcs.wcs]\n",
      "WARNING: FITSFixedWarning: 'datfix' made the change 'Set MJD-OBS to 58451.588629 from DATE-OBS.\n",
      "Set MJD-END to 58451.609462 from DATE-END'. [astropy.wcs.wcs]\n"
     ]
    },
    {
     "name": "stdout",
     "output_type": "stream",
     "text": [
      "Reading image 565: /arc/home/mikea/.shifty_data/tess/5/1/4/tess2018333155938-s0005-1-4-0125-s_ffic.fits\r"
     ]
    },
    {
     "name": "stderr",
     "output_type": "stream",
     "text": [
      "WARNING: FITSFixedWarning: 'datfix' made the change 'Set MJD-OBS to 58451.609462 from DATE-OBS.\n",
      "Set MJD-END to 58451.630295 from DATE-END'. [astropy.wcs.wcs]\n",
      "WARNING: FITSFixedWarning: 'datfix' made the change 'Set MJD-OBS to 58451.630295 from DATE-OBS.\n",
      "Set MJD-END to 58451.651128 from DATE-END'. [astropy.wcs.wcs]\n",
      "WARNING: FITSFixedWarning: 'datfix' made the change 'Set MJD-OBS to 58451.651128 from DATE-OBS.\n",
      "Set MJD-END to 58451.671961 from DATE-END'. [astropy.wcs.wcs]\n"
     ]
    },
    {
     "name": "stdout",
     "output_type": "stream",
     "text": [
      "Reading image 567: /arc/home/mikea/.shifty_data/tess/5/1/4/tess2018333165938-s0005-1-4-0125-s_ffic.fits\r"
     ]
    },
    {
     "name": "stderr",
     "output_type": "stream",
     "text": [
      "WARNING: FITSFixedWarning: 'datfix' made the change 'Set MJD-OBS to 58451.671962 from DATE-OBS.\n",
      "Set MJD-END to 58451.692795 from DATE-END'. [astropy.wcs.wcs]\n",
      "WARNING: FITSFixedWarning: 'datfix' made the change 'Set MJD-OBS to 58451.692795 from DATE-OBS.\n",
      "Set MJD-END to 58451.713628 from DATE-END'. [astropy.wcs.wcs]\n"
     ]
    },
    {
     "name": "stdout",
     "output_type": "stream",
     "text": [
      "Reading image 570: /arc/home/mikea/.shifty_data/tess/5/1/4/tess2018333182938-s0005-1-4-0125-s_ffic.fits\r"
     ]
    },
    {
     "name": "stderr",
     "output_type": "stream",
     "text": [
      "WARNING: FITSFixedWarning: 'datfix' made the change 'Set MJD-OBS to 58451.713628 from DATE-OBS.\n",
      "Set MJD-END to 58451.734461 from DATE-END'. [astropy.wcs.wcs]\n",
      "WARNING: FITSFixedWarning: 'datfix' made the change 'Set MJD-OBS to 58451.734461 from DATE-OBS.\n",
      "Set MJD-END to 58451.755294 from DATE-END'. [astropy.wcs.wcs]\n",
      "WARNING: FITSFixedWarning: 'datfix' made the change 'Set MJD-OBS to 58451.755294 from DATE-OBS.\n",
      "Set MJD-END to 58451.776127 from DATE-END'. [astropy.wcs.wcs]\n"
     ]
    },
    {
     "name": "stdout",
     "output_type": "stream",
     "text": [
      "Reading image 573: /arc/home/mikea/.shifty_data/tess/5/1/4/tess2018333195938-s0005-1-4-0125-s_ffic.fits\r"
     ]
    },
    {
     "name": "stderr",
     "output_type": "stream",
     "text": [
      "WARNING: FITSFixedWarning: 'datfix' made the change 'Set MJD-OBS to 58451.776127 from DATE-OBS.\n",
      "Set MJD-END to 58451.796960 from DATE-END'. [astropy.wcs.wcs]\n",
      "WARNING: FITSFixedWarning: 'datfix' made the change 'Set MJD-OBS to 58451.796960 from DATE-OBS.\n",
      "Set MJD-END to 58451.817793 from DATE-END'. [astropy.wcs.wcs]\n",
      "WARNING: FITSFixedWarning: 'datfix' made the change 'Set MJD-OBS to 58451.817793 from DATE-OBS.\n",
      "Set MJD-END to 58451.838627 from DATE-END'. [astropy.wcs.wcs]\n"
     ]
    },
    {
     "name": "stdout",
     "output_type": "stream",
     "text": [
      "Reading image 575: /arc/home/mikea/.shifty_data/tess/5/1/4/tess2018333205938-s0005-1-4-0125-s_ffic.fits\r"
     ]
    },
    {
     "name": "stderr",
     "output_type": "stream",
     "text": [
      "WARNING: FITSFixedWarning: 'datfix' made the change 'Set MJD-OBS to 58451.838627 from DATE-OBS.\n",
      "Set MJD-END to 58451.859460 from DATE-END'. [astropy.wcs.wcs]\n",
      "WARNING: FITSFixedWarning: 'datfix' made the change 'Set MJD-OBS to 58451.859460 from DATE-OBS.\n",
      "Set MJD-END to 58451.880293 from DATE-END'. [astropy.wcs.wcs]\n",
      "WARNING: FITSFixedWarning: 'datfix' made the change 'Set MJD-OBS to 58451.880293 from DATE-OBS.\n",
      "Set MJD-END to 58451.901126 from DATE-END'. [astropy.wcs.wcs]\n",
      "WARNING: FITSFixedWarning: 'datfix' made the change 'Set MJD-OBS to 58451.901126 from DATE-OBS.\n",
      "Set MJD-END to 58451.921959 from DATE-END'. [astropy.wcs.wcs]\n",
      "WARNING: FITSFixedWarning: 'datfix' made the change 'Set MJD-OBS to 58451.921959 from DATE-OBS.\n",
      "Set MJD-END to 58451.942792 from DATE-END'. [astropy.wcs.wcs]\n"
     ]
    },
    {
     "name": "stdout",
     "output_type": "stream",
     "text": [
      "Reading image 580: /arc/home/mikea/.shifty_data/tess/5/1/4/tess2018333232938-s0005-1-4-0125-s_ffic.fits\r"
     ]
    },
    {
     "name": "stderr",
     "output_type": "stream",
     "text": [
      "WARNING: FITSFixedWarning: 'datfix' made the change 'Set MJD-OBS to 58451.942792 from DATE-OBS.\n",
      "Set MJD-END to 58451.963625 from DATE-END'. [astropy.wcs.wcs]\n",
      "WARNING: FITSFixedWarning: 'datfix' made the change 'Set MJD-OBS to 58451.963625 from DATE-OBS.\n",
      "Set MJD-END to 58451.984458 from DATE-END'. [astropy.wcs.wcs]\n"
     ]
    },
    {
     "name": "stdout",
     "output_type": "stream",
     "text": [
      "Reading image 582: /arc/home/mikea/.shifty_data/tess/5/1/4/tess2018334002938-s0005-1-4-0125-s_ffic.fits\r"
     ]
    },
    {
     "name": "stderr",
     "output_type": "stream",
     "text": [
      "WARNING: FITSFixedWarning: 'datfix' made the change 'Set MJD-OBS to 58451.984458 from DATE-OBS.\n",
      "Set MJD-END to 58452.005291 from DATE-END'. [astropy.wcs.wcs]\n",
      "WARNING: FITSFixedWarning: 'datfix' made the change 'Set MJD-OBS to 58452.005291 from DATE-OBS.\n",
      "Set MJD-END to 58452.026125 from DATE-END'. [astropy.wcs.wcs]\n"
     ]
    },
    {
     "name": "stdout",
     "output_type": "stream",
     "text": [
      "Reading image 585: /arc/home/mikea/.shifty_data/tess/5/1/4/tess2018334015938-s0005-1-4-0125-s_ffic.fits\r"
     ]
    },
    {
     "name": "stderr",
     "output_type": "stream",
     "text": [
      "WARNING: FITSFixedWarning: 'datfix' made the change 'Set MJD-OBS to 58452.026125 from DATE-OBS.\n",
      "Set MJD-END to 58452.046958 from DATE-END'. [astropy.wcs.wcs]\n",
      "WARNING: FITSFixedWarning: 'datfix' made the change 'Set MJD-OBS to 58452.046958 from DATE-OBS.\n",
      "Set MJD-END to 58452.067791 from DATE-END'. [astropy.wcs.wcs]\n",
      "WARNING: FITSFixedWarning: 'datfix' made the change 'Set MJD-OBS to 58452.067791 from DATE-OBS.\n",
      "Set MJD-END to 58452.088624 from DATE-END'. [astropy.wcs.wcs]\n"
     ]
    },
    {
     "name": "stdout",
     "output_type": "stream",
     "text": [
      "Reading image 588: /arc/home/mikea/.shifty_data/tess/5/1/4/tess2018334032938-s0005-1-4-0125-s_ffic.fits\r"
     ]
    },
    {
     "name": "stderr",
     "output_type": "stream",
     "text": [
      "WARNING: FITSFixedWarning: 'datfix' made the change 'Set MJD-OBS to 58452.088624 from DATE-OBS.\n",
      "Set MJD-END to 58452.109457 from DATE-END'. [astropy.wcs.wcs]\n",
      "WARNING: FITSFixedWarning: 'datfix' made the change 'Set MJD-OBS to 58452.109457 from DATE-OBS.\n",
      "Set MJD-END to 58452.130290 from DATE-END'. [astropy.wcs.wcs]\n",
      "WARNING: FITSFixedWarning: 'datfix' made the change 'Set MJD-OBS to 58452.130290 from DATE-OBS.\n",
      "Set MJD-END to 58452.151123 from DATE-END'. [astropy.wcs.wcs]\n"
     ]
    },
    {
     "name": "stdout",
     "output_type": "stream",
     "text": [
      "Reading image 591: /arc/home/mikea/.shifty_data/tess/5/1/4/tess2018334045938-s0005-1-4-0125-s_ffic.fits\r"
     ]
    },
    {
     "name": "stderr",
     "output_type": "stream",
     "text": [
      "WARNING: FITSFixedWarning: 'datfix' made the change 'Set MJD-OBS to 58452.151123 from DATE-OBS.\n",
      "Set MJD-END to 58452.171956 from DATE-END'. [astropy.wcs.wcs]\n",
      "WARNING: FITSFixedWarning: 'datfix' made the change 'Set MJD-OBS to 58452.171956 from DATE-OBS.\n",
      "Set MJD-END to 58452.192789 from DATE-END'. [astropy.wcs.wcs]\n",
      "WARNING: FITSFixedWarning: 'datfix' made the change 'Set MJD-OBS to 58452.192789 from DATE-OBS.\n",
      "Set MJD-END to 58452.213622 from DATE-END'. [astropy.wcs.wcs]\n"
     ]
    },
    {
     "name": "stdout",
     "output_type": "stream",
     "text": [
      "Reading image 594: /arc/home/mikea/.shifty_data/tess/5/1/4/tess2018334062938-s0005-1-4-0125-s_ffic.fits\r"
     ]
    },
    {
     "name": "stderr",
     "output_type": "stream",
     "text": [
      "WARNING: FITSFixedWarning: 'datfix' made the change 'Set MJD-OBS to 58452.213622 from DATE-OBS.\n",
      "Set MJD-END to 58452.234456 from DATE-END'. [astropy.wcs.wcs]\n",
      "WARNING: FITSFixedWarning: 'datfix' made the change 'Set MJD-OBS to 58452.234456 from DATE-OBS.\n",
      "Set MJD-END to 58452.255289 from DATE-END'. [astropy.wcs.wcs]\n",
      "WARNING: FITSFixedWarning: 'datfix' made the change 'Set MJD-OBS to 58452.255289 from DATE-OBS.\n",
      "Set MJD-END to 58452.276122 from DATE-END'. [astropy.wcs.wcs]\n"
     ]
    },
    {
     "name": "stdout",
     "output_type": "stream",
     "text": [
      "Reading image 597: /arc/home/mikea/.shifty_data/tess/5/1/4/tess2018334075938-s0005-1-4-0125-s_ffic.fits\r"
     ]
    },
    {
     "name": "stderr",
     "output_type": "stream",
     "text": [
      "WARNING: FITSFixedWarning: 'datfix' made the change 'Set MJD-OBS to 58452.276122 from DATE-OBS.\n",
      "Set MJD-END to 58452.296955 from DATE-END'. [astropy.wcs.wcs]\n",
      "WARNING: FITSFixedWarning: 'datfix' made the change 'Set MJD-OBS to 58452.296955 from DATE-OBS.\n",
      "Set MJD-END to 58452.317788 from DATE-END'. [astropy.wcs.wcs]\n",
      "WARNING: FITSFixedWarning: 'datfix' made the change 'Set MJD-OBS to 58452.317788 from DATE-OBS.\n",
      "Set MJD-END to 58452.338621 from DATE-END'. [astropy.wcs.wcs]\n"
     ]
    },
    {
     "name": "stdout",
     "output_type": "stream",
     "text": [
      "Reading image 599: /arc/home/mikea/.shifty_data/tess/5/1/4/tess2018334085938-s0005-1-4-0125-s_ffic.fits\r"
     ]
    },
    {
     "name": "stderr",
     "output_type": "stream",
     "text": [
      "WARNING: FITSFixedWarning: 'datfix' made the change 'Set MJD-OBS to 58452.338621 from DATE-OBS.\n",
      "Set MJD-END to 58452.359454 from DATE-END'. [astropy.wcs.wcs]\n",
      "WARNING: FITSFixedWarning: 'datfix' made the change 'Set MJD-OBS to 58452.359454 from DATE-OBS.\n",
      "Set MJD-END to 58452.380287 from DATE-END'. [astropy.wcs.wcs]\n"
     ]
    },
    {
     "name": "stdout",
     "output_type": "stream",
     "text": [
      "Reading image 602: /arc/home/mikea/.shifty_data/tess/5/1/4/tess2018334102938-s0005-1-4-0125-s_ffic.fits\r"
     ]
    },
    {
     "name": "stderr",
     "output_type": "stream",
     "text": [
      "WARNING: FITSFixedWarning: 'datfix' made the change 'Set MJD-OBS to 58452.380287 from DATE-OBS.\n",
      "Set MJD-END to 58452.401120 from DATE-END'. [astropy.wcs.wcs]\n",
      "WARNING: FITSFixedWarning: 'datfix' made the change 'Set MJD-OBS to 58452.401120 from DATE-OBS.\n",
      "Set MJD-END to 58452.421953 from DATE-END'. [astropy.wcs.wcs]\n",
      "WARNING: FITSFixedWarning: 'datfix' made the change 'Set MJD-OBS to 58452.421953 from DATE-OBS.\n",
      "Set MJD-END to 58452.442786 from DATE-END'. [astropy.wcs.wcs]\n"
     ]
    },
    {
     "name": "stdout",
     "output_type": "stream",
     "text": [
      "Reading image 604: /arc/home/mikea/.shifty_data/tess/5/1/4/tess2018334112938-s0005-1-4-0125-s_ffic.fits\r"
     ]
    },
    {
     "name": "stderr",
     "output_type": "stream",
     "text": [
      "WARNING: FITSFixedWarning: 'datfix' made the change 'Set MJD-OBS to 58452.442786 from DATE-OBS.\n",
      "Set MJD-END to 58452.463619 from DATE-END'. [astropy.wcs.wcs]\n",
      "WARNING: FITSFixedWarning: 'datfix' made the change 'Set MJD-OBS to 58452.463619 from DATE-OBS.\n",
      "Set MJD-END to 58452.484453 from DATE-END'. [astropy.wcs.wcs]\n",
      "WARNING: FITSFixedWarning: 'datfix' made the change 'Set MJD-OBS to 58452.484453 from DATE-OBS.\n",
      "Set MJD-END to 58452.505286 from DATE-END'. [astropy.wcs.wcs]\n"
     ]
    },
    {
     "name": "stdout",
     "output_type": "stream",
     "text": [
      "Reading image 607: /arc/home/mikea/.shifty_data/tess/5/1/4/tess2018334125938-s0005-1-4-0125-s_ffic.fits\r"
     ]
    },
    {
     "name": "stderr",
     "output_type": "stream",
     "text": [
      "WARNING: FITSFixedWarning: 'datfix' made the change 'Set MJD-OBS to 58452.505286 from DATE-OBS.\n",
      "Set MJD-END to 58452.526119 from DATE-END'. [astropy.wcs.wcs]\n",
      "WARNING: FITSFixedWarning: 'datfix' made the change 'Set MJD-OBS to 58452.526119 from DATE-OBS.\n",
      "Set MJD-END to 58452.546952 from DATE-END'. [astropy.wcs.wcs]\n",
      "WARNING: FITSFixedWarning: 'datfix' made the change 'Set MJD-OBS to 58452.546952 from DATE-OBS.\n",
      "Set MJD-END to 58452.567785 from DATE-END'. [astropy.wcs.wcs]\n"
     ]
    },
    {
     "name": "stdout",
     "output_type": "stream",
     "text": [
      "Reading image 610: /arc/home/mikea/.shifty_data/tess/5/1/4/tess2018334142938-s0005-1-4-0125-s_ffic.fits\r"
     ]
    },
    {
     "name": "stderr",
     "output_type": "stream",
     "text": [
      "WARNING: FITSFixedWarning: 'datfix' made the change 'Set MJD-OBS to 58452.567785 from DATE-OBS.\n",
      "Set MJD-END to 58452.588618 from DATE-END'. [astropy.wcs.wcs]\n",
      "WARNING: FITSFixedWarning: 'datfix' made the change 'Set MJD-OBS to 58452.588618 from DATE-OBS.\n",
      "Set MJD-END to 58452.609451 from DATE-END'. [astropy.wcs.wcs]\n"
     ]
    },
    {
     "name": "stdout",
     "output_type": "stream",
     "text": [
      "Reading image 613: /arc/home/mikea/.shifty_data/tess/5/1/4/tess2018334155938-s0005-1-4-0125-s_ffic.fits\r"
     ]
    },
    {
     "name": "stderr",
     "output_type": "stream",
     "text": [
      "WARNING: FITSFixedWarning: 'datfix' made the change 'Set MJD-OBS to 58452.609451 from DATE-OBS.\n",
      "Set MJD-END to 58452.630284 from DATE-END'. [astropy.wcs.wcs]\n",
      "WARNING: FITSFixedWarning: 'datfix' made the change 'Set MJD-OBS to 58452.630284 from DATE-OBS.\n",
      "Set MJD-END to 58452.651117 from DATE-END'. [astropy.wcs.wcs]\n",
      "WARNING: FITSFixedWarning: 'datfix' made the change 'Set MJD-OBS to 58452.651117 from DATE-OBS.\n",
      "Set MJD-END to 58452.671950 from DATE-END'. [astropy.wcs.wcs]\n"
     ]
    },
    {
     "name": "stdout",
     "output_type": "stream",
     "text": [
      "Reading image 615: /arc/home/mikea/.shifty_data/tess/5/1/4/tess2018334165938-s0005-1-4-0125-s_ffic.fits\r"
     ]
    },
    {
     "name": "stderr",
     "output_type": "stream",
     "text": [
      "WARNING: FITSFixedWarning: 'datfix' made the change 'Set MJD-OBS to 58452.671950 from DATE-OBS.\n",
      "Set MJD-END to 58452.692783 from DATE-END'. [astropy.wcs.wcs]\n",
      "WARNING: FITSFixedWarning: 'datfix' made the change 'Set MJD-OBS to 58452.692783 from DATE-OBS.\n",
      "Set MJD-END to 58452.713616 from DATE-END'. [astropy.wcs.wcs]\n",
      "WARNING: FITSFixedWarning: 'datfix' made the change 'Set MJD-OBS to 58452.713616 from DATE-OBS.\n",
      "Set MJD-END to 58452.734449 from DATE-END'. [astropy.wcs.wcs]\n",
      "WARNING: FITSFixedWarning: 'datfix' made the change 'Set MJD-OBS to 58452.734449 from DATE-OBS.\n",
      "Set MJD-END to 58452.755282 from DATE-END'. [astropy.wcs.wcs]\n",
      "WARNING: FITSFixedWarning: 'datfix' made the change 'Set MJD-OBS to 58452.755282 from DATE-OBS.\n",
      "Set MJD-END to 58452.776115 from DATE-END'. [astropy.wcs.wcs]\n"
     ]
    },
    {
     "name": "stdout",
     "output_type": "stream",
     "text": [
      "Reading image 621: /arc/home/mikea/.shifty_data/tess/5/1/4/tess2018334195938-s0005-1-4-0125-s_ffic.fits\r"
     ]
    },
    {
     "name": "stderr",
     "output_type": "stream",
     "text": [
      "WARNING: FITSFixedWarning: 'datfix' made the change 'Set MJD-OBS to 58452.776115 from DATE-OBS.\n",
      "Set MJD-END to 58452.796948 from DATE-END'. [astropy.wcs.wcs]\n",
      "WARNING: FITSFixedWarning: 'datfix' made the change 'Set MJD-OBS to 58452.796948 from DATE-OBS.\n",
      "Set MJD-END to 58452.817781 from DATE-END'. [astropy.wcs.wcs]\n",
      "WARNING: FITSFixedWarning: 'datfix' made the change 'Set MJD-OBS to 58452.817781 from DATE-OBS.\n",
      "Set MJD-END to 58452.838615 from DATE-END'. [astropy.wcs.wcs]\n"
     ]
    },
    {
     "name": "stdout",
     "output_type": "stream",
     "text": [
      "Reading image 623: /arc/home/mikea/.shifty_data/tess/5/1/4/tess2018334205938-s0005-1-4-0125-s_ffic.fits\r"
     ]
    },
    {
     "name": "stderr",
     "output_type": "stream",
     "text": [
      "WARNING: FITSFixedWarning: 'datfix' made the change 'Set MJD-OBS to 58452.838614 from DATE-OBS.\n",
      "Set MJD-END to 58452.859448 from DATE-END'. [astropy.wcs.wcs]\n",
      "WARNING: FITSFixedWarning: 'datfix' made the change 'Set MJD-OBS to 58452.859447 from DATE-OBS.\n",
      "Set MJD-END to 58452.880281 from DATE-END'. [astropy.wcs.wcs]\n",
      "WARNING: FITSFixedWarning: 'datfix' made the change 'Set MJD-OBS to 58452.880281 from DATE-OBS.\n",
      "Set MJD-END to 58452.901114 from DATE-END'. [astropy.wcs.wcs]\n",
      "WARNING: FITSFixedWarning: 'datfix' made the change 'Set MJD-OBS to 58452.901114 from DATE-OBS.\n",
      "Set MJD-END to 58452.921947 from DATE-END'. [astropy.wcs.wcs]\n",
      "WARNING: FITSFixedWarning: 'datfix' made the change 'Set MJD-OBS to 58452.921947 from DATE-OBS.\n",
      "Set MJD-END to 58452.942780 from DATE-END'. [astropy.wcs.wcs]\n"
     ]
    },
    {
     "name": "stdout",
     "output_type": "stream",
     "text": [
      "Reading image 626: /arc/home/mikea/.shifty_data/tess/5/1/4/tess2018334222938-s0005-1-4-0125-s_ffic.fits\r"
     ]
    },
    {
     "name": "stderr",
     "output_type": "stream",
     "text": [
      "WARNING: FITSFixedWarning: 'datfix' made the change 'Set MJD-OBS to 58452.942780 from DATE-OBS.\n",
      "Set MJD-END to 58452.963613 from DATE-END'. [astropy.wcs.wcs]\n",
      "WARNING: FITSFixedWarning: 'datfix' made the change 'Set MJD-OBS to 58452.963613 from DATE-OBS.\n",
      "Set MJD-END to 58452.984446 from DATE-END'. [astropy.wcs.wcs]\n",
      "WARNING: FITSFixedWarning: 'datfix' made the change 'Set MJD-OBS to 58452.984446 from DATE-OBS.\n",
      "Set MJD-END to 58453.005279 from DATE-END'. [astropy.wcs.wcs]\n"
     ]
    },
    {
     "name": "stdout",
     "output_type": "stream",
     "text": [
      "Reading image 629: /arc/home/mikea/.shifty_data/tess/5/1/4/tess2018334235938-s0005-1-4-0125-s_ffic.fits\r"
     ]
    },
    {
     "name": "stderr",
     "output_type": "stream",
     "text": [
      "WARNING: FITSFixedWarning: 'datfix' made the change 'Set MJD-OBS to 58453.005279 from DATE-OBS.\n",
      "Set MJD-END to 58453.026112 from DATE-END'. [astropy.wcs.wcs]\n",
      "WARNING: FITSFixedWarning: 'datfix' made the change 'Set MJD-OBS to 58453.026112 from DATE-OBS.\n",
      "Set MJD-END to 58453.046945 from DATE-END'. [astropy.wcs.wcs]\n"
     ]
    },
    {
     "name": "stdout",
     "output_type": "stream",
     "text": [
      "Reading image 633: /arc/home/mikea/.shifty_data/tess/5/1/4/tess2018335015938-s0005-1-4-0125-s_ffic.fits\r"
     ]
    },
    {
     "name": "stderr",
     "output_type": "stream",
     "text": [
      "WARNING: FITSFixedWarning: 'datfix' made the change 'Set MJD-OBS to 58453.046945 from DATE-OBS.\n",
      "Set MJD-END to 58453.067778 from DATE-END'. [astropy.wcs.wcs]\n",
      "WARNING: FITSFixedWarning: 'datfix' made the change 'Set MJD-OBS to 58453.067778 from DATE-OBS.\n",
      "Set MJD-END to 58453.088611 from DATE-END'. [astropy.wcs.wcs]\n"
     ]
    },
    {
     "name": "stdout",
     "output_type": "stream",
     "text": [
      "Reading image 636: /arc/home/mikea/.shifty_data/tess/5/1/4/tess2018335032938-s0005-1-4-0125-s_ffic.fits\r"
     ]
    },
    {
     "name": "stderr",
     "output_type": "stream",
     "text": [
      "WARNING: FITSFixedWarning: 'datfix' made the change 'Set MJD-OBS to 58453.088611 from DATE-OBS.\n",
      "Set MJD-END to 58453.109444 from DATE-END'. [astropy.wcs.wcs]\n",
      "WARNING: FITSFixedWarning: 'datfix' made the change 'Set MJD-OBS to 58453.109444 from DATE-OBS.\n",
      "Set MJD-END to 58453.130277 from DATE-END'. [astropy.wcs.wcs]\n",
      "WARNING: FITSFixedWarning: 'datfix' made the change 'Set MJD-OBS to 58453.130277 from DATE-OBS.\n",
      "Set MJD-END to 58453.151110 from DATE-END'. [astropy.wcs.wcs]\n"
     ]
    },
    {
     "name": "stdout",
     "output_type": "stream",
     "text": [
      "Reading image 638: /arc/home/mikea/.shifty_data/tess/5/1/4/tess2018335042938-s0005-1-4-0125-s_ffic.fits\r"
     ]
    },
    {
     "name": "stderr",
     "output_type": "stream",
     "text": [
      "WARNING: FITSFixedWarning: 'datfix' made the change 'Set MJD-OBS to 58453.151110 from DATE-OBS.\n",
      "Set MJD-END to 58453.171943 from DATE-END'. [astropy.wcs.wcs]\n",
      "WARNING: FITSFixedWarning: 'datfix' made the change 'Set MJD-OBS to 58453.171943 from DATE-OBS.\n",
      "Set MJD-END to 58453.192776 from DATE-END'. [astropy.wcs.wcs]\n"
     ]
    },
    {
     "name": "stdout",
     "output_type": "stream",
     "text": [
      "Reading image 639: /arc/home/mikea/.shifty_data/tess/5/1/4/tess2018335045938-s0005-1-4-0125-s_ffic.fits\r"
     ]
    },
    {
     "name": "stderr",
     "output_type": "stream",
     "text": [
      "WARNING: FITSFixedWarning: 'datfix' made the change 'Set MJD-OBS to 58453.192776 from DATE-OBS.\n",
      "Set MJD-END to 58453.213609 from DATE-END'. [astropy.wcs.wcs]\n",
      "WARNING: FITSFixedWarning: 'datfix' made the change 'Set MJD-OBS to 58453.213609 from DATE-OBS.\n",
      "Set MJD-END to 58453.234442 from DATE-END'. [astropy.wcs.wcs]\n"
     ]
    },
    {
     "name": "stdout",
     "output_type": "stream",
     "text": [
      "Reading image 641: /arc/home/mikea/.shifty_data/tess/5/1/4/tess2018335055938-s0005-1-4-0125-s_ffic.fits\r"
     ]
    },
    {
     "name": "stderr",
     "output_type": "stream",
     "text": [
      "WARNING: FITSFixedWarning: 'datfix' made the change 'Set MJD-OBS to 58453.234442 from DATE-OBS.\n",
      "Set MJD-END to 58453.255275 from DATE-END'. [astropy.wcs.wcs]\n",
      "WARNING: FITSFixedWarning: 'datfix' made the change 'Set MJD-OBS to 58453.255275 from DATE-OBS.\n",
      "Set MJD-END to 58453.276108 from DATE-END'. [astropy.wcs.wcs]\n"
     ]
    },
    {
     "name": "stdout",
     "output_type": "stream",
     "text": [
      "Reading image 645: /arc/home/mikea/.shifty_data/tess/5/1/4/tess2018335075938-s0005-1-4-0125-s_ffic.fits\r"
     ]
    },
    {
     "name": "stderr",
     "output_type": "stream",
     "text": [
      "WARNING: FITSFixedWarning: 'datfix' made the change 'Set MJD-OBS to 58453.276108 from DATE-OBS.\n",
      "Set MJD-END to 58453.296941 from DATE-END'. [astropy.wcs.wcs]\n",
      "WARNING: FITSFixedWarning: 'datfix' made the change 'Set MJD-OBS to 58453.296941 from DATE-OBS.\n",
      "Set MJD-END to 58453.317774 from DATE-END'. [astropy.wcs.wcs]\n",
      "WARNING: FITSFixedWarning: 'datfix' made the change 'Set MJD-OBS to 58453.317774 from DATE-OBS.\n",
      "Set MJD-END to 58453.338607 from DATE-END'. [astropy.wcs.wcs]\n"
     ]
    },
    {
     "name": "stdout",
     "output_type": "stream",
     "text": [
      "Reading image 647: /arc/home/mikea/.shifty_data/tess/5/1/4/tess2018335085938-s0005-1-4-0125-s_ffic.fits\r"
     ]
    },
    {
     "name": "stderr",
     "output_type": "stream",
     "text": [
      "WARNING: FITSFixedWarning: 'datfix' made the change 'Set MJD-OBS to 58453.338607 from DATE-OBS.\n",
      "Set MJD-END to 58453.359440 from DATE-END'. [astropy.wcs.wcs]\n",
      "WARNING: FITSFixedWarning: 'datfix' made the change 'Set MJD-OBS to 58453.359440 from DATE-OBS.\n",
      "Set MJD-END to 58453.380273 from DATE-END'. [astropy.wcs.wcs]\n"
     ]
    },
    {
     "name": "stdout",
     "output_type": "stream",
     "text": [
      "Reading image 650: /arc/home/mikea/.shifty_data/tess/5/1/4/tess2018335102938-s0005-1-4-0125-s_ffic.fits\r"
     ]
    },
    {
     "name": "stderr",
     "output_type": "stream",
     "text": [
      "WARNING: FITSFixedWarning: 'datfix' made the change 'Set MJD-OBS to 58453.380273 from DATE-OBS.\n",
      "Set MJD-END to 58453.401106 from DATE-END'. [astropy.wcs.wcs]\n",
      "WARNING: FITSFixedWarning: 'datfix' made the change 'Set MJD-OBS to 58453.401106 from DATE-OBS.\n",
      "Set MJD-END to 58453.421939 from DATE-END'. [astropy.wcs.wcs]\n",
      "WARNING: FITSFixedWarning: 'datfix' made the change 'Set MJD-OBS to 58453.421939 from DATE-OBS.\n",
      "Set MJD-END to 58453.442772 from DATE-END'. [astropy.wcs.wcs]\n"
     ]
    },
    {
     "name": "stdout",
     "output_type": "stream",
     "text": [
      "Reading image 653: /arc/home/mikea/.shifty_data/tess/5/1/4/tess2018335115938-s0005-1-4-0125-s_ffic.fits\r"
     ]
    },
    {
     "name": "stderr",
     "output_type": "stream",
     "text": [
      "WARNING: FITSFixedWarning: 'datfix' made the change 'Set MJD-OBS to 58453.442772 from DATE-OBS.\n",
      "Set MJD-END to 58453.463605 from DATE-END'. [astropy.wcs.wcs]\n",
      "WARNING: FITSFixedWarning: 'datfix' made the change 'Set MJD-OBS to 58453.463605 from DATE-OBS.\n",
      "Set MJD-END to 58453.484438 from DATE-END'. [astropy.wcs.wcs]\n",
      "WARNING: FITSFixedWarning: 'datfix' made the change 'Set MJD-OBS to 58453.484438 from DATE-OBS.\n",
      "Set MJD-END to 58453.505271 from DATE-END'. [astropy.wcs.wcs]\n"
     ]
    },
    {
     "name": "stdout",
     "output_type": "stream",
     "text": [
      "Reading image 656: /arc/home/mikea/.shifty_data/tess/5/1/4/tess2018335132938-s0005-1-4-0125-s_ffic.fits\r"
     ]
    },
    {
     "name": "stderr",
     "output_type": "stream",
     "text": [
      "WARNING: FITSFixedWarning: 'datfix' made the change 'Set MJD-OBS to 58453.505271 from DATE-OBS.\n",
      "Set MJD-END to 58453.526104 from DATE-END'. [astropy.wcs.wcs]\n",
      "WARNING: FITSFixedWarning: 'datfix' made the change 'Set MJD-OBS to 58453.526104 from DATE-OBS.\n",
      "Set MJD-END to 58453.546937 from DATE-END'. [astropy.wcs.wcs]\n",
      "WARNING: FITSFixedWarning: 'datfix' made the change 'Set MJD-OBS to 58453.546937 from DATE-OBS.\n",
      "Set MJD-END to 58453.567770 from DATE-END'. [astropy.wcs.wcs]\n"
     ]
    },
    {
     "name": "stdout",
     "output_type": "stream",
     "text": [
      "Reading image 659: /arc/home/mikea/.shifty_data/tess/5/1/4/tess2018335145938-s0005-1-4-0125-s_ffic.fits\r"
     ]
    },
    {
     "name": "stderr",
     "output_type": "stream",
     "text": [
      "WARNING: FITSFixedWarning: 'datfix' made the change 'Set MJD-OBS to 58453.567770 from DATE-OBS.\n",
      "Set MJD-END to 58453.588603 from DATE-END'. [astropy.wcs.wcs]\n",
      "WARNING: FITSFixedWarning: 'datfix' made the change 'Set MJD-OBS to 58453.588603 from DATE-OBS.\n",
      "Set MJD-END to 58453.609436 from DATE-END'. [astropy.wcs.wcs]\n",
      "WARNING: FITSFixedWarning: 'datfix' made the change 'Set MJD-OBS to 58453.609436 from DATE-OBS.\n",
      "Set MJD-END to 58453.630269 from DATE-END'. [astropy.wcs.wcs]\n"
     ]
    },
    {
     "name": "stdout",
     "output_type": "stream",
     "text": [
      "Reading image 661: /arc/home/mikea/.shifty_data/tess/5/1/4/tess2018335155938-s0005-1-4-0125-s_ffic.fits\r"
     ]
    },
    {
     "name": "stderr",
     "output_type": "stream",
     "text": [
      "WARNING: FITSFixedWarning: 'datfix' made the change 'Set MJD-OBS to 58453.630269 from DATE-OBS.\n",
      "Set MJD-END to 58453.651102 from DATE-END'. [astropy.wcs.wcs]\n",
      "WARNING: FITSFixedWarning: 'datfix' made the change 'Set MJD-OBS to 58453.651102 from DATE-OBS.\n",
      "Set MJD-END to 58453.671935 from DATE-END'. [astropy.wcs.wcs]\n",
      "WARNING: FITSFixedWarning: 'datfix' made the change 'Set MJD-OBS to 58453.671935 from DATE-OBS.\n",
      "Set MJD-END to 58453.692768 from DATE-END'. [astropy.wcs.wcs]\n"
     ]
    },
    {
     "name": "stdout",
     "output_type": "stream",
     "text": [
      "Reading image 664: /arc/home/mikea/.shifty_data/tess/5/1/4/tess2018335172938-s0005-1-4-0125-s_ffic.fits\r"
     ]
    },
    {
     "name": "stderr",
     "output_type": "stream",
     "text": [
      "WARNING: FITSFixedWarning: 'datfix' made the change 'Set MJD-OBS to 58453.692768 from DATE-OBS.\n",
      "Set MJD-END to 58453.713601 from DATE-END'. [astropy.wcs.wcs]\n",
      "WARNING: FITSFixedWarning: 'datfix' made the change 'Set MJD-OBS to 58453.713601 from DATE-OBS.\n",
      "Set MJD-END to 58453.734434 from DATE-END'. [astropy.wcs.wcs]\n",
      "WARNING: FITSFixedWarning: 'datfix' made the change 'Set MJD-OBS to 58453.734434 from DATE-OBS.\n",
      "Set MJD-END to 58453.755267 from DATE-END'. [astropy.wcs.wcs]\n"
     ]
    },
    {
     "name": "stdout",
     "output_type": "stream",
     "text": [
      "Reading image 667: /arc/home/mikea/.shifty_data/tess/5/1/4/tess2018335185938-s0005-1-4-0125-s_ffic.fits\r"
     ]
    },
    {
     "name": "stderr",
     "output_type": "stream",
     "text": [
      "WARNING: FITSFixedWarning: 'datfix' made the change 'Set MJD-OBS to 58453.755267 from DATE-OBS.\n",
      "Set MJD-END to 58453.776100 from DATE-END'. [astropy.wcs.wcs]\n",
      "WARNING: FITSFixedWarning: 'datfix' made the change 'Set MJD-OBS to 58453.776100 from DATE-OBS.\n",
      "Set MJD-END to 58453.796933 from DATE-END'. [astropy.wcs.wcs]\n"
     ]
    },
    {
     "name": "stdout",
     "output_type": "stream",
     "text": [
      "Reading image 670: /arc/home/mikea/.shifty_data/tess/5/1/4/tess2018335202938-s0005-1-4-0125-s_ffic.fits\r"
     ]
    },
    {
     "name": "stderr",
     "output_type": "stream",
     "text": [
      "WARNING: FITSFixedWarning: 'datfix' made the change 'Set MJD-OBS to 58453.796933 from DATE-OBS.\n",
      "Set MJD-END to 58453.817766 from DATE-END'. [astropy.wcs.wcs]\n",
      "WARNING: FITSFixedWarning: 'datfix' made the change 'Set MJD-OBS to 58453.817766 from DATE-OBS.\n",
      "Set MJD-END to 58453.838599 from DATE-END'. [astropy.wcs.wcs]\n",
      "WARNING: FITSFixedWarning: 'datfix' made the change 'Set MJD-OBS to 58453.838599 from DATE-OBS.\n",
      "Set MJD-END to 58453.859432 from DATE-END'. [astropy.wcs.wcs]\n"
     ]
    },
    {
     "name": "stdout",
     "output_type": "stream",
     "text": [
      "Reading image 672: /arc/home/mikea/.shifty_data/tess/5/1/4/tess2018335212938-s0005-1-4-0125-s_ffic.fits\r"
     ]
    },
    {
     "name": "stderr",
     "output_type": "stream",
     "text": [
      "WARNING: FITSFixedWarning: 'datfix' made the change 'Set MJD-OBS to 58453.859432 from DATE-OBS.\n",
      "Set MJD-END to 58453.880265 from DATE-END'. [astropy.wcs.wcs]\n",
      "WARNING: FITSFixedWarning: 'datfix' made the change 'Set MJD-OBS to 58453.880265 from DATE-OBS.\n",
      "Set MJD-END to 58453.901098 from DATE-END'. [astropy.wcs.wcs]\n"
     ]
    },
    {
     "name": "stdout",
     "output_type": "stream",
     "text": [
      "Reading image 673: /arc/home/mikea/.shifty_data/tess/5/1/4/tess2018335215938-s0005-1-4-0125-s_ffic.fits\r"
     ]
    },
    {
     "name": "stderr",
     "output_type": "stream",
     "text": [
      "WARNING: FITSFixedWarning: 'datfix' made the change 'Set MJD-OBS to 58453.901098 from DATE-OBS.\n",
      "Set MJD-END to 58453.921931 from DATE-END'. [astropy.wcs.wcs]\n"
     ]
    },
    {
     "name": "stdout",
     "output_type": "stream",
     "text": [
      "Reading image 676: /arc/home/mikea/.shifty_data/tess/5/1/4/tess2018335232938-s0005-1-4-0125-s_ffic.fits\r"
     ]
    },
    {
     "name": "stderr",
     "output_type": "stream",
     "text": [
      "WARNING: FITSFixedWarning: 'datfix' made the change 'Set MJD-OBS to 58453.921931 from DATE-OBS.\n",
      "Set MJD-END to 58453.942764 from DATE-END'. [astropy.wcs.wcs]\n",
      "WARNING: FITSFixedWarning: 'datfix' made the change 'Set MJD-OBS to 58453.942764 from DATE-OBS.\n",
      "Set MJD-END to 58453.963597 from DATE-END'. [astropy.wcs.wcs]\n",
      "WARNING: FITSFixedWarning: 'datfix' made the change 'Set MJD-OBS to 58453.963597 from DATE-OBS.\n",
      "Set MJD-END to 58453.984430 from DATE-END'. [astropy.wcs.wcs]\n"
     ]
    },
    {
     "name": "stdout",
     "output_type": "stream",
     "text": [
      "Reading image 677: /arc/home/mikea/.shifty_data/tess/5/1/4/tess2018335235938-s0005-1-4-0125-s_ffic.fits\r"
     ]
    },
    {
     "name": "stderr",
     "output_type": "stream",
     "text": [
      "WARNING: FITSFixedWarning: 'datfix' made the change 'Set MJD-OBS to 58453.984430 from DATE-OBS.\n",
      "Set MJD-END to 58454.005263 from DATE-END'. [astropy.wcs.wcs]\n"
     ]
    },
    {
     "name": "stdout",
     "output_type": "stream",
     "text": [
      "Reading image 680: /arc/home/mikea/.shifty_data/tess/5/1/4/tess2018336012938-s0005-1-4-0125-s_ffic.fits\r"
     ]
    },
    {
     "name": "stderr",
     "output_type": "stream",
     "text": [
      "WARNING: FITSFixedWarning: 'datfix' made the change 'Set MJD-OBS to 58454.005263 from DATE-OBS.\n",
      "Set MJD-END to 58454.026096 from DATE-END'. [astropy.wcs.wcs]\n",
      "WARNING: FITSFixedWarning: 'datfix' made the change 'Set MJD-OBS to 58454.026096 from DATE-OBS.\n",
      "Set MJD-END to 58454.046929 from DATE-END'. [astropy.wcs.wcs]\n",
      "WARNING: FITSFixedWarning: 'datfix' made the change 'Set MJD-OBS to 58454.046929 from DATE-OBS.\n",
      "Set MJD-END to 58454.067762 from DATE-END'. [astropy.wcs.wcs]\n"
     ]
    },
    {
     "name": "stdout",
     "output_type": "stream",
     "text": [
      "Reading image 683: /arc/home/mikea/.shifty_data/tess/5/1/4/tess2018336032938-s0005-1-4-0125-s_ffic.fits\r"
     ]
    },
    {
     "name": "stderr",
     "output_type": "stream",
     "text": [
      "WARNING: FITSFixedWarning: 'datfix' made the change 'Set MJD-OBS to 58454.067762 from DATE-OBS.\n",
      "Set MJD-END to 58454.088595 from DATE-END'. [astropy.wcs.wcs]\n",
      "WARNING: FITSFixedWarning: 'datfix' made the change 'Set MJD-OBS to 58454.109428 from DATE-OBS.\n",
      "Set MJD-END to 58454.130261 from DATE-END'. [astropy.wcs.wcs]\n",
      "WARNING: FITSFixedWarning: 'datfix' made the change 'Set MJD-OBS to 58454.130261 from DATE-OBS.\n",
      "Set MJD-END to 58454.151094 from DATE-END'. [astropy.wcs.wcs]\n"
     ]
    },
    {
     "name": "stdout",
     "output_type": "stream",
     "text": [
      "Reading image 685: /arc/home/mikea/.shifty_data/tess/5/1/4/tess2018336042938-s0005-1-4-0125-s_ffic.fits\r"
     ]
    },
    {
     "name": "stderr",
     "output_type": "stream",
     "text": [
      "WARNING: FITSFixedWarning: 'datfix' made the change 'Set MJD-OBS to 58454.151094 from DATE-OBS.\n",
      "Set MJD-END to 58454.171927 from DATE-END'. [astropy.wcs.wcs]\n",
      "WARNING: FITSFixedWarning: 'datfix' made the change 'Set MJD-OBS to 58454.171927 from DATE-OBS.\n",
      "Set MJD-END to 58454.192760 from DATE-END'. [astropy.wcs.wcs]\n",
      "WARNING: FITSFixedWarning: 'datfix' made the change 'Set MJD-OBS to 58454.192759 from DATE-OBS.\n",
      "Set MJD-END to 58454.213593 from DATE-END'. [astropy.wcs.wcs]\n"
     ]
    },
    {
     "name": "stdout",
     "output_type": "stream",
     "text": [
      "Reading image 688: /arc/home/mikea/.shifty_data/tess/5/1/4/tess2018336055938-s0005-1-4-0125-s_ffic.fits\r"
     ]
    },
    {
     "name": "stderr",
     "output_type": "stream",
     "text": [
      "WARNING: FITSFixedWarning: 'datfix' made the change 'Set MJD-OBS to 58454.213592 from DATE-OBS.\n",
      "Set MJD-END to 58454.234426 from DATE-END'. [astropy.wcs.wcs]\n",
      "WARNING: FITSFixedWarning: 'datfix' made the change 'Set MJD-OBS to 58454.234425 from DATE-OBS.\n",
      "Set MJD-END to 58454.255258 from DATE-END'. [astropy.wcs.wcs]\n",
      "WARNING: FITSFixedWarning: 'datfix' made the change 'Set MJD-OBS to 58454.255258 from DATE-OBS.\n",
      "Set MJD-END to 58454.276091 from DATE-END'. [astropy.wcs.wcs]\n"
     ]
    },
    {
     "name": "stdout",
     "output_type": "stream",
     "text": [
      "Reading image 690: /arc/home/mikea/.shifty_data/tess/5/1/4/tess2018336065938-s0005-1-4-0125-s_ffic.fits\r"
     ]
    },
    {
     "name": "stderr",
     "output_type": "stream",
     "text": [
      "WARNING: FITSFixedWarning: 'datfix' made the change 'Set MJD-OBS to 58454.276091 from DATE-OBS.\n",
      "Set MJD-END to 58454.296924 from DATE-END'. [astropy.wcs.wcs]\n",
      "WARNING: FITSFixedWarning: 'datfix' made the change 'Set MJD-OBS to 58454.296924 from DATE-OBS.\n",
      "Set MJD-END to 58454.317757 from DATE-END'. [astropy.wcs.wcs]\n",
      "WARNING: FITSFixedWarning: 'datfix' made the change 'Set MJD-OBS to 58454.317757 from DATE-OBS.\n",
      "Set MJD-END to 58454.338590 from DATE-END'. [astropy.wcs.wcs]\n"
     ]
    },
    {
     "name": "stdout",
     "output_type": "stream",
     "text": [
      "Reading image 693: /arc/home/mikea/.shifty_data/tess/5/1/4/tess2018336082938-s0005-1-4-0125-s_ffic.fits\r"
     ]
    },
    {
     "name": "stderr",
     "output_type": "stream",
     "text": [
      "WARNING: FITSFixedWarning: 'datfix' made the change 'Set MJD-OBS to 58454.338590 from DATE-OBS.\n",
      "Set MJD-END to 58454.359423 from DATE-END'. [astropy.wcs.wcs]\n",
      "WARNING: FITSFixedWarning: 'datfix' made the change 'Set MJD-OBS to 58454.359423 from DATE-OBS.\n",
      "Set MJD-END to 58454.380256 from DATE-END'. [astropy.wcs.wcs]\n"
     ]
    },
    {
     "name": "stdout",
     "output_type": "stream",
     "text": [
      "Reading image 696: /arc/home/mikea/.shifty_data/tess/5/1/4/tess2018336095938-s0005-1-4-0125-s_ffic.fits\r"
     ]
    },
    {
     "name": "stderr",
     "output_type": "stream",
     "text": [
      "WARNING: FITSFixedWarning: 'datfix' made the change 'Set MJD-OBS to 58454.380256 from DATE-OBS.\n",
      "Set MJD-END to 58454.401089 from DATE-END'. [astropy.wcs.wcs]\n",
      "WARNING: FITSFixedWarning: 'datfix' made the change 'Set MJD-OBS to 58454.401089 from DATE-OBS.\n",
      "Set MJD-END to 58454.421922 from DATE-END'. [astropy.wcs.wcs]\n"
     ]
    },
    {
     "name": "stdout",
     "output_type": "stream",
     "text": [
      "Reading image 699: /arc/home/mikea/.shifty_data/tess/5/1/4/tess2018336112938-s0005-1-4-0125-s_ffic.fits\r"
     ]
    },
    {
     "name": "stderr",
     "output_type": "stream",
     "text": [
      "WARNING: FITSFixedWarning: 'datfix' made the change 'Set MJD-OBS to 58454.421922 from DATE-OBS.\n",
      "Set MJD-END to 58454.442755 from DATE-END'. [astropy.wcs.wcs]\n",
      "WARNING: FITSFixedWarning: 'datfix' made the change 'Set MJD-OBS to 58454.442755 from DATE-OBS.\n",
      "Set MJD-END to 58454.463588 from DATE-END'. [astropy.wcs.wcs]\n",
      "WARNING: FITSFixedWarning: 'datfix' made the change 'Set MJD-OBS to 58454.463588 from DATE-OBS.\n",
      "Set MJD-END to 58454.484421 from DATE-END'. [astropy.wcs.wcs]\n"
     ]
    },
    {
     "name": "stdout",
     "output_type": "stream",
     "text": [
      "Reading image 701: /arc/home/mikea/.shifty_data/tess/5/1/4/tess2018336122938-s0005-1-4-0125-s_ffic.fits\r"
     ]
    },
    {
     "name": "stderr",
     "output_type": "stream",
     "text": [
      "WARNING: FITSFixedWarning: 'datfix' made the change 'Set MJD-OBS to 58454.484421 from DATE-OBS.\n",
      "Set MJD-END to 58454.505254 from DATE-END'. [astropy.wcs.wcs]\n",
      "WARNING: FITSFixedWarning: 'datfix' made the change 'Set MJD-OBS to 58454.505254 from DATE-OBS.\n",
      "Set MJD-END to 58454.526087 from DATE-END'. [astropy.wcs.wcs]\n"
     ]
    },
    {
     "name": "stdout",
     "output_type": "stream",
     "text": [
      "Reading image 704: /arc/home/mikea/.shifty_data/tess/5/1/4/tess2018336135938-s0005-1-4-0125-s_ffic.fits\r"
     ]
    },
    {
     "name": "stderr",
     "output_type": "stream",
     "text": [
      "WARNING: FITSFixedWarning: 'datfix' made the change 'Set MJD-OBS to 58454.526087 from DATE-OBS.\n",
      "Set MJD-END to 58454.546920 from DATE-END'. [astropy.wcs.wcs]\n",
      "WARNING: FITSFixedWarning: 'datfix' made the change 'Set MJD-OBS to 58454.546920 from DATE-OBS.\n",
      "Set MJD-END to 58454.567753 from DATE-END'. [astropy.wcs.wcs]\n",
      "WARNING: FITSFixedWarning: 'datfix' made the change 'Set MJD-OBS to 58454.567753 from DATE-OBS.\n",
      "Set MJD-END to 58454.588586 from DATE-END'. [astropy.wcs.wcs]\n"
     ]
    },
    {
     "name": "stdout",
     "output_type": "stream",
     "text": [
      "Reading image 706: /arc/home/mikea/.shifty_data/tess/5/1/4/tess2018336145938-s0005-1-4-0125-s_ffic.fits\r"
     ]
    },
    {
     "name": "stderr",
     "output_type": "stream",
     "text": [
      "WARNING: FITSFixedWarning: 'datfix' made the change 'Set MJD-OBS to 58454.588586 from DATE-OBS.\n",
      "Set MJD-END to 58454.609419 from DATE-END'. [astropy.wcs.wcs]\n",
      "WARNING: FITSFixedWarning: 'datfix' made the change 'Set MJD-OBS to 58454.609418 from DATE-OBS.\n",
      "Set MJD-END to 58454.630252 from DATE-END'. [astropy.wcs.wcs]\n"
     ]
    },
    {
     "name": "stdout",
     "output_type": "stream",
     "text": [
      "Reading image 708: /arc/home/mikea/.shifty_data/tess/5/1/4/tess2018336155938-s0005-1-4-0125-s_ffic.fits\r"
     ]
    },
    {
     "name": "stderr",
     "output_type": "stream",
     "text": [
      "WARNING: FITSFixedWarning: 'datfix' made the change 'Set MJD-OBS to 58454.630251 from DATE-OBS.\n",
      "Set MJD-END to 58454.651084 from DATE-END'. [astropy.wcs.wcs]\n",
      "WARNING: FITSFixedWarning: 'datfix' made the change 'Set MJD-OBS to 58454.651084 from DATE-OBS.\n",
      "Set MJD-END to 58454.671917 from DATE-END'. [astropy.wcs.wcs]\n"
     ]
    },
    {
     "name": "stdout",
     "output_type": "stream",
     "text": [
      "Reading image 710: /arc/home/mikea/.shifty_data/tess/5/1/4/tess2018336165938-s0005-1-4-0125-s_ffic.fits\r"
     ]
    },
    {
     "name": "stderr",
     "output_type": "stream",
     "text": [
      "WARNING: FITSFixedWarning: 'datfix' made the change 'Set MJD-OBS to 58454.671917 from DATE-OBS.\n",
      "Set MJD-END to 58454.692750 from DATE-END'. [astropy.wcs.wcs]\n",
      "WARNING: FITSFixedWarning: 'datfix' made the change 'Set MJD-OBS to 58454.692750 from DATE-OBS.\n",
      "Set MJD-END to 58454.713583 from DATE-END'. [astropy.wcs.wcs]\n"
     ]
    },
    {
     "name": "stdout",
     "output_type": "stream",
     "text": [
      "Reading image 712: /arc/home/mikea/.shifty_data/tess/5/1/4/tess2018336175938-s0005-1-4-0125-s_ffic.fits\r"
     ]
    },
    {
     "name": "stderr",
     "output_type": "stream",
     "text": [
      "WARNING: FITSFixedWarning: 'datfix' made the change 'Set MJD-OBS to 58454.713583 from DATE-OBS.\n",
      "Set MJD-END to 58454.734416 from DATE-END'. [astropy.wcs.wcs]\n",
      "WARNING: FITSFixedWarning: 'datfix' made the change 'Set MJD-OBS to 58454.734416 from DATE-OBS.\n",
      "Set MJD-END to 58454.755249 from DATE-END'. [astropy.wcs.wcs]\n"
     ]
    },
    {
     "name": "stdout",
     "output_type": "stream",
     "text": [
      "Reading image 715: /arc/home/mikea/.shifty_data/tess/5/1/4/tess2018336192938-s0005-1-4-0125-s_ffic.fits\r"
     ]
    },
    {
     "name": "stderr",
     "output_type": "stream",
     "text": [
      "WARNING: FITSFixedWarning: 'datfix' made the change 'Set MJD-OBS to 58454.755249 from DATE-OBS.\n",
      "Set MJD-END to 58454.776082 from DATE-END'. [astropy.wcs.wcs]\n",
      "WARNING: FITSFixedWarning: 'datfix' made the change 'Set MJD-OBS to 58454.776082 from DATE-OBS.\n",
      "Set MJD-END to 58454.796915 from DATE-END'. [astropy.wcs.wcs]\n",
      "WARNING: FITSFixedWarning: 'datfix' made the change 'Set MJD-OBS to 58454.796915 from DATE-OBS.\n",
      "Set MJD-END to 58454.817748 from DATE-END'. [astropy.wcs.wcs]\n"
     ]
    },
    {
     "name": "stdout",
     "output_type": "stream",
     "text": [
      "Reading image 718: /arc/home/mikea/.shifty_data/tess/5/1/4/tess2018336205938-s0005-1-4-0125-s_ffic.fits\r"
     ]
    },
    {
     "name": "stderr",
     "output_type": "stream",
     "text": [
      "WARNING: FITSFixedWarning: 'datfix' made the change 'Set MJD-OBS to 58454.817748 from DATE-OBS.\n",
      "Set MJD-END to 58454.838581 from DATE-END'. [astropy.wcs.wcs]\n",
      "WARNING: FITSFixedWarning: 'datfix' made the change 'Set MJD-OBS to 58454.838581 from DATE-OBS.\n",
      "Set MJD-END to 58454.859414 from DATE-END'. [astropy.wcs.wcs]\n",
      "WARNING: FITSFixedWarning: 'datfix' made the change 'Set MJD-OBS to 58454.859414 from DATE-OBS.\n",
      "Set MJD-END to 58454.880247 from DATE-END'. [astropy.wcs.wcs]\n"
     ]
    },
    {
     "name": "stdout",
     "output_type": "stream",
     "text": [
      "Reading image 721: /arc/home/mikea/.shifty_data/tess/5/1/4/tess2018336222938-s0005-1-4-0125-s_ffic.fits\r"
     ]
    },
    {
     "name": "stderr",
     "output_type": "stream",
     "text": [
      "WARNING: FITSFixedWarning: 'datfix' made the change 'Set MJD-OBS to 58454.880247 from DATE-OBS.\n",
      "Set MJD-END to 58454.901080 from DATE-END'. [astropy.wcs.wcs]\n",
      "WARNING: FITSFixedWarning: 'datfix' made the change 'Set MJD-OBS to 58454.901079 from DATE-OBS.\n",
      "Set MJD-END to 58454.921913 from DATE-END'. [astropy.wcs.wcs]\n",
      "WARNING: FITSFixedWarning: 'datfix' made the change 'Set MJD-OBS to 58454.921912 from DATE-OBS.\n",
      "Set MJD-END to 58454.942745 from DATE-END'. [astropy.wcs.wcs]\n"
     ]
    },
    {
     "name": "stdout",
     "output_type": "stream",
     "text": [
      "Reading image 723: /arc/home/mikea/.shifty_data/tess/5/1/4/tess2018336232938-s0005-1-4-0125-s_ffic.fits\r"
     ]
    },
    {
     "name": "stderr",
     "output_type": "stream",
     "text": [
      "WARNING: FITSFixedWarning: 'datfix' made the change 'Set MJD-OBS to 58454.942745 from DATE-OBS.\n",
      "Set MJD-END to 58454.963578 from DATE-END'. [astropy.wcs.wcs]\n",
      "WARNING: FITSFixedWarning: 'datfix' made the change 'Set MJD-OBS to 58454.963578 from DATE-OBS.\n",
      "Set MJD-END to 58454.984411 from DATE-END'. [astropy.wcs.wcs]\n",
      "WARNING: FITSFixedWarning: 'datfix' made the change 'Set MJD-OBS to 58454.984411 from DATE-OBS.\n",
      "Set MJD-END to 58455.005244 from DATE-END'. [astropy.wcs.wcs]\n"
     ]
    },
    {
     "name": "stdout",
     "output_type": "stream",
     "text": [
      "Reading image 726: /arc/home/mikea/.shifty_data/tess/5/1/4/tess2018337005938-s0005-1-4-0125-s_ffic.fits\r"
     ]
    },
    {
     "name": "stderr",
     "output_type": "stream",
     "text": [
      "WARNING: FITSFixedWarning: 'datfix' made the change 'Set MJD-OBS to 58455.005244 from DATE-OBS.\n",
      "Set MJD-END to 58455.026077 from DATE-END'. [astropy.wcs.wcs]\n",
      "WARNING: FITSFixedWarning: 'datfix' made the change 'Set MJD-OBS to 58455.026077 from DATE-OBS.\n",
      "Set MJD-END to 58455.046910 from DATE-END'. [astropy.wcs.wcs]\n",
      "WARNING: FITSFixedWarning: 'datfix' made the change 'Set MJD-OBS to 58455.046910 from DATE-OBS.\n",
      "Set MJD-END to 58455.067743 from DATE-END'. [astropy.wcs.wcs]\n"
     ]
    },
    {
     "name": "stdout",
     "output_type": "stream",
     "text": [
      "Reading image 728: /arc/home/mikea/.shifty_data/tess/5/1/4/tess2018337015938-s0005-1-4-0125-s_ffic.fits\r"
     ]
    },
    {
     "name": "stderr",
     "output_type": "stream",
     "text": [
      "WARNING: FITSFixedWarning: 'datfix' made the change 'Set MJD-OBS to 58455.067743 from DATE-OBS.\n",
      "Set MJD-END to 58455.088576 from DATE-END'. [astropy.wcs.wcs]\n",
      "WARNING: FITSFixedWarning: 'datfix' made the change 'Set MJD-OBS to 58455.088576 from DATE-OBS.\n",
      "Set MJD-END to 58455.109409 from DATE-END'. [astropy.wcs.wcs]\n"
     ]
    },
    {
     "name": "stdout",
     "output_type": "stream",
     "text": [
      "Reading image 731: /arc/home/mikea/.shifty_data/tess/5/1/4/tess2018337032938-s0005-1-4-0125-s_ffic.fits\r"
     ]
    },
    {
     "name": "stderr",
     "output_type": "stream",
     "text": [
      "WARNING: FITSFixedWarning: 'datfix' made the change 'Set MJD-OBS to 58455.109409 from DATE-OBS.\n",
      "Set MJD-END to 58455.130242 from DATE-END'. [astropy.wcs.wcs]\n",
      "WARNING: FITSFixedWarning: 'datfix' made the change 'Set MJD-OBS to 58455.130242 from DATE-OBS.\n",
      "Set MJD-END to 58455.151075 from DATE-END'. [astropy.wcs.wcs]\n",
      "WARNING: FITSFixedWarning: 'datfix' made the change 'Set MJD-OBS to 58455.151074 from DATE-OBS.\n",
      "Set MJD-END to 58455.171908 from DATE-END'. [astropy.wcs.wcs]\n"
     ]
    },
    {
     "name": "stdout",
     "output_type": "stream",
     "text": [
      "Reading image 734: /arc/home/mikea/.shifty_data/tess/5/1/4/tess2018337045938-s0005-1-4-0125-s_ffic.fits\r"
     ]
    },
    {
     "name": "stderr",
     "output_type": "stream",
     "text": [
      "WARNING: FITSFixedWarning: 'datfix' made the change 'Set MJD-OBS to 58455.171907 from DATE-OBS.\n",
      "Set MJD-END to 58455.192740 from DATE-END'. [astropy.wcs.wcs]\n",
      "WARNING: FITSFixedWarning: 'datfix' made the change 'Set MJD-OBS to 58455.192740 from DATE-OBS.\n",
      "Set MJD-END to 58455.213573 from DATE-END'. [astropy.wcs.wcs]\n"
     ]
    },
    {
     "name": "stdout",
     "output_type": "stream",
     "text": [
      "Reading image 737: /arc/home/mikea/.shifty_data/tess/5/1/4/tess2018337062938-s0005-1-4-0125-s_ffic.fits\r"
     ]
    },
    {
     "name": "stderr",
     "output_type": "stream",
     "text": [
      "WARNING: FITSFixedWarning: 'datfix' made the change 'Set MJD-OBS to 58455.213573 from DATE-OBS.\n",
      "Set MJD-END to 58455.234406 from DATE-END'. [astropy.wcs.wcs]\n",
      "WARNING: FITSFixedWarning: 'datfix' made the change 'Set MJD-OBS to 58455.234406 from DATE-OBS.\n",
      "Set MJD-END to 58455.255239 from DATE-END'. [astropy.wcs.wcs]\n",
      "WARNING: FITSFixedWarning: 'datfix' made the change 'Set MJD-OBS to 58455.255239 from DATE-OBS.\n",
      "Set MJD-END to 58455.276072 from DATE-END'. [astropy.wcs.wcs]\n"
     ]
    },
    {
     "name": "stdout",
     "output_type": "stream",
     "text": [
      "Reading image 740: /arc/home/mikea/.shifty_data/tess/5/1/4/tess2018337075938-s0005-1-4-0125-s_ffic.fits\r"
     ]
    },
    {
     "name": "stderr",
     "output_type": "stream",
     "text": [
      "WARNING: FITSFixedWarning: 'datfix' made the change 'Set MJD-OBS to 58455.276072 from DATE-OBS.\n",
      "Set MJD-END to 58455.296905 from DATE-END'. [astropy.wcs.wcs]\n",
      "WARNING: FITSFixedWarning: 'datfix' made the change 'Set MJD-OBS to 58455.296905 from DATE-OBS.\n",
      "Set MJD-END to 58455.317738 from DATE-END'. [astropy.wcs.wcs]\n",
      "WARNING: FITSFixedWarning: 'datfix' made the change 'Set MJD-OBS to 58455.317738 from DATE-OBS.\n",
      "Set MJD-END to 58455.338571 from DATE-END'. [astropy.wcs.wcs]\n"
     ]
    },
    {
     "name": "stdout",
     "output_type": "stream",
     "text": [
      "Reading image 743: /arc/home/mikea/.shifty_data/tess/5/1/4/tess2018337092938-s0005-1-4-0125-s_ffic.fits\r"
     ]
    },
    {
     "name": "stderr",
     "output_type": "stream",
     "text": [
      "WARNING: FITSFixedWarning: 'datfix' made the change 'Set MJD-OBS to 58455.338571 from DATE-OBS.\n",
      "Set MJD-END to 58455.359404 from DATE-END'. [astropy.wcs.wcs]\n",
      "WARNING: FITSFixedWarning: 'datfix' made the change 'Set MJD-OBS to 58455.359403 from DATE-OBS.\n",
      "Set MJD-END to 58455.380237 from DATE-END'. [astropy.wcs.wcs]\n",
      "WARNING: FITSFixedWarning: 'datfix' made the change 'Set MJD-OBS to 58455.380236 from DATE-OBS.\n",
      "Set MJD-END to 58455.401069 from DATE-END'. [astropy.wcs.wcs]\n"
     ]
    },
    {
     "name": "stdout",
     "output_type": "stream",
     "text": [
      "Reading image 746: /arc/home/mikea/.shifty_data/tess/5/1/4/tess2018337105938-s0005-1-4-0125-s_ffic.fits\r"
     ]
    },
    {
     "name": "stderr",
     "output_type": "stream",
     "text": [
      "WARNING: FITSFixedWarning: 'datfix' made the change 'Set MJD-OBS to 58455.401069 from DATE-OBS.\n",
      "Set MJD-END to 58455.421902 from DATE-END'. [astropy.wcs.wcs]\n",
      "WARNING: FITSFixedWarning: 'datfix' made the change 'Set MJD-OBS to 58455.421902 from DATE-OBS.\n",
      "Set MJD-END to 58455.442735 from DATE-END'. [astropy.wcs.wcs]\n",
      "WARNING: FITSFixedWarning: 'datfix' made the change 'Set MJD-OBS to 58455.442735 from DATE-OBS.\n",
      "Set MJD-END to 58455.463568 from DATE-END'. [astropy.wcs.wcs]\n"
     ]
    },
    {
     "name": "stdout",
     "output_type": "stream",
     "text": [
      "Reading image 749: /arc/home/mikea/.shifty_data/tess/5/1/4/tess2018337122938-s0005-1-4-0125-s_ffic.fits\r"
     ]
    },
    {
     "name": "stderr",
     "output_type": "stream",
     "text": [
      "WARNING: FITSFixedWarning: 'datfix' made the change 'Set MJD-OBS to 58455.463568 from DATE-OBS.\n",
      "Set MJD-END to 58455.484401 from DATE-END'. [astropy.wcs.wcs]\n",
      "WARNING: FITSFixedWarning: 'datfix' made the change 'Set MJD-OBS to 58455.484401 from DATE-OBS.\n",
      "Set MJD-END to 58455.505234 from DATE-END'. [astropy.wcs.wcs]\n",
      "WARNING: FITSFixedWarning: 'datfix' made the change 'Set MJD-OBS to 58455.505234 from DATE-OBS.\n",
      "Set MJD-END to 58455.526067 from DATE-END'. [astropy.wcs.wcs]\n"
     ]
    },
    {
     "name": "stdout",
     "output_type": "stream",
     "text": [
      "Reading image 752: /arc/home/mikea/.shifty_data/tess/5/1/4/tess2018337135938-s0005-1-4-0125-s_ffic.fits\r"
     ]
    },
    {
     "name": "stderr",
     "output_type": "stream",
     "text": [
      "WARNING: FITSFixedWarning: 'datfix' made the change 'Set MJD-OBS to 58455.526067 from DATE-OBS.\n",
      "Set MJD-END to 58455.546900 from DATE-END'. [astropy.wcs.wcs]\n",
      "WARNING: FITSFixedWarning: 'datfix' made the change 'Set MJD-OBS to 58455.546900 from DATE-OBS.\n",
      "Set MJD-END to 58455.567733 from DATE-END'. [astropy.wcs.wcs]\n",
      "WARNING: FITSFixedWarning: 'datfix' made the change 'Set MJD-OBS to 58455.567732 from DATE-OBS.\n",
      "Set MJD-END to 58455.588565 from DATE-END'. [astropy.wcs.wcs]\n"
     ]
    },
    {
     "name": "stdout",
     "output_type": "stream",
     "text": [
      "Reading image 755: /arc/home/mikea/.shifty_data/tess/5/1/4/tess2018337152938-s0005-1-4-0125-s_ffic.fits\r"
     ]
    },
    {
     "name": "stderr",
     "output_type": "stream",
     "text": [
      "WARNING: FITSFixedWarning: 'datfix' made the change 'Set MJD-OBS to 58455.588565 from DATE-OBS.\n",
      "Set MJD-END to 58455.609398 from DATE-END'. [astropy.wcs.wcs]\n",
      "WARNING: FITSFixedWarning: 'datfix' made the change 'Set MJD-OBS to 58455.609398 from DATE-OBS.\n",
      "Set MJD-END to 58455.630231 from DATE-END'. [astropy.wcs.wcs]\n",
      "WARNING: FITSFixedWarning: 'datfix' made the change 'Set MJD-OBS to 58455.630231 from DATE-OBS.\n",
      "Set MJD-END to 58455.651064 from DATE-END'. [astropy.wcs.wcs]\n"
     ]
    },
    {
     "name": "stdout",
     "output_type": "stream",
     "text": [
      "Reading image 758: /arc/home/mikea/.shifty_data/tess/5/1/4/tess2018337165938-s0005-1-4-0125-s_ffic.fits\r"
     ]
    },
    {
     "name": "stderr",
     "output_type": "stream",
     "text": [
      "WARNING: FITSFixedWarning: 'datfix' made the change 'Set MJD-OBS to 58455.651064 from DATE-OBS.\n",
      "Set MJD-END to 58455.671897 from DATE-END'. [astropy.wcs.wcs]\n",
      "WARNING: FITSFixedWarning: 'datfix' made the change 'Set MJD-OBS to 58455.671897 from DATE-OBS.\n",
      "Set MJD-END to 58455.692730 from DATE-END'. [astropy.wcs.wcs]\n",
      "WARNING: FITSFixedWarning: 'datfix' made the change 'Set MJD-OBS to 58455.692730 from DATE-OBS.\n",
      "Set MJD-END to 58455.713563 from DATE-END'. [astropy.wcs.wcs]\n"
     ]
    },
    {
     "name": "stdout",
     "output_type": "stream",
     "text": [
      "Reading image 760: /arc/home/mikea/.shifty_data/tess/5/1/4/tess2018337175938-s0005-1-4-0125-s_ffic.fits\r"
     ]
    },
    {
     "name": "stderr",
     "output_type": "stream",
     "text": [
      "WARNING: FITSFixedWarning: 'datfix' made the change 'Set MJD-OBS to 58455.713563 from DATE-OBS.\n",
      "Set MJD-END to 58455.734396 from DATE-END'. [astropy.wcs.wcs]\n",
      "WARNING: FITSFixedWarning: 'datfix' made the change 'Set MJD-OBS to 58455.734395 from DATE-OBS.\n",
      "Set MJD-END to 58455.755229 from DATE-END'. [astropy.wcs.wcs]\n"
     ]
    },
    {
     "name": "stdout",
     "output_type": "stream",
     "text": [
      "Reading image 763: /arc/home/mikea/.shifty_data/tess/5/1/4/tess2018337192938-s0005-1-4-0125-s_ffic.fits\r"
     ]
    },
    {
     "name": "stderr",
     "output_type": "stream",
     "text": [
      "WARNING: FITSFixedWarning: 'datfix' made the change 'Set MJD-OBS to 58455.755228 from DATE-OBS.\n",
      "Set MJD-END to 58455.776061 from DATE-END'. [astropy.wcs.wcs]\n",
      "WARNING: FITSFixedWarning: 'datfix' made the change 'Set MJD-OBS to 58455.776061 from DATE-OBS.\n",
      "Set MJD-END to 58455.796894 from DATE-END'. [astropy.wcs.wcs]\n",
      "WARNING: FITSFixedWarning: 'datfix' made the change 'Set MJD-OBS to 58455.796894 from DATE-OBS.\n",
      "Set MJD-END to 58455.817727 from DATE-END'. [astropy.wcs.wcs]\n"
     ]
    },
    {
     "name": "stdout",
     "output_type": "stream",
     "text": [
      "Reading image 766: /arc/home/mikea/.shifty_data/tess/5/1/4/tess2018337205938-s0005-1-4-0125-s_ffic.fits\r"
     ]
    },
    {
     "name": "stderr",
     "output_type": "stream",
     "text": [
      "WARNING: FITSFixedWarning: 'datfix' made the change 'Set MJD-OBS to 58455.817727 from DATE-OBS.\n",
      "Set MJD-END to 58455.838560 from DATE-END'. [astropy.wcs.wcs]\n",
      "WARNING: FITSFixedWarning: 'datfix' made the change 'Set MJD-OBS to 58455.838560 from DATE-OBS.\n",
      "Set MJD-END to 58455.859393 from DATE-END'. [astropy.wcs.wcs]\n",
      "WARNING: FITSFixedWarning: 'datfix' made the change 'Set MJD-OBS to 58455.859393 from DATE-OBS.\n",
      "Set MJD-END to 58455.880226 from DATE-END'. [astropy.wcs.wcs]\n"
     ]
    },
    {
     "name": "stdout",
     "output_type": "stream",
     "text": [
      "Reading image 767: /arc/home/mikea/.shifty_data/tess/5/1/4/tess2018337212938-s0005-1-4-0125-s_ffic.fits\r"
     ]
    },
    {
     "name": "stderr",
     "output_type": "stream",
     "text": [
      "WARNING: FITSFixedWarning: 'datfix' made the change 'Set MJD-OBS to 58455.880226 from DATE-OBS.\n",
      "Set MJD-END to 58455.901059 from DATE-END'. [astropy.wcs.wcs]\n",
      "WARNING: FITSFixedWarning: 'datfix' made the change 'Set MJD-OBS to 58455.901058 from DATE-OBS.\n",
      "Set MJD-END to 58455.921892 from DATE-END'. [astropy.wcs.wcs]\n",
      "WARNING: FITSFixedWarning: 'datfix' made the change 'Set MJD-OBS to 58455.921891 from DATE-OBS.\n",
      "Set MJD-END to 58455.942724 from DATE-END'. [astropy.wcs.wcs]\n"
     ]
    },
    {
     "name": "stdout",
     "output_type": "stream",
     "text": [
      "Reading image 772: /arc/home/mikea/.shifty_data/tess/5/1/4/tess2018337235938-s0005-1-4-0125-s_ffic.fits\r"
     ]
    },
    {
     "name": "stderr",
     "output_type": "stream",
     "text": [
      "WARNING: FITSFixedWarning: 'datfix' made the change 'Set MJD-OBS to 58455.942724 from DATE-OBS.\n",
      "Set MJD-END to 58455.963557 from DATE-END'. [astropy.wcs.wcs]\n",
      "WARNING: FITSFixedWarning: 'datfix' made the change 'Set MJD-OBS to 58455.963557 from DATE-OBS.\n",
      "Set MJD-END to 58455.984390 from DATE-END'. [astropy.wcs.wcs]\n",
      "WARNING: FITSFixedWarning: 'datfix' made the change 'Set MJD-OBS to 58455.984390 from DATE-OBS.\n",
      "Set MJD-END to 58456.005223 from DATE-END'. [astropy.wcs.wcs]\n"
     ]
    },
    {
     "name": "stdout",
     "output_type": "stream",
     "text": [
      "Reading image 775: /arc/home/mikea/.shifty_data/tess/5/1/4/tess2018338012938-s0005-1-4-0125-s_ffic.fits\r"
     ]
    },
    {
     "name": "stderr",
     "output_type": "stream",
     "text": [
      "WARNING: FITSFixedWarning: 'datfix' made the change 'Set MJD-OBS to 58456.005223 from DATE-OBS.\n",
      "Set MJD-END to 58456.026056 from DATE-END'. [astropy.wcs.wcs]\n",
      "WARNING: FITSFixedWarning: 'datfix' made the change 'Set MJD-OBS to 58456.026056 from DATE-OBS.\n",
      "Set MJD-END to 58456.046889 from DATE-END'. [astropy.wcs.wcs]\n",
      "WARNING: FITSFixedWarning: 'datfix' made the change 'Set MJD-OBS to 58456.046889 from DATE-OBS.\n",
      "Set MJD-END to 58456.067722 from DATE-END'. [astropy.wcs.wcs]\n"
     ]
    },
    {
     "name": "stdout",
     "output_type": "stream",
     "text": [
      "Reading image 778: /arc/home/mikea/.shifty_data/tess/5/1/4/tess2018338025938-s0005-1-4-0125-s_ffic.fits\r"
     ]
    },
    {
     "name": "stderr",
     "output_type": "stream",
     "text": [
      "WARNING: FITSFixedWarning: 'datfix' made the change 'Set MJD-OBS to 58456.067721 from DATE-OBS.\n",
      "Set MJD-END to 58456.088554 from DATE-END'. [astropy.wcs.wcs]\n",
      "WARNING: FITSFixedWarning: 'datfix' made the change 'Set MJD-OBS to 58456.088554 from DATE-OBS.\n",
      "Set MJD-END to 58456.109387 from DATE-END'. [astropy.wcs.wcs]\n",
      "WARNING: FITSFixedWarning: 'datfix' made the change 'Set MJD-OBS to 58456.109387 from DATE-OBS.\n",
      "Set MJD-END to 58456.130220 from DATE-END'. [astropy.wcs.wcs]\n"
     ]
    },
    {
     "name": "stdout",
     "output_type": "stream",
     "text": [
      "Reading image 781: /arc/home/mikea/.shifty_data/tess/5/1/4/tess2018338042938-s0005-1-4-0125-s_ffic.fits\r"
     ]
    },
    {
     "name": "stderr",
     "output_type": "stream",
     "text": [
      "WARNING: FITSFixedWarning: 'datfix' made the change 'Set MJD-OBS to 58456.130220 from DATE-OBS.\n",
      "Set MJD-END to 58456.151053 from DATE-END'. [astropy.wcs.wcs]\n",
      "WARNING: FITSFixedWarning: 'datfix' made the change 'Set MJD-OBS to 58456.151053 from DATE-OBS.\n",
      "Set MJD-END to 58456.171886 from DATE-END'. [astropy.wcs.wcs]\n",
      "WARNING: FITSFixedWarning: 'datfix' made the change 'Set MJD-OBS to 58456.171886 from DATE-OBS.\n",
      "Set MJD-END to 58456.192719 from DATE-END'. [astropy.wcs.wcs]\n"
     ]
    },
    {
     "name": "stdout",
     "output_type": "stream",
     "text": [
      "Reading image 783: /arc/home/mikea/.shifty_data/tess/5/1/4/tess2018338052938-s0005-1-4-0125-s_ffic.fits\r"
     ]
    },
    {
     "name": "stderr",
     "output_type": "stream",
     "text": [
      "WARNING: FITSFixedWarning: 'datfix' made the change 'Set MJD-OBS to 58456.192719 from DATE-OBS.\n",
      "Set MJD-END to 58456.213552 from DATE-END'. [astropy.wcs.wcs]\n",
      "WARNING: FITSFixedWarning: 'datfix' made the change 'Set MJD-OBS to 58456.213551 from DATE-OBS.\n",
      "Set MJD-END to 58456.234384 from DATE-END'. [astropy.wcs.wcs]\n"
     ]
    },
    {
     "name": "stdout",
     "output_type": "stream",
     "text": [
      "Reading image 786: /arc/home/mikea/.shifty_data/tess/5/1/4/tess2018338065938-s0005-1-4-0125-s_ffic.fits\r"
     ]
    },
    {
     "name": "stderr",
     "output_type": "stream",
     "text": [
      "WARNING: FITSFixedWarning: 'datfix' made the change 'Set MJD-OBS to 58456.234384 from DATE-OBS.\n",
      "Set MJD-END to 58456.255217 from DATE-END'. [astropy.wcs.wcs]\n",
      "WARNING: FITSFixedWarning: 'datfix' made the change 'Set MJD-OBS to 58456.255217 from DATE-OBS.\n",
      "Set MJD-END to 58456.276050 from DATE-END'. [astropy.wcs.wcs]\n",
      "WARNING: FITSFixedWarning: 'datfix' made the change 'Set MJD-OBS to 58456.276050 from DATE-OBS.\n",
      "Set MJD-END to 58456.296883 from DATE-END'. [astropy.wcs.wcs]\n"
     ]
    },
    {
     "name": "stdout",
     "output_type": "stream",
     "text": [
      "Reading image 788: /arc/home/mikea/.shifty_data/tess/5/1/4/tess2018338075938-s0005-1-4-0125-s_ffic.fits\r"
     ]
    },
    {
     "name": "stderr",
     "output_type": "stream",
     "text": [
      "WARNING: FITSFixedWarning: 'datfix' made the change 'Set MJD-OBS to 58456.296883 from DATE-OBS.\n",
      "Set MJD-END to 58456.317716 from DATE-END'. [astropy.wcs.wcs]\n",
      "WARNING: FITSFixedWarning: 'datfix' made the change 'Set MJD-OBS to 58456.317716 from DATE-OBS.\n",
      "Set MJD-END to 58456.338549 from DATE-END'. [astropy.wcs.wcs]\n"
     ]
    },
    {
     "name": "stdout",
     "output_type": "stream",
     "text": [
      "Reading image 790: /arc/home/mikea/.shifty_data/tess/5/1/4/tess2018338085938-s0005-1-4-0125-s_ffic.fits\r"
     ]
    },
    {
     "name": "stderr",
     "output_type": "stream",
     "text": [
      "WARNING: FITSFixedWarning: 'datfix' made the change 'Set MJD-OBS to 58456.338549 from DATE-OBS.\n",
      "Set MJD-END to 58456.359382 from DATE-END'. [astropy.wcs.wcs]\n",
      "WARNING: FITSFixedWarning: 'datfix' made the change 'Set MJD-OBS to 58456.359381 from DATE-OBS.\n",
      "Set MJD-END to 58456.380214 from DATE-END'. [astropy.wcs.wcs]\n",
      "WARNING: FITSFixedWarning: 'datfix' made the change 'Set MJD-OBS to 58456.380214 from DATE-OBS.\n",
      "Set MJD-END to 58456.401047 from DATE-END'. [astropy.wcs.wcs]\n",
      "WARNING: FITSFixedWarning: 'datfix' made the change 'Set MJD-OBS to 58456.401047 from DATE-OBS.\n",
      "Set MJD-END to 58456.421880 from DATE-END'. [astropy.wcs.wcs]\n",
      "WARNING: FITSFixedWarning: 'datfix' made the change 'Set MJD-OBS to 58456.421880 from DATE-OBS.\n",
      "Set MJD-END to 58456.442713 from DATE-END'. [astropy.wcs.wcs]\n"
     ]
    },
    {
     "name": "stdout",
     "output_type": "stream",
     "text": [
      "Reading image 795: /arc/home/mikea/.shifty_data/tess/5/1/4/tess2018338112938-s0005-1-4-0125-s_ffic.fits\r"
     ]
    },
    {
     "name": "stderr",
     "output_type": "stream",
     "text": [
      "WARNING: FITSFixedWarning: 'datfix' made the change 'Set MJD-OBS to 58456.442713 from DATE-OBS.\n",
      "Set MJD-END to 58456.463546 from DATE-END'. [astropy.wcs.wcs]\n",
      "WARNING: FITSFixedWarning: 'datfix' made the change 'Set MJD-OBS to 58456.463546 from DATE-OBS.\n",
      "Set MJD-END to 58456.484379 from DATE-END'. [astropy.wcs.wcs]\n",
      "WARNING: FITSFixedWarning: 'datfix' made the change 'Set MJD-OBS to 58456.484378 from DATE-OBS.\n",
      "Set MJD-END to 58456.505212 from DATE-END'. [astropy.wcs.wcs]\n"
     ]
    },
    {
     "name": "stdout",
     "output_type": "stream",
     "text": [
      "Reading image 798: /arc/home/mikea/.shifty_data/tess/5/1/4/tess2018338125938-s0005-1-4-0125-s_ffic.fits\r"
     ]
    },
    {
     "name": "stderr",
     "output_type": "stream",
     "text": [
      "WARNING: FITSFixedWarning: 'datfix' made the change 'Set MJD-OBS to 58456.505211 from DATE-OBS.\n",
      "Set MJD-END to 58456.526044 from DATE-END'. [astropy.wcs.wcs]\n",
      "WARNING: FITSFixedWarning: 'datfix' made the change 'Set MJD-OBS to 58456.526044 from DATE-OBS.\n",
      "Set MJD-END to 58456.546877 from DATE-END'. [astropy.wcs.wcs]\n",
      "WARNING: FITSFixedWarning: 'datfix' made the change 'Set MJD-OBS to 58456.546877 from DATE-OBS.\n",
      "Set MJD-END to 58456.567710 from DATE-END'. [astropy.wcs.wcs]\n"
     ]
    },
    {
     "name": "stdout",
     "output_type": "stream",
     "text": [
      "Reading image 801: /arc/home/mikea/.shifty_data/tess/5/1/4/tess2018338142938-s0005-1-4-0125-s_ffic.fits\r"
     ]
    },
    {
     "name": "stderr",
     "output_type": "stream",
     "text": [
      "WARNING: FITSFixedWarning: 'datfix' made the change 'Set MJD-OBS to 58456.567710 from DATE-OBS.\n",
      "Set MJD-END to 58456.588543 from DATE-END'. [astropy.wcs.wcs]\n",
      "WARNING: FITSFixedWarning: 'datfix' made the change 'Set MJD-OBS to 58456.588543 from DATE-OBS.\n",
      "Set MJD-END to 58456.609376 from DATE-END'. [astropy.wcs.wcs]\n",
      "WARNING: FITSFixedWarning: 'datfix' made the change 'Set MJD-OBS to 58456.609375 from DATE-OBS.\n",
      "Set MJD-END to 58456.630209 from DATE-END'. [astropy.wcs.wcs]\n"
     ]
    },
    {
     "name": "stdout",
     "output_type": "stream",
     "text": [
      "Reading image 804: /arc/home/mikea/.shifty_data/tess/5/1/4/tess2018338155938-s0005-1-4-0125-s_ffic.fits\r"
     ]
    },
    {
     "name": "stderr",
     "output_type": "stream",
     "text": [
      "WARNING: FITSFixedWarning: 'datfix' made the change 'Set MJD-OBS to 58456.630208 from DATE-OBS.\n",
      "Set MJD-END to 58456.651041 from DATE-END'. [astropy.wcs.wcs]\n",
      "WARNING: FITSFixedWarning: 'datfix' made the change 'Set MJD-OBS to 58456.651041 from DATE-OBS.\n",
      "Set MJD-END to 58456.671874 from DATE-END'. [astropy.wcs.wcs]\n",
      "WARNING: FITSFixedWarning: 'datfix' made the change 'Set MJD-OBS to 58456.671874 from DATE-OBS.\n",
      "Set MJD-END to 58456.692707 from DATE-END'. [astropy.wcs.wcs]\n"
     ]
    },
    {
     "name": "stdout",
     "output_type": "stream",
     "text": [
      "Reading image 807: /arc/home/mikea/.shifty_data/tess/5/1/4/tess2018338172938-s0005-1-4-0125-s_ffic.fits\r"
     ]
    },
    {
     "name": "stderr",
     "output_type": "stream",
     "text": [
      "WARNING: FITSFixedWarning: 'datfix' made the change 'Set MJD-OBS to 58456.692707 from DATE-OBS.\n",
      "Set MJD-END to 58456.713540 from DATE-END'. [astropy.wcs.wcs]\n",
      "WARNING: FITSFixedWarning: 'datfix' made the change 'Set MJD-OBS to 58456.713540 from DATE-OBS.\n",
      "Set MJD-END to 58456.734373 from DATE-END'. [astropy.wcs.wcs]\n",
      "WARNING: FITSFixedWarning: 'datfix' made the change 'Set MJD-OBS to 58456.734372 from DATE-OBS.\n",
      "Set MJD-END to 58456.755206 from DATE-END'. [astropy.wcs.wcs]\n"
     ]
    },
    {
     "name": "stdout",
     "output_type": "stream",
     "text": [
      "Reading image 810: /arc/home/mikea/.shifty_data/tess/5/1/4/tess2018338185938-s0005-1-4-0125-s_ffic.fits\r"
     ]
    },
    {
     "name": "stderr",
     "output_type": "stream",
     "text": [
      "WARNING: FITSFixedWarning: 'datfix' made the change 'Set MJD-OBS to 58456.755205 from DATE-OBS.\n",
      "Set MJD-END to 58456.776038 from DATE-END'. [astropy.wcs.wcs]\n",
      "WARNING: FITSFixedWarning: 'datfix' made the change 'Set MJD-OBS to 58456.776038 from DATE-OBS.\n",
      "Set MJD-END to 58456.796871 from DATE-END'. [astropy.wcs.wcs]\n",
      "WARNING: FITSFixedWarning: 'datfix' made the change 'Set MJD-OBS to 58456.796871 from DATE-OBS.\n",
      "Set MJD-END to 58456.817704 from DATE-END'. [astropy.wcs.wcs]\n"
     ]
    },
    {
     "name": "stdout",
     "output_type": "stream",
     "text": [
      "Reading image 813: /arc/home/mikea/.shifty_data/tess/5/1/4/tess2018338202938-s0005-1-4-0125-s_ffic.fits\r"
     ]
    },
    {
     "name": "stderr",
     "output_type": "stream",
     "text": [
      "WARNING: FITSFixedWarning: 'datfix' made the change 'Set MJD-OBS to 58456.817704 from DATE-OBS.\n",
      "Set MJD-END to 58456.838537 from DATE-END'. [astropy.wcs.wcs]\n",
      "WARNING: FITSFixedWarning: 'datfix' made the change 'Set MJD-OBS to 58456.838537 from DATE-OBS.\n",
      "Set MJD-END to 58456.859370 from DATE-END'. [astropy.wcs.wcs]\n",
      "WARNING: FITSFixedWarning: 'datfix' made the change 'Set MJD-OBS to 58456.859369 from DATE-OBS.\n",
      "Set MJD-END to 58456.880203 from DATE-END'. [astropy.wcs.wcs]\n"
     ]
    },
    {
     "name": "stdout",
     "output_type": "stream",
     "text": [
      "Reading image 815: /arc/home/mikea/.shifty_data/tess/5/1/4/tess2018338212938-s0005-1-4-0125-s_ffic.fits\r"
     ]
    },
    {
     "name": "stderr",
     "output_type": "stream",
     "text": [
      "WARNING: FITSFixedWarning: 'datfix' made the change 'Set MJD-OBS to 58456.880202 from DATE-OBS.\n",
      "Set MJD-END to 58456.901035 from DATE-END'. [astropy.wcs.wcs]\n",
      "WARNING: FITSFixedWarning: 'datfix' made the change 'Set MJD-OBS to 58456.901035 from DATE-OBS.\n",
      "Set MJD-END to 58456.921868 from DATE-END'. [astropy.wcs.wcs]\n"
     ]
    },
    {
     "name": "stdout",
     "output_type": "stream",
     "text": [
      "Reading image 818: /arc/home/mikea/.shifty_data/tess/5/1/4/tess2018338225938-s0005-1-4-0125-s_ffic.fits\r"
     ]
    },
    {
     "name": "stderr",
     "output_type": "stream",
     "text": [
      "WARNING: FITSFixedWarning: 'datfix' made the change 'Set MJD-OBS to 58456.921868 from DATE-OBS.\n",
      "Set MJD-END to 58456.942701 from DATE-END'. [astropy.wcs.wcs]\n",
      "WARNING: FITSFixedWarning: 'datfix' made the change 'Set MJD-OBS to 58456.942701 from DATE-OBS.\n",
      "Set MJD-END to 58456.963534 from DATE-END'. [astropy.wcs.wcs]\n",
      "WARNING: FITSFixedWarning: 'datfix' made the change 'Set MJD-OBS to 58456.963534 from DATE-OBS.\n",
      "Set MJD-END to 58456.984367 from DATE-END'. [astropy.wcs.wcs]\n"
     ]
    },
    {
     "name": "stdout",
     "output_type": "stream",
     "text": [
      "Reading image 820: /arc/home/mikea/.shifty_data/tess/5/1/4/tess2018338235938-s0005-1-4-0125-s_ffic.fits\r"
     ]
    },
    {
     "name": "stderr",
     "output_type": "stream",
     "text": [
      "WARNING: FITSFixedWarning: 'datfix' made the change 'Set MJD-OBS to 58456.984366 from DATE-OBS.\n",
      "Set MJD-END to 58457.005199 from DATE-END'. [astropy.wcs.wcs]\n",
      "WARNING: FITSFixedWarning: 'datfix' made the change 'Set MJD-OBS to 58457.005199 from DATE-OBS.\n",
      "Set MJD-END to 58457.026032 from DATE-END'. [astropy.wcs.wcs]\n"
     ]
    },
    {
     "name": "stdout",
     "output_type": "stream",
     "text": [
      "Reading image 823: /arc/home/mikea/.shifty_data/tess/5/1/4/tess2018339012938-s0005-1-4-0125-s_ffic.fits\r"
     ]
    },
    {
     "name": "stderr",
     "output_type": "stream",
     "text": [
      "WARNING: FITSFixedWarning: 'datfix' made the change 'Set MJD-OBS to 58457.026032 from DATE-OBS.\n",
      "Set MJD-END to 58457.046865 from DATE-END'. [astropy.wcs.wcs]\n",
      "WARNING: FITSFixedWarning: 'datfix' made the change 'Set MJD-OBS to 58457.046865 from DATE-OBS.\n",
      "Set MJD-END to 58457.067698 from DATE-END'. [astropy.wcs.wcs]\n",
      "WARNING: FITSFixedWarning: 'datfix' made the change 'Set MJD-OBS to 58457.067698 from DATE-OBS.\n",
      "Set MJD-END to 58457.088531 from DATE-END'. [astropy.wcs.wcs]\n"
     ]
    },
    {
     "name": "stdout",
     "output_type": "stream",
     "text": [
      "Reading image 826: /arc/home/mikea/.shifty_data/tess/5/1/4/tess2018339032938-s0005-1-4-0125-s_ffic.fits\r"
     ]
    },
    {
     "name": "stderr",
     "output_type": "stream",
     "text": [
      "WARNING: FITSFixedWarning: 'datfix' made the change 'Set MJD-OBS to 58457.109363 from DATE-OBS.\n",
      "Set MJD-END to 58457.130196 from DATE-END'. [astropy.wcs.wcs]\n",
      "WARNING: FITSFixedWarning: 'datfix' made the change 'Set MJD-OBS to 58457.130196 from DATE-OBS.\n",
      "Set MJD-END to 58457.151029 from DATE-END'. [astropy.wcs.wcs]\n",
      "WARNING: FITSFixedWarning: 'datfix' made the change 'Set MJD-OBS to 58457.151029 from DATE-OBS.\n",
      "Set MJD-END to 58457.171862 from DATE-END'. [astropy.wcs.wcs]\n"
     ]
    },
    {
     "name": "stdout",
     "output_type": "stream",
     "text": [
      "Reading image 829: /arc/home/mikea/.shifty_data/tess/5/1/4/tess2018339045938-s0005-1-4-0125-s_ffic.fits\r"
     ]
    },
    {
     "name": "stderr",
     "output_type": "stream",
     "text": [
      "WARNING: FITSFixedWarning: 'datfix' made the change 'Set MJD-OBS to 58457.171862 from DATE-OBS.\n",
      "Set MJD-END to 58457.192695 from DATE-END'. [astropy.wcs.wcs]\n",
      "WARNING: FITSFixedWarning: 'datfix' made the change 'Set MJD-OBS to 58457.192694 from DATE-OBS.\n",
      "Set MJD-END to 58457.213528 from DATE-END'. [astropy.wcs.wcs]\n",
      "WARNING: FITSFixedWarning: 'datfix' made the change 'Set MJD-OBS to 58457.213527 from DATE-OBS.\n",
      "Set MJD-END to 58457.234360 from DATE-END'. [astropy.wcs.wcs]\n"
     ]
    },
    {
     "name": "stdout",
     "output_type": "stream",
     "text": [
      "Reading image 832: /arc/home/mikea/.shifty_data/tess/5/1/4/tess2018339062938-s0005-1-4-0125-s_ffic.fits\r"
     ]
    },
    {
     "name": "stderr",
     "output_type": "stream",
     "text": [
      "WARNING: FITSFixedWarning: 'datfix' made the change 'Set MJD-OBS to 58457.234360 from DATE-OBS.\n",
      "Set MJD-END to 58457.255193 from DATE-END'. [astropy.wcs.wcs]\n",
      "WARNING: FITSFixedWarning: 'datfix' made the change 'Set MJD-OBS to 58457.255193 from DATE-OBS.\n",
      "Set MJD-END to 58457.276026 from DATE-END'. [astropy.wcs.wcs]\n",
      "WARNING: FITSFixedWarning: 'datfix' made the change 'Set MJD-OBS to 58457.276026 from DATE-OBS.\n",
      "Set MJD-END to 58457.296859 from DATE-END'. [astropy.wcs.wcs]\n"
     ]
    },
    {
     "name": "stdout",
     "output_type": "stream",
     "text": [
      "Reading image 834: /arc/home/mikea/.shifty_data/tess/5/1/4/tess2018339072938-s0005-1-4-0125-s_ffic.fits\r"
     ]
    },
    {
     "name": "stderr",
     "output_type": "stream",
     "text": [
      "WARNING: FITSFixedWarning: 'datfix' made the change 'Set MJD-OBS to 58457.296858 from DATE-OBS.\n",
      "Set MJD-END to 58457.317692 from DATE-END'. [astropy.wcs.wcs]\n",
      "WARNING: FITSFixedWarning: 'datfix' made the change 'Set MJD-OBS to 58457.317691 from DATE-OBS.\n",
      "Set MJD-END to 58457.338524 from DATE-END'. [astropy.wcs.wcs]\n"
     ]
    },
    {
     "name": "stdout",
     "output_type": "stream",
     "text": [
      "Reading image 837: /arc/home/mikea/.shifty_data/tess/5/1/4/tess2018339085938-s0005-1-4-0125-s_ffic.fits\r"
     ]
    },
    {
     "name": "stderr",
     "output_type": "stream",
     "text": [
      "WARNING: FITSFixedWarning: 'datfix' made the change 'Set MJD-OBS to 58457.338524 from DATE-OBS.\n",
      "Set MJD-END to 58457.359357 from DATE-END'. [astropy.wcs.wcs]\n",
      "WARNING: FITSFixedWarning: 'datfix' made the change 'Set MJD-OBS to 58457.359357 from DATE-OBS.\n",
      "Set MJD-END to 58457.380190 from DATE-END'. [astropy.wcs.wcs]\n",
      "WARNING: FITSFixedWarning: 'datfix' made the change 'Set MJD-OBS to 58457.380190 from DATE-OBS.\n",
      "Set MJD-END to 58457.401023 from DATE-END'. [astropy.wcs.wcs]\n"
     ]
    },
    {
     "name": "stdout",
     "output_type": "stream",
     "text": [
      "Reading image 840: /arc/home/mikea/.shifty_data/tess/5/1/4/tess2018339102938-s0005-1-4-0125-s_ffic.fits\r"
     ]
    },
    {
     "name": "stderr",
     "output_type": "stream",
     "text": [
      "WARNING: FITSFixedWarning: 'datfix' made the change 'Set MJD-OBS to 58457.401023 from DATE-OBS.\n",
      "Set MJD-END to 58457.421856 from DATE-END'. [astropy.wcs.wcs]\n",
      "WARNING: FITSFixedWarning: 'datfix' made the change 'Set MJD-OBS to 58457.421855 from DATE-OBS.\n",
      "Set MJD-END to 58457.442688 from DATE-END'. [astropy.wcs.wcs]\n",
      "WARNING: FITSFixedWarning: 'datfix' made the change 'Set MJD-OBS to 58457.442688 from DATE-OBS.\n",
      "Set MJD-END to 58457.463521 from DATE-END'. [astropy.wcs.wcs]\n"
     ]
    },
    {
     "name": "stdout",
     "output_type": "stream",
     "text": [
      "Reading image 842: /arc/home/mikea/.shifty_data/tess/5/1/4/tess2018339112938-s0005-1-4-0125-s_ffic.fits\r"
     ]
    },
    {
     "name": "stderr",
     "output_type": "stream",
     "text": [
      "WARNING: FITSFixedWarning: 'datfix' made the change 'Set MJD-OBS to 58457.463521 from DATE-OBS.\n",
      "Set MJD-END to 58457.484354 from DATE-END'. [astropy.wcs.wcs]\n",
      "WARNING: FITSFixedWarning: 'datfix' made the change 'Set MJD-OBS to 58457.484354 from DATE-OBS.\n",
      "Set MJD-END to 58457.505187 from DATE-END'. [astropy.wcs.wcs]\n",
      "WARNING: FITSFixedWarning: 'datfix' made the change 'Set MJD-OBS to 58457.505186 from DATE-OBS.\n",
      "Set MJD-END to 58457.526020 from DATE-END'. [astropy.wcs.wcs]\n"
     ]
    },
    {
     "name": "stdout",
     "output_type": "stream",
     "text": [
      "Reading image 845: /arc/home/mikea/.shifty_data/tess/5/1/4/tess2018339125938-s0005-1-4-0125-s_ffic.fits\r"
     ]
    },
    {
     "name": "stderr",
     "output_type": "stream",
     "text": [
      "WARNING: FITSFixedWarning: 'datfix' made the change 'Set MJD-OBS to 58457.526019 from DATE-OBS.\n",
      "Set MJD-END to 58457.546852 from DATE-END'. [astropy.wcs.wcs]\n",
      "WARNING: FITSFixedWarning: 'datfix' made the change 'Set MJD-OBS to 58457.546852 from DATE-OBS.\n",
      "Set MJD-END to 58457.567685 from DATE-END'. [astropy.wcs.wcs]\n",
      "WARNING: FITSFixedWarning: 'datfix' made the change 'Set MJD-OBS to 58457.567685 from DATE-OBS.\n",
      "Set MJD-END to 58457.588518 from DATE-END'. [astropy.wcs.wcs]\n"
     ]
    },
    {
     "name": "stdout",
     "output_type": "stream",
     "text": [
      "Reading image 848: /arc/home/mikea/.shifty_data/tess/5/1/4/tess2018339142938-s0005-1-4-0125-s_ffic.fits\r"
     ]
    },
    {
     "name": "stderr",
     "output_type": "stream",
     "text": [
      "WARNING: FITSFixedWarning: 'datfix' made the change 'Set MJD-OBS to 58457.588518 from DATE-OBS.\n",
      "Set MJD-END to 58457.609351 from DATE-END'. [astropy.wcs.wcs]\n",
      "WARNING: FITSFixedWarning: 'datfix' made the change 'Set MJD-OBS to 58457.609350 from DATE-OBS.\n",
      "Set MJD-END to 58457.630184 from DATE-END'. [astropy.wcs.wcs]\n"
     ]
    },
    {
     "name": "stdout",
     "output_type": "stream",
     "text": [
      "Reading image 850: /arc/home/mikea/.shifty_data/tess/5/1/4/tess2018339152938-s0005-1-4-0125-s_ffic.fits\r"
     ]
    },
    {
     "name": "stderr",
     "output_type": "stream",
     "text": [
      "WARNING: FITSFixedWarning: 'datfix' made the change 'Set MJD-OBS to 58457.630183 from DATE-OBS.\n",
      "Set MJD-END to 58457.651016 from DATE-END'. [astropy.wcs.wcs]\n",
      "WARNING: FITSFixedWarning: 'datfix' made the change 'Set MJD-OBS to 58457.651016 from DATE-OBS.\n",
      "Set MJD-END to 58457.671849 from DATE-END'. [astropy.wcs.wcs]\n"
     ]
    },
    {
     "name": "stdout",
     "output_type": "stream",
     "text": [
      "Reading image 852: /arc/home/mikea/.shifty_data/tess/5/1/4/tess2018339162938-s0005-1-4-0125-s_ffic.fits\r"
     ]
    },
    {
     "name": "stderr",
     "output_type": "stream",
     "text": [
      "WARNING: FITSFixedWarning: 'datfix' made the change 'Set MJD-OBS to 58457.671849 from DATE-OBS.\n",
      "Set MJD-END to 58457.692682 from DATE-END'. [astropy.wcs.wcs]\n",
      "WARNING: FITSFixedWarning: 'datfix' made the change 'Set MJD-OBS to 58457.692682 from DATE-OBS.\n",
      "Set MJD-END to 58457.713515 from DATE-END'. [astropy.wcs.wcs]\n"
     ]
    },
    {
     "name": "stdout",
     "output_type": "stream",
     "text": [
      "Reading image 855: /arc/home/mikea/.shifty_data/tess/5/1/4/tess2018339175938-s0005-1-4-0125-s_ffic.fits\r"
     ]
    },
    {
     "name": "stderr",
     "output_type": "stream",
     "text": [
      "WARNING: FITSFixedWarning: 'datfix' made the change 'Set MJD-OBS to 58457.713514 from DATE-OBS.\n",
      "Set MJD-END to 58457.734347 from DATE-END'. [astropy.wcs.wcs]\n",
      "WARNING: FITSFixedWarning: 'datfix' made the change 'Set MJD-OBS to 58457.734347 from DATE-OBS.\n",
      "Set MJD-END to 58457.755180 from DATE-END'. [astropy.wcs.wcs]\n"
     ]
    },
    {
     "name": "stdout",
     "output_type": "stream",
     "text": [
      "Reading image 858: /arc/home/mikea/.shifty_data/tess/5/1/4/tess2018339192938-s0005-1-4-0125-s_ffic.fits\r"
     ]
    },
    {
     "name": "stderr",
     "output_type": "stream",
     "text": [
      "WARNING: FITSFixedWarning: 'datfix' made the change 'Set MJD-OBS to 58457.755180 from DATE-OBS.\n",
      "Set MJD-END to 58457.776013 from DATE-END'. [astropy.wcs.wcs]\n",
      "WARNING: FITSFixedWarning: 'datfix' made the change 'Set MJD-OBS to 58457.776013 from DATE-OBS.\n",
      "Set MJD-END to 58457.796846 from DATE-END'. [astropy.wcs.wcs]\n",
      "WARNING: FITSFixedWarning: 'datfix' made the change 'Set MJD-OBS to 58457.796845 from DATE-OBS.\n",
      "Set MJD-END to 58457.817679 from DATE-END'. [astropy.wcs.wcs]\n"
     ]
    },
    {
     "name": "stdout",
     "output_type": "stream",
     "text": [
      "Reading image 861: /arc/home/mikea/.shifty_data/tess/5/1/4/tess2018339205938-s0005-1-4-0125-s_ffic.fits\r"
     ]
    },
    {
     "name": "stderr",
     "output_type": "stream",
     "text": [
      "WARNING: FITSFixedWarning: 'datfix' made the change 'Set MJD-OBS to 58457.817678 from DATE-OBS.\n",
      "Set MJD-END to 58457.838511 from DATE-END'. [astropy.wcs.wcs]\n",
      "WARNING: FITSFixedWarning: 'datfix' made the change 'Set MJD-OBS to 58457.838511 from DATE-OBS.\n",
      "Set MJD-END to 58457.859344 from DATE-END'. [astropy.wcs.wcs]\n",
      "WARNING: FITSFixedWarning: 'datfix' made the change 'Set MJD-OBS to 58457.859344 from DATE-OBS.\n",
      "Set MJD-END to 58457.880177 from DATE-END'. [astropy.wcs.wcs]\n"
     ]
    },
    {
     "name": "stdout",
     "output_type": "stream",
     "text": [
      "Reading image 864: /arc/home/mikea/.shifty_data/tess/5/1/4/tess2018339222938-s0005-1-4-0125-s_ffic.fits\r"
     ]
    },
    {
     "name": "stderr",
     "output_type": "stream",
     "text": [
      "WARNING: FITSFixedWarning: 'datfix' made the change 'Set MJD-OBS to 58457.880177 from DATE-OBS.\n",
      "Set MJD-END to 58457.901010 from DATE-END'. [astropy.wcs.wcs]\n",
      "WARNING: FITSFixedWarning: 'datfix' made the change 'Set MJD-OBS to 58457.901009 from DATE-OBS.\n",
      "Set MJD-END to 58457.921842 from DATE-END'. [astropy.wcs.wcs]\n",
      "WARNING: FITSFixedWarning: 'datfix' made the change 'Set MJD-OBS to 58457.921842 from DATE-OBS.\n",
      "Set MJD-END to 58457.942675 from DATE-END'. [astropy.wcs.wcs]\n"
     ]
    },
    {
     "name": "stdout",
     "output_type": "stream",
     "text": [
      "Reading image 866: /arc/home/mikea/.shifty_data/tess/5/1/4/tess2018339232938-s0005-1-4-0125-s_ffic.fits\r"
     ]
    },
    {
     "name": "stderr",
     "output_type": "stream",
     "text": [
      "WARNING: FITSFixedWarning: 'datfix' made the change 'Set MJD-OBS to 58457.942675 from DATE-OBS.\n",
      "Set MJD-END to 58457.963508 from DATE-END'. [astropy.wcs.wcs]\n",
      "WARNING: FITSFixedWarning: 'datfix' made the change 'Set MJD-OBS to 58457.963508 from DATE-OBS.\n",
      "Set MJD-END to 58457.984341 from DATE-END'. [astropy.wcs.wcs]\n"
     ]
    },
    {
     "name": "stdout",
     "output_type": "stream",
     "text": [
      "Reading image 869: /arc/home/mikea/.shifty_data/tess/5/1/4/tess2018340005938-s0005-1-4-0125-s_ffic.fits\r"
     ]
    },
    {
     "name": "stderr",
     "output_type": "stream",
     "text": [
      "WARNING: FITSFixedWarning: 'datfix' made the change 'Set MJD-OBS to 58457.984340 from DATE-OBS.\n",
      "Set MJD-END to 58458.005174 from DATE-END'. [astropy.wcs.wcs]\n",
      "WARNING: FITSFixedWarning: 'datfix' made the change 'Set MJD-OBS to 58458.005173 from DATE-OBS.\n",
      "Set MJD-END to 58458.026006 from DATE-END'. [astropy.wcs.wcs]\n",
      "WARNING: FITSFixedWarning: 'datfix' made the change 'Set MJD-OBS to 58458.026006 from DATE-OBS.\n",
      "Set MJD-END to 58458.046839 from DATE-END'. [astropy.wcs.wcs]\n"
     ]
    },
    {
     "name": "stdout",
     "output_type": "stream",
     "text": [
      "Reading image 872: /arc/home/mikea/.shifty_data/tess/5/1/4/tess2018340022938-s0005-1-4-0125-s_ffic.fits\r"
     ]
    },
    {
     "name": "stderr",
     "output_type": "stream",
     "text": [
      "WARNING: FITSFixedWarning: 'datfix' made the change 'Set MJD-OBS to 58458.046839 from DATE-OBS.\n",
      "Set MJD-END to 58458.067672 from DATE-END'. [astropy.wcs.wcs]\n",
      "WARNING: FITSFixedWarning: 'datfix' made the change 'Set MJD-OBS to 58458.067672 from DATE-OBS.\n",
      "Set MJD-END to 58458.088505 from DATE-END'. [astropy.wcs.wcs]\n",
      "WARNING: FITSFixedWarning: 'datfix' made the change 'Set MJD-OBS to 58458.088504 from DATE-OBS.\n",
      "Set MJD-END to 58458.109337 from DATE-END'. [astropy.wcs.wcs]\n"
     ]
    },
    {
     "name": "stdout",
     "output_type": "stream",
     "text": [
      "Reading image 874: /arc/home/mikea/.shifty_data/tess/5/1/4/tess2018340032938-s0005-1-4-0125-s_ffic.fits\r"
     ]
    },
    {
     "name": "stderr",
     "output_type": "stream",
     "text": [
      "WARNING: FITSFixedWarning: 'datfix' made the change 'Set MJD-OBS to 58458.109337 from DATE-OBS.\n",
      "Set MJD-END to 58458.130170 from DATE-END'. [astropy.wcs.wcs]\n",
      "WARNING: FITSFixedWarning: 'datfix' made the change 'Set MJD-OBS to 58458.130170 from DATE-OBS.\n",
      "Set MJD-END to 58458.151003 from DATE-END'. [astropy.wcs.wcs]\n",
      "WARNING: FITSFixedWarning: 'datfix' made the change 'Set MJD-OBS to 58458.151003 from DATE-OBS.\n",
      "Set MJD-END to 58458.171836 from DATE-END'. [astropy.wcs.wcs]\n",
      "WARNING: FITSFixedWarning: 'datfix' made the change 'Set MJD-OBS to 58458.171835 from DATE-OBS.\n",
      "Set MJD-END to 58458.192668 from DATE-END'. [astropy.wcs.wcs]\n",
      "WARNING: FITSFixedWarning: 'datfix' made the change 'Set MJD-OBS to 58458.192668 from DATE-OBS.\n",
      "Set MJD-END to 58458.213501 from DATE-END'. [astropy.wcs.wcs]\n"
     ]
    },
    {
     "name": "stdout",
     "output_type": "stream",
     "text": [
      "Reading image 880: /arc/home/mikea/.shifty_data/tess/5/1/4/tess2018340062938-s0005-1-4-0125-s_ffic.fits\r"
     ]
    },
    {
     "name": "stderr",
     "output_type": "stream",
     "text": [
      "WARNING: FITSFixedWarning: 'datfix' made the change 'Set MJD-OBS to 58458.213501 from DATE-OBS.\n",
      "Set MJD-END to 58458.234334 from DATE-END'. [astropy.wcs.wcs]\n",
      "WARNING: FITSFixedWarning: 'datfix' made the change 'Set MJD-OBS to 58458.234334 from DATE-OBS.\n",
      "Set MJD-END to 58458.255167 from DATE-END'. [astropy.wcs.wcs]\n",
      "WARNING: FITSFixedWarning: 'datfix' made the change 'Set MJD-OBS to 58458.255166 from DATE-OBS.\n",
      "Set MJD-END to 58458.276000 from DATE-END'. [astropy.wcs.wcs]\n"
     ]
    },
    {
     "name": "stdout",
     "output_type": "stream",
     "text": [
      "Reading image 882: /arc/home/mikea/.shifty_data/tess/5/1/4/tess2018340072938-s0005-1-4-0125-s_ffic.fits\r"
     ]
    },
    {
     "name": "stderr",
     "output_type": "stream",
     "text": [
      "WARNING: FITSFixedWarning: 'datfix' made the change 'Set MJD-OBS to 58458.275999 from DATE-OBS.\n",
      "Set MJD-END to 58458.296832 from DATE-END'. [astropy.wcs.wcs]\n",
      "WARNING: FITSFixedWarning: 'datfix' made the change 'Set MJD-OBS to 58458.296832 from DATE-OBS.\n",
      "Set MJD-END to 58458.317665 from DATE-END'. [astropy.wcs.wcs]\n"
     ]
    },
    {
     "name": "stdout",
     "output_type": "stream",
     "text": [
      "Reading image 885: /arc/home/mikea/.shifty_data/tess/5/1/4/tess2018340085938-s0005-1-4-0125-s_ffic.fits\r"
     ]
    },
    {
     "name": "stderr",
     "output_type": "stream",
     "text": [
      "WARNING: FITSFixedWarning: 'datfix' made the change 'Set MJD-OBS to 58458.317665 from DATE-OBS.\n",
      "Set MJD-END to 58458.338498 from DATE-END'. [astropy.wcs.wcs]\n",
      "WARNING: FITSFixedWarning: 'datfix' made the change 'Set MJD-OBS to 58458.338497 from DATE-OBS.\n",
      "Set MJD-END to 58458.359331 from DATE-END'. [astropy.wcs.wcs]\n",
      "WARNING: FITSFixedWarning: 'datfix' made the change 'Set MJD-OBS to 58458.359330 from DATE-OBS.\n",
      "Set MJD-END to 58458.380163 from DATE-END'. [astropy.wcs.wcs]\n"
     ]
    },
    {
     "name": "stdout",
     "output_type": "stream",
     "text": [
      "Reading image 888: /arc/home/mikea/.shifty_data/tess/5/1/4/tess2018340102938-s0005-1-4-0125-s_ffic.fits\r"
     ]
    },
    {
     "name": "stderr",
     "output_type": "stream",
     "text": [
      "WARNING: FITSFixedWarning: 'datfix' made the change 'Set MJD-OBS to 58458.380163 from DATE-OBS.\n",
      "Set MJD-END to 58458.400996 from DATE-END'. [astropy.wcs.wcs]\n",
      "WARNING: FITSFixedWarning: 'datfix' made the change 'Set MJD-OBS to 58458.400996 from DATE-OBS.\n",
      "Set MJD-END to 58458.421829 from DATE-END'. [astropy.wcs.wcs]\n",
      "WARNING: FITSFixedWarning: 'datfix' made the change 'Set MJD-OBS to 58458.421828 from DATE-OBS.\n",
      "Set MJD-END to 58458.442662 from DATE-END'. [astropy.wcs.wcs]\n"
     ]
    },
    {
     "name": "stdout",
     "output_type": "stream",
     "text": [
      "Reading image 891: /arc/home/mikea/.shifty_data/tess/5/1/4/tess2018340115938-s0005-1-4-0125-s_ffic.fits\r"
     ]
    },
    {
     "name": "stderr",
     "output_type": "stream",
     "text": [
      "WARNING: FITSFixedWarning: 'datfix' made the change 'Set MJD-OBS to 58458.442661 from DATE-OBS.\n",
      "Set MJD-END to 58458.463494 from DATE-END'. [astropy.wcs.wcs]\n",
      "WARNING: FITSFixedWarning: 'datfix' made the change 'Set MJD-OBS to 58458.463494 from DATE-OBS.\n",
      "Set MJD-END to 58458.484327 from DATE-END'. [astropy.wcs.wcs]\n",
      "WARNING: FITSFixedWarning: 'datfix' made the change 'Set MJD-OBS to 58458.484327 from DATE-OBS.\n",
      "Set MJD-END to 58458.505160 from DATE-END'. [astropy.wcs.wcs]\n"
     ]
    },
    {
     "name": "stdout",
     "output_type": "stream",
     "text": [
      "Reading image 894: /arc/home/mikea/.shifty_data/tess/5/1/4/tess2018340132938-s0005-1-4-0125-s_ffic.fits\r"
     ]
    },
    {
     "name": "stderr",
     "output_type": "stream",
     "text": [
      "WARNING: FITSFixedWarning: 'datfix' made the change 'Set MJD-OBS to 58458.505159 from DATE-OBS.\n",
      "Set MJD-END to 58458.525993 from DATE-END'. [astropy.wcs.wcs]\n",
      "WARNING: FITSFixedWarning: 'datfix' made the change 'Set MJD-OBS to 58458.525992 from DATE-OBS.\n",
      "Set MJD-END to 58458.546825 from DATE-END'. [astropy.wcs.wcs]\n",
      "WARNING: FITSFixedWarning: 'datfix' made the change 'Set MJD-OBS to 58458.546825 from DATE-OBS.\n",
      "Set MJD-END to 58458.567658 from DATE-END'. [astropy.wcs.wcs]\n"
     ]
    },
    {
     "name": "stdout",
     "output_type": "stream",
     "text": [
      "Reading image 897: /arc/home/mikea/.shifty_data/tess/5/1/4/tess2018340145938-s0005-1-4-0125-s_ffic.fits\r"
     ]
    },
    {
     "name": "stderr",
     "output_type": "stream",
     "text": [
      "WARNING: FITSFixedWarning: 'datfix' made the change 'Set MJD-OBS to 58458.567658 from DATE-OBS.\n",
      "Set MJD-END to 58458.588491 from DATE-END'. [astropy.wcs.wcs]\n",
      "WARNING: FITSFixedWarning: 'datfix' made the change 'Set MJD-OBS to 58458.588490 from DATE-OBS.\n",
      "Set MJD-END to 58458.609324 from DATE-END'. [astropy.wcs.wcs]\n",
      "WARNING: FITSFixedWarning: 'datfix' made the change 'Set MJD-OBS to 58458.609323 from DATE-OBS.\n",
      "Set MJD-END to 58458.630156 from DATE-END'. [astropy.wcs.wcs]\n"
     ]
    },
    {
     "name": "stdout",
     "output_type": "stream",
     "text": [
      "Reading image 899: /arc/home/mikea/.shifty_data/tess/5/1/4/tess2018340155938-s0005-1-4-0125-s_ffic.fits\r"
     ]
    },
    {
     "name": "stderr",
     "output_type": "stream",
     "text": [
      "WARNING: FITSFixedWarning: 'datfix' made the change 'Set MJD-OBS to 58458.630156 from DATE-OBS.\n",
      "Set MJD-END to 58458.650989 from DATE-END'. [astropy.wcs.wcs]\n",
      "WARNING: FITSFixedWarning: 'datfix' made the change 'Set MJD-OBS to 58458.650989 from DATE-OBS.\n",
      "Set MJD-END to 58458.671822 from DATE-END'. [astropy.wcs.wcs]\n"
     ]
    },
    {
     "name": "stdout",
     "output_type": "stream",
     "text": [
      "Reading image 902: /arc/home/mikea/.shifty_data/tess/5/1/4/tess2018340172938-s0005-1-4-0125-s_ffic.fits\r"
     ]
    },
    {
     "name": "stderr",
     "output_type": "stream",
     "text": [
      "WARNING: FITSFixedWarning: 'datfix' made the change 'Set MJD-OBS to 58458.671821 from DATE-OBS.\n",
      "Set MJD-END to 58458.692654 from DATE-END'. [astropy.wcs.wcs]\n",
      "WARNING: FITSFixedWarning: 'datfix' made the change 'Set MJD-OBS to 58458.692654 from DATE-OBS.\n",
      "Set MJD-END to 58458.713487 from DATE-END'. [astropy.wcs.wcs]\n",
      "WARNING: FITSFixedWarning: 'datfix' made the change 'Set MJD-OBS to 58458.713487 from DATE-OBS.\n",
      "Set MJD-END to 58458.734320 from DATE-END'. [astropy.wcs.wcs]\n",
      "WARNING: FITSFixedWarning: 'datfix' made the change 'Set MJD-OBS to 58458.734320 from DATE-OBS.\n",
      "Set MJD-END to 58458.755153 from DATE-END'. [astropy.wcs.wcs]\n",
      "WARNING: FITSFixedWarning: 'datfix' made the change 'Set MJD-OBS to 58458.755152 from DATE-OBS.\n",
      "Set MJD-END to 58458.775985 from DATE-END'. [astropy.wcs.wcs]\n",
      "WARNING: FITSFixedWarning: 'datfix' made the change 'Set MJD-OBS to 58458.775985 from DATE-OBS.\n",
      "Set MJD-END to 58458.796818 from DATE-END'. [astropy.wcs.wcs]\n"
     ]
    },
    {
     "name": "stdout",
     "output_type": "stream",
     "text": [
      "Reading image 907: /arc/home/mikea/.shifty_data/tess/5/1/4/tess2018340195938-s0005-1-4-0125-s_ffic.fits\r"
     ]
    },
    {
     "name": "stderr",
     "output_type": "stream",
     "text": [
      "WARNING: FITSFixedWarning: 'datfix' made the change 'Set MJD-OBS to 58458.796818 from DATE-OBS.\n",
      "Set MJD-END to 58458.817651 from DATE-END'. [astropy.wcs.wcs]\n",
      "WARNING: FITSFixedWarning: 'datfix' made the change 'Set MJD-OBS to 58458.817651 from DATE-OBS.\n",
      "Set MJD-END to 58458.838484 from DATE-END'. [astropy.wcs.wcs]\n"
     ]
    },
    {
     "name": "stdout",
     "output_type": "stream",
     "text": [
      "Reading image 910: /arc/home/mikea/.shifty_data/tess/5/1/4/tess2018340212938-s0005-1-4-0125-s_ffic.fits\r"
     ]
    },
    {
     "name": "stderr",
     "output_type": "stream",
     "text": [
      "WARNING: FITSFixedWarning: 'datfix' made the change 'Set MJD-OBS to 58458.838483 from DATE-OBS.\n",
      "Set MJD-END to 58458.859316 from DATE-END'. [astropy.wcs.wcs]\n",
      "WARNING: FITSFixedWarning: 'datfix' made the change 'Set MJD-OBS to 58458.859316 from DATE-OBS.\n",
      "Set MJD-END to 58458.880149 from DATE-END'. [astropy.wcs.wcs]\n",
      "WARNING: FITSFixedWarning: 'datfix' made the change 'Set MJD-OBS to 58458.880149 from DATE-OBS.\n",
      "Set MJD-END to 58458.900982 from DATE-END'. [astropy.wcs.wcs]\n"
     ]
    },
    {
     "name": "stdout",
     "output_type": "stream",
     "text": [
      "Reading image 913: /arc/home/mikea/.shifty_data/tess/5/1/4/tess2018340225938-s0005-1-4-0125-s_ffic.fits\r"
     ]
    },
    {
     "name": "stderr",
     "output_type": "stream",
     "text": [
      "WARNING: FITSFixedWarning: 'datfix' made the change 'Set MJD-OBS to 58458.900981 from DATE-OBS.\n",
      "Set MJD-END to 58458.921815 from DATE-END'. [astropy.wcs.wcs]\n",
      "WARNING: FITSFixedWarning: 'datfix' made the change 'Set MJD-OBS to 58458.921814 from DATE-OBS.\n",
      "Set MJD-END to 58458.942647 from DATE-END'. [astropy.wcs.wcs]\n",
      "WARNING: FITSFixedWarning: 'datfix' made the change 'Set MJD-OBS to 58458.942647 from DATE-OBS.\n",
      "Set MJD-END to 58458.963480 from DATE-END'. [astropy.wcs.wcs]\n"
     ]
    },
    {
     "name": "stdout",
     "output_type": "stream",
     "text": [
      "Reading image 915: /arc/home/mikea/.shifty_data/tess/5/1/4/tess2018340235938-s0005-1-4-0125-s_ffic.fits\r"
     ]
    },
    {
     "name": "stderr",
     "output_type": "stream",
     "text": [
      "WARNING: FITSFixedWarning: 'datfix' made the change 'Set MJD-OBS to 58458.963480 from DATE-OBS.\n",
      "Set MJD-END to 58458.984313 from DATE-END'. [astropy.wcs.wcs]\n",
      "WARNING: FITSFixedWarning: 'datfix' made the change 'Set MJD-OBS to 58458.984312 from DATE-OBS.\n",
      "Set MJD-END to 58459.005145 from DATE-END'. [astropy.wcs.wcs]\n"
     ]
    },
    {
     "name": "stdout",
     "output_type": "stream",
     "text": [
      "Reading image 918: /arc/home/mikea/.shifty_data/tess/5/1/4/tess2018341012938-s0005-1-4-0125-s_ffic.fits\r"
     ]
    },
    {
     "name": "stderr",
     "output_type": "stream",
     "text": [
      "WARNING: FITSFixedWarning: 'datfix' made the change 'Set MJD-OBS to 58459.005145 from DATE-OBS.\n",
      "Set MJD-END to 58459.025978 from DATE-END'. [astropy.wcs.wcs]\n",
      "WARNING: FITSFixedWarning: 'datfix' made the change 'Set MJD-OBS to 58459.025978 from DATE-OBS.\n",
      "Set MJD-END to 58459.046811 from DATE-END'. [astropy.wcs.wcs]\n",
      "WARNING: FITSFixedWarning: 'datfix' made the change 'Set MJD-OBS to 58459.046811 from DATE-OBS.\n",
      "Set MJD-END to 58459.067644 from DATE-END'. [astropy.wcs.wcs]\n"
     ]
    },
    {
     "name": "stdout",
     "output_type": "stream",
     "text": [
      "Reading image 920: /arc/home/mikea/.shifty_data/tess/5/1/4/tess2018341022938-s0005-1-4-0125-s_ffic.fits\r"
     ]
    },
    {
     "name": "stderr",
     "output_type": "stream",
     "text": [
      "WARNING: FITSFixedWarning: 'datfix' made the change 'Set MJD-OBS to 58459.067643 from DATE-OBS.\n",
      "Set MJD-END to 58459.088476 from DATE-END'. [astropy.wcs.wcs]\n",
      "WARNING: FITSFixedWarning: 'datfix' made the change 'Set MJD-OBS to 58459.088476 from DATE-OBS.\n",
      "Set MJD-END to 58459.109309 from DATE-END'. [astropy.wcs.wcs]\n",
      "WARNING: FITSFixedWarning: 'datfix' made the change 'Set MJD-OBS to 58459.109309 from DATE-OBS.\n",
      "Set MJD-END to 58459.130142 from DATE-END'. [astropy.wcs.wcs]\n"
     ]
    },
    {
     "name": "stdout",
     "output_type": "stream",
     "text": [
      "Reading image 923: /arc/home/mikea/.shifty_data/tess/5/1/4/tess2018341035938-s0005-1-4-0125-s_ffic.fits\r"
     ]
    },
    {
     "name": "stderr",
     "output_type": "stream",
     "text": [
      "WARNING: FITSFixedWarning: 'datfix' made the change 'Set MJD-OBS to 58459.130141 from DATE-OBS.\n",
      "Set MJD-END to 58459.150975 from DATE-END'. [astropy.wcs.wcs]\n",
      "WARNING: FITSFixedWarning: 'datfix' made the change 'Set MJD-OBS to 58459.150974 from DATE-OBS.\n",
      "Set MJD-END to 58459.171807 from DATE-END'. [astropy.wcs.wcs]\n",
      "WARNING: FITSFixedWarning: 'datfix' made the change 'Set MJD-OBS to 58459.171807 from DATE-OBS.\n",
      "Set MJD-END to 58459.192640 from DATE-END'. [astropy.wcs.wcs]\n"
     ]
    },
    {
     "name": "stdout",
     "output_type": "stream",
     "text": [
      "Reading image 926: /arc/home/mikea/.shifty_data/tess/5/1/4/tess2018341052938-s0005-1-4-0125-s_ffic.fits\r"
     ]
    },
    {
     "name": "stderr",
     "output_type": "stream",
     "text": [
      "WARNING: FITSFixedWarning: 'datfix' made the change 'Set MJD-OBS to 58459.192640 from DATE-OBS.\n",
      "Set MJD-END to 58459.213473 from DATE-END'. [astropy.wcs.wcs]\n",
      "WARNING: FITSFixedWarning: 'datfix' made the change 'Set MJD-OBS to 58459.213472 from DATE-OBS.\n",
      "Set MJD-END to 58459.234305 from DATE-END'. [astropy.wcs.wcs]\n",
      "WARNING: FITSFixedWarning: 'datfix' made the change 'Set MJD-OBS to 58459.234305 from DATE-OBS.\n",
      "Set MJD-END to 58459.255138 from DATE-END'. [astropy.wcs.wcs]\n"
     ]
    },
    {
     "name": "stdout",
     "output_type": "stream",
     "text": [
      "Reading image 929: /arc/home/mikea/.shifty_data/tess/5/1/4/tess2018341065938-s0005-1-4-0125-s_ffic.fits\r"
     ]
    },
    {
     "name": "stderr",
     "output_type": "stream",
     "text": [
      "WARNING: FITSFixedWarning: 'datfix' made the change 'Set MJD-OBS to 58459.255138 from DATE-OBS.\n",
      "Set MJD-END to 58459.275971 from DATE-END'. [astropy.wcs.wcs]\n",
      "WARNING: FITSFixedWarning: 'datfix' made the change 'Set MJD-OBS to 58459.275970 from DATE-OBS.\n",
      "Set MJD-END to 58459.296804 from DATE-END'. [astropy.wcs.wcs]\n",
      "WARNING: FITSFixedWarning: 'datfix' made the change 'Set MJD-OBS to 58459.296803 from DATE-OBS.\n",
      "Set MJD-END to 58459.317636 from DATE-END'. [astropy.wcs.wcs]\n"
     ]
    },
    {
     "name": "stdout",
     "output_type": "stream",
     "text": [
      "Reading image 931: /arc/home/mikea/.shifty_data/tess/5/1/4/tess2018341075938-s0005-1-4-0125-s_ffic.fits\r"
     ]
    },
    {
     "name": "stderr",
     "output_type": "stream",
     "text": [
      "WARNING: FITSFixedWarning: 'datfix' made the change 'Set MJD-OBS to 58459.317636 from DATE-OBS.\n",
      "Set MJD-END to 58459.338469 from DATE-END'. [astropy.wcs.wcs]\n",
      "WARNING: FITSFixedWarning: 'datfix' made the change 'Set MJD-OBS to 58459.338469 from DATE-OBS.\n",
      "Set MJD-END to 58459.359302 from DATE-END'. [astropy.wcs.wcs]\n",
      "WARNING: FITSFixedWarning: 'datfix' made the change 'Set MJD-OBS to 58459.359301 from DATE-OBS.\n",
      "Set MJD-END to 58459.380134 from DATE-END'. [astropy.wcs.wcs]\n"
     ]
    },
    {
     "name": "stdout",
     "output_type": "stream",
     "text": [
      "Reading image 934: /arc/home/mikea/.shifty_data/tess/5/1/4/tess2018341092938-s0005-1-4-0125-s_ffic.fits\r"
     ]
    },
    {
     "name": "stderr",
     "output_type": "stream",
     "text": [
      "WARNING: FITSFixedWarning: 'datfix' made the change 'Set MJD-OBS to 58459.380134 from DATE-OBS.\n",
      "Set MJD-END to 58459.400967 from DATE-END'. [astropy.wcs.wcs]\n",
      "WARNING: FITSFixedWarning: 'datfix' made the change 'Set MJD-OBS to 58459.400967 from DATE-OBS.\n",
      "Set MJD-END to 58459.421800 from DATE-END'. [astropy.wcs.wcs]\n"
     ]
    },
    {
     "name": "stdout",
     "output_type": "stream",
     "text": [
      "Reading image 936: /arc/home/mikea/.shifty_data/tess/5/1/4/tess2018341102938-s0005-1-4-0125-s_ffic.fits\r"
     ]
    },
    {
     "name": "stderr",
     "output_type": "stream",
     "text": [
      "WARNING: FITSFixedWarning: 'datfix' made the change 'Set MJD-OBS to 58459.421799 from DATE-OBS.\n",
      "Set MJD-END to 58459.442633 from DATE-END'. [astropy.wcs.wcs]\n",
      "WARNING: FITSFixedWarning: 'datfix' made the change 'Set MJD-OBS to 58459.442632 from DATE-OBS.\n",
      "Set MJD-END to 58459.463465 from DATE-END'. [astropy.wcs.wcs]\n",
      "WARNING: FITSFixedWarning: 'datfix' made the change 'Set MJD-OBS to 58459.463465 from DATE-OBS.\n",
      "Set MJD-END to 58459.484298 from DATE-END'. [astropy.wcs.wcs]\n"
     ]
    },
    {
     "name": "stdout",
     "output_type": "stream",
     "text": [
      "Reading image 938: /arc/home/mikea/.shifty_data/tess/5/1/4/tess2018341112938-s0005-1-4-0125-s_ffic.fits\r"
     ]
    },
    {
     "name": "stderr",
     "output_type": "stream",
     "text": [
      "WARNING: FITSFixedWarning: 'datfix' made the change 'Set MJD-OBS to 58459.484298 from DATE-OBS.\n",
      "Set MJD-END to 58459.505131 from DATE-END'. [astropy.wcs.wcs]\n",
      "WARNING: FITSFixedWarning: 'datfix' made the change 'Set MJD-OBS to 58459.505130 from DATE-OBS.\n",
      "Set MJD-END to 58459.525963 from DATE-END'. [astropy.wcs.wcs]\n",
      "WARNING: FITSFixedWarning: 'datfix' made the change 'Set MJD-OBS to 58459.525963 from DATE-OBS.\n",
      "Set MJD-END to 58459.546796 from DATE-END'. [astropy.wcs.wcs]\n"
     ]
    },
    {
     "name": "stdout",
     "output_type": "stream",
     "text": [
      "Reading image 943: /arc/home/mikea/.shifty_data/tess/5/1/4/tess2018341135938-s0005-1-4-0125-s_ffic.fits\r"
     ]
    },
    {
     "name": "stderr",
     "output_type": "stream",
     "text": [
      "WARNING: FITSFixedWarning: 'datfix' made the change 'Set MJD-OBS to 58459.546796 from DATE-OBS.\n",
      "Set MJD-END to 58459.567629 from DATE-END'. [astropy.wcs.wcs]\n",
      "WARNING: FITSFixedWarning: 'datfix' made the change 'Set MJD-OBS to 58459.567628 from DATE-OBS.\n",
      "Set MJD-END to 58459.588461 from DATE-END'. [astropy.wcs.wcs]\n",
      "WARNING: FITSFixedWarning: 'datfix' made the change 'Set MJD-OBS to 58459.588461 from DATE-OBS.\n",
      "Set MJD-END to 58459.609294 from DATE-END'. [astropy.wcs.wcs]\n"
     ]
    },
    {
     "name": "stdout",
     "output_type": "stream",
     "text": [
      "Reading image 946: /arc/home/mikea/.shifty_data/tess/5/1/4/tess2018341152938-s0005-1-4-0125-s_ffic.fits\r"
     ]
    },
    {
     "name": "stderr",
     "output_type": "stream",
     "text": [
      "WARNING: FITSFixedWarning: 'datfix' made the change 'Set MJD-OBS to 58459.609294 from DATE-OBS.\n",
      "Set MJD-END to 58459.630127 from DATE-END'. [astropy.wcs.wcs]\n",
      "WARNING: FITSFixedWarning: 'datfix' made the change 'Set MJD-OBS to 58459.630126 from DATE-OBS.\n",
      "Set MJD-END to 58459.650960 from DATE-END'. [astropy.wcs.wcs]\n"
     ]
    },
    {
     "name": "stdout",
     "output_type": "stream",
     "text": [
      "Reading image 948: /arc/home/mikea/.shifty_data/tess/5/1/4/tess2018341162938-s0005-1-4-0125-s_ffic.fits\r"
     ]
    },
    {
     "name": "stderr",
     "output_type": "stream",
     "text": [
      "WARNING: FITSFixedWarning: 'datfix' made the change 'Set MJD-OBS to 58459.650959 from DATE-OBS.\n",
      "Set MJD-END to 58459.671792 from DATE-END'. [astropy.wcs.wcs]\n",
      "WARNING: FITSFixedWarning: 'datfix' made the change 'Set MJD-OBS to 58459.671792 from DATE-OBS.\n",
      "Set MJD-END to 58459.692625 from DATE-END'. [astropy.wcs.wcs]\n"
     ]
    },
    {
     "name": "stdout",
     "output_type": "stream",
     "text": [
      "Reading image 951: /arc/home/mikea/.shifty_data/tess/5/1/4/tess2018341175938-s0005-1-4-0125-s_ffic.fits\r"
     ]
    },
    {
     "name": "stderr",
     "output_type": "stream",
     "text": [
      "WARNING: FITSFixedWarning: 'datfix' made the change 'Set MJD-OBS to 58459.692625 from DATE-OBS.\n",
      "Set MJD-END to 58459.713458 from DATE-END'. [astropy.wcs.wcs]\n",
      "WARNING: FITSFixedWarning: 'datfix' made the change 'Set MJD-OBS to 58459.713457 from DATE-OBS.\n",
      "Set MJD-END to 58459.734290 from DATE-END'. [astropy.wcs.wcs]\n",
      "WARNING: FITSFixedWarning: 'datfix' made the change 'Set MJD-OBS to 58459.734290 from DATE-OBS.\n",
      "Set MJD-END to 58459.755123 from DATE-END'. [astropy.wcs.wcs]\n"
     ]
    },
    {
     "name": "stdout",
     "output_type": "stream",
     "text": [
      "Reading image 954: /arc/home/mikea/.shifty_data/tess/5/1/4/tess2018341192938-s0005-1-4-0125-s_ffic.fits\r"
     ]
    },
    {
     "name": "stderr",
     "output_type": "stream",
     "text": [
      "WARNING: FITSFixedWarning: 'datfix' made the change 'Set MJD-OBS to 58459.755123 from DATE-OBS.\n",
      "Set MJD-END to 58459.775956 from DATE-END'. [astropy.wcs.wcs]\n",
      "WARNING: FITSFixedWarning: 'datfix' made the change 'Set MJD-OBS to 58459.775955 from DATE-OBS.\n",
      "Set MJD-END to 58459.796788 from DATE-END'. [astropy.wcs.wcs]\n",
      "WARNING: FITSFixedWarning: 'datfix' made the change 'Set MJD-OBS to 58459.796788 from DATE-OBS.\n",
      "Set MJD-END to 58459.817621 from DATE-END'. [astropy.wcs.wcs]\n"
     ]
    },
    {
     "name": "stdout",
     "output_type": "stream",
     "text": [
      "Reading image 957: /arc/home/mikea/.shifty_data/tess/5/1/4/tess2018341205938-s0005-1-4-0125-s_ffic.fits\r"
     ]
    },
    {
     "name": "stderr",
     "output_type": "stream",
     "text": [
      "WARNING: FITSFixedWarning: 'datfix' made the change 'Set MJD-OBS to 58459.817621 from DATE-OBS.\n",
      "Set MJD-END to 58459.838454 from DATE-END'. [astropy.wcs.wcs]\n",
      "WARNING: FITSFixedWarning: 'datfix' made the change 'Set MJD-OBS to 58459.838453 from DATE-OBS.\n",
      "Set MJD-END to 58459.859286 from DATE-END'. [astropy.wcs.wcs]\n",
      "WARNING: FITSFixedWarning: 'datfix' made the change 'Set MJD-OBS to 58459.859286 from DATE-OBS.\n",
      "Set MJD-END to 58459.880119 from DATE-END'. [astropy.wcs.wcs]\n"
     ]
    },
    {
     "name": "stdout",
     "output_type": "stream",
     "text": [
      "Reading image 960: /arc/home/mikea/.shifty_data/tess/5/1/4/tess2018341222938-s0005-1-4-0125-s_ffic.fits\r"
     ]
    },
    {
     "name": "stderr",
     "output_type": "stream",
     "text": [
      "WARNING: FITSFixedWarning: 'datfix' made the change 'Set MJD-OBS to 58459.880119 from DATE-OBS.\n",
      "Set MJD-END to 58459.900952 from DATE-END'. [astropy.wcs.wcs]\n",
      "WARNING: FITSFixedWarning: 'datfix' made the change 'Set MJD-OBS to 58459.900951 from DATE-OBS.\n",
      "Set MJD-END to 58459.921784 from DATE-END'. [astropy.wcs.wcs]\n",
      "WARNING: FITSFixedWarning: 'datfix' made the change 'Set MJD-OBS to 58459.921784 from DATE-OBS.\n",
      "Set MJD-END to 58459.942617 from DATE-END'. [astropy.wcs.wcs]\n"
     ]
    },
    {
     "name": "stdout",
     "output_type": "stream",
     "text": [
      "Reading image 963: /arc/home/mikea/.shifty_data/tess/5/1/4/tess2018341235938-s0005-1-4-0125-s_ffic.fits\r"
     ]
    },
    {
     "name": "stderr",
     "output_type": "stream",
     "text": [
      "WARNING: FITSFixedWarning: 'datfix' made the change 'Set MJD-OBS to 58459.942617 from DATE-OBS.\n",
      "Set MJD-END to 58459.963450 from DATE-END'. [astropy.wcs.wcs]\n",
      "WARNING: FITSFixedWarning: 'datfix' made the change 'Set MJD-OBS to 58459.963449 from DATE-OBS.\n",
      "Set MJD-END to 58459.984283 from DATE-END'. [astropy.wcs.wcs]\n",
      "WARNING: FITSFixedWarning: 'datfix' made the change 'Set MJD-OBS to 58459.984282 from DATE-OBS.\n",
      "Set MJD-END to 58460.005115 from DATE-END'. [astropy.wcs.wcs]\n"
     ]
    },
    {
     "name": "stdout",
     "output_type": "stream",
     "text": [
      "Reading image 966: /arc/home/mikea/.shifty_data/tess/5/1/4/tess2018342012938-s0005-1-4-0125-s_ffic.fits\r"
     ]
    },
    {
     "name": "stderr",
     "output_type": "stream",
     "text": [
      "WARNING: FITSFixedWarning: 'datfix' made the change 'Set MJD-OBS to 58460.005115 from DATE-OBS.\n",
      "Set MJD-END to 58460.025948 from DATE-END'. [astropy.wcs.wcs]\n",
      "WARNING: FITSFixedWarning: 'datfix' made the change 'Set MJD-OBS to 58460.025947 from DATE-OBS.\n",
      "Set MJD-END to 58460.046781 from DATE-END'. [astropy.wcs.wcs]\n",
      "WARNING: FITSFixedWarning: 'datfix' made the change 'Set MJD-OBS to 58460.046780 from DATE-OBS.\n",
      "Set MJD-END to 58460.067613 from DATE-END'. [astropy.wcs.wcs]\n"
     ]
    },
    {
     "name": "stdout",
     "output_type": "stream",
     "text": [
      "Reading image 969: /arc/home/mikea/.shifty_data/tess/5/1/4/tess2018342032938-s0005-1-4-0125-s_ffic.fits\r"
     ]
    },
    {
     "name": "stderr",
     "output_type": "stream",
     "text": [
      "WARNING: FITSFixedWarning: 'datfix' made the change 'Set MJD-OBS to 58460.067613 from DATE-OBS.\n",
      "Set MJD-END to 58460.088446 from DATE-END'. [astropy.wcs.wcs]\n",
      "WARNING: FITSFixedWarning: 'datfix' made the change 'Set MJD-OBS to 58460.109278 from DATE-OBS.\n",
      "Set MJD-END to 58460.130111 from DATE-END'. [astropy.wcs.wcs]\n",
      "WARNING: FITSFixedWarning: 'datfix' made the change 'Set MJD-OBS to 58460.130111 from DATE-OBS.\n",
      "Set MJD-END to 58460.150944 from DATE-END'. [astropy.wcs.wcs]\n"
     ]
    },
    {
     "name": "stdout",
     "output_type": "stream",
     "text": [
      "Reading image 971: /arc/home/mikea/.shifty_data/tess/5/1/4/tess2018342042938-s0005-1-4-0125-s_ffic.fits\r"
     ]
    },
    {
     "name": "stderr",
     "output_type": "stream",
     "text": [
      "WARNING: FITSFixedWarning: 'datfix' made the change 'Set MJD-OBS to 58460.150944 from DATE-OBS.\n",
      "Set MJD-END to 58460.171777 from DATE-END'. [astropy.wcs.wcs]\n",
      "WARNING: FITSFixedWarning: 'datfix' made the change 'Set MJD-OBS to 58460.171776 from DATE-OBS.\n",
      "Set MJD-END to 58460.192609 from DATE-END'. [astropy.wcs.wcs]\n"
     ]
    },
    {
     "name": "stdout",
     "output_type": "stream",
     "text": [
      "Reading image 973: /arc/home/mikea/.shifty_data/tess/5/1/4/tess2018342052938-s0005-1-4-0125-s_ffic.fits\r"
     ]
    },
    {
     "name": "stderr",
     "output_type": "stream",
     "text": [
      "WARNING: FITSFixedWarning: 'datfix' made the change 'Set MJD-OBS to 58460.192609 from DATE-OBS.\n",
      "Set MJD-END to 58460.213442 from DATE-END'. [astropy.wcs.wcs]\n",
      "WARNING: FITSFixedWarning: 'datfix' made the change 'Set MJD-OBS to 58460.213442 from DATE-OBS.\n",
      "Set MJD-END to 58460.234275 from DATE-END'. [astropy.wcs.wcs]\n"
     ]
    },
    {
     "name": "stdout",
     "output_type": "stream",
     "text": [
      "Reading image 976: /arc/home/mikea/.shifty_data/tess/5/1/4/tess2018342065938-s0005-1-4-0125-s_ffic.fits\r"
     ]
    },
    {
     "name": "stderr",
     "output_type": "stream",
     "text": [
      "WARNING: FITSFixedWarning: 'datfix' made the change 'Set MJD-OBS to 58460.234274 from DATE-OBS.\n",
      "Set MJD-END to 58460.255107 from DATE-END'. [astropy.wcs.wcs]\n",
      "WARNING: FITSFixedWarning: 'datfix' made the change 'Set MJD-OBS to 58460.255107 from DATE-OBS.\n",
      "Set MJD-END to 58460.275940 from DATE-END'. [astropy.wcs.wcs]\n",
      "WARNING: FITSFixedWarning: 'datfix' made the change 'Set MJD-OBS to 58460.275940 from DATE-OBS.\n",
      "Set MJD-END to 58460.296773 from DATE-END'. [astropy.wcs.wcs]\n"
     ]
    },
    {
     "name": "stdout",
     "output_type": "stream",
     "text": [
      "Reading image 978: /arc/home/mikea/.shifty_data/tess/5/1/4/tess2018342075938-s0005-1-4-0125-s_ffic.fits\r"
     ]
    },
    {
     "name": "stderr",
     "output_type": "stream",
     "text": [
      "WARNING: FITSFixedWarning: 'datfix' made the change 'Set MJD-OBS to 58460.296772 from DATE-OBS.\n",
      "Set MJD-END to 58460.317605 from DATE-END'. [astropy.wcs.wcs]\n",
      "WARNING: FITSFixedWarning: 'datfix' made the change 'Set MJD-OBS to 58460.317605 from DATE-OBS.\n",
      "Set MJD-END to 58460.338438 from DATE-END'. [astropy.wcs.wcs]\n"
     ]
    },
    {
     "name": "stdout",
     "output_type": "stream",
     "text": [
      "Reading image 981: /arc/home/mikea/.shifty_data/tess/5/1/4/tess2018342092938-s0005-1-4-0125-s_ffic.fits\r"
     ]
    },
    {
     "name": "stderr",
     "output_type": "stream",
     "text": [
      "WARNING: FITSFixedWarning: 'datfix' made the change 'Set MJD-OBS to 58460.338438 from DATE-OBS.\n",
      "Set MJD-END to 58460.359271 from DATE-END'. [astropy.wcs.wcs]\n",
      "WARNING: FITSFixedWarning: 'datfix' made the change 'Set MJD-OBS to 58460.359270 from DATE-OBS.\n",
      "Set MJD-END to 58460.380103 from DATE-END'. [astropy.wcs.wcs]\n",
      "WARNING: FITSFixedWarning: 'datfix' made the change 'Set MJD-OBS to 58460.380103 from DATE-OBS.\n",
      "Set MJD-END to 58460.400936 from DATE-END'. [astropy.wcs.wcs]\n"
     ]
    },
    {
     "name": "stdout",
     "output_type": "stream",
     "text": [
      "Reading image 984: /arc/home/mikea/.shifty_data/tess/5/1/4/tess2018342105938-s0005-1-4-0125-s_ffic.fits\r"
     ]
    },
    {
     "name": "stderr",
     "output_type": "stream",
     "text": [
      "WARNING: FITSFixedWarning: 'datfix' made the change 'Set MJD-OBS to 58460.400936 from DATE-OBS.\n",
      "Set MJD-END to 58460.421769 from DATE-END'. [astropy.wcs.wcs]\n",
      "WARNING: FITSFixedWarning: 'datfix' made the change 'Set MJD-OBS to 58460.421768 from DATE-OBS.\n",
      "Set MJD-END to 58460.442601 from DATE-END'. [astropy.wcs.wcs]\n",
      "WARNING: FITSFixedWarning: 'datfix' made the change 'Set MJD-OBS to 58460.442601 from DATE-OBS.\n",
      "Set MJD-END to 58460.463434 from DATE-END'. [astropy.wcs.wcs]\n"
     ]
    },
    {
     "name": "stdout",
     "output_type": "stream",
     "text": [
      "Reading image 986: /arc/home/mikea/.shifty_data/tess/5/1/4/tess2018342115938-s0005-1-4-0125-s_ffic.fits\r"
     ]
    },
    {
     "name": "stderr",
     "output_type": "stream",
     "text": [
      "WARNING: FITSFixedWarning: 'datfix' made the change 'Set MJD-OBS to 58460.463434 from DATE-OBS.\n",
      "Set MJD-END to 58460.484267 from DATE-END'. [astropy.wcs.wcs]\n",
      "WARNING: FITSFixedWarning: 'datfix' made the change 'Set MJD-OBS to 58460.484266 from DATE-OBS.\n",
      "Set MJD-END to 58460.505099 from DATE-END'. [astropy.wcs.wcs]\n"
     ]
    },
    {
     "name": "stdout",
     "output_type": "stream",
     "text": [
      "Reading image 989: /arc/home/mikea/.shifty_data/tess/5/1/4/tess2018342132937-s0005-1-4-0125-s_ffic.fits\r"
     ]
    },
    {
     "name": "stderr",
     "output_type": "stream",
     "text": [
      "WARNING: FITSFixedWarning: 'datfix' made the change 'Set MJD-OBS to 58460.505099 from DATE-OBS.\n",
      "Set MJD-END to 58460.525932 from DATE-END'. [astropy.wcs.wcs]\n",
      "WARNING: FITSFixedWarning: 'datfix' made the change 'Set MJD-OBS to 58460.525932 from DATE-OBS.\n",
      "Set MJD-END to 58460.546765 from DATE-END'. [astropy.wcs.wcs]\n",
      "WARNING: FITSFixedWarning: 'datfix' made the change 'Set MJD-OBS to 58460.546764 from DATE-OBS.\n",
      "Set MJD-END to 58460.567597 from DATE-END'. [astropy.wcs.wcs]\n"
     ]
    },
    {
     "name": "stdout",
     "output_type": "stream",
     "text": [
      "Reading image 991: /arc/home/mikea/.shifty_data/tess/5/1/4/tess2018342142937-s0005-1-4-0125-s_ffic.fits\r"
     ]
    },
    {
     "name": "stderr",
     "output_type": "stream",
     "text": [
      "WARNING: FITSFixedWarning: 'datfix' made the change 'Set MJD-OBS to 58460.567597 from DATE-OBS.\n",
      "Set MJD-END to 58460.588430 from DATE-END'. [astropy.wcs.wcs]\n",
      "WARNING: FITSFixedWarning: 'datfix' made the change 'Set MJD-OBS to 58460.588429 from DATE-OBS.\n",
      "Set MJD-END to 58460.609263 from DATE-END'. [astropy.wcs.wcs]\n"
     ]
    },
    {
     "name": "stdout",
     "output_type": "stream",
     "text": [
      "Reading image 993: /arc/home/mikea/.shifty_data/tess/5/1/4/tess2018342152937-s0005-1-4-0125-s_ffic.fits\r"
     ]
    },
    {
     "name": "stderr",
     "output_type": "stream",
     "text": [
      "WARNING: FITSFixedWarning: 'datfix' made the change 'Set MJD-OBS to 58460.609262 from DATE-OBS.\n",
      "Set MJD-END to 58460.630095 from DATE-END'. [astropy.wcs.wcs]\n",
      "WARNING: FITSFixedWarning: 'datfix' made the change 'Set MJD-OBS to 58460.630095 from DATE-OBS.\n",
      "Set MJD-END to 58460.650928 from DATE-END'. [astropy.wcs.wcs]\n",
      "WARNING: FITSFixedWarning: 'datfix' made the change 'Set MJD-OBS to 58460.650927 from DATE-OBS.\n",
      "Set MJD-END to 58460.671761 from DATE-END'. [astropy.wcs.wcs]\n"
     ]
    },
    {
     "name": "stdout",
     "output_type": "stream",
     "text": [
      "Reading image 996: /arc/home/mikea/.shifty_data/tess/5/1/4/tess2018342165937-s0005-1-4-0125-s_ffic.fits\r"
     ]
    },
    {
     "name": "stderr",
     "output_type": "stream",
     "text": [
      "WARNING: FITSFixedWarning: 'datfix' made the change 'Set MJD-OBS to 58460.671760 from DATE-OBS.\n",
      "Set MJD-END to 58460.692593 from DATE-END'. [astropy.wcs.wcs]\n",
      "WARNING: FITSFixedWarning: 'datfix' made the change 'Set MJD-OBS to 58460.692593 from DATE-OBS.\n",
      "Set MJD-END to 58460.713426 from DATE-END'. [astropy.wcs.wcs]\n",
      "WARNING: FITSFixedWarning: 'datfix' made the change 'Set MJD-OBS to 58460.713425 from DATE-OBS.\n",
      "Set MJD-END to 58460.734258 from DATE-END'. [astropy.wcs.wcs]\n"
     ]
    },
    {
     "name": "stdout",
     "output_type": "stream",
     "text": [
      "Reading image 999: /arc/home/mikea/.shifty_data/tess/5/1/4/tess2018342182937-s0005-1-4-0125-s_ffic.fits\r"
     ]
    },
    {
     "name": "stderr",
     "output_type": "stream",
     "text": [
      "WARNING: FITSFixedWarning: 'datfix' made the change 'Set MJD-OBS to 58460.734258 from DATE-OBS.\n",
      "Set MJD-END to 58460.755091 from DATE-END'. [astropy.wcs.wcs]\n",
      "WARNING: FITSFixedWarning: 'datfix' made the change 'Set MJD-OBS to 58460.755091 from DATE-OBS.\n",
      "Set MJD-END to 58460.775924 from DATE-END'. [astropy.wcs.wcs]\n",
      "WARNING: FITSFixedWarning: 'datfix' made the change 'Set MJD-OBS to 58460.775923 from DATE-OBS.\n",
      "Set MJD-END to 58460.796756 from DATE-END'. [astropy.wcs.wcs]\n"
     ]
    },
    {
     "name": "stdout",
     "output_type": "stream",
     "text": [
      "Reading image 1001: /arc/home/mikea/.shifty_data/tess/5/1/4/tess2018342192937-s0005-1-4-0125-s_ffic.fits\r"
     ]
    },
    {
     "name": "stderr",
     "output_type": "stream",
     "text": [
      "WARNING: FITSFixedWarning: 'datfix' made the change 'Set MJD-OBS to 58460.796756 from DATE-OBS.\n",
      "Set MJD-END to 58460.817589 from DATE-END'. [astropy.wcs.wcs]\n",
      "WARNING: FITSFixedWarning: 'datfix' made the change 'Set MJD-OBS to 58460.817589 from DATE-OBS.\n",
      "Set MJD-END to 58460.838422 from DATE-END'. [astropy.wcs.wcs]\n",
      "WARNING: FITSFixedWarning: 'datfix' made the change 'Set MJD-OBS to 58460.838421 from DATE-OBS.\n",
      "Set MJD-END to 58460.859254 from DATE-END'. [astropy.wcs.wcs]\n"
     ]
    },
    {
     "name": "stdout",
     "output_type": "stream",
     "text": [
      "Reading image 1004: /arc/home/mikea/.shifty_data/tess/5/1/4/tess2018342205937-s0005-1-4-0125-s_ffic.fits\r"
     ]
    },
    {
     "name": "stderr",
     "output_type": "stream",
     "text": [
      "WARNING: FITSFixedWarning: 'datfix' made the change 'Set MJD-OBS to 58460.859254 from DATE-OBS.\n",
      "Set MJD-END to 58460.880087 from DATE-END'. [astropy.wcs.wcs]\n",
      "WARNING: FITSFixedWarning: 'datfix' made the change 'Set MJD-OBS to 58460.880087 from DATE-OBS.\n",
      "Set MJD-END to 58460.900920 from DATE-END'. [astropy.wcs.wcs]\n",
      "WARNING: FITSFixedWarning: 'datfix' made the change 'Set MJD-OBS to 58460.900919 from DATE-OBS.\n",
      "Set MJD-END to 58460.921752 from DATE-END'. [astropy.wcs.wcs]\n"
     ]
    },
    {
     "name": "stdout",
     "output_type": "stream",
     "text": [
      "Reading image 1009: /arc/home/mikea/.shifty_data/tess/5/1/4/tess2018342232937-s0005-1-4-0125-s_ffic.fits\r"
     ]
    },
    {
     "name": "stderr",
     "output_type": "stream",
     "text": [
      "WARNING: FITSFixedWarning: 'datfix' made the change 'Set MJD-OBS to 58460.921752 from DATE-OBS.\n",
      "Set MJD-END to 58460.942585 from DATE-END'. [astropy.wcs.wcs]\n",
      "WARNING: FITSFixedWarning: 'datfix' made the change 'Set MJD-OBS to 58460.942584 from DATE-OBS.\n",
      "Set MJD-END to 58460.963418 from DATE-END'. [astropy.wcs.wcs]\n",
      "WARNING: FITSFixedWarning: 'datfix' made the change 'Set MJD-OBS to 58460.963417 from DATE-OBS.\n",
      "Set MJD-END to 58460.984250 from DATE-END'. [astropy.wcs.wcs]\n"
     ]
    },
    {
     "name": "stdout",
     "output_type": "stream",
     "text": [
      "Reading image 1011: /arc/home/mikea/.shifty_data/tess/5/1/4/tess2018343002937-s0005-1-4-0125-s_ffic.fits\r"
     ]
    },
    {
     "name": "stderr",
     "output_type": "stream",
     "text": [
      "WARNING: FITSFixedWarning: 'datfix' made the change 'Set MJD-OBS to 58460.984250 from DATE-OBS.\n",
      "Set MJD-END to 58461.005083 from DATE-END'. [astropy.wcs.wcs]\n",
      "WARNING: FITSFixedWarning: 'datfix' made the change 'Set MJD-OBS to 58461.005082 from DATE-OBS.\n",
      "Set MJD-END to 58461.025915 from DATE-END'. [astropy.wcs.wcs]\n",
      "WARNING: FITSFixedWarning: 'datfix' made the change 'Set MJD-OBS to 58461.025915 from DATE-OBS.\n",
      "Set MJD-END to 58461.046748 from DATE-END'. [astropy.wcs.wcs]\n"
     ]
    },
    {
     "name": "stdout",
     "output_type": "stream",
     "text": [
      "Reading image 1013: /arc/home/mikea/.shifty_data/tess/5/1/4/tess2018343012937-s0005-1-4-0125-s_ffic.fits\r"
     ]
    },
    {
     "name": "stderr",
     "output_type": "stream",
     "text": [
      "WARNING: FITSFixedWarning: 'datfix' made the change 'Set MJD-OBS to 58461.046748 from DATE-OBS.\n",
      "Set MJD-END to 58461.067581 from DATE-END'. [astropy.wcs.wcs]\n",
      "WARNING: FITSFixedWarning: 'datfix' made the change 'Set MJD-OBS to 58461.067580 from DATE-OBS.\n",
      "Set MJD-END to 58461.088413 from DATE-END'. [astropy.wcs.wcs]\n",
      "WARNING: FITSFixedWarning: 'datfix' made the change 'Set MJD-OBS to 58461.088413 from DATE-OBS.\n",
      "Set MJD-END to 58461.109246 from DATE-END'. [astropy.wcs.wcs]\n"
     ]
    },
    {
     "name": "stdout",
     "output_type": "stream",
     "text": [
      "Reading image 1016: /arc/home/mikea/.shifty_data/tess/5/1/4/tess2018343025937-s0005-1-4-0125-s_ffic.fits\r"
     ]
    },
    {
     "name": "stderr",
     "output_type": "stream",
     "text": [
      "WARNING: FITSFixedWarning: 'datfix' made the change 'Set MJD-OBS to 58461.109246 from DATE-OBS.\n",
      "Set MJD-END to 58461.130079 from DATE-END'. [astropy.wcs.wcs]\n",
      "WARNING: FITSFixedWarning: 'datfix' made the change 'Set MJD-OBS to 58461.130078 from DATE-OBS.\n",
      "Set MJD-END to 58461.150911 from DATE-END'. [astropy.wcs.wcs]\n",
      "WARNING: FITSFixedWarning: 'datfix' made the change 'Set MJD-OBS to 58461.150911 from DATE-OBS.\n",
      "Set MJD-END to 58461.171744 from DATE-END'. [astropy.wcs.wcs]\n"
     ]
    },
    {
     "name": "stdout",
     "output_type": "stream",
     "text": [
      "Reading image 1019: /arc/home/mikea/.shifty_data/tess/5/1/4/tess2018343042937-s0005-1-4-0125-s_ffic.fits\r"
     ]
    },
    {
     "name": "stderr",
     "output_type": "stream",
     "text": [
      "WARNING: FITSFixedWarning: 'datfix' made the change 'Set MJD-OBS to 58461.171743 from DATE-OBS.\n",
      "Set MJD-END to 58461.192577 from DATE-END'. [astropy.wcs.wcs]\n",
      "WARNING: FITSFixedWarning: 'datfix' made the change 'Set MJD-OBS to 58461.192576 from DATE-OBS.\n",
      "Set MJD-END to 58461.213409 from DATE-END'. [astropy.wcs.wcs]\n"
     ]
    },
    {
     "name": "stdout",
     "output_type": "stream",
     "text": [
      "Reading image 1021: /arc/home/mikea/.shifty_data/tess/5/1/4/tess2018343052937-s0005-1-4-0125-s_ffic.fits\r"
     ]
    },
    {
     "name": "stderr",
     "output_type": "stream",
     "text": [
      "WARNING: FITSFixedWarning: 'datfix' made the change 'Set MJD-OBS to 58461.213409 from DATE-OBS.\n",
      "Set MJD-END to 58461.234242 from DATE-END'. [astropy.wcs.wcs]\n",
      "WARNING: FITSFixedWarning: 'datfix' made the change 'Set MJD-OBS to 58461.234241 from DATE-OBS.\n",
      "Set MJD-END to 58461.255074 from DATE-END'. [astropy.wcs.wcs]\n",
      "WARNING: FITSFixedWarning: 'datfix' made the change 'Set MJD-OBS to 58461.255074 from DATE-OBS.\n",
      "Set MJD-END to 58461.275907 from DATE-END'. [astropy.wcs.wcs]\n"
     ]
    },
    {
     "name": "stdout",
     "output_type": "stream",
     "text": [
      "Reading image 1024: /arc/home/mikea/.shifty_data/tess/5/1/4/tess2018343065937-s0005-1-4-0125-s_ffic.fits\r"
     ]
    },
    {
     "name": "stderr",
     "output_type": "stream",
     "text": [
      "WARNING: FITSFixedWarning: 'datfix' made the change 'Set MJD-OBS to 58461.275907 from DATE-OBS.\n",
      "Set MJD-END to 58461.296740 from DATE-END'. [astropy.wcs.wcs]\n",
      "WARNING: FITSFixedWarning: 'datfix' made the change 'Set MJD-OBS to 58461.296739 from DATE-OBS.\n",
      "Set MJD-END to 58461.317572 from DATE-END'. [astropy.wcs.wcs]\n",
      "WARNING: FITSFixedWarning: 'datfix' made the change 'Set MJD-OBS to 58461.317572 from DATE-OBS.\n",
      "Set MJD-END to 58461.338405 from DATE-END'. [astropy.wcs.wcs]\n"
     ]
    },
    {
     "name": "stdout",
     "output_type": "stream",
     "text": [
      "Reading image 1027: /arc/home/mikea/.shifty_data/tess/5/1/4/tess2018343082937-s0005-1-4-0125-s_ffic.fits\r"
     ]
    },
    {
     "name": "stderr",
     "output_type": "stream",
     "text": [
      "WARNING: FITSFixedWarning: 'datfix' made the change 'Set MJD-OBS to 58461.338404 from DATE-OBS.\n",
      "Set MJD-END to 58461.359238 from DATE-END'. [astropy.wcs.wcs]\n",
      "WARNING: FITSFixedWarning: 'datfix' made the change 'Set MJD-OBS to 58461.359237 from DATE-OBS.\n",
      "Set MJD-END to 58461.380070 from DATE-END'. [astropy.wcs.wcs]\n",
      "WARNING: FITSFixedWarning: 'datfix' made the change 'Set MJD-OBS to 58461.380070 from DATE-OBS.\n",
      "Set MJD-END to 58461.400903 from DATE-END'. [astropy.wcs.wcs]\n"
     ]
    },
    {
     "name": "stdout",
     "output_type": "stream",
     "text": [
      "Reading image 1030: /arc/home/mikea/.shifty_data/tess/5/1/4/tess2018343095937-s0005-1-4-0125-s_ffic.fits\r"
     ]
    },
    {
     "name": "stderr",
     "output_type": "stream",
     "text": [
      "WARNING: FITSFixedWarning: 'datfix' made the change 'Set MJD-OBS to 58461.400902 from DATE-OBS.\n",
      "Set MJD-END to 58461.421735 from DATE-END'. [astropy.wcs.wcs]\n",
      "WARNING: FITSFixedWarning: 'datfix' made the change 'Set MJD-OBS to 58461.421735 from DATE-OBS.\n",
      "Set MJD-END to 58461.442568 from DATE-END'. [astropy.wcs.wcs]\n",
      "WARNING: FITSFixedWarning: 'datfix' made the change 'Set MJD-OBS to 58461.442568 from DATE-OBS.\n",
      "Set MJD-END to 58461.463401 from DATE-END'. [astropy.wcs.wcs]\n"
     ]
    },
    {
     "name": "stdout",
     "output_type": "stream",
     "text": [
      "Reading image 1034: /arc/home/mikea/.shifty_data/tess/5/1/4/tess2018343115937-s0005-1-4-0125-s_ffic.fits\r"
     ]
    },
    {
     "name": "stderr",
     "output_type": "stream",
     "text": [
      "WARNING: FITSFixedWarning: 'datfix' made the change 'Set MJD-OBS to 58461.463400 from DATE-OBS.\n",
      "Set MJD-END to 58461.484233 from DATE-END'. [astropy.wcs.wcs]\n",
      "WARNING: FITSFixedWarning: 'datfix' made the change 'Set MJD-OBS to 58461.484233 from DATE-OBS.\n",
      "Set MJD-END to 58461.505066 from DATE-END'. [astropy.wcs.wcs]\n"
     ]
    },
    {
     "name": "stdout",
     "output_type": "stream",
     "text": [
      "Reading image 1037: /arc/home/mikea/.shifty_data/tess/5/1/4/tess2018343132937-s0005-1-4-0125-s_ffic.fits\r"
     ]
    },
    {
     "name": "stderr",
     "output_type": "stream",
     "text": [
      "WARNING: FITSFixedWarning: 'datfix' made the change 'Set MJD-OBS to 58461.505065 from DATE-OBS.\n",
      "Set MJD-END to 58461.525899 from DATE-END'. [astropy.wcs.wcs]\n",
      "WARNING: FITSFixedWarning: 'datfix' made the change 'Set MJD-OBS to 58461.525898 from DATE-OBS.\n",
      "Set MJD-END to 58461.546731 from DATE-END'. [astropy.wcs.wcs]\n",
      "WARNING: FITSFixedWarning: 'datfix' made the change 'Set MJD-OBS to 58461.546731 from DATE-OBS.\n",
      "Set MJD-END to 58461.567564 from DATE-END'. [astropy.wcs.wcs]\n"
     ]
    },
    {
     "name": "stdout",
     "output_type": "stream",
     "text": [
      "Reading image 1040: /arc/home/mikea/.shifty_data/tess/5/1/4/tess2018343145937-s0005-1-4-0125-s_ffic.fits\r"
     ]
    },
    {
     "name": "stderr",
     "output_type": "stream",
     "text": [
      "WARNING: FITSFixedWarning: 'datfix' made the change 'Set MJD-OBS to 58461.567563 from DATE-OBS.\n",
      "Set MJD-END to 58461.588396 from DATE-END'. [astropy.wcs.wcs]\n",
      "WARNING: FITSFixedWarning: 'datfix' made the change 'Set MJD-OBS to 58461.588396 from DATE-OBS.\n",
      "Set MJD-END to 58461.609229 from DATE-END'. [astropy.wcs.wcs]\n",
      "WARNING: FITSFixedWarning: 'datfix' made the change 'Set MJD-OBS to 58461.609228 from DATE-OBS.\n",
      "Set MJD-END to 58461.630062 from DATE-END'. [astropy.wcs.wcs]\n",
      "WARNING: FITSFixedWarning: 'datfix' made the change 'Set MJD-OBS to 58461.630061 from DATE-OBS.\n",
      "Set MJD-END to 58461.650894 from DATE-END'. [astropy.wcs.wcs]\n",
      "WARNING: FITSFixedWarning: 'datfix' made the change 'Set MJD-OBS to 58461.650894 from DATE-OBS.\n",
      "Set MJD-END to 58461.671727 from DATE-END'. [astropy.wcs.wcs]\n",
      "WARNING: FITSFixedWarning: 'datfix' made the change 'Set MJD-OBS to 58461.671726 from DATE-OBS.\n",
      "Set MJD-END to 58461.692559 from DATE-END'. [astropy.wcs.wcs]\n"
     ]
    },
    {
     "name": "stdout",
     "output_type": "stream",
     "text": [
      "Reading image 1045: /arc/home/mikea/.shifty_data/tess/5/1/4/tess2018343172937-s0005-1-4-0125-s_ffic.fits\r"
     ]
    },
    {
     "name": "stderr",
     "output_type": "stream",
     "text": [
      "WARNING: FITSFixedWarning: 'datfix' made the change 'Set MJD-OBS to 58461.692559 from DATE-OBS.\n",
      "Set MJD-END to 58461.713392 from DATE-END'. [astropy.wcs.wcs]\n",
      "WARNING: FITSFixedWarning: 'datfix' made the change 'Set MJD-OBS to 58461.713392 from DATE-OBS.\n",
      "Set MJD-END to 58461.734225 from DATE-END'. [astropy.wcs.wcs]\n"
     ]
    },
    {
     "name": "stdout",
     "output_type": "stream",
     "text": [
      "Reading image 1048: /arc/home/mikea/.shifty_data/tess/5/1/4/tess2018343185937-s0005-1-4-0125-s_ffic.fits\r"
     ]
    },
    {
     "name": "stderr",
     "output_type": "stream",
     "text": [
      "WARNING: FITSFixedWarning: 'datfix' made the change 'Set MJD-OBS to 58461.734224 from DATE-OBS.\n",
      "Set MJD-END to 58461.755057 from DATE-END'. [astropy.wcs.wcs]\n",
      "WARNING: FITSFixedWarning: 'datfix' made the change 'Set MJD-OBS to 58461.755057 from DATE-OBS.\n",
      "Set MJD-END to 58461.775890 from DATE-END'. [astropy.wcs.wcs]\n",
      "WARNING: FITSFixedWarning: 'datfix' made the change 'Set MJD-OBS to 58461.775889 from DATE-OBS.\n",
      "Set MJD-END to 58461.796722 from DATE-END'. [astropy.wcs.wcs]\n"
     ]
    },
    {
     "name": "stdout",
     "output_type": "stream",
     "text": [
      "Reading image 1051: /arc/home/mikea/.shifty_data/tess/5/1/4/tess2018343202937-s0005-1-4-0125-s_ffic.fits\r"
     ]
    },
    {
     "name": "stderr",
     "output_type": "stream",
     "text": [
      "WARNING: FITSFixedWarning: 'datfix' made the change 'Set MJD-OBS to 58461.796722 from DATE-OBS.\n",
      "Set MJD-END to 58461.817555 from DATE-END'. [astropy.wcs.wcs]\n",
      "WARNING: FITSFixedWarning: 'datfix' made the change 'Set MJD-OBS to 58461.817555 from DATE-OBS.\n",
      "Set MJD-END to 58461.838388 from DATE-END'. [astropy.wcs.wcs]\n",
      "WARNING: FITSFixedWarning: 'datfix' made the change 'Set MJD-OBS to 58461.838387 from DATE-OBS.\n",
      "Set MJD-END to 58461.859220 from DATE-END'. [astropy.wcs.wcs]\n",
      "WARNING: FITSFixedWarning: 'datfix' made the change 'Set MJD-OBS to 58461.859220 from DATE-OBS.\n",
      "Set MJD-END to 58461.880053 from DATE-END'. [astropy.wcs.wcs]\n"
     ]
    },
    {
     "name": "stdout",
     "output_type": "stream",
     "text": [
      "Reading image 1054: /arc/home/mikea/.shifty_data/tess/5/1/4/tess2018343215937-s0005-1-4-0125-s_ffic.fits\r"
     ]
    },
    {
     "name": "stderr",
     "output_type": "stream",
     "text": [
      "WARNING: FITSFixedWarning: 'datfix' made the change 'Set MJD-OBS to 58461.880052 from DATE-OBS.\n",
      "Set MJD-END to 58461.900885 from DATE-END'. [astropy.wcs.wcs]\n",
      "WARNING: FITSFixedWarning: 'datfix' made the change 'Set MJD-OBS to 58461.900885 from DATE-OBS.\n",
      "Set MJD-END to 58461.921718 from DATE-END'. [astropy.wcs.wcs]\n"
     ]
    },
    {
     "name": "stdout",
     "output_type": "stream",
     "text": [
      "Reading image 1057: /arc/home/mikea/.shifty_data/tess/5/1/4/tess2018343232937-s0005-1-4-0125-s_ffic.fits\r"
     ]
    },
    {
     "name": "stderr",
     "output_type": "stream",
     "text": [
      "WARNING: FITSFixedWarning: 'datfix' made the change 'Set MJD-OBS to 58461.921718 from DATE-OBS.\n",
      "Set MJD-END to 58461.942551 from DATE-END'. [astropy.wcs.wcs]\n",
      "WARNING: FITSFixedWarning: 'datfix' made the change 'Set MJD-OBS to 58461.942550 from DATE-OBS.\n",
      "Set MJD-END to 58461.963383 from DATE-END'. [astropy.wcs.wcs]\n",
      "WARNING: FITSFixedWarning: 'datfix' made the change 'Set MJD-OBS to 58461.963383 from DATE-OBS.\n",
      "Set MJD-END to 58461.984216 from DATE-END'. [astropy.wcs.wcs]\n"
     ]
    },
    {
     "name": "stdout",
     "output_type": "stream",
     "text": [
      "Reading image 1060: /arc/home/mikea/.shifty_data/tess/5/1/4/tess2018344005937-s0005-1-4-0125-s_ffic.fits\r"
     ]
    },
    {
     "name": "stderr",
     "output_type": "stream",
     "text": [
      "WARNING: FITSFixedWarning: 'datfix' made the change 'Set MJD-OBS to 58461.984215 from DATE-OBS.\n",
      "Set MJD-END to 58462.005048 from DATE-END'. [astropy.wcs.wcs]\n",
      "WARNING: FITSFixedWarning: 'datfix' made the change 'Set MJD-OBS to 58462.005048 from DATE-OBS.\n",
      "Set MJD-END to 58462.025881 from DATE-END'. [astropy.wcs.wcs]\n",
      "WARNING: FITSFixedWarning: 'datfix' made the change 'Set MJD-OBS to 58462.025881 from DATE-OBS.\n",
      "Set MJD-END to 58462.046714 from DATE-END'. [astropy.wcs.wcs]\n"
     ]
    },
    {
     "name": "stdout",
     "output_type": "stream",
     "text": [
      "Reading image 1062: /arc/home/mikea/.shifty_data/tess/5/1/4/tess2018344015937-s0005-1-4-0125-s_ffic.fits\r"
     ]
    },
    {
     "name": "stderr",
     "output_type": "stream",
     "text": [
      "WARNING: FITSFixedWarning: 'datfix' made the change 'Set MJD-OBS to 58462.046713 from DATE-OBS.\n",
      "Set MJD-END to 58462.067546 from DATE-END'. [astropy.wcs.wcs]\n",
      "WARNING: FITSFixedWarning: 'datfix' made the change 'Set MJD-OBS to 58462.067546 from DATE-OBS.\n",
      "Set MJD-END to 58462.088379 from DATE-END'. [astropy.wcs.wcs]\n",
      "WARNING: FITSFixedWarning: 'datfix' made the change 'Set MJD-OBS to 58462.088378 from DATE-OBS.\n",
      "Set MJD-END to 58462.109211 from DATE-END'. [astropy.wcs.wcs]\n"
     ]
    },
    {
     "name": "stdout",
     "output_type": "stream",
     "text": [
      "Reading image 1065: /arc/home/mikea/.shifty_data/tess/5/1/4/tess2018344032937-s0005-1-4-0125-s_ffic.fits\r"
     ]
    },
    {
     "name": "stderr",
     "output_type": "stream",
     "text": [
      "WARNING: FITSFixedWarning: 'datfix' made the change 'Set MJD-OBS to 58462.109211 from DATE-OBS.\n",
      "Set MJD-END to 58462.130044 from DATE-END'. [astropy.wcs.wcs]\n",
      "WARNING: FITSFixedWarning: 'datfix' made the change 'Set MJD-OBS to 58462.130044 from DATE-OBS.\n",
      "Set MJD-END to 58462.150877 from DATE-END'. [astropy.wcs.wcs]\n",
      "WARNING: FITSFixedWarning: 'datfix' made the change 'Set MJD-OBS to 58462.150876 from DATE-OBS.\n",
      "Set MJD-END to 58462.171709 from DATE-END'. [astropy.wcs.wcs]\n"
     ]
    },
    {
     "name": "stdout",
     "output_type": "stream",
     "text": [
      "Reading image 1067: /arc/home/mikea/.shifty_data/tess/5/1/4/tess2018344042937-s0005-1-4-0125-s_ffic.fits\r"
     ]
    },
    {
     "name": "stderr",
     "output_type": "stream",
     "text": [
      "WARNING: FITSFixedWarning: 'datfix' made the change 'Set MJD-OBS to 58462.171709 from DATE-OBS.\n",
      "Set MJD-END to 58462.192542 from DATE-END'. [astropy.wcs.wcs]\n",
      "WARNING: FITSFixedWarning: 'datfix' made the change 'Set MJD-OBS to 58462.192541 from DATE-OBS.\n",
      "Set MJD-END to 58462.213374 from DATE-END'. [astropy.wcs.wcs]\n",
      "WARNING: FITSFixedWarning: 'datfix' made the change 'Set MJD-OBS to 58462.213374 from DATE-OBS.\n",
      "Set MJD-END to 58462.234207 from DATE-END'. [astropy.wcs.wcs]\n"
     ]
    },
    {
     "name": "stdout",
     "output_type": "stream",
     "text": [
      "Reading image 1070: /arc/home/mikea/.shifty_data/tess/5/1/4/tess2018344055937-s0005-1-4-0125-s_ffic.fits\r"
     ]
    },
    {
     "name": "stderr",
     "output_type": "stream",
     "text": [
      "WARNING: FITSFixedWarning: 'datfix' made the change 'Set MJD-OBS to 58462.234207 from DATE-OBS.\n",
      "Set MJD-END to 58462.255040 from DATE-END'. [astropy.wcs.wcs]\n",
      "WARNING: FITSFixedWarning: 'datfix' made the change 'Set MJD-OBS to 58462.255039 from DATE-OBS.\n",
      "Set MJD-END to 58462.275872 from DATE-END'. [astropy.wcs.wcs]\n",
      "WARNING: FITSFixedWarning: 'datfix' made the change 'Set MJD-OBS to 58462.275872 from DATE-OBS.\n",
      "Set MJD-END to 58462.296705 from DATE-END'. [astropy.wcs.wcs]\n"
     ]
    },
    {
     "name": "stdout",
     "output_type": "stream",
     "text": [
      "Reading image 1073: /arc/home/mikea/.shifty_data/tess/5/1/4/tess2018344072937-s0005-1-4-0125-s_ffic.fits\r"
     ]
    },
    {
     "name": "stderr",
     "output_type": "stream",
     "text": [
      "WARNING: FITSFixedWarning: 'datfix' made the change 'Set MJD-OBS to 58462.296704 from DATE-OBS.\n",
      "Set MJD-END to 58462.317537 from DATE-END'. [astropy.wcs.wcs]\n",
      "WARNING: FITSFixedWarning: 'datfix' made the change 'Set MJD-OBS to 58462.317537 from DATE-OBS.\n",
      "Set MJD-END to 58462.338370 from DATE-END'. [astropy.wcs.wcs]\n"
     ]
    },
    {
     "name": "stdout",
     "output_type": "stream",
     "text": [
      "Reading image 1075: /arc/home/mikea/.shifty_data/tess/5/1/4/tess2018344082937-s0005-1-4-0125-s_ffic.fits\r"
     ]
    },
    {
     "name": "stderr",
     "output_type": "stream",
     "text": [
      "WARNING: FITSFixedWarning: 'datfix' made the change 'Set MJD-OBS to 58462.338369 from DATE-OBS.\n",
      "Set MJD-END to 58462.359203 from DATE-END'. [astropy.wcs.wcs]\n"
     ]
    },
    {
     "name": "stdout",
     "output_type": "stream",
     "text": [
      "Reading image 1077: /arc/home/mikea/.shifty_data/tess/5/1/4/tess2018344092937-s0005-1-4-0125-s_ffic.fits\r"
     ]
    },
    {
     "name": "stderr",
     "output_type": "stream",
     "text": [
      "WARNING: FITSFixedWarning: 'datfix' made the change 'Set MJD-OBS to 58462.359202 from DATE-OBS.\n",
      "Set MJD-END to 58462.380035 from DATE-END'. [astropy.wcs.wcs]\n",
      "WARNING: FITSFixedWarning: 'datfix' made the change 'Set MJD-OBS to 58462.380035 from DATE-OBS.\n",
      "Set MJD-END to 58462.400868 from DATE-END'. [astropy.wcs.wcs]\n",
      "WARNING: FITSFixedWarning: 'datfix' made the change 'Set MJD-OBS to 58462.400867 from DATE-OBS.\n",
      "Set MJD-END to 58462.421700 from DATE-END'. [astropy.wcs.wcs]\n"
     ]
    },
    {
     "name": "stdout",
     "output_type": "stream",
     "text": [
      "Reading image 1080: /arc/home/mikea/.shifty_data/tess/5/1/4/tess2018344105937-s0005-1-4-0125-s_ffic.fits\r"
     ]
    },
    {
     "name": "stderr",
     "output_type": "stream",
     "text": [
      "WARNING: FITSFixedWarning: 'datfix' made the change 'Set MJD-OBS to 58462.421700 from DATE-OBS.\n",
      "Set MJD-END to 58462.442533 from DATE-END'. [astropy.wcs.wcs]\n",
      "WARNING: FITSFixedWarning: 'datfix' made the change 'Set MJD-OBS to 58462.442532 from DATE-OBS.\n",
      "Set MJD-END to 58462.463365 from DATE-END'. [astropy.wcs.wcs]\n",
      "WARNING: FITSFixedWarning: 'datfix' made the change 'Set MJD-OBS to 58462.463365 from DATE-OBS.\n",
      "Set MJD-END to 58462.484198 from DATE-END'. [astropy.wcs.wcs]\n"
     ]
    },
    {
     "name": "stdout",
     "output_type": "stream",
     "text": [
      "Reading image 1082: /arc/home/mikea/.shifty_data/tess/5/1/4/tess2018344115937-s0005-1-4-0125-s_ffic.fits\r"
     ]
    },
    {
     "name": "stderr",
     "output_type": "stream",
     "text": [
      "WARNING: FITSFixedWarning: 'datfix' made the change 'Set MJD-OBS to 58462.484198 from DATE-OBS.\n",
      "Set MJD-END to 58462.505031 from DATE-END'. [astropy.wcs.wcs]\n",
      "WARNING: FITSFixedWarning: 'datfix' made the change 'Set MJD-OBS to 58462.505030 from DATE-OBS.\n",
      "Set MJD-END to 58462.525863 from DATE-END'. [astropy.wcs.wcs]\n",
      "WARNING: FITSFixedWarning: 'datfix' made the change 'Set MJD-OBS to 58462.525863 from DATE-OBS.\n",
      "Set MJD-END to 58462.546696 from DATE-END'. [astropy.wcs.wcs]\n"
     ]
    },
    {
     "name": "stdout",
     "output_type": "stream",
     "text": [
      "Reading image 1085: /arc/home/mikea/.shifty_data/tess/5/1/4/tess2018344132937-s0005-1-4-0125-s_ffic.fits\r"
     ]
    },
    {
     "name": "stderr",
     "output_type": "stream",
     "text": [
      "WARNING: FITSFixedWarning: 'datfix' made the change 'Set MJD-OBS to 58462.546695 from DATE-OBS.\n",
      "Set MJD-END to 58462.567528 from DATE-END'. [astropy.wcs.wcs]\n",
      "WARNING: FITSFixedWarning: 'datfix' made the change 'Set MJD-OBS to 58462.567528 from DATE-OBS.\n",
      "Set MJD-END to 58462.588361 from DATE-END'. [astropy.wcs.wcs]\n",
      "WARNING: FITSFixedWarning: 'datfix' made the change 'Set MJD-OBS to 58462.588360 from DATE-OBS.\n",
      "Set MJD-END to 58462.609194 from DATE-END'. [astropy.wcs.wcs]\n"
     ]
    },
    {
     "name": "stdout",
     "output_type": "stream",
     "text": [
      "Reading image 1088: /arc/home/mikea/.shifty_data/tess/5/1/4/tess2018344145937-s0005-1-4-0125-s_ffic.fits\r"
     ]
    },
    {
     "name": "stderr",
     "output_type": "stream",
     "text": [
      "WARNING: FITSFixedWarning: 'datfix' made the change 'Set MJD-OBS to 58462.609193 from DATE-OBS.\n",
      "Set MJD-END to 58462.630026 from DATE-END'. [astropy.wcs.wcs]\n",
      "WARNING: FITSFixedWarning: 'datfix' made the change 'Set MJD-OBS to 58462.630026 from DATE-OBS.\n",
      "Set MJD-END to 58462.650859 from DATE-END'. [astropy.wcs.wcs]\n",
      "WARNING: FITSFixedWarning: 'datfix' made the change 'Set MJD-OBS to 58462.650858 from DATE-OBS.\n",
      "Set MJD-END to 58462.671691 from DATE-END'. [astropy.wcs.wcs]\n"
     ]
    },
    {
     "name": "stdout",
     "output_type": "stream",
     "text": [
      "Reading image 1093: /arc/home/mikea/.shifty_data/tess/5/1/4/tess2018344172937-s0005-1-4-0125-s_ffic.fits\r"
     ]
    },
    {
     "name": "stderr",
     "output_type": "stream",
     "text": [
      "WARNING: FITSFixedWarning: 'datfix' made the change 'Set MJD-OBS to 58462.671691 from DATE-OBS.\n",
      "Set MJD-END to 58462.692524 from DATE-END'. [astropy.wcs.wcs]\n",
      "WARNING: FITSFixedWarning: 'datfix' made the change 'Set MJD-OBS to 58462.692523 from DATE-OBS.\n",
      "Set MJD-END to 58462.713356 from DATE-END'. [astropy.wcs.wcs]\n",
      "WARNING: FITSFixedWarning: 'datfix' made the change 'Set MJD-OBS to 58462.713356 from DATE-OBS.\n",
      "Set MJD-END to 58462.734189 from DATE-END'. [astropy.wcs.wcs]\n"
     ]
    },
    {
     "name": "stdout",
     "output_type": "stream",
     "text": [
      "Reading image 1096: /arc/home/mikea/.shifty_data/tess/5/1/4/tess2018344185937-s0005-1-4-0125-s_ffic.fits\r"
     ]
    },
    {
     "name": "stderr",
     "output_type": "stream",
     "text": [
      "WARNING: FITSFixedWarning: 'datfix' made the change 'Set MJD-OBS to 58462.734189 from DATE-OBS.\n",
      "Set MJD-END to 58462.755022 from DATE-END'. [astropy.wcs.wcs]\n",
      "WARNING: FITSFixedWarning: 'datfix' made the change 'Set MJD-OBS to 58462.755021 from DATE-OBS.\n",
      "Set MJD-END to 58462.775854 from DATE-END'. [astropy.wcs.wcs]\n",
      "WARNING: FITSFixedWarning: 'datfix' made the change 'Set MJD-OBS to 58462.775854 from DATE-OBS.\n",
      "Set MJD-END to 58462.796687 from DATE-END'. [astropy.wcs.wcs]\n"
     ]
    },
    {
     "name": "stdout",
     "output_type": "stream",
     "text": [
      "Reading image 1099: /arc/home/mikea/.shifty_data/tess/5/1/4/tess2018344202937-s0005-1-4-0125-s_ffic.fits\r"
     ]
    },
    {
     "name": "stderr",
     "output_type": "stream",
     "text": [
      "WARNING: FITSFixedWarning: 'datfix' made the change 'Set MJD-OBS to 58462.796686 from DATE-OBS.\n",
      "Set MJD-END to 58462.817519 from DATE-END'. [astropy.wcs.wcs]\n",
      "WARNING: FITSFixedWarning: 'datfix' made the change 'Set MJD-OBS to 58462.817519 from DATE-OBS.\n",
      "Set MJD-END to 58462.838352 from DATE-END'. [astropy.wcs.wcs]\n",
      "WARNING: FITSFixedWarning: 'datfix' made the change 'Set MJD-OBS to 58462.838351 from DATE-OBS.\n",
      "Set MJD-END to 58462.859185 from DATE-END'. [astropy.wcs.wcs]\n"
     ]
    },
    {
     "name": "stdout",
     "output_type": "stream",
     "text": [
      "Reading image 1101: /arc/home/mikea/.shifty_data/tess/5/1/4/tess2018344212937-s0005-1-4-0125-s_ffic.fits\r"
     ]
    },
    {
     "name": "stderr",
     "output_type": "stream",
     "text": [
      "WARNING: FITSFixedWarning: 'datfix' made the change 'Set MJD-OBS to 58462.859184 from DATE-OBS.\n",
      "Set MJD-END to 58462.880017 from DATE-END'. [astropy.wcs.wcs]\n",
      "WARNING: FITSFixedWarning: 'datfix' made the change 'Set MJD-OBS to 58462.880017 from DATE-OBS.\n",
      "Set MJD-END to 58462.900850 from DATE-END'. [astropy.wcs.wcs]\n"
     ]
    },
    {
     "name": "stdout",
     "output_type": "stream",
     "text": [
      "Reading image 1104: /arc/home/mikea/.shifty_data/tess/5/1/4/tess2018344225937-s0005-1-4-0125-s_ffic.fits\r"
     ]
    },
    {
     "name": "stderr",
     "output_type": "stream",
     "text": [
      "WARNING: FITSFixedWarning: 'datfix' made the change 'Set MJD-OBS to 58462.900849 from DATE-OBS.\n",
      "Set MJD-END to 58462.921682 from DATE-END'. [astropy.wcs.wcs]\n",
      "WARNING: FITSFixedWarning: 'datfix' made the change 'Set MJD-OBS to 58462.921682 from DATE-OBS.\n",
      "Set MJD-END to 58462.942515 from DATE-END'. [astropy.wcs.wcs]\n",
      "WARNING: FITSFixedWarning: 'datfix' made the change 'Set MJD-OBS to 58462.942514 from DATE-OBS.\n",
      "Set MJD-END to 58462.963347 from DATE-END'. [astropy.wcs.wcs]\n"
     ]
    },
    {
     "name": "stdout",
     "output_type": "stream",
     "text": [
      "Reading image 1106: /arc/home/mikea/.shifty_data/tess/5/1/4/tess2018344235937-s0005-1-4-0125-s_ffic.fits\r"
     ]
    },
    {
     "name": "stderr",
     "output_type": "stream",
     "text": [
      "WARNING: FITSFixedWarning: 'datfix' made the change 'Set MJD-OBS to 58462.963347 from DATE-OBS.\n",
      "Set MJD-END to 58462.984180 from DATE-END'. [astropy.wcs.wcs]\n",
      "WARNING: FITSFixedWarning: 'datfix' made the change 'Set MJD-OBS to 58462.984180 from DATE-OBS.\n",
      "Set MJD-END to 58463.005013 from DATE-END'. [astropy.wcs.wcs]\n"
     ]
    },
    {
     "name": "stdout",
     "output_type": "stream",
     "text": [
      "Reading image 1107: /arc/home/mikea/.shifty_data/tess/5/1/4/tess2018345002937-s0005-1-4-0125-s_ffic.fits\n",
      "Read 1108 files!\n"
     ]
    },
    {
     "name": "stderr",
     "output_type": "stream",
     "text": [
      "WARNING: FITSFixedWarning: 'datfix' made the change 'Set MJD-OBS to 58463.005012 from DATE-OBS.\n",
      "Set MJD-END to 58463.025845 from DATE-END'. [astropy.wcs.wcs]\n",
      "WARNING: FITSFixedWarning: 'datfix' made the change 'Set MJD-OBS to 58463.025845 from DATE-OBS.\n",
      "Set MJD-END to 58463.046678 from DATE-END'. [astropy.wcs.wcs]\n"
     ]
    }
   ],
   "source": [
    "import importlib\n",
    "importlib.reload(imagehandler)\n",
    "D=imagehandler.DataHandler(filenames, extno=1, EXPTIME='EXPOSURE', EXPUNIT='d', MAGZERO=18.,\n",
    "                           MJD_START='BJDREFI+TSTART+-2400000.5', GAIN='GAINA', FILTER='-Tess', verbose=False\n",
    "                           , xycuts=[1000, 1250, 1400, 1700])"
   ]
  },
  {
   "cell_type": "code",
   "execution_count": 8,
   "metadata": {},
   "outputs": [],
   "source": [
    "times=[]\n",
    "raw_flux=[]\n",
    "times_tess=[]\n",
    "for i, d in enumerate(D.image_data.header):\n",
    "    raw_flux.append(np.nanmedian(D.image_data.data[i]))\n",
    "    times.append(d['SHIFTY_MJD_MID'])\n",
    "    times_tess.append(d['TSTART'])\n",
    "    if d['DQUALITY']!=0:\n",
    "        print(i, d['DQUALITY'])"
   ]
  },
  {
   "cell_type": "code",
   "execution_count": 10,
   "metadata": {},
   "outputs": [
    {
     "data": {
      "text/plain": [
       "[<matplotlib.lines.Line2D at 0x7efc2af23520>]"
      ]
     },
     "execution_count": 10,
     "metadata": {},
     "output_type": "execute_result"
    },
    {
     "data": {
      "image/png": "[encoded data removed]",
      "text/plain": [
       "<Figure size 432x288 with 1 Axes>"
      ]
     },
     "metadata": {
      "needs_background": "light"
     },
     "output_type": "display_data"
    }
   ],
   "source": [
    "plt.plot(times, raw_flux, '.')"
   ]
  },
  {
   "cell_type": "code",
   "execution_count": 11,
   "metadata": {},
   "outputs": [],
   "source": [
    "def get_sedna_shifts(tvals):\n",
    "    x, y = [], []\n",
    "    ralist, declist = [], []\n",
    "    times = []\n",
    "    for i in range(len(tvals)):\n",
    "        jd = 2457000 + tvals[i]\n",
    "        ra, dec = known.Known()._interpolate_radec_for_sedna(jd)\n",
    "        crd = SkyCoord(ra, dec, unit='deg')\n",
    "        #pixel = WCS(hdr).world_to_pixel(crd)\n",
    "        #x.append(int(pixel[0]))\n",
    "        #y.append(int(pixel[1]))\n",
    "        ralist.append(ra)\n",
    "        declist.append(dec)\n",
    "        times.append(jd)\n",
    "    return np.array(tuple(zip(x, y))), np.array(tuple(zip(ralist, declist))), times\n",
    "\n",
    "def get_101_shifts(tvals):\n",
    "    x, y = [], []\n",
    "    ralist, declist = [], []\n",
    "    times = []\n",
    "    for i in range(len(tvals)):\n",
    "        jd = 2457000 + tvals[i]\n",
    "        ra, dec = known.Known()._interpolate_radec_for_101583(jd)\n",
    "        crd = SkyCoord(ra, dec, unit='deg')\n",
    "        #pixel = WCS(hdr).world_to_pixel(crd)\n",
    "        #x.append(int(pixel[0]))\n",
    "        #y.append(int(pixel[1]))\n",
    "        ralist.append(ra)\n",
    "        declist.append(dec)\n",
    "        times.append(jd)\n",
    "    return np.array(tuple(zip(x, y))), np.array(tuple(zip(ralist, declist))), times"
   ]
  },
  {
   "cell_type": "markdown",
   "metadata": {},
   "source": [
    "let's get predicted RA and Dec for Sedna at each cadence"
   ]
  },
  {
   "cell_type": "code",
   "execution_count": 12,
   "metadata": {},
   "outputs": [],
   "source": [
    "_, locs, t_vals = get_sedna_shifts(times_tess)"
   ]
  },
  {
   "cell_type": "code",
   "execution_count": 13,
   "metadata": {},
   "outputs": [
    {
     "data": {
      "text/plain": [
       "array([57.05143316,  7.63595899])"
      ]
     },
     "execution_count": 13,
     "metadata": {},
     "output_type": "execute_result"
    }
   ],
   "source": [
    "locs[300]"
   ]
  },
  {
   "cell_type": "code",
   "execution_count": 14,
   "metadata": {},
   "outputs": [],
   "source": [
    "from tqdm import tnrange"
   ]
  },
  {
   "cell_type": "markdown",
   "metadata": {},
   "source": [
    "And then we'll use WCS tools to convert these coordinates at each cadence to a pixel position at each cadence."
   ]
  },
  {
   "cell_type": "code",
   "execution_count": 15,
   "metadata": {},
   "outputs": [],
   "source": [
    "x, y = [], []\n",
    "\n",
    "for j, W in enumerate(D.image_data.WCS):\n",
    "    ra = locs[j, 0]\n",
    "    dec = locs[j, 1]\n",
    "    outColPix, outRowPix = W.all_world2pix(ra, dec, 0)\n",
    "    x.append(outColPix)\n",
    "    y.append(outRowPix)\n",
    "    "
   ]
  },
  {
   "cell_type": "code",
   "execution_count": 16,
   "metadata": {},
   "outputs": [
    {
     "data": {
      "text/plain": [
       "[<matplotlib.lines.Line2D at 0x7efc26b3c1f0>]"
      ]
     },
     "execution_count": 16,
     "metadata": {},
     "output_type": "execute_result"
    },
    {
     "data": {
      "image/png": "[encoded data removed]",
      "text/plain": [
       "<Figure size 432x288 with 1 Axes>"
      ]
     },
     "metadata": {
      "needs_background": "light"
     },
     "output_type": "display_data"
    }
   ],
   "source": [
    "plt.plot(x,y, '.')"
   ]
  },
  {
   "cell_type": "code",
   "execution_count": 17,
   "metadata": {},
   "outputs": [
    {
     "data": {
      "text/plain": [
       "[<matplotlib.lines.Line2D at 0x7efc26a90a00>]"
      ]
     },
     "execution_count": 17,
     "metadata": {},
     "output_type": "execute_result"
    },
    {
     "data": {
      "image/png": "[encoded data removed]",
      "text/plain": [
       "<Figure size 432x288 with 1 Axes>"
      ]
     },
     "metadata": {
      "needs_background": "light"
     },
     "output_type": "display_data"
    }
   ],
   "source": [
    "plt.plot(x,y, '.') # Old"
   ]
  },
  {
   "cell_type": "code",
   "execution_count": 18,
   "metadata": {},
   "outputs": [],
   "source": [
    "from astropy.io import fits"
   ]
  },
  {
   "cell_type": "markdown",
   "metadata": {},
   "source": [
    "And then let's use it. At each cadence, draw a 27x27 region from the postcard centered on the expected position of Sedna. We'll subtract off the median of the 100 cadences on either side of the postcard frame to use as a median model of what the stars are doing. Then stack up these shifted frames. For coding convenience/laziness I'm only selecting the region when this entire TPF would fall onto the postcard, and excluding the first and last 100 frames for median calculations, but there's no reason we couldn't do both of those more properly.\n",
    "\n",
    "We could also pre-compute the median frames and do that calculation much more quickly than I'm doing it here.\n",
    "\n",
    "It would also be good to split up the two orbits, right now the last 100 frames of the first orbit include median information from the first 100 cadences of the second orbit, where we know the pointing is different."
   ]
  },
  {
   "cell_type": "code",
   "execution_count": 19,
   "metadata": {},
   "outputs": [
    {
     "name": "stderr",
     "output_type": "stream",
     "text": [
      "/tmp/ipykernel_843/474936889.py:5: TqdmDeprecationWarning: Please use `tqdm.notebook.trange` instead of `tqdm.tnrange`\n",
      "  for i in tnrange(100, size-100):\n"
     ]
    },
    {
     "data": {
      "application/vnd.jupyter.widget-view+json": {
       "model_id": "4704a45c29274fbe9b701e7c553e4bef",
       "version_major": 2,
       "version_minor": 0
      },
      "text/plain": [
       "  0%|          | 0/908 [00:00<?, ?it/s]"
      ]
     },
     "metadata": {},
     "output_type": "display_data"
    }
   ],
   "source": [
    "size = len(D.image_data.data)\n",
    "runmed = np.zeros(D.image_data.data.shape)\n",
    "output = np.zeros((size, 53, 53))\n",
    "\n",
    "for i in tnrange(100, size-100):\n",
    "\n",
    "    a1 = int(np.round((x[i]), 0))  # What is the +148/2 about?\n",
    "    a2 = int(np.round((y[i]), 0))   # What is the +104/2 about?\n",
    "    #print(a1, a2)\n",
    "    \n",
    "    if ((a1 > 27) and (a2 > 27)):  \n",
    "        #print(i)\n",
    "        runmed[i] = np.nanmedian(D.image_data.data[i-100:i+100], axis=(0))\n",
    "        medsub = D.image_data.data[i] - runmed[i]\n",
    "\n",
    "        #plt.clf()\n",
    "        #plt.imshow(medsub, vmin=-1, vmax=1, origin='lower')\n",
    "        #plt.plot(a1,a2, 'rx', alpha=0.9, markersize=16)\n",
    "        #print(a1, a2)\n",
    "        #plt.savefig('frames/%04i.png'%i)\n",
    "        output[i] = medsub[a2-26:a2+27, a1-26:a1+27]\n",
    "        #output[i] = medsub\n",
    "        #output[i] = a[2].data[q][i,a2-26:a2+27, a1-26:a1+27] \n",
    "        #bkgput[i] = bkg_[1].data[q][i,a1-26:a1+27, a2-26:a2+27]"
   ]
  },
  {
   "cell_type": "code",
   "execution_count": 20,
   "metadata": {},
   "outputs": [
    {
     "name": "stdout",
     "output_type": "stream",
     "text": [
      " data shape  (1108, 250, 300)\n",
      " output shape  (1108, 53, 53)\n",
      " runmed shape  (1108, 250, 300)\n",
      " output-sum  278175.14193725586\n",
      " runmed-sum  13553134392.376923\n"
     ]
    }
   ],
   "source": [
    "print(' data shape ', D.image_data.data.shape)\n",
    "print(' output shape ', output.shape)\n",
    "print(' runmed shape ', runmed.shape)\n",
    "print( ' output-sum ' ,np.sum(output))\n",
    "print( ' runmed-sum ' ,np.sum(runmed))\n"
   ]
  },
  {
   "cell_type": "markdown",
   "metadata": {},
   "source": [
    "Do we see Sedna?"
   ]
  },
  {
   "cell_type": "code",
   "execution_count": 47,
   "metadata": {},
   "outputs": [
    {
     "name": "stdout",
     "output_type": "stream",
     "text": [
      "flux1 shape  (275, 53, 53)\n",
      "  flux1 min, max  -71.050048828125 85.4345703125\n",
      "   flux1 sum  275347.8713684082\n",
      "outvar1    shape  (53, 53)\n",
      "outvar1 min, max  -5.847707186612216 7.7277834805575285\n",
      " outvar1 sum  1001.2649867942116\n"
     ]
    },
    {
     "data": {
      "image/png": "[encoded data removed]",
      "text/plain": [
       "<Figure size 432x288 with 2 Axes>"
      ]
     },
     "metadata": {
      "needs_background": "light"
     },
     "output_type": "display_data"
    }
   ],
   "source": [
    "flux0 = output[0:275] #- bkgput[150:500] +0.0 #+ bkgput[50:500]\n",
    "outvar0 = np.nanmean(flux0, axis=(0))\n",
    "\n",
    "flux1 = output[275:550] #- bkgput[150:500] +0.0 #+ bkgput[50:500]\n",
    "outvar1 = np.nanmean(flux1, axis=(0))\n",
    "\n",
    "flux2 = output[550:825] #- bkgput[800:1100] +0.0 #+ bkgput[700:1100]\n",
    "outvar2 = np.nanmean(flux2, axis=(0))\n",
    "\n",
    "flux3 = output[825:1100] #- bkgput[800:1100] +0.0 #+ bkgput[700:1100]\n",
    "outvar3 = np.nanmean(flux3, axis=(0))\n",
    "\n",
    "#outvar = outvar1 + outvar2\n",
    "\n",
    "outvar = np.nanmean(output, axis=(0))\n",
    "\n",
    "\n",
    "plt.imshow(outvar, vmin=-0.03, vmax=0.3, origin='lower')\n",
    "\n",
    "plt.plot(26,26, 'rx', alpha=0.9, markersize=16)\n",
    "\n",
    "plt.colorbar()\n",
    "\n",
    "print('flux1 shape ',      flux1.shape)\n",
    "print('  flux1 min, max ', np.min(flux1) , np.max(flux1))\n",
    "print('   flux1 sum ',      np.sum(flux1) )\n",
    "print('outvar1    shape ', outvar1.shape)\n",
    "print('outvar1 min, max ', np.min(outvar1) , np.max(outvar1))\n",
    "print(' outvar1 sum ',      np.sum(outvar1) )\n"
   ]
  },
  {
   "cell_type": "markdown",
   "metadata": {},
   "source": [
    "Oh shit we do! And it's not a systematic like a cosmic ray, if we chunk the first and second half of the data we see it in each."
   ]
  },
  {
   "cell_type": "code",
   "execution_count": 48,
   "metadata": {},
   "outputs": [
    {
     "data": {
      "image/png": "[encoded data removed]",
      "text/plain": [
       "<Figure size 432x288 with 1 Axes>"
      ]
     },
     "metadata": {
      "needs_background": "light"
     },
     "output_type": "display_data"
    },
    {
     "data": {
      "image/png": "[encoded data removed]",
      "text/plain": [
       "<Figure size 432x288 with 1 Axes>"
      ]
     },
     "metadata": {
      "needs_background": "light"
     },
     "output_type": "display_data"
    },
    {
     "data": {
      "image/png": "[encoded data removed]",
      "text/plain": [
       "<Figure size 432x288 with 1 Axes>"
      ]
     },
     "metadata": {
      "needs_background": "light"
     },
     "output_type": "display_data"
    },
    {
     "data": {
      "image/png": "[encoded data removed]",
      "text/plain": [
       "<Figure size 432x288 with 1 Axes>"
      ]
     },
     "metadata": {
      "needs_background": "light"
     },
     "output_type": "display_data"
    },
    {
     "data": {
      "image/png": "[encoded data removed]",
      "text/plain": [
       "<Figure size 432x288 with 1 Axes>"
      ]
     },
     "metadata": {
      "needs_background": "light"
     },
     "output_type": "display_data"
    }
   ],
   "source": [
    "plt.imshow(outvar[15:38,15:38], vmin=-0.03, vmax=0.3)\n",
    "plt.show()\n",
    "plt.imshow(outvar0[15:38,15:38], vmin=-0.03, vmax=0.3)\n",
    "plt.show()\n",
    "plt.imshow(outvar1[15:38,15:38], vmin=-0.03, vmax=0.3)\n",
    "plt.show()\n",
    "plt.imshow(outvar2[15:38,15:38], vmin=-0.03, vmax=0.3)\n",
    "plt.show()\n",
    "plt.imshow(outvar3[15:38,15:38], vmin=-0.03, vmax=0.3)\n",
    "plt.show()"
   ]
  },
  {
   "cell_type": "code",
   "execution_count": 49,
   "metadata": {},
   "outputs": [
    {
     "data": {
      "image/png": "[encoded data removed]",
      "text/plain": [
       "<Figure size 432x288 with 1 Axes>"
      ]
     },
     "metadata": {
      "needs_background": "light"
     },
     "output_type": "display_data"
    },
    {
     "data": {
      "image/png": "[encoded data removed]",
      "text/plain": [
       "<Figure size 432x288 with 1 Axes>"
      ]
     },
     "metadata": {
      "needs_background": "light"
     },
     "output_type": "display_data"
    },
    {
     "data": {
      "image/png": "[encoded data removed]",
      "text/plain": [
       "<Figure size 432x288 with 1 Axes>"
      ]
     },
     "metadata": {
      "needs_background": "light"
     },
     "output_type": "display_data"
    },
    {
     "data": {
      "image/png": "[encoded data removed]",
      "text/plain": [
       "<Figure size 432x288 with 1 Axes>"
      ]
     },
     "metadata": {
      "needs_background": "light"
     },
     "output_type": "display_data"
    },
    {
     "data": {
      "image/png": "[encoded data removed]",
      "text/plain": [
       "<Figure size 432x288 with 1 Axes>"
      ]
     },
     "metadata": {
      "needs_background": "light"
     },
     "output_type": "display_data"
    }
   ],
   "source": [
    "from matplotlib.colors import LogNorm\n",
    "plt.imshow(outvar[15:38,15:38]+1, origin='lower', cmap='gray',norm=LogNorm())\n",
    "plt.show()\n",
    "plt.imshow(outvar0[15:38,15:38]+1, origin='lower', cmap='gray',norm=LogNorm())\n",
    "plt.show()\n",
    "plt.imshow(outvar1[15:38,15:38]+1, origin='lower', cmap='gray',norm=LogNorm())\n",
    "plt.show()\n",
    "plt.imshow(outvar2[15:38,15:38]+1, origin='lower', cmap='gray',norm=LogNorm())\n",
    "plt.show()\n",
    "plt.imshow(outvar3[15:38,15:38]+1, origin='lower', cmap='gray',norm=LogNorm())\n",
    "plt.show()"
   ]
  },
  {
   "cell_type": "code",
   "execution_count": 55,
   "metadata": {},
   "outputs": [
    {
     "name": "stdout",
     "output_type": "stream",
     "text": [
      "Peak count $\\pm$ noise =  0.2 $\\pm$  0.0 (14.0$\\sigma$)\n"
     ]
    }
   ],
   "source": [
    "counts_above_background = (outvar-np.median(outvar3))\n",
    "peak_count = np.max(counts_above_background[20:-20,20:-20])\n",
    "noise = np.std(counts_above_background[10:-10,10:-10])\n",
    "sigma = peak_count / noise\n",
    "#display(Markdown(fr'Peak count $\\pm$ noise = {peak_count:4.1f} $\\pm$ {noise:4.1f} ({sigma:4.1f}$\\sigma$)'))\n",
    "print(fr'Peak count $\\pm$ noise = {peak_count:4.1f} $\\pm$ {noise:4.1f} ({sigma:4.1f}$\\sigma$)')"
   ]
  },
  {
   "cell_type": "code",
   "execution_count": 38,
   "metadata": {},
   "outputs": [
    {
     "data": {
      "image/png": "[encoded data removed]",
      "text/plain": [
       "<Figure size 432x288 with 1 Axes>"
      ]
     },
     "metadata": {
      "needs_background": "light"
     },
     "output_type": "display_data"
    }
   ],
   "source": [
    "plt.imshow(counts_above_background[20:-20,20:-20], vmin=-0.03, vmax=0.3, origin='lower')\n",
    "plt.show()"
   ]
  },
  {
   "cell_type": "code",
   "execution_count": null,
   "metadata": {},
   "outputs": [],
   "source": []
  }
 ],
 "metadata": {
  "anaconda-cloud": {},
  "kernelspec": {
   "display_name": "Python 3 (ipykernel)",
   "language": "python",
   "name": "python3"
  },
  "language_info": {
   "codemirror_mode": {
    "name": "ipython",
    "version": 3
   },
   "file_extension": ".py",
   "mimetype": "text/x-python",
   "name": "python",
   "nbconvert_exporter": "python",
   "pygments_lexer": "ipython3",
   "version": "3.9.13"
  }
 },
 "nbformat": 4,
 "nbformat_minor": 4
}
