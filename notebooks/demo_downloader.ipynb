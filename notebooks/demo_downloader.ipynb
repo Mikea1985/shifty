{
 "cells": [
  {
   "cell_type": "markdown",
   "metadata": {},
   "source": [
    "# Demonstration of shifty.py's \"downloader\" module\n",
    " - 20191106\n",
    " - Payne \n",
    " \n",
    "As the name suggests, the downloader module will download the raw data used in shifty. \n",
    "\n",
    "There is a \"parent\" class\" called \"Downloader\".\n",
    " - This is NOT likely to be used directly at all \n",
    "\n",
    "There are \"child\" classes for each type of data that will be downloaded:\n",
    " - These ARE likely to be directly used in practice. \n",
    " \n",
    "It intended that there be a specific downloader for a specific kind of data.\n",
    "E.g.\n",
    " - The \"TESSDownloader\" class provides methods to download TESS data (from mast)\n",
    " - The \"HSTDownloader\" class is just a stub and does not yet have much functionality\n",
    "\n",
    "This notebook:\n",
    " - Demonstrates the key components / classes / functions available in the downloader module\n",
    " - Acts as a complement to the tests of the same module. "
   ]
  },
  {
   "cell_type": "markdown",
   "metadata": {},
   "source": [
    "#### Import statements "
   ]
  },
  {
   "cell_type": "code",
   "execution_count": 1,
   "metadata": {},
   "outputs": [],
   "source": [
    "# -------------------------------------------------------------------------------------\n",
    "# Third party imports\n",
    "# -------------------------------------------------------------------------------------\n",
    "import numpy as np \n",
    "import matplotlib.pyplot as plt\n",
    "import os, sys\n",
    "import glob \n",
    "\n",
    "import astropy\n",
    "from astropy.io import fits\n",
    "from astropy.time import Time\n",
    "from astropy.units import allclose as quantity_allclose\n",
    "from astropy import units as u\n",
    "from astropy.coordinates import SkyCoord\n",
    "from astropy.coordinates.builtin_frames import FK5, ICRS, GCRS, GeocentricMeanEcliptic, BarycentricMeanEcliptic, HeliocentricMeanEcliptic, GeocentricTrueEcliptic, BarycentricTrueEcliptic, HeliocentricTrueEcliptic, HeliocentricEclipticIAU76\n",
    "from astropy.constants import R_sun, R_earth\n",
    "\n",
    "# -------------------------------------------------------------------------------------\n",
    "# Local imports\n",
    "# -------------------------------------------------------------------------------------\n",
    "sys.path.append( os.path.join(os.path.dirname(os.getcwd() ), 'shifty')  )\n",
    "import downloader "
   ]
  },
  {
   "cell_type": "markdown",
   "metadata": {
    "scrolled": false
   },
   "source": [
    "### Instantiate TESSDownloader object\n",
    " - Note that the first time this is done will cause the creatation of storage directories on your local disk. "
   ]
  },
  {
   "cell_type": "code",
   "execution_count": 2,
   "metadata": {
    "scrolled": false
   },
   "outputs": [
    {
     "name": "stdout",
     "output_type": "stream",
     "text": [
      "local_dir /Users/matthewjohnpayne/.shifty_data\n",
      "tess_dir /Users/matthewjohnpayne/.shifty_data/tess\n",
      "It is *True* that '/Users/matthewjohnpayne/.shifty_data' exists on disk\n",
      "It is *True* that '/Users/matthewjohnpayne/.shifty_data/tess' exists on disk\n"
     ]
    }
   ],
   "source": [
    "# creation of TESSDownloader object\n",
    "T = downloader.TESSDownloader()\n",
    "\n",
    "# examination of instantiated variables\n",
    "# - these are defining some local data storage \n",
    "for k,v in T.__dict__.items():\n",
    "    print(k,v)\n",
    "    \n",
    "# check that storage directories exist on disk \n",
    "for d in [T.local_dir , T.tess_dir]:\n",
    "    print( 'It is *%r* that %r exists on disk' % (os.path.isdir(d), d)  )"
   ]
  },
  {
   "cell_type": "markdown",
   "metadata": {},
   "source": [
    "### Use TESSDownloader object to download a small set of ~10 TESS fits files\n",
    " - This is intended to be used when doing quick development work when you only want to work on a small set of data\n",
    " \n",
    "Files will be put into a directory structure that looks like ...\n",
    " - self.tess_dir/sectorNumber/cameraNumber/chipNumber/tess2018292095940-s0004-1-1-0124-s_ffic.fits\n",
    " - E.g. self.tess_dir/4/1/1/tess2018292095940-s0004-1-1-0124-s_ffic.fits\n",
    " - N.B. If individual files have already been downloaded, they will *not* be re-lownloaded\n"
   ]
  },
  {
   "cell_type": "code",
   "execution_count": 3,
   "metadata": {},
   "outputs": [
    {
     "name": "stdout",
     "output_type": "stream",
     "text": [
      "It is *True* that '/Users/matthewjohnpayne/.shifty_data/tess/4/1/1/tess2018292095940-s0004-1-1-0124-s_ffic.fits' exists on disk\n",
      "It is *True* that '/Users/matthewjohnpayne/.shifty_data/tess/4/1/1/tess2018292102940-s0004-1-1-0124-s_ffic.fits' exists on disk\n",
      "It is *True* that '/Users/matthewjohnpayne/.shifty_data/tess/4/1/1/tess2018292105940-s0004-1-1-0124-s_ffic.fits' exists on disk\n",
      "It is *True* that '/Users/matthewjohnpayne/.shifty_data/tess/4/1/1/tess2018292112940-s0004-1-1-0124-s_ffic.fits' exists on disk\n",
      "It is *True* that '/Users/matthewjohnpayne/.shifty_data/tess/4/1/1/tess2018292115940-s0004-1-1-0124-s_ffic.fits' exists on disk\n",
      "It is *True* that '/Users/matthewjohnpayne/.shifty_data/tess/4/1/1/tess2018292122940-s0004-1-1-0124-s_ffic.fits' exists on disk\n",
      "It is *True* that '/Users/matthewjohnpayne/.shifty_data/tess/4/1/1/tess2018292125940-s0004-1-1-0124-s_ffic.fits' exists on disk\n",
      "It is *True* that '/Users/matthewjohnpayne/.shifty_data/tess/4/1/1/tess2018292132940-s0004-1-1-0124-s_ffic.fits' exists on disk\n",
      "It is *True* that '/Users/matthewjohnpayne/.shifty_data/tess/4/1/1/tess2018292135940-s0004-1-1-0124-s_ffic.fits' exists on disk\n",
      "It is *True* that '/Users/matthewjohnpayne/.shifty_data/tess/4/1/1/tess2018292142940-s0004-1-1-0124-s_ffic.fits' exists on disk\n"
     ]
    }
   ],
   "source": [
    "# download the test data \n",
    "T._ensure_test_data_available_locally()\n",
    "\n",
    "# check that the expected data actually exists \n",
    "expected_filepaths = T._define_test_data()\n",
    "for fp in expected_filepaths:\n",
    "    print( 'It is *%r* that %r exists on disk' % (os.path.isfile(fp) , fp)  )"
   ]
  },
  {
   "cell_type": "markdown",
   "metadata": {
    "scrolled": false
   },
   "source": [
    "### Use TESSDownloader object to download all data for a single chip on a single camera for a single sector of TESS data\n",
    " - This will download ~1,300 files \n",
    " \n",
    " - #### This takes a long time!\n",
    " \n",
    "\n",
    "Files will be put into a directory structure that looks like ...\n",
    " - self.tess_dir/sectorNumber/cameraNumber/chipNumber/tess2018292175940-s0004-1-2-0124-s_ffic.fits\n",
    " - E.g. self.tess_dir/4/1/2/tess2018292175940-s0004-1-2-0124-s_ffic.fits\n",
    " - N.B. If individual files have already been downloaded, they will *not* be re-lownloaded\n"
   ]
  },
  {
   "cell_type": "code",
   "execution_count": 4,
   "metadata": {},
   "outputs": [
    {
     "name": "stdout",
     "output_type": "stream",
     "text": [
      "\t Downloading sectorNumber=4, cameraNumber=3, chipNumber=2\n",
      "It is *True* that '/Users/matthewjohnpayne/.shifty_data/tess/4/3/2' exists on disk\n",
      "There are 1060 fits files in expectedDirectory\n"
     ]
    }
   ],
   "source": [
    "# download the data \n",
    "sectorNumber, cameraNumber, chipNumber = 4,3,2\n",
    "T.download_chip(sectorNumber, cameraNumber, chipNumber)\n",
    "\n",
    "# check that the expected destination directory is now populated with lots of files ...\n",
    "expectedDirectory = os.path.join(T.tess_dir, str(sectorNumber), str(cameraNumber), str(chipNumber) )\n",
    "print( 'It is *%r* that %r exists on disk' % (os.path.isdir(expectedDirectory) , expectedDirectory)  )\n",
    "\n",
    "fits_files_in_expectedDirectory = glob.glob( expectedDirectory + '/*.fits')\n",
    "print( 'There are %d fits files in expectedDirectory' % len(fits_files_in_expectedDirectory))"
   ]
  },
  {
   "cell_type": "markdown",
   "metadata": {},
   "source": [
    "### Use TESSDownloader object to download all data for an entire single sector of TESS data"
   ]
  },
  {
   "cell_type": "code",
   "execution_count": 14,
   "metadata": {},
   "outputs": [
    {
     "name": "stdout",
     "output_type": "stream",
     "text": [
      "\t Downloading sectorNumber=5, cameraNumber=1, chipNumber=1\n",
      "\t Downloading sectorNumber=5, cameraNumber=1, chipNumber=2\n",
      "\t Downloading sectorNumber=5, cameraNumber=1, chipNumber=3\n",
      "\t Downloading sectorNumber=5, cameraNumber=1, chipNumber=4\n",
      "\t Downloading sectorNumber=5, cameraNumber=2, chipNumber=1\n",
      "\t Downloading sectorNumber=5, cameraNumber=2, chipNumber=2\n",
      "\t Downloading sectorNumber=5, cameraNumber=2, chipNumber=3\n",
      "\t Downloading sectorNumber=5, cameraNumber=2, chipNumber=4\n",
      "\t Downloading sectorNumber=5, cameraNumber=3, chipNumber=1\n",
      "\t Downloading sectorNumber=5, cameraNumber=3, chipNumber=2\n",
      "\t Downloading sectorNumber=5, cameraNumber=3, chipNumber=3\n",
      "\t Downloading sectorNumber=5, cameraNumber=3, chipNumber=4\n",
      "\t Downloading sectorNumber=5, cameraNumber=4, chipNumber=1\n",
      "\t Downloading sectorNumber=5, cameraNumber=4, chipNumber=2\n",
      "\t Downloading sectorNumber=5, cameraNumber=4, chipNumber=3\n",
      "\t Downloading sectorNumber=5, cameraNumber=4, chipNumber=4\n"
     ]
    }
   ],
   "source": [
    "# download the data \n",
    "sectorNumber, cameraNumbers, chipNumbers = 5,[1,2,3,4],[1,2,3,4]\n",
    "\n",
    "for cameraNumber in cameraNumbers:\n",
    "    for chipNumber in chipNumbers:\n",
    "        T.download_chip(sectorNumber, cameraNumber, chipNumber)\n"
   ]
  },
  {
   "cell_type": "code",
   "execution_count": 3,
   "metadata": {},
   "outputs": [
    {
     "name": "stdout",
     "output_type": "stream",
     "text": [
      "\t Downloading sectorNumber=18, cameraNumber=1, chipNumber=1\n",
      "\t Downloading sectorNumber=18, cameraNumber=1, chipNumber=2\n",
      "\t Downloading sectorNumber=18, cameraNumber=1, chipNumber=3\n",
      "\t Downloading sectorNumber=18, cameraNumber=1, chipNumber=4\n",
      "\t Downloading sectorNumber=18, cameraNumber=2, chipNumber=1\n",
      "\t Downloading sectorNumber=18, cameraNumber=2, chipNumber=2\n",
      "\t Downloading sectorNumber=18, cameraNumber=2, chipNumber=3\n",
      "\t Downloading sectorNumber=18, cameraNumber=2, chipNumber=4\n",
      "\t Downloading sectorNumber=18, cameraNumber=3, chipNumber=1\n",
      "\t Downloading sectorNumber=18, cameraNumber=3, chipNumber=2\n",
      "\t Downloading sectorNumber=18, cameraNumber=3, chipNumber=3\n",
      "\t Downloading sectorNumber=18, cameraNumber=3, chipNumber=4\n",
      "\t Downloading sectorNumber=18, cameraNumber=4, chipNumber=1\n",
      "\t Downloading sectorNumber=18, cameraNumber=4, chipNumber=2\n",
      "\t Downloading sectorNumber=18, cameraNumber=4, chipNumber=3\n",
      "\t Downloading sectorNumber=18, cameraNumber=4, chipNumber=4\n"
     ]
    }
   ],
   "source": [
    "# download the data \n",
    "sectorNumber, cameraNumbers, chipNumbers = 18,[1,2,3,4],[1,2,3,4]\n",
    "\n",
    "for cameraNumber in cameraNumbers:\n",
    "    for chipNumber in chipNumbers:\n",
    "        T.download_chip(sectorNumber, cameraNumber, chipNumber)\n"
   ]
  },
  {
   "cell_type": "markdown",
   "metadata": {},
   "source": [
    "### Use TESSDownloader object to download pixel response function models data for TESS\n",
    " - from  https://archive.stsci.edu/missions/tess/models/prf_fitsfiles/\n",
    "\n",
    "for documentation & description:\n",
    " - see https://outerspace.stsci.edu/display/TESS/2.0+-+Data+Product+Overview#id-2.0-DataProductOverview-PixelResponseFunctions\n"
   ]
  },
  {
   "cell_type": "code",
   "execution_count": 5,
   "metadata": {},
   "outputs": [
    {
     "name": "stdout",
     "output_type": "stream",
     "text": [
      "it is True that the '/Users/matthewjohnpayne/.shifty_data/tess/prf/start_s0001/cam1_ccd1' directory exists and contains more than 25 fits-files\n",
      "it is True that the '/Users/matthewjohnpayne/.shifty_data/tess/prf/start_s0001/cam1_ccd2' directory exists and contains more than 25 fits-files\n",
      "it is True that the '/Users/matthewjohnpayne/.shifty_data/tess/prf/start_s0001/cam1_ccd3' directory exists and contains more than 25 fits-files\n",
      "it is True that the '/Users/matthewjohnpayne/.shifty_data/tess/prf/start_s0001/cam1_ccd4' directory exists and contains more than 25 fits-files\n",
      "it is True that the '/Users/matthewjohnpayne/.shifty_data/tess/prf/start_s0001/cam2_ccd1' directory exists and contains more than 25 fits-files\n",
      "it is True that the '/Users/matthewjohnpayne/.shifty_data/tess/prf/start_s0001/cam2_ccd2' directory exists and contains more than 25 fits-files\n",
      "it is True that the '/Users/matthewjohnpayne/.shifty_data/tess/prf/start_s0001/cam2_ccd3' directory exists and contains more than 25 fits-files\n",
      "it is True that the '/Users/matthewjohnpayne/.shifty_data/tess/prf/start_s0001/cam2_ccd4' directory exists and contains more than 25 fits-files\n",
      "it is True that the '/Users/matthewjohnpayne/.shifty_data/tess/prf/start_s0001/cam3_ccd1' directory exists and contains more than 25 fits-files\n",
      "it is True that the '/Users/matthewjohnpayne/.shifty_data/tess/prf/start_s0001/cam3_ccd2' directory exists and contains more than 25 fits-files\n",
      "it is True that the '/Users/matthewjohnpayne/.shifty_data/tess/prf/start_s0001/cam3_ccd3' directory exists and contains more than 25 fits-files\n",
      "it is True that the '/Users/matthewjohnpayne/.shifty_data/tess/prf/start_s0001/cam3_ccd4' directory exists and contains more than 25 fits-files\n",
      "it is True that the '/Users/matthewjohnpayne/.shifty_data/tess/prf/start_s0001/cam4_ccd1' directory exists and contains more than 25 fits-files\n",
      "it is True that the '/Users/matthewjohnpayne/.shifty_data/tess/prf/start_s0001/cam4_ccd2' directory exists and contains more than 25 fits-files\n",
      "it is True that the '/Users/matthewjohnpayne/.shifty_data/tess/prf/start_s0001/cam4_ccd3' directory exists and contains more than 25 fits-files\n",
      "it is True that the '/Users/matthewjohnpayne/.shifty_data/tess/prf/start_s0001/cam4_ccd4' directory exists and contains more than 25 fits-files\n",
      "it is True that the '/Users/matthewjohnpayne/.shifty_data/tess/prf/start_s0004/cam1_ccd1' directory exists and contains more than 25 fits-files\n",
      "it is True that the '/Users/matthewjohnpayne/.shifty_data/tess/prf/start_s0004/cam1_ccd2' directory exists and contains more than 25 fits-files\n",
      "it is True that the '/Users/matthewjohnpayne/.shifty_data/tess/prf/start_s0004/cam1_ccd3' directory exists and contains more than 25 fits-files\n",
      "it is True that the '/Users/matthewjohnpayne/.shifty_data/tess/prf/start_s0004/cam1_ccd4' directory exists and contains more than 25 fits-files\n",
      "it is True that the '/Users/matthewjohnpayne/.shifty_data/tess/prf/start_s0004/cam2_ccd1' directory exists and contains more than 25 fits-files\n",
      "it is True that the '/Users/matthewjohnpayne/.shifty_data/tess/prf/start_s0004/cam2_ccd2' directory exists and contains more than 25 fits-files\n",
      "it is True that the '/Users/matthewjohnpayne/.shifty_data/tess/prf/start_s0004/cam2_ccd3' directory exists and contains more than 25 fits-files\n",
      "it is True that the '/Users/matthewjohnpayne/.shifty_data/tess/prf/start_s0004/cam2_ccd4' directory exists and contains more than 25 fits-files\n",
      "it is True that the '/Users/matthewjohnpayne/.shifty_data/tess/prf/start_s0004/cam3_ccd1' directory exists and contains more than 25 fits-files\n",
      "it is True that the '/Users/matthewjohnpayne/.shifty_data/tess/prf/start_s0004/cam3_ccd2' directory exists and contains more than 25 fits-files\n",
      "it is True that the '/Users/matthewjohnpayne/.shifty_data/tess/prf/start_s0004/cam3_ccd3' directory exists and contains more than 25 fits-files\n",
      "it is True that the '/Users/matthewjohnpayne/.shifty_data/tess/prf/start_s0004/cam3_ccd4' directory exists and contains more than 25 fits-files\n",
      "it is True that the '/Users/matthewjohnpayne/.shifty_data/tess/prf/start_s0004/cam4_ccd1' directory exists and contains more than 25 fits-files\n",
      "it is True that the '/Users/matthewjohnpayne/.shifty_data/tess/prf/start_s0004/cam4_ccd2' directory exists and contains more than 25 fits-files\n",
      "it is True that the '/Users/matthewjohnpayne/.shifty_data/tess/prf/start_s0004/cam4_ccd3' directory exists and contains more than 25 fits-files\n",
      "it is True that the '/Users/matthewjohnpayne/.shifty_data/tess/prf/start_s0004/cam4_ccd4' directory exists and contains more than 25 fits-files\n"
     ]
    }
   ],
   "source": [
    "# getting prf data\n",
    "# -----------------------------------------\n",
    "T.download_prf()\n",
    "\n",
    "# we expect the files to have been extracted into ...\n",
    "# \"~/.shifty_data/prf/start_000<X>/cam<Y>_ccd<Z>\" where X=1or4, Y=1-to-4, & Z=1-to-4\n",
    "assert os.path.isdir( T._fetch_tess_prf_directory() )\n",
    "for sectorString in ['start_s0001', 'start_s0004']:\n",
    "    for i in range(1,5):\n",
    "        for j in range(1,5  ):\n",
    "            filepath = os.path.join( T._fetch_tess_prf_directory() ,\n",
    "                                    sectorString,\n",
    "                                    'cam%d_ccd%d' % (i,j)  )\n",
    "            # check directory exists & contains >= 25 files\n",
    "            print( 'it is %r that the %r directory exists and contains more than 25 fits-files' % \n",
    "                  (os.path.isdir( filepath ) and len(glob.glob(filepath + '/*fits') ) >= 25, filepath))\n",
    "\n"
   ]
  },
  {
   "cell_type": "code",
   "execution_count": null,
   "metadata": {},
   "outputs": [],
   "source": []
  }
 ],
 "metadata": {
  "kernelspec": {
   "display_name": "Python [conda env:anaconda]",
   "language": "python",
   "name": "conda-env-anaconda-py"
  },
  "language_info": {
   "codemirror_mode": {
    "name": "ipython",
    "version": 3
   },
   "file_extension": ".py",
   "mimetype": "text/x-python",
   "name": "python",
   "nbconvert_exporter": "python",
   "pygments_lexer": "ipython3",
   "version": "3.5.5"
  }
 },
 "nbformat": 4,
 "nbformat_minor": 2
}
