{
 "cells": [
  {
   "cell_type": "markdown",
   "metadata": {},
   "source": [
    "# Demonstration of shifty.py's \"known\" module\n",
    " - 202002XX\n",
    " - Payne \n",
    " \n",
    "There is a \"Known\" class\n",
    " - This handles both data-downloads and operations associated with recovering the signal for a known object\n",
    "\n",
    "This notebook:\n",
    " - ... "
   ]
  },
  {
   "cell_type": "markdown",
   "metadata": {},
   "source": [
    "#### Import statements "
   ]
  },
  {
   "cell_type": "code",
   "execution_count": 308,
   "metadata": {},
   "outputs": [
    {
     "data": {
      "text/plain": [
       "<module 'known' from '/home/mikea/GitHub/shifty/shifty/known.py'>"
      ]
     },
     "execution_count": 308,
     "metadata": {},
     "output_type": "execute_result"
    }
   ],
   "source": [
    "# -------------------------------------------------------------------------------------\n",
    "# Third party imports\n",
    "# -------------------------------------------------------------------------------------\n",
    "import numpy as np \n",
    "import matplotlib.pyplot as plt\n",
    "import os, sys\n",
    "import glob \n",
    "import importlib\n",
    "\n",
    "import astropy\n",
    "from astropy.io import fits\n",
    "from astropy.time import Time\n",
    "from astropy.units import allclose as quantity_allclose\n",
    "from astropy import units as u\n",
    "from astropy.coordinates import SkyCoord\n",
    "from astropy.coordinates.builtin_frames import FK5, ICRS, GCRS, GeocentricMeanEcliptic, BarycentricMeanEcliptic, HeliocentricMeanEcliptic, GeocentricTrueEcliptic, BarycentricTrueEcliptic, HeliocentricTrueEcliptic, HeliocentricEclipticIAU76\n",
    "from astropy.constants import R_sun, R_earth\n",
    "\n",
    "# -------------------------------------------------------------------------------------\n",
    "# Local imports\n",
    "# -------------------------------------------------------------------------------------\n",
    "sys.path.append(os.path.join(os.path.split(os.getcwd())[0], 'shifty'))\n",
    "import known\n",
    "\n",
    "importlib.reload(known)\n"
   ]
  },
  {
   "cell_type": "markdown",
   "metadata": {
    "scrolled": false
   },
   "source": [
    "### Instantiate Known object"
   ]
  },
  {
   "cell_type": "code",
   "execution_count": 309,
   "metadata": {
    "scrolled": false
   },
   "outputs": [
    {
     "name": "stdout",
     "output_type": "stream",
     "text": [
      "{'local_dir': '/home/mikea/.shifty_data'}\n"
     ]
    }
   ],
   "source": [
    "# creation of Known object\n",
    "K = known.Known()\n",
    "\n",
    "# there are probably no instantiated variables ...\n",
    "print(K.__dict__)"
   ]
  },
  {
   "cell_type": "markdown",
   "metadata": {},
   "source": [
    "##### Use Known to look at positions of sedna\n",
    " - While developing, we'll want to know the position of sedna as a function of time\n",
    " - I've downloaded the positions (from JPL Horizons) during Sector-5 as a convenience "
   ]
  },
  {
   "cell_type": "code",
   "execution_count": 310,
   "metadata": {},
   "outputs": [
    {
     "name": "stdout",
     "output_type": "stream",
     "text": [
      "2458436.5 57.136303009 7.655008551\n",
      "2458436.541666667 57.135914678 7.654898968\n",
      "\n",
      "2458436.5 57.136303009 7.655008551\n",
      "2458443.5 57.065397724 7.638686663\n",
      "2458450.5 56.9958723 7.624888305\n",
      "2458457.5 56.925340591 7.61328786\n",
      "\n"
     ]
    }
   ],
   "source": [
    "importlib.reload(known)\n",
    "K = known.Known()\n",
    "\n",
    "# These are the values from JPL at hourly intervals\n",
    "JD_, RA_, Dec_  = K._radec_for_sedna()\n",
    "for t,r,d in zip(JD_[:2], RA_[:2], Dec_[:2]):\n",
    "    print(t,r,d)\n",
    "print()\n",
    "\n",
    "# These are interpolated values at arbitrary times \n",
    "times = np.arange(2458436.5, 2458464.5, 7)\n",
    "RA_, Dec_ = K._interpolate_radec_for_sedna(times)\n",
    "for t,r,d in zip(times, RA_, Dec_):\n",
    "    print(t,r,d)\n",
    "print() \n"
   ]
  },
  {
   "cell_type": "code",
   "execution_count": 313,
   "metadata": {},
   "outputs": [],
   "source": [
    "# Some notes on which camera/ccd/etc we expect Sedna to be in \n",
    "# - These came from inputing 57.136 7.6549 into lightkurve's tess-cut/tess-search function \n",
    "camera = 1 \n",
    "ccd = 4\n",
    "col, row = 1550, 1101"
   ]
  },
  {
   "cell_type": "code",
   "execution_count": 314,
   "metadata": {},
   "outputs": [
    {
     "data": {
      "text/plain": [
       "(2458445, 2458455)"
      ]
     },
     "execution_count": 314,
     "metadata": {},
     "output_type": "execute_result"
    },
    {
     "data": {
      "image/png": "[encoded data removed]",
      "text/plain": [
       "<Figure size 432x288 with 1 Axes>"
      ]
     },
     "metadata": {
      "needs_background": "light"
     },
     "output_type": "display_data"
    }
   ],
   "source": [
    "RA_, Dec_ = K._interpolate_radec_for_sedna(JD_)\n",
    "#plt.plot(JD_, RA_ , '.')\n",
    "plt.plot(JD_, Dec_ , '.')\n",
    "plt.xlim([2458445, 2458455])"
   ]
  },
  {
   "cell_type": "code",
   "execution_count": 369,
   "metadata": {},
   "outputs": [],
   "source": [
    "K.get_known_RADEC(obs_code='000', times=times, object_name='101583')"
   ]
  },
  {
   "cell_type": "code",
   "execution_count": 370,
   "metadata": {},
   "outputs": [
    {
     "data": {
      "text/plain": [
       "array([59.88447843, 58.23191998, 56.55265927, 54.9510077 ])"
      ]
     },
     "execution_count": 370,
     "metadata": {},
     "output_type": "execute_result"
    }
   ],
   "source": [
    "K.RA"
   ]
  },
  {
   "cell_type": "code",
   "execution_count": 372,
   "metadata": {},
   "outputs": [
    {
     "data": {
      "text/plain": [
       "array([        nan,         nan,         nan,         nan,         nan,\n",
       "               nan,         nan,         nan,         nan,         nan,\n",
       "       57.13262794, 57.13220421, 57.13178061, 57.13135765, 57.13093574,\n",
       "       57.13051526,         nan,         nan,         nan,         nan,\n",
       "               nan,         nan,         nan,         nan,         nan,\n",
       "               nan,         nan,         nan,         nan,         nan,\n",
       "               nan,         nan,         nan,         nan,         nan,\n",
       "       57.12219465, 57.12177008, 57.12134616, 57.12092335, 57.12050198,\n",
       "               nan,         nan,         nan,         nan,         nan,\n",
       "               nan,         nan,         nan,         nan,         nan,\n",
       "               nan,         nan,         nan,         nan,         nan,\n",
       "               nan,         nan,         nan,         nan, 57.11216256,\n",
       "       57.11173716, 57.11131246, 57.11088888, 57.11046678,         nan,\n",
       "               nan,         nan,         nan,         nan,         nan,\n",
       "               nan,         nan,         nan,         nan,         nan,\n",
       "               nan,         nan,         nan,         nan,         nan,\n",
       "               nan,         nan,         nan,         nan, 57.10168553,\n",
       "       57.10126019, 57.10083601, 57.10041333,         nan,         nan,\n",
       "               nan,         nan,         nan,         nan,         nan,\n",
       "               nan,         nan,         nan,         nan,         nan,\n",
       "               nan,         nan,         nan,         nan,         nan,\n",
       "               nan,         nan,         nan,         nan, 57.09119299,\n",
       "       57.09076835, 57.09034525,         nan,         nan,         nan,\n",
       "               nan,         nan,         nan,         nan,         nan,\n",
       "               nan,         nan,         nan,         nan,         nan,\n",
       "               nan,         nan,         nan,         nan,         nan,\n",
       "               nan,         nan,         nan,         nan, 57.08068952,\n",
       "       57.08026613,         nan,         nan,         nan,         nan,\n",
       "               nan,         nan,         nan,         nan,         nan,\n",
       "               nan,         nan,         nan,         nan,         nan,\n",
       "               nan,         nan,         nan,         nan,         nan,\n",
       "               nan,         nan,         nan,         nan, 57.07017954,\n",
       "               nan,         nan,         nan,         nan,         nan,\n",
       "               nan,         nan,         nan,         nan,         nan,\n",
       "               nan,         nan,         nan,         nan,         nan,\n",
       "               nan,         nan,         nan,         nan,         nan,\n",
       "               nan,         nan,         nan,         nan,         nan,\n",
       "               nan,         nan,         nan,         nan,         nan,\n",
       "               nan,         nan,         nan,         nan,         nan,\n",
       "               nan,         nan,         nan,         nan,         nan,\n",
       "               nan,         nan,         nan,         nan,         nan,\n",
       "               nan,         nan,         nan,         nan,         nan,\n",
       "               nan,         nan,         nan,         nan,         nan,\n",
       "               nan,         nan,         nan,         nan,         nan,\n",
       "               nan,         nan,         nan,         nan,         nan,\n",
       "               nan,         nan,         nan,         nan,         nan,\n",
       "               nan,         nan,         nan,         nan,         nan,\n",
       "               nan,         nan,         nan,         nan,         nan,\n",
       "               nan,         nan,         nan,         nan,         nan,\n",
       "               nan,         nan,         nan,         nan,         nan,\n",
       "               nan,         nan,         nan,         nan,         nan,\n",
       "               nan,         nan,         nan,         nan,         nan,\n",
       "               nan,         nan,         nan,         nan,         nan,\n",
       "               nan,         nan,         nan,         nan, 57.02400487,\n",
       "               nan,         nan,         nan,         nan,         nan,\n",
       "               nan,         nan,         nan,         nan,         nan,\n",
       "               nan,         nan,         nan,         nan,         nan,\n",
       "               nan,         nan,         nan,         nan,         nan,\n",
       "               nan,         nan,         nan, 57.01394021, 57.01351812,\n",
       "               nan,         nan,         nan,         nan,         nan,\n",
       "               nan,         nan,         nan,         nan,         nan,\n",
       "               nan,         nan,         nan,         nan,         nan,\n",
       "               nan,         nan,         nan,         nan,         nan,\n",
       "               nan,         nan, 57.00389078, 57.00346928, 57.00304624,\n",
       "               nan,         nan,         nan,         nan,         nan,\n",
       "               nan,         nan,         nan,         nan,         nan,\n",
       "               nan,         nan,         nan,         nan,         nan,\n",
       "               nan,         nan,         nan,         nan,         nan,\n",
       "               nan, 56.99386009, 56.99343934, 56.99301707, 56.99259361,\n",
       "               nan,         nan,         nan,         nan,         nan,\n",
       "               nan,         nan,         nan,         nan,         nan,\n",
       "               nan,         nan,         nan,         nan,         nan,\n",
       "               nan,         nan,         nan,         nan,         nan,\n",
       "       56.98385173, 56.98343188, 56.98301053, 56.98258802, 56.98216477,\n",
       "               nan,         nan,         nan,         nan,         nan,\n",
       "               nan,         nan,         nan,         nan,         nan,\n",
       "               nan,         nan,         nan,         nan,         nan,\n",
       "               nan,         nan,         nan,         nan, 56.97386935,\n",
       "       56.97345056, 56.97303029, 56.97260889, 56.97218679, 56.97176446,\n",
       "               nan,         nan,         nan,         nan,         nan,\n",
       "               nan,         nan,         nan,         nan,         nan,\n",
       "               nan,         nan,         nan,         nan,         nan,\n",
       "               nan,         nan,         nan, 56.96391669, 56.9634991 ,\n",
       "       56.96308007, 56.96265994, 56.96223914, 56.96181816, 56.96139748,\n",
       "               nan,         nan,         nan,         nan,         nan,\n",
       "               nan,         nan,         nan,         nan,         nan,\n",
       "               nan,         nan,         nan,         nan,         nan,\n",
       "               nan,         nan, 56.95399752, 56.95358131, 56.95316367,\n",
       "       56.95274497, 56.95232564, 56.95190616, 56.95148703, 56.95106873,\n",
       "               nan,         nan,         nan,         nan,         nan,\n",
       "               nan,         nan,         nan,         nan,         nan,\n",
       "               nan,         nan,         nan,         nan,         nan,\n",
       "               nan, 56.94411568, 56.943701  , 56.94328492, 56.94286781,\n",
       "       56.94245011, 56.94203231, 56.94161489, 56.94119833, 56.94078305,\n",
       "               nan,         nan,         nan,         nan,         nan,\n",
       "               nan,         nan,         nan,         nan,         nan,\n",
       "               nan,         nan,         nan,         nan,         nan,\n",
       "       56.93427503, 56.93386204, 56.93344769, 56.93303234, 56.93261643,\n",
       "       56.93220046, 56.93178491, 56.93137026, 56.93095692, 56.93054523,\n",
       "               nan,         nan,         nan,         nan,         nan,\n",
       "               nan,         nan,         nan,         nan,         nan,\n",
       "               nan,         nan,         nan,         nan,         nan,\n",
       "       56.92406832, 56.92365585, 56.92324242, 56.92282848, 56.9224145 ,\n",
       "       56.92200099, 56.92158841, 56.92117718, 56.92076761, 56.92035993,\n",
       "               nan,         nan,         nan,         nan,         nan,\n",
       "               nan,         nan,         nan,         nan,         nan,\n",
       "               nan,         nan,         nan,         nan, 56.91432371,\n",
       "       56.91391329, 56.91350195, 56.91309012, 56.91267831, 56.91226699,\n",
       "       56.91185665, 56.91144768, 56.91104041, 56.91063503,         nan,\n",
       "               nan,         nan,         nan,         nan,         nan,\n",
       "               nan,         nan,         nan,         nan,         nan,\n",
       "               nan,         nan,         nan, 56.90463207, 56.90422387,\n",
       "       56.90381477, 56.90340523, 56.90299573, 56.90258678, 56.90217884,\n",
       "       56.9017723 , 56.90136747, 56.90096457,         nan,         nan,\n",
       "               nan,         nan,         nan,         nan,         nan,\n",
       "               nan,         nan,         nan,         nan,         nan,\n",
       "               nan,         nan, 56.89499724, 56.8945914 , 56.89418471,\n",
       "       56.89377761, 56.8933706 , 56.89296417, 56.89255879, 56.89215483,\n",
       "       56.89175262, 56.89135234,         nan,         nan,         nan,\n",
       "               nan,         nan,         nan,         nan,         nan,\n",
       "               nan,         nan,         nan,         nan,         nan,\n",
       "               nan, 56.88542299, 56.88501969, 56.88461556, 56.88421106,\n",
       "       56.8838067 , 56.88340295, 56.88300028, 56.88259907, 56.88219962,\n",
       "       56.88180213,         nan,         nan,         nan,         nan,\n",
       "               nan,         nan,         nan,         nan,         nan,\n",
       "               nan,         nan,         nan,         nan,         nan,\n",
       "               nan, 56.87551245, 56.87511104, 56.87470931, 56.87430774,\n",
       "       56.87390683, 56.87350703, 56.87310872, 56.8727122 , 56.87231764,\n",
       "               nan,         nan,         nan,         nan,         nan,\n",
       "               nan,         nan,         nan,         nan,         nan,\n",
       "               nan,         nan,         nan,         nan,         nan,\n",
       "               nan, 56.86567484, 56.86527602, 56.86487741, 56.86447949,\n",
       "       56.86408271, 56.86368746, 56.86329401, 56.86290254,         nan,\n",
       "               nan,         nan,         nan,         nan,         nan,\n",
       "               nan,         nan,         nan,         nan,         nan,\n",
       "               nan,         nan,         nan,         nan,         nan,\n",
       "       56.85631058, 56.85591482, 56.85551932, 56.85512454, 56.85473094,\n",
       "       56.85433889, 56.85394866, 56.85356043,         nan,         nan,\n",
       "               nan,         nan,         nan,         nan,         nan,\n",
       "               nan,         nan,         nan,         nan,         nan,\n",
       "               nan,         nan,         nan,         nan,         nan,\n",
       "       56.84662927, 56.84623701, 56.84584552, 56.84545525, 56.84506655,\n",
       "       56.8446797 , 56.84429485,         nan,         nan,         nan,\n",
       "               nan,         nan,         nan,         nan,         nan,\n",
       "               nan])"
      ]
     },
     "execution_count": 372,
     "metadata": {},
     "output_type": "execute_result"
    }
   ],
   "source": [
    "RA_"
   ]
  },
  {
   "cell_type": "code",
   "execution_count": 375,
   "metadata": {},
   "outputs": [],
   "source": [
    "DATA_DIR = os.path.join(os.path.dirname(\n",
    "                        os.path.realpath('.')), 'dev_data')\n",
    "\n",
    "def _interpolate_radec(times, inputJRD):\n",
    "    '''\n",
    "        Interpolate the RA & Dec at the input times\n",
    "        input:\n",
    "        times - array of times for output\n",
    "        inputJRD - tuple of JD_, RA_ and Dec_ of data for interpolation\n",
    "    '''\n",
    "\n",
    "    JD_, RA_, Dec_ = inputJRD\n",
    "\n",
    "    # Interpolate the RA & Dec at the input times\n",
    "    return np.interp(times, JD_, RA_), np.interp(times, JD_, Dec_)\n",
    "\n",
    "\n",
    "def _radec_from_file(obj='sedna', obs_code='C57'):  # Thus also works for 101583\n",
    "    filename = obj + '_ephem_' + obs_code + '.txt'\n",
    "    JD_, RA_, Dec_ = np.genfromtxt(os.path.join(DATA_DIR, filename),\n",
    "                                   delimiter=(17, 5, 13, 13), \n",
    "                                   usecols=(0, 2, 3), unpack=True)\n",
    "    \n",
    "    return JD_, RA_, Dec_\n",
    "\n"
   ]
  },
  {
   "cell_type": "code",
   "execution_count": 376,
   "metadata": {},
   "outputs": [
    {
     "data": {
      "text/plain": [
       "(array([57.13630301, 57.06539772, 56.9958723 , 56.92534059]),\n",
       " array([7.65500855, 7.63868666, 7.6248883 , 7.61328786]))"
      ]
     },
     "execution_count": 376,
     "metadata": {},
     "output_type": "execute_result"
    }
   ],
   "source": [
    "_interpolate_radec(times, _radec_from_file('sedna'))"
   ]
  },
  {
   "cell_type": "code",
   "execution_count": 377,
   "metadata": {},
   "outputs": [
    {
     "data": {
      "text/plain": [
       "(array([59.85622757, 58.17564403, 56.55023554, 54.88443379]),\n",
       " array([8.53715154, 8.1772754 , 7.93612752, 7.80394991]))"
      ]
     },
     "execution_count": 377,
     "metadata": {},
     "output_type": "execute_result"
    }
   ],
   "source": [
    "_interpolate_radec(times, _radec_from_file('101583'))"
   ]
  },
  {
   "cell_type": "code",
   "execution_count": 378,
   "metadata": {},
   "outputs": [
    {
     "data": {
      "text/plain": [
       "(array([57.13630301, 57.06539772, 56.9958723 , 56.92534059]),\n",
       " array([7.65500855, 7.63868666, 7.6248883 , 7.61328786]))"
      ]
     },
     "execution_count": 378,
     "metadata": {},
     "output_type": "execute_result"
    }
   ],
   "source": [
    "ii"
   ]
  },
  {
   "cell_type": "code",
   "execution_count": 379,
   "metadata": {},
   "outputs": [
    {
     "data": {
      "text/plain": [
       "array([59.88447843, 58.23191998, 56.55265927, 54.9510077 ])"
      ]
     },
     "execution_count": 379,
     "metadata": {},
     "output_type": "execute_result"
    }
   ],
   "source": [
    "K.RA"
   ]
  },
  {
   "cell_type": "code",
   "execution_count": 380,
   "metadata": {},
   "outputs": [
    {
     "data": {
      "text/plain": [
       "array([8.51869996, 8.1736283 , 7.92677384, 7.79756144])"
      ]
     },
     "execution_count": 380,
     "metadata": {},
     "output_type": "execute_result"
    }
   ],
   "source": [
    "K.Dec"
   ]
  },
  {
   "cell_type": "code",
   "execution_count": 381,
   "metadata": {},
   "outputs": [],
   "source": [
    "RA_, Dec_ = K._interpolate_radec_for_sedna(times)"
   ]
  },
  {
   "cell_type": "code",
   "execution_count": 382,
   "metadata": {},
   "outputs": [
    {
     "data": {
      "text/plain": [
       "array([57.13630301, 57.06539772, 56.9958723 , 56.92534059])"
      ]
     },
     "execution_count": 382,
     "metadata": {},
     "output_type": "execute_result"
    }
   ],
   "source": [
    "RA_"
   ]
  },
  {
   "cell_type": "code",
   "execution_count": 383,
   "metadata": {},
   "outputs": [
    {
     "data": {
      "text/plain": [
       "array([59.88447843, 58.23191998, 56.55265927, 54.9510077 ])"
      ]
     },
     "execution_count": 383,
     "metadata": {},
     "output_type": "execute_result"
    }
   ],
   "source": [
    "K.RA"
   ]
  },
  {
   "cell_type": "code",
   "execution_count": 384,
   "metadata": {},
   "outputs": [
    {
     "data": {
      "text/plain": [
       "array([2458436.5, 2458443.5, 2458450.5, 2458457.5])"
      ]
     },
     "execution_count": 384,
     "metadata": {},
     "output_type": "execute_result"
    }
   ],
   "source": [
    "times"
   ]
  },
  {
   "cell_type": "code",
   "execution_count": 385,
   "metadata": {},
   "outputs": [
    {
     "data": {
      "text/plain": [
       "array([59.88447843, 58.23191998, 56.55265927, 54.9510077 ])"
      ]
     },
     "execution_count": 385,
     "metadata": {},
     "output_type": "execute_result"
    }
   ],
   "source": [
    "K.RA"
   ]
  },
  {
   "cell_type": "code",
   "execution_count": 386,
   "metadata": {},
   "outputs": [
    {
     "data": {
      "text/plain": [
       "array([2458436.5, 2458443.5, 2458450.5, 2458457.5])"
      ]
     },
     "execution_count": 386,
     "metadata": {},
     "output_type": "execute_result"
    }
   ],
   "source": [
    "K.times"
   ]
  },
  {
   "cell_type": "code",
   "execution_count": 387,
   "metadata": {},
   "outputs": [],
   "source": [
    "horizons_query = Horizons(id='101583', location='000',\n",
    "                          epochs=times, id_type='smallbody')\n",
    "horizons_ephem = horizons_query.ephemerides(extra_precision=True)"
   ]
  },
  {
   "cell_type": "code",
   "execution_count": 388,
   "metadata": {},
   "outputs": [
    {
     "data": {
      "text/html": [
       "&lt;MaskedColumn name=&apos;RA&apos; dtype=&apos;float64&apos; unit=&apos;deg&apos; length=4&gt;\n",
       "<table>\n",
       "<tr><td>59.884478428</td></tr>\n",
       "<tr><td>58.231919979</td></tr>\n",
       "<tr><td>56.552659274</td></tr>\n",
       "<tr><td>54.951007696</td></tr>\n",
       "</table>"
      ],
      "text/plain": [
       "<MaskedColumn name='RA' dtype='float64' unit='deg' length=4>\n",
       "59.884478428\n",
       "58.231919979\n",
       "56.552659274\n",
       "54.951007696"
      ]
     },
     "execution_count": 388,
     "metadata": {},
     "output_type": "execute_result"
    }
   ],
   "source": [
    "horizons_ephem['RA']"
   ]
  },
  {
   "cell_type": "code",
   "execution_count": 389,
   "metadata": {},
   "outputs": [
    {
     "data": {
      "text/plain": [
       "array([59.88447843, 58.23191998, 56.55265927, 54.9510077 ])"
      ]
     },
     "execution_count": 389,
     "metadata": {},
     "output_type": "execute_result"
    }
   ],
   "source": [
    "K.RA"
   ]
  },
  {
   "cell_type": "code",
   "execution_count": 390,
   "metadata": {},
   "outputs": [
    {
     "data": {
      "text/plain": [
       "array([8.51869996, 8.1736283 , 7.92677384, 7.79756144])"
      ]
     },
     "execution_count": 390,
     "metadata": {},
     "output_type": "execute_result"
    }
   ],
   "source": [
    "K.Dec"
   ]
  },
  {
   "cell_type": "code",
   "execution_count": 391,
   "metadata": {},
   "outputs": [
    {
     "data": {
      "text/plain": [
       "array([[2.45843650e+06, 2.45843654e+06, 2.45843658e+06, ...,\n",
       "        2.45846642e+06, 2.45846646e+06, 2.45846650e+06],\n",
       "       [5.98844784e+01, 5.98746587e+01, 5.98648441e+01, ...,\n",
       "        5.31821129e+01, 5.31745500e+01, 5.31670140e+01],\n",
       "       [8.51869996e+00, 8.51640067e+00, 8.51409375e+00, ...,\n",
       "        7.82414758e+00, 7.82478790e+00, 7.82542407e+00]])"
      ]
     },
     "execution_count": 391,
     "metadata": {},
     "output_type": "execute_result"
    }
   ],
   "source": [
    "filename = '101583_ephem_000.txt'\n",
    "np.genfromtxt(os.path.join(DATA_DIR, filename),\n",
    "              usecols=(0, 2, 3), delimiter=(17, 5, 13, 13), unpack=True)"
   ]
  },
  {
   "cell_type": "code",
   "execution_count": null,
   "metadata": {},
   "outputs": [],
   "source": []
  }
 ],
 "metadata": {
  "kernelspec": {
   "display_name": "Python 3",
   "language": "python",
   "name": "python3"
  },
  "language_info": {
   "codemirror_mode": {
    "name": "ipython",
    "version": 3
   },
   "file_extension": ".py",
   "mimetype": "text/x-python",
   "name": "python",
   "nbconvert_exporter": "python",
   "pygments_lexer": "ipython3",
   "version": "3.7.7"
  }
 },
 "nbformat": 4,
 "nbformat_minor": 2
}
