{
 "cells": [
  {
   "cell_type": "markdown",
   "metadata": {},
   "source": [
    "# Demonstration of shifty.py's \"known\" module\n",
    " - 2020/12/10\n",
    " - Payne & Alexandersen\n",
    " \n",
    "There is a \"Known\" class\n",
    " - This handles both data-downloads and operations associated with recovering the signal for a known object.\n",
    " - The known object can be specified using name or using orbital elements. \n",
    " - Objects specified by name are looked up in JPL Horizons. \n",
    " - Objects specified by orbit are calculated locally. [Not implemented]\n",
    "\n",
    "This notebook:\n",
    " - Demonstrates the working functionality. "
   ]
  },
  {
   "cell_type": "markdown",
   "metadata": {},
   "source": [
    "#### Import statements "
   ]
  },
  {
   "cell_type": "code",
   "execution_count": 1,
   "metadata": {},
   "outputs": [
    {
     "data": {
      "text/plain": [
       "<module 'known' from '/home/mikea/GitHub/shifty/shifty/known.py'>"
      ]
     },
     "execution_count": 1,
     "metadata": {},
     "output_type": "execute_result"
    }
   ],
   "source": [
    "# -------------------------------------------------------------------------------------\n",
    "# Third party imports\n",
    "# -------------------------------------------------------------------------------------\n",
    "import numpy as np \n",
    "import matplotlib.pyplot as plt\n",
    "import os, sys\n",
    "import glob \n",
    "import importlib\n",
    "\n",
    "import astropy\n",
    "from astropy.io import fits\n",
    "from astropy.time import Time\n",
    "from astropy.units import allclose as quantity_allclose\n",
    "from astropy import units as u\n",
    "from astropy.coordinates import SkyCoord\n",
    "from astropy.coordinates.builtin_frames import FK5, ICRS, GCRS, GeocentricMeanEcliptic, BarycentricMeanEcliptic, HeliocentricMeanEcliptic, GeocentricTrueEcliptic, BarycentricTrueEcliptic, HeliocentricTrueEcliptic, HeliocentricEclipticIAU76\n",
    "from astropy.constants import R_sun, R_earth\n",
    "\n",
    "# -------------------------------------------------------------------------------------\n",
    "# Local imports\n",
    "# -------------------------------------------------------------------------------------\n",
    "sys.path.append(os.path.join(os.path.split(os.getcwd())[0], 'shifty'))\n",
    "import known\n",
    "importlib.reload(known)"
   ]
  },
  {
   "cell_type": "markdown",
   "metadata": {
    "scrolled": false
   },
   "source": [
    "## High level functionality\n",
    "Here we'll discuss the Known class and the method get_known_RADEC.\n",
    "\n",
    "### Instantiate empty Known object\n",
    "Instantiate a boring empty object, with no data about real objects."
   ]
  },
  {
   "cell_type": "code",
   "execution_count": null,
   "metadata": {
    "scrolled": true
   },
   "outputs": [],
   "source": [
    "importlib.reload(known)\n",
    "\n",
    "# creation of Known object\n",
    "K = known.Known()\n",
    "\n",
    "# there is just one instantiated variable:\n",
    "print(K.__dict__)\n",
    "\n",
    "# This lists the methods available inside the class. \n",
    "print(K.__doc__)"
   ]
  },
  {
   "cell_type": "markdown",
   "metadata": {},
   "source": [
    "### Instantiate Known object, then use get_known_RADEC\n",
    "Instantiate a boring empty object, with no data about real objects."
   ]
  },
  {
   "cell_type": "code",
   "execution_count": null,
   "metadata": {},
   "outputs": [],
   "source": [
    "importlib.reload(known)\n",
    "\n",
    "times = np.arange(2458436.5, 2458436.6, 0.02)\n",
    "\n",
    "# creation of Known object\n",
    "K = known.Known()\n",
    "print(K.get_known_RADEC.__doc__)\n",
    "K.get_known_RADEC(object_name='Sedna', obs_code='500@-95', times=times,)\n",
    "\n",
    "print('The times, obs_code, RA and Dec variables now exist inside the object:')\n",
    "print(K.__dict__.keys())\n",
    "print()\n",
    "\n",
    "for t, r, d in zip(K.times, K.RA, K.Dec):\n",
    "    print(t, r, d)"
   ]
  },
  {
   "cell_type": "markdown",
   "metadata": {},
   "source": [
    "### Instantiate Known object with an object name\n",
    "Instantiate using an object name, array of times and an obs_code.\n",
    "Known will automatically fetch RA and Dec from JPL Horizons at the specified times:"
   ]
  },
  {
   "cell_type": "code",
   "execution_count": null,
   "metadata": {},
   "outputs": [],
   "source": [
    "importlib.reload(known)\n",
    "\n",
    "times = np.arange(2458436.5, 2458436.6, 0.02)\n",
    "\n",
    "# creation of Known object\n",
    "K = known.Known(object_name='Sedna', obs_code='500@-95', times=times)\n",
    "print('The times, obs_code, RA and Dec variables now exist inside the object:')\n",
    "print(K.__dict__.keys())\n",
    "print()\n",
    "\n",
    "for t, r, d in zip(K.times, K.RA, K.Dec):\n",
    "    print(t, r, d)"
   ]
  },
  {
   "cell_type": "markdown",
   "metadata": {},
   "source": [
    "# .\n",
    "# .\n",
    "# .\n",
    "## Low level functionality\n",
    "These two functions will be demonstrated here:\n",
    "        - _get_object_RADEC_from_horizons()\n",
    "        - _get_object_XYZ_from_horizons()\n",
    "### _get_object_RADEC_from_horizons()"
   ]
  },
  {
   "cell_type": "code",
   "execution_count": null,
   "metadata": {},
   "outputs": [],
   "source": [
    "importlib.reload(known)\n",
    "\n",
    "times = np.arange(2458436.5, 2458436.6, 0.02)\n",
    "\n",
    "K = known.Known()\n",
    "print(K._get_object_RADEC_from_horizons.__doc__)\n",
    "K._get_object_RADEC_from_horizons(obs_code='500@-95', times=times,\n",
    "                                  object_name='Sedna')\n",
    "print('The RA and Dec variables now exist inside the object:')\n",
    "print(K.__dict__.keys())\n",
    "print()\n",
    "\n",
    "for t, r, d in zip(times, K.RA, K.Dec):\n",
    "    print(t, r, d)\n",
    "\n",
    "print('\\n'\n",
    "      '_get_object_RADEC_from_horizons is used by get_known_RADEC \\n'\n",
    "      'if \"object_name\" is supplied.')"
   ]
  },
  {
   "cell_type": "markdown",
   "metadata": {},
   "source": [
    "### _get_object_XYZ_from_horizons()\n",
    "This gets the cartesian vector instead of the RA/Dec.\n",
    "This isn't actually used anywhere yet. "
   ]
  },
  {
   "cell_type": "code",
   "execution_count": 93,
   "metadata": {},
   "outputs": [
    {
     "name": "stdout",
     "output_type": "stream",
     "text": [
      "\n",
      "        Query horizons for the BARYCENTRIC VECTOR of a\n",
      "        *known object* at a sequence of times.\n",
      "        input:\n",
      "        object_name - string\n",
      "        times       - array\n",
      "        object_type - string\n",
      "                    - Usually the default \"smallbody\" is fine, \n",
      "                      but for some objects, like natsats, it's neccessary.\n",
      "        plane       - string\n",
      "                    - 'earth' = equatorial\n",
      "                    - 'ecliptic' = ecliptic\n",
      "        \n",
      "The times, obs_code, RA and Dec variables now exist inside the object:\n",
      "dict_keys(['local_dir', 'XYZ'])\n",
      "\n",
      "2458436.5 45.78427075187707 70.63176773278133 11.4972416392049\n",
      "2458436.52 45.78422226042723 70.63177902077945 11.49725043822404\n",
      "2458436.54 45.78417376896854 70.63179030876395 11.49725923724096\n",
      "2458436.56 45.784125277501 70.63180159673477 11.49726803625566\n",
      "2458436.58 45.78407678602461 70.63181288469194 11.49727683526814\n",
      "2458436.6 45.78402829453938 70.63182417263548 11.49728563427839\n",
      "\n",
      "_get_object_XYZ_from_horizons is not really used yet\n"
     ]
    }
   ],
   "source": [
    "importlib.reload(known)\n",
    "\n",
    "times = np.arange(2458436.5, 2458436.6, 0.02)\n",
    "\n",
    "K = known.Known()\n",
    "print(K._get_object_XYZ_from_horizons.__doc__)\n",
    "K._get_object_XYZ_from_horizons(times=times,\n",
    "                                object_name='Sedna')\n",
    "print('The times, obs_code, RA and Dec variables now exist inside the object:')\n",
    "print(K.__dict__.keys())\n",
    "print()\n",
    "\n",
    "for t, xyz in zip(times, K.XYZ.T):\n",
    "    x, y, z = xyz\n",
    "    print(t, x, y, z)\n",
    "\n",
    "print('\\n'\n",
    "      '_get_object_XYZ_from_horizons is not really used yet')"
   ]
  },
  {
   "cell_type": "markdown",
   "metadata": {},
   "source": [
    "# .\n",
    "# .\n",
    "# .\n",
    "## Functionality meant to ease development ONLY!\n",
    "##### Use Known or known to look at positions of sedna\n",
    " - While developing, we'll want to know the position of Sedna and 101583 as a function of time\n",
    " - The JPL Horizons ephemerides during Sector-5 are located in dev_data as a convenience. \n",
    " \n",
    "### _interpolate_radec_for_sedna, etc."
   ]
  },
  {
   "cell_type": "code",
   "execution_count": null,
   "metadata": {},
   "outputs": [],
   "source": [
    "importlib.reload(known)\n",
    "K = known.Known()\n",
    "\n",
    "# These are the values from JPL at hourly intervals\n",
    "JD_, RA_, Dec_  = K._radec_for_sedna()\n",
    "for t, r, d in zip(JD_[:2], RA_[:2], Dec_[:2]):\n",
    "    print(t, r, d)\n",
    "print()\n",
    "\n",
    "# These are interpolated values at arbitrary times \n",
    "times = np.arange(2458436.5, 2458436.6, 0.02)\n",
    "RA_, Dec_ = K._interpolate_radec_for_sedna(times)\n",
    "for t, r, d in zip(times, RA_, Dec_):\n",
    "    print(t, r, d)\n",
    "print() \n"
   ]
  },
  {
   "cell_type": "markdown",
   "metadata": {},
   "source": [
    "Under the hood, K._radec_for_sedna() and K._interpolate_radec_for_sedna() just calls a couple of functions,\n",
    "so the above can also be done without having a Known object for identical results:"
   ]
  },
  {
   "cell_type": "code",
   "execution_count": null,
   "metadata": {},
   "outputs": [],
   "source": [
    "importlib.reload(known)\n",
    "\n",
    "# These are the values from JPL at hourly intervals, without a known object:\n",
    "JD_, RA_, Dec_ = known._radec_from_file('Sedna')\n",
    "for t, r, d in zip(JD_[:2], RA_[:2], Dec_[:2]):\n",
    "    print(t, r, d)\n",
    "print()\n",
    "\n",
    "# These are interpolated values at arbitrary times \n",
    "times = np.arange(2458436.5, 2458436.6, 0.02)\n",
    "RA_, Dec_ = known._interpolate_radec(times, known._radec_from_file('Sedna'))\n",
    "for t, r, d in zip(times, RA_, Dec_):\n",
    "    print(t, r, d)\n",
    "print()"
   ]
  },
  {
   "cell_type": "code",
   "execution_count": null,
   "metadata": {},
   "outputs": [],
   "source": [
    "# Some notes on which camera/ccd/etc we expect Sedna to be in \n",
    "# - These came from inputing 57.136 7.6549 into lightkurve's tess-cut/tess-search function \n",
    "camera = 1 \n",
    "ccd = 4\n",
    "col, row = 1550, 1101"
   ]
  },
  {
   "cell_type": "markdown",
   "metadata": {},
   "source": [
    "Below the accuracty of the interpolation is shown:"
   ]
  },
  {
   "cell_type": "code",
   "execution_count": null,
   "metadata": {},
   "outputs": [],
   "source": [
    "# Only run this cell when neccessary, as it is a large query to Horizons\n",
    "times = np.arange(2458436.5, 2458436.6, 0.002)\n",
    "K = known.Known(object_name='Sedna', obs_code='500@-95', times=times)"
   ]
  },
  {
   "cell_type": "code",
   "execution_count": null,
   "metadata": {},
   "outputs": [],
   "source": [
    "plt.plot(times, K.Dec, ',', label='Horizons')\n",
    "\n",
    "JD_h, RA_h, Dec_h = known._radec_from_file('Sedna')\n",
    "plt.plot(JD_h, Dec_h, '.', label='Hourly')\n",
    "\n",
    "RA_, Dec_ = known._interpolate_radec(times, known._radec_from_file('Sedna'))\n",
    "plt.plot(times, Dec_, ',', label='Interpolated')\n",
    "plt.ylim([7.65474, 7.65502])\n",
    "plt.xlim([2458436.5, 2458436.6])\n",
    "plt.xlabel('Julian Date')\n",
    "plt.ylabel('Dec [deg]')\n",
    "plt.legend(loc='best')"
   ]
  },
  {
   "cell_type": "code",
   "execution_count": null,
   "metadata": {},
   "outputs": [],
   "source": [
    "plt.figure()\n",
    "plt.plot(times, (K.Dec-Dec_) * 3600 * 1000, '.')\n",
    "plt.xlabel('Julian Date')\n",
    "plt.ylabel('Horizons - Interpolated [milli-arc-second]')"
   ]
  },
  {
   "cell_type": "code",
   "execution_count": null,
   "metadata": {},
   "outputs": [],
   "source": []
  },
  {
   "cell_type": "code",
   "execution_count": 99,
   "metadata": {},
   "outputs": [],
   "source": [
    "### _interp_xyz etc"
   ]
  },
  {
   "cell_type": "code",
   "execution_count": 96,
   "metadata": {},
   "outputs": [],
   "source": [
    "importlib.reload(known)\n",
    "JD_, X_, Y_, Z_ = known._xyz_from_file()"
   ]
  },
  {
   "cell_type": "code",
   "execution_count": 97,
   "metadata": {},
   "outputs": [
    {
     "data": {
      "text/plain": [
       "(45.7078862734201, 45.78790810799406, 11.496581837781482, 11.511097469096667)"
      ]
     },
     "execution_count": 97,
     "metadata": {},
     "output_type": "execute_result"
    },
    {
     "data": {
      "image/png": "[encoded data removed]",
      "text/plain": [
       "<Figure size 432x288 with 1 Axes>"
      ]
     },
     "metadata": {
      "needs_background": "light"
     },
     "output_type": "display_data"
    }
   ],
   "source": [
    "plt.plot(X_, Z_, ',')\n",
    "plt.axis('equal')"
   ]
  },
  {
   "cell_type": "code",
   "execution_count": 98,
   "metadata": {},
   "outputs": [],
   "source": [
    "K = known.Known()\n",
    "times = np.arange(2458436.5, 2458436.6, 0.01)\n",
    "K._get_object_XYZ_from_horizons(times=times, object_name='Sedna')"
   ]
  },
  {
   "cell_type": "code",
   "execution_count": 100,
   "metadata": {},
   "outputs": [],
   "source": [
    "import dev_tools"
   ]
  },
  {
   "cell_type": "code",
   "execution_count": 102,
   "metadata": {},
   "outputs": [
    {
     "name": "stdout",
     "output_type": "stream",
     "text": [
      "Help on function _radec_interp in module dev_tools:\n",
      "\n",
      "_radec_interp(times, inputJRD)\n",
      "    Interpolate the RA & Dec at the input times.\n",
      "    input:\n",
      "    times - array of times for output\n",
      "    inputJRD - tuple of JD_, RA_ and Dec_ of data for interpolation\n",
      "\n"
     ]
    }
   ],
   "source": []
  },
  {
   "cell_type": "code",
   "execution_count": null,
   "metadata": {},
   "outputs": [],
   "source": []
  }
 ],
 "metadata": {
  "kernelspec": {
   "display_name": "Python 3",
   "language": "python",
   "name": "python3"
  },
  "language_info": {
   "codemirror_mode": {
    "name": "ipython",
    "version": 3
   },
   "file_extension": ".py",
   "mimetype": "text/x-python",
   "name": "python",
   "nbconvert_exporter": "python",
   "pygments_lexer": "ipython3",
   "version": "3.7.7"
  }
 },
 "nbformat": 4,
 "nbformat_minor": 2
}
