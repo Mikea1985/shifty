{
 "cells": [
  {
   "cell_type": "markdown",
   "metadata": {},
   "source": [
    "# Demonstration of shifty.py's \"known\" module\n",
    " - 202002XX\n",
    " - Payne \n",
    " \n",
    "There is a \"Known\" class\n",
    " - This handles both data-downloads and operations associated with recovering the signal for a known object\n",
    "\n",
    "This notebook:\n",
    " - ... "
   ]
  },
  {
   "cell_type": "markdown",
   "metadata": {},
   "source": [
    "#### Import statements "
   ]
  },
  {
   "cell_type": "code",
   "execution_count": 2,
   "metadata": {},
   "outputs": [
    {
     "data": {
      "text/plain": [
       "<module 'known' from '/Users/matthewjohnpayne/Envs/shifty/shifty/known.py'>"
      ]
     },
     "execution_count": 2,
     "metadata": {},
     "output_type": "execute_result"
    }
   ],
   "source": [
    "# -------------------------------------------------------------------------------------\n",
    "# Third party imports\n",
    "# -------------------------------------------------------------------------------------\n",
    "import numpy as np \n",
    "import matplotlib.pyplot as plt\n",
    "import os, sys\n",
    "import glob \n",
    "import importlib\n",
    "\n",
    "import astropy\n",
    "from astropy.io import fits\n",
    "from astropy.time import Time\n",
    "from astropy.units import allclose as quantity_allclose\n",
    "from astropy import units as u\n",
    "from astropy.coordinates import SkyCoord\n",
    "from astropy.coordinates.builtin_frames import FK5, ICRS, GCRS, GeocentricMeanEcliptic, BarycentricMeanEcliptic, HeliocentricMeanEcliptic, GeocentricTrueEcliptic, BarycentricTrueEcliptic, HeliocentricTrueEcliptic, HeliocentricEclipticIAU76\n",
    "from astropy.constants import R_sun, R_earth\n",
    "\n",
    "# -------------------------------------------------------------------------------------\n",
    "# Local imports\n",
    "# -------------------------------------------------------------------------------------\n",
    "sys.path.append(os.path.join(os.path.split(os.getcwd())[0], 'shifty'))\n",
    "import known\n",
    "\n",
    "importlib.reload(known)\n"
   ]
  },
  {
   "cell_type": "markdown",
   "metadata": {
    "scrolled": false
   },
   "source": [
    "### Instantiate Known object"
   ]
  },
  {
   "cell_type": "code",
   "execution_count": 3,
   "metadata": {
    "scrolled": false
   },
   "outputs": [],
   "source": [
    "# creation of Known object\n",
    "K = known.Known()\n",
    "\n",
    "# there are probably no instantiated variables ...\n",
    "assert len(K.__dict__) == 0\n"
   ]
  },
  {
   "cell_type": "markdown",
   "metadata": {},
   "source": [
    "##### Use Known to look at positions of sedna\n",
    " - While developing, we'll want to know the position of sedna as a function of time\n",
    " - I've downloaded the positions (from JPL Horizons) during Sector-5 as a convenience "
   ]
  },
  {
   "cell_type": "code",
   "execution_count": 4,
   "metadata": {},
   "outputs": [
    {
     "name": "stdout",
     "output_type": "stream",
     "text": [
      "2458436.5 57.1364 7.65498\n",
      "2458436.541666667 57.13601 7.65487\n",
      "\n",
      "2458436.5 57.1364 7.65498\n",
      "2458436.51 57.13630640000279 7.654953600000787\n",
      "2458436.52 57.13621280000122 7.654927200000344\n",
      "2458436.53 57.13611920000401 7.654900800001131\n",
      "2458436.54 57.13602560000244 7.654874400000688\n",
      "\n"
     ]
    }
   ],
   "source": [
    "importlib.reload(known)\n",
    "K = known.Known()\n",
    "\n",
    "# These are the values from JPL at hourly intervals\n",
    "JD_, RA_, Dec_  = K._radec_for_sedna()\n",
    "for t,r,d in zip(JD_[:2], RA_[:2], Dec_[:2]):\n",
    "    print(t,r,d)\n",
    "print()\n",
    "\n",
    "# These are interpolated values at arbitrary times \n",
    "times = [2458436.5, 2458436.51, 2458436.52, 2458436.53, 2458436.54]\n",
    "RA_, Dec_ = K._interpolate_radec_for_sedna(times)\n",
    "for t,r,d in zip(times, RA_, Dec_):\n",
    "    print(t,r,d)\n",
    "print() \n"
   ]
  },
  {
   "cell_type": "code",
   "execution_count": 5,
   "metadata": {},
   "outputs": [],
   "source": [
    "# Some notes on which camera/ccd/etc we expect Sedna to be in \n",
    "# - These came from inputing 57.136 7.6549 into lightkurve's tess-cut/tess-search function \n",
    "camera = 1 \n",
    "ccd = 4\n",
    "col, row = 1550, 1101"
   ]
  },
  {
   "cell_type": "code",
   "execution_count": 12,
   "metadata": {},
   "outputs": [
    {
     "data": {
      "text/plain": [
       "(2458445, 2458455)"
      ]
     },
     "execution_count": 12,
     "metadata": {},
     "output_type": "execute_result"
    },
    {
     "data": {
      "image/png": "[encoded data removed]",
      "text/plain": [
       "<Figure size 432x288 with 1 Axes>"
      ]
     },
     "metadata": {},
     "output_type": "display_data"
    }
   ],
   "source": [
    "RA_, Dec_ = K._interpolate_radec_for_sedna(JD_)\n",
    "#plt.plot(JD_, RA_ , '.')\n",
    "plt.plot(JD_, Dec_ , '.')\n",
    "plt.xlim([2458445, 2458455])"
   ]
  },
  {
   "cell_type": "code",
   "execution_count": null,
   "metadata": {},
   "outputs": [],
   "source": []
  }
 ],
 "metadata": {
  "kernelspec": {
   "display_name": "Python [conda env:anaconda]",
   "language": "python",
   "name": "conda-env-anaconda-py"
  },
  "language_info": {
   "codemirror_mode": {
    "name": "ipython",
    "version": 3
   },
   "file_extension": ".py",
   "mimetype": "text/x-python",
   "name": "python",
   "nbconvert_exporter": "python",
   "pygments_lexer": "ipython3",
   "version": "3.5.5"
  }
 },
 "nbformat": 4,
 "nbformat_minor": 2
}
