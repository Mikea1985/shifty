{
 "cells": [
  {
   "cell_type": "code",
   "execution_count": 2,
   "id": "7744b119-ea70-498d-9705-a29000853fa4",
   "metadata": {},
   "outputs": [
    {
     "data": {
      "text/plain": [
       "<contextlib._GeneratorContextManager at 0x7f191c329ac0>"
      ]
     },
     "execution_count": 2,
     "metadata": {},
     "output_type": "execute_result"
    }
   ],
   "source": [
    "# -------------------------------------------------------------------------------------\n",
    "# Third party imports\n",
    "# -------------------------------------------------------------------------------------\n",
    "import numpy as np \n",
    "import matplotlib\n",
    "import matplotlib.pyplot as plt\n",
    "import os, sys\n",
    "import glob \n",
    "import copy\n",
    "\n",
    "import astropy\n",
    "from astropy.io import fits\n",
    "from astropy.time import Time\n",
    "from astropy.units import allclose as quantity_allclose\n",
    "from astropy import units as u\n",
    "from astropy import constants as c\n",
    "from astropy.coordinates import SkyCoord\n",
    "from astropy.coordinates.builtin_frames import FK5, ICRS, GCRS, GeocentricMeanEcliptic, BarycentricMeanEcliptic, HeliocentricMeanEcliptic, GeocentricTrueEcliptic, BarycentricTrueEcliptic, HeliocentricTrueEcliptic, HeliocentricEclipticIAU76\n",
    "from astropy.constants import R_sun, R_earth\n",
    "from astropy.nddata import CCDData\n",
    "from tqdm import tnrange\n",
    "from astropy.visualization import (ZScaleInterval, ImageNormalize)\n",
    "from astropy.io import fits\n",
    "\n",
    "from datetime import datetime\n",
    "import copy\n",
    "import numpy as np\n",
    "\n",
    "from astropy.io import fits\n",
    "from astropy import wcs\n",
    "from astropy.nddata import CCDData\n",
    "from ccdproc import wcs_project  # , Combiner\n",
    "\n",
    "from matplotlib.colors import LogNorm\n",
    "\n",
    "#from IPython.display import display, Markdown, clear_output\n",
    "\n",
    "import inspect\n",
    "import importlib\n",
    "import warnings\n",
    "warnings.filterwarnings('ignore')\n",
    "\n",
    "#Import TESS Pixel Responce Function package\n",
    "import PRF\n",
    "\n",
    "# Plot setup\n",
    "matplotlib.rc('font', size=22, family='serif', weight='bold')\n",
    "plt.rcParams['figure.figsize'] = [10, 4]\n",
    "np.printoptions(suppress=True)"
   ]
  },
  {
   "cell_type": "code",
   "execution_count": 3,
   "id": "764f0f51-03d2-46ad-b472-b65bb41fa0d3",
   "metadata": {},
   "outputs": [
    {
     "data": {
      "text/plain": [
       "<module 'cleaner' from '/arc/home/mikea/Github/shifty/shifty/cleaner.py'>"
      ]
     },
     "execution_count": 3,
     "metadata": {},
     "output_type": "execute_result"
    }
   ],
   "source": [
    "# Local imports\n",
    "sys.path.append(os.path.join(os.path.split(os.getcwd())[0], 'shifty'))\n",
    "import imagehandler\n",
    "import cleaner\n",
    "importlib.reload(cleaner)"
   ]
  },
  {
   "cell_type": "code",
   "execution_count": 4,
   "id": "6cdabc88-4663-4862-986a-defcde15d27c",
   "metadata": {},
   "outputs": [],
   "source": [
    "filenames=sorted(glob.glob('/arc/home/mikea/.shifty_data/tess/5/1/4/*.fits'))[0::]"
   ]
  },
  {
   "cell_type": "code",
   "execution_count": 5,
   "id": "db36188f-5073-45c9-872e-dfb9cc8ebd30",
   "metadata": {},
   "outputs": [
    {
     "name": "stdout",
     "output_type": "stream",
     "text": [
      "Reading image 1107: /arc/home/mikea/.shifty_data/tess/5/1/4/tess2018345002937-s0005-1-4-0125-s_ffic.fits\n",
      "Read 1108 files!\n",
      "Done!\n"
     ]
    }
   ],
   "source": [
    "D=imagehandler.DataHandler(filenames[::], extno=1, EXPTIME='EXPOSURE', EXPUNIT='d', MAGZERO=18.,\n",
    "                           MJD_START='BJDREFI+TSTART+-2400000.5', GAIN='GAINA', FILTER='-Tess', verbose=False)\n",
    "times = np.array([dh['SHIFTY_MJD_MID'] for dh in D.image_data.header]) + 2400000.5"
   ]
  },
  {
   "cell_type": "code",
   "execution_count": 6,
   "id": "dd166986-fcdc-43f1-ac73-ce37b1cd938a",
   "metadata": {},
   "outputs": [
    {
     "data": {
      "text/plain": [
       "<module 'transformer' from '/arc/home/mikea/Github/shifty/shifty/transformer.py'>"
      ]
     },
     "execution_count": 6,
     "metadata": {},
     "output_type": "execute_result"
    }
   ],
   "source": [
    "import transformer\n",
    "importlib.reload(transformer)"
   ]
  },
  {
   "cell_type": "markdown",
   "id": "c208ea2c-93d8-4835-acb2-ff9a7f725f3b",
   "metadata": {
    "tags": []
   },
   "source": [
    "%%time\n",
    "time0 = times[0]                                                # Reference time\n",
    "\n",
    "E = copy.deepcopy(D.image_data.data)\n",
    "n=1000\n",
    "mag_min=10\n",
    "mag_max=23\n",
    "cam=1\n",
    "ccd=4\n",
    "sector=5\n",
    "eps0 = 15000  # Electrons per second of a mag 10 objects, TESS instrument Handbook\n",
    "mag0 = 10     # Reference magnitude that produces eps0 electons per second\n",
    "\n",
    "x_len = np.shape(E[0])[1]\n",
    "y_len = np.shape(E[0])[0]\n",
    "\n",
    "Transformer = transformer.Transformer(times, '500@-95', 'JPL')\n",
    "\n",
    "# Randomize objects\n",
    "x_pix0 = D.image_data.header[0]['CRPIX1']\n",
    "y_pix0 = D.image_data.header[0]['CRPIX2']\n",
    "radec0 = D.image_data.WCS[0].all_pix2world(x_pix0, y_pix0, 0)\n",
    "latlon0 = np.array(transformer.eq_to_ec(np.radians(radec0[0]),  # Just put reference latlon at center of WCS\n",
    "                                        np.radians(radec0[1]))).T\n",
    "print(latlon0)\n",
    "\n",
    "pix_scale_2d = D.image_data.WCS[0].proj_plane_pixel_scales()\n",
    "pixel_scale_radians = (((pix_scale_2d[0]+pix_scale_2d[1])/2).to(u.radian)).value\n",
    "npix = np.max([D.image_data.header[0]['SHIFTY_NAXIS1'], D.image_data.header[0]['SHIFTY_NAXIS2']])\n",
    "\n",
    "alpha = (np.random.random(n) * 2.00 - 1.00 + 0.25) * npix * pixel_scale_radians  # offset in negative direction, due to motion being in positibe direction\n",
    "beta = (np.random.random(n) * 1.5 - 0.75) * npix * pixel_scale_radians\n",
    "gamma = np.random.random(n) * 0.15 + 0.002  # so 0.002 to 0.152, ie. distance 6.58 to 500 AU\n",
    "mean_motion_circular = 2 * np.pi * gamma **1.5\n",
    "speed_limit = 1.6 * mean_motion_circular  # sqrt(2) * mean_motion_circular is bound limit, doing slightly beyond in case of interstellar\n",
    "adot = (np.random.random(n) * 2 - 1) * speed_limit  # from -speedlimit to +speedlimit\n",
    "bdot = (np.random.random(n) * 2- 1) * speed_limit  # from -speedlimit to +speedlimit\n",
    "gdot = (np.random.random(n) * 2- 1) * speed_limit  # from -speedlimit to +speedlimit\n",
    "mags = np.random.random(n)**0.5 * (mag_max - mag_min) + mag_min\n",
    "electronsps = eps0 * 10 ** ((mag0 - mags) / 2.5)\n",
    "\n",
    "planted = np.zeros_like(E)\n",
    "start = []\n",
    "end = []\n",
    "for o in np.arange(n):\n",
    "    abg = (alpha[o], beta[o], gamma[o], adot[o], bdot[o], gdot[o], latlon0)\n",
    "    print(o, abg, end='\\r')\n",
    "    shift_abg = Transformer(abg, time0, latlon0, D.image_data.WCS)\n",
    "    start.append(shift_abg[0])\n",
    "    end.append(shift_abg[-1])\n",
    "    #print(shift_abg, np.shape(shift_abg))\n",
    "    electronsps_w_noise = np.random.poisson(electronsps[o], len(E))  # Well, that's no good for faint sources\n",
    "    electronsps_w_noise = np.mean(np.random.poisson(electronsps[o]*1.98, (len(E), 900))/1.98, 1)  # 1.98s is exposure time, 900 frames combined on-board before transmision.\n",
    "    #that's also no good. Let's just use the exact same flux in every image for now:\n",
    "    electronsps_w_noise = electronsps\n",
    "    for i, d in enumerate(E):\n",
    "        try:\n",
    "            prf = PRF.TESS_PRF(cam, ccd, sector, shift_abg[i,1], shift_abg[i,0])\n",
    "            planted[i] += prf.locate(shift_abg[i,1], shift_abg[i,0], (y_len, x_len)) * electronsps_w_noise[i]\n",
    "        except ValueError:\n",
    "            print(f'Oops, x or y outside usable area. {i} {o} {shift_abg[i]}', end='\\r')"
   ]
  },
  {
   "cell_type": "code",
   "execution_count": null,
   "id": "787f7521-a486-4af9-843f-e04ec5913332",
   "metadata": {
    "tags": []
   },
   "outputs": [
    {
     "name": "stdout",
     "output_type": "stream",
     "text": [
      "[-0.20136453  1.038785  ]\n",
      "999 (0.050268062163470115, 0.11245277610879172, 0.10141279802507074, -0.2580557400958026, -0.3228723456092808, 0.16363390980159898, array([-0.20136453,  1.038785  ]))  ])))))))))\n",
      "Saved planted_b_0724.fits                         \r"
     ]
    }
   ],
   "source": [
    "%%time\n",
    "time0 = times[0]                                                # Reference time\n",
    "\n",
    "try:\n",
    "    del E\n",
    "except:\n",
    "    pass\n",
    "E = copy.deepcopy(D.image_data.data)\n",
    "n=1000\n",
    "mag_min=11\n",
    "mag_max=23\n",
    "cam=1\n",
    "ccd=4\n",
    "sector=5\n",
    "eps0 = 15000  # Electrons per second of a mag 10 objects, TESS instrument Handbook\n",
    "mag0 = 10     # Reference magnitude that produces eps0 electons per second\n",
    "\n",
    "x_len = np.shape(E[0])[1]\n",
    "y_len = np.shape(E[0])[0]\n",
    "\n",
    "Transformer = transformer.Transformer(times, '500@-95', 'JPL')\n",
    "\n",
    "# Randomize objects\n",
    "x_pix0 = D.image_data.header[0]['CRPIX1']\n",
    "y_pix0 = D.image_data.header[0]['CRPIX2']\n",
    "radec0 = D.image_data.WCS[0].all_pix2world(x_pix0, y_pix0, 0)\n",
    "latlon0 = np.array(transformer.eq_to_ec(np.radians(radec0[0]),  # Just put reference latlon at center of WCS\n",
    "                                        np.radians(radec0[1]))).T\n",
    "print(latlon0)\n",
    "\n",
    "pix_scale_2d = D.image_data.WCS[0].proj_plane_pixel_scales()\n",
    "pixel_scale_radians = (((pix_scale_2d[0]+pix_scale_2d[1])/2).to(u.radian)).value\n",
    "npix = np.max([D.image_data.header[0]['SHIFTY_NAXIS1'], D.image_data.header[0]['SHIFTY_NAXIS2']])\n",
    "\n",
    "alpha = (np.random.random(n) * 2.00 - 1.00 + 0.25) * npix * pixel_scale_radians  # offset in negative direction, due to motion being in positibe direction\n",
    "beta = (np.random.random(n) * 1.5 - 0.75) * npix * pixel_scale_radians\n",
    "gamma = np.random.random(n) * 0.15 + 0.002  # so 0.002 to 0.152, ie. distance 6.58 to 500 AU\n",
    "mean_motion_circular = 2 * np.pi * gamma **1.5\n",
    "speed_limit = 1.6 * mean_motion_circular  # sqrt(2) * mean_motion_circular is bound limit, doing slightly beyond in case of interstellar\n",
    "adot = (np.random.random(n) * 2 - 1) * speed_limit  # from -speedlimit to +speedlimit\n",
    "bdot = (np.random.random(n) * 2- 1) * speed_limit  # from -speedlimit to +speedlimit\n",
    "gdot = (np.random.random(n) * 2- 1) * speed_limit  # from -speedlimit to +speedlimit\n",
    "mags = np.random.random(n)**0.5 * (mag_max - mag_min) + mag_min\n",
    "electronsps = eps0 * 10 ** ((mag0 - mags) / 2.5)\n",
    "\n",
    "planted = np.zeros_like(E)\n",
    "start = []\n",
    "end = []\n",
    "shifts = []\n",
    "with open('plant_b.txt', 'w') as pfile:\n",
    "    pfile.write('#Mag,electrons_ps,alpha,beta,gamma,alpha_dot,beta_dot,gamma_dot,lat0,lon0,time0,x_coo0,y_coo0,x_coo1,y_coo1,etc...\\n')\n",
    "    for o in np.arange(n):\n",
    "        abg = (alpha[o], beta[o], gamma[o], adot[o], bdot[o], gdot[o], latlon0)\n",
    "        print(o, abg, end='\\r')\n",
    "        shift_abg = Transformer(abg, time0, latlon0, D.image_data.WCS)\n",
    "        start.append(shift_abg[0])\n",
    "        end.append(shift_abg[-1])\n",
    "        shifts.append(shift_abg)\n",
    "        pfile.write(','.join(np.concatenate([[mags[o]], [electronsps[o]], abg[:6], latlon0, [time0], np.concatenate(shift_abg)]).astype(str))+'\\n')\n",
    "electronsps_w_noise = np.array([electronsps]*len(E))  # Not actually adding any noise until I figure out how to do it correctly.\n",
    "print('')\n",
    "for i, d in enumerate(E):\n",
    "    for o in np.arange(n):\n",
    "        if ((shifts[o][i,0] < 0) | (shifts[o][i,0] > x_len) | (shifts[o][i,1] < 0) | (shifts[o][i,1] > y_len)):\n",
    "            continue\n",
    "            #print(f'Nope, x or y outside data array. {i} {o} {shifts[o][i]}', end='\\r')\n",
    "        else:\n",
    "            try:\n",
    "                prf = PRF.TESS_PRF(cam, ccd, sector, shifts[o][i,1], shifts[o][i,0])\n",
    "                planted[i] += prf.locate(shifts[o][i,1], shifts[o][i,0], (y_len, x_len)) * electronsps_w_noise[i, o]\n",
    "            except ValueError:\n",
    "                #print(f'Oops, x or y outside usable area. {i} {o} {shifts[o][i]}', end='\\r')\n",
    "                continue\n",
    "    hdu = fits.PrimaryHDU(data=E[i]+planted[i], header=D.image_data.header[i])\n",
    "    hdu.writeto(f'planted_b_{i:04.0f}.fits', overwrite=True)\n",
    "    print(f'Saved planted_b_{i:04.0f}.fits                         ', end='\\r')"
   ]
  },
  {
   "cell_type": "code",
   "execution_count": 8,
   "id": "ed3d1251-05ee-41bf-801c-a3f184189890",
   "metadata": {},
   "outputs": [
    {
     "data": {
      "text/plain": [
       "(array([ 25.,  31.,  55.,  64.,  94., 117., 106., 140., 184., 184.]),\n",
       " array([11.41100949, 12.56968672, 13.72836394, 14.88704116, 16.04571839,\n",
       "        17.20439561, 18.36307284, 19.52175006, 20.68042729, 21.83910451,\n",
       "        22.99778173]),\n",
       " <BarContainer object of 10 artists>)"
      ]
     },
     "execution_count": 8,
     "metadata": {},
     "output_type": "execute_result"
    },
    {
     "data": {
      "image/png": "[encoded data removed]",
      "text/plain": [
       "<Figure size 1000x400 with 1 Axes>"
      ]
     },
     "metadata": {},
     "output_type": "display_data"
    }
   ],
   "source": [
    "plt.hist(mags)"
   ]
  },
  {
   "cell_type": "code",
   "execution_count": 9,
   "id": "eafd05f6-a575-45a4-9f96-40d5750bd6f6",
   "metadata": {},
   "outputs": [
    {
     "ename": "KeyboardInterrupt",
     "evalue": "",
     "output_type": "error",
     "traceback": [
      "\u001b[0;31m---------------------------------------------------------------------------\u001b[0m",
      "\u001b[0;31mKeyboardInterrupt\u001b[0m                         Traceback (most recent call last)",
      "Cell \u001b[0;32mIn[9], line 1\u001b[0m\n\u001b[0;32m----> 1\u001b[0m np\u001b[38;5;241m.\u001b[39mmax(planted\u001b[38;5;241m.\u001b[39msum(\u001b[38;5;241m0\u001b[39m)), \u001b[43mnp\u001b[49m\u001b[38;5;241;43m.\u001b[39;49m\u001b[43mmax\u001b[49m\u001b[43m(\u001b[49m\u001b[43mE\u001b[49m\u001b[43m)\u001b[49m\n",
      "File \u001b[0;32m<__array_function__ internals>:180\u001b[0m, in \u001b[0;36mamax\u001b[0;34m(*args, **kwargs)\u001b[0m\n",
      "File \u001b[0;32m/opt/conda/lib/python3.9/site-packages/numpy/core/fromnumeric.py:2793\u001b[0m, in \u001b[0;36mamax\u001b[0;34m(a, axis, out, keepdims, initial, where)\u001b[0m\n\u001b[1;32m   2677\u001b[0m \u001b[38;5;129m@array_function_dispatch\u001b[39m(_amax_dispatcher)\n\u001b[1;32m   2678\u001b[0m \u001b[38;5;28;01mdef\u001b[39;00m \u001b[38;5;21mamax\u001b[39m(a, axis\u001b[38;5;241m=\u001b[39m\u001b[38;5;28;01mNone\u001b[39;00m, out\u001b[38;5;241m=\u001b[39m\u001b[38;5;28;01mNone\u001b[39;00m, keepdims\u001b[38;5;241m=\u001b[39mnp\u001b[38;5;241m.\u001b[39m_NoValue, initial\u001b[38;5;241m=\u001b[39mnp\u001b[38;5;241m.\u001b[39m_NoValue,\n\u001b[1;32m   2679\u001b[0m          where\u001b[38;5;241m=\u001b[39mnp\u001b[38;5;241m.\u001b[39m_NoValue):\n\u001b[1;32m   2680\u001b[0m \u001b[38;5;250m    \u001b[39m\u001b[38;5;124;03m\"\"\"\u001b[39;00m\n\u001b[1;32m   2681\u001b[0m \u001b[38;5;124;03m    Return the maximum of an array or maximum along an axis.\u001b[39;00m\n\u001b[1;32m   2682\u001b[0m \n\u001b[0;32m   (...)\u001b[0m\n\u001b[1;32m   2791\u001b[0m \u001b[38;5;124;03m    5\u001b[39;00m\n\u001b[1;32m   2792\u001b[0m \u001b[38;5;124;03m    \"\"\"\u001b[39;00m\n\u001b[0;32m-> 2793\u001b[0m     \u001b[38;5;28;01mreturn\u001b[39;00m \u001b[43m_wrapreduction\u001b[49m\u001b[43m(\u001b[49m\u001b[43ma\u001b[49m\u001b[43m,\u001b[49m\u001b[43m \u001b[49m\u001b[43mnp\u001b[49m\u001b[38;5;241;43m.\u001b[39;49m\u001b[43mmaximum\u001b[49m\u001b[43m,\u001b[49m\u001b[43m \u001b[49m\u001b[38;5;124;43m'\u001b[39;49m\u001b[38;5;124;43mmax\u001b[39;49m\u001b[38;5;124;43m'\u001b[39;49m\u001b[43m,\u001b[49m\u001b[43m \u001b[49m\u001b[43maxis\u001b[49m\u001b[43m,\u001b[49m\u001b[43m \u001b[49m\u001b[38;5;28;43;01mNone\u001b[39;49;00m\u001b[43m,\u001b[49m\u001b[43m \u001b[49m\u001b[43mout\u001b[49m\u001b[43m,\u001b[49m\n\u001b[1;32m   2794\u001b[0m \u001b[43m                          \u001b[49m\u001b[43mkeepdims\u001b[49m\u001b[38;5;241;43m=\u001b[39;49m\u001b[43mkeepdims\u001b[49m\u001b[43m,\u001b[49m\u001b[43m \u001b[49m\u001b[43minitial\u001b[49m\u001b[38;5;241;43m=\u001b[39;49m\u001b[43minitial\u001b[49m\u001b[43m,\u001b[49m\u001b[43m \u001b[49m\u001b[43mwhere\u001b[49m\u001b[38;5;241;43m=\u001b[39;49m\u001b[43mwhere\u001b[49m\u001b[43m)\u001b[49m\n",
      "File \u001b[0;32m/opt/conda/lib/python3.9/site-packages/numpy/core/fromnumeric.py:86\u001b[0m, in \u001b[0;36m_wrapreduction\u001b[0;34m(obj, ufunc, method, axis, dtype, out, **kwargs)\u001b[0m\n\u001b[1;32m     83\u001b[0m         \u001b[38;5;28;01melse\u001b[39;00m:\n\u001b[1;32m     84\u001b[0m             \u001b[38;5;28;01mreturn\u001b[39;00m reduction(axis\u001b[38;5;241m=\u001b[39maxis, out\u001b[38;5;241m=\u001b[39mout, \u001b[38;5;241m*\u001b[39m\u001b[38;5;241m*\u001b[39mpasskwargs)\n\u001b[0;32m---> 86\u001b[0m \u001b[38;5;28;01mreturn\u001b[39;00m \u001b[43mufunc\u001b[49m\u001b[38;5;241;43m.\u001b[39;49m\u001b[43mreduce\u001b[49m\u001b[43m(\u001b[49m\u001b[43mobj\u001b[49m\u001b[43m,\u001b[49m\u001b[43m \u001b[49m\u001b[43maxis\u001b[49m\u001b[43m,\u001b[49m\u001b[43m \u001b[49m\u001b[43mdtype\u001b[49m\u001b[43m,\u001b[49m\u001b[43m \u001b[49m\u001b[43mout\u001b[49m\u001b[43m,\u001b[49m\u001b[43m \u001b[49m\u001b[38;5;241;43m*\u001b[39;49m\u001b[38;5;241;43m*\u001b[39;49m\u001b[43mpasskwargs\u001b[49m\u001b[43m)\u001b[49m\n",
      "\u001b[0;31mKeyboardInterrupt\u001b[0m: "
     ]
    }
   ],
   "source": [
    "np.max(planted.sum(0)), np.max(E)"
   ]
  },
  {
   "cell_type": "code",
   "execution_count": null,
   "id": "f14fb704-cfb5-40aa-bb9d-11212dd17e96",
   "metadata": {},
   "outputs": [],
   "source": [
    "fig,ax = plt.subplots(1, 1, figsize=(9,9))\n",
    "ax.imshow(planted.sum(0)+1e-9, norm=ImageNormalize(planted[0]+1e-9, interval=ZScaleInterval()))\n",
    "ax.invert_yaxis()"
   ]
  },
  {
   "cell_type": "code",
   "execution_count": null,
   "id": "6f00b178-4a21-42eb-897c-89c96d9ed140",
   "metadata": {},
   "outputs": [],
   "source": [
    "fig,ax = plt.subplots(1, 1, figsize=(7,7))\n",
    "ax.imshow((E+planted).sum(0), norm=ImageNormalize((E+planted).sum(0)+1e-9, interval=ZScaleInterval()))\n",
    "ax.invert_yaxis()"
   ]
  },
  {
   "cell_type": "code",
   "execution_count": null,
   "id": "c7c8c8d1-ab12-4856-93f7-f3cab9a05709",
   "metadata": {},
   "outputs": [],
   "source": [
    "fig,ax = plt.subplots(1, 1, figsize=(7,7))\n",
    "ax.imshow((E).sum(0), norm=ImageNormalize((E+planted).sum(0)+1e-9, interval=ZScaleInterval()))\n",
    "ax.invert_yaxis()"
   ]
  },
  {
   "cell_type": "code",
   "execution_count": 20,
   "id": "2edd7d61-88f1-44d8-bd78-b5a6e2a131a8",
   "metadata": {},
   "outputs": [
    {
     "name": "stdout",
     "output_type": "stream",
     "text": [
      "2\n",
      "\n",
      "Done!\n",
      "2\n",
      "\n",
      "Done!\n"
     ]
    }
   ],
   "source": [
    "D.shifted_data.data = D.image_data.data\n",
    "D.shifted_data.header = D.image_data.header\n",
    "D.shifted_data.WCS = D.image_data.WCS\n",
    "D.save_shifted(filename='unplant')\n",
    "D.shifted_data.data = E+planted\n",
    "D.shifted_data.header = D.image_data.header\n",
    "D.shifted_data.WCS = D.image_data.WCS\n",
    "D.save_shifted(filename='plant')"
   ]
  },
  {
   "cell_type": "code",
   "execution_count": 142,
   "id": "9c0199bd-717e-4ec3-8104-2cf20ba1f86f",
   "metadata": {},
   "outputs": [
    {
     "name": "stdout",
     "output_type": "stream",
     "text": [
      "Saving to file data.fits\n",
      "\n",
      "Done!\n"
     ]
    }
   ],
   "source": [
    "o=imagehandler.OneImage()\n",
    "o.data=E[0]\n",
    "o.header=D.image_data.header[0]\n",
    "imagehandler.save_fits(o)"
   ]
  },
  {
   "cell_type": "code",
   "execution_count": 143,
   "id": "229be523-8cb9-445f-bcbf-a147fecc0429",
   "metadata": {},
   "outputs": [],
   "source": [
    "hdu = fits.PrimaryHDU(data=E[0], header=D.image_data.header[0])\n",
    "hdu.writeto('data2.fits', overwrite=True)"
   ]
  },
  {
   "cell_type": "code",
   "execution_count": null,
   "id": "76d1a496-68cd-4995-8182-63813f450c29",
   "metadata": {
    "tags": []
   },
   "outputs": [],
   "source": [
    "#plt.hist(np.array(start).T[0]-np.array(end).T[0], alpha=0.5)\n",
    "plt.hist(np.array(end).T[0], alpha=0.5)\n",
    "plt.hist(np.array(start).T[0], alpha=0.5)\n",
    "plt.gca().axvline(0)\n",
    "plt.gca().axvline(D.image_data.header[0]['NAXIS2'])"
   ]
  },
  {
   "cell_type": "code",
   "execution_count": null,
   "id": "d81b08bc-f425-4aba-8168-53d1729f736f",
   "metadata": {},
   "outputs": [],
   "source": [
    "#plt.hist((np.array(end).T[1]-np.array(start).T[1])[np.array(start).T[1]<0], alpha=0.5)\n",
    "ybin, xbin, _ = plt.hist(np.array(end).T[1], alpha=0.5, bins=np.arange(-2000, 4000, 500))\n",
    "plt.hist(np.array(start).T[1], alpha=0.5, bins=xbin)\n",
    "plt.hist(np.array(start).T[1][np.array(end).T[1]>0], alpha=0.5, bins=xbin)\n",
    "plt.gca().axvline(0)\n",
    "plt.gca().axvline(D.image_data.header[0]['NAXIS1'])"
   ]
  },
  {
   "cell_type": "code",
   "execution_count": null,
   "id": "ef59b3f7-3462-4a3e-a4a1-fdfa254fee37",
   "metadata": {},
   "outputs": [],
   "source": [
    "plt.hist(np.array(end).T[1]-np.array(start).T[1], alpha=0.5)\n",
    "#plt.hist(, alpha=0.5)"
   ]
  },
  {
   "cell_type": "code",
   "execution_count": null,
   "id": "e08e873c-4aea-49c9-9430-070613aab9ed",
   "metadata": {},
   "outputs": [],
   "source": []
  }
 ],
 "metadata": {
  "kernelspec": {
   "display_name": "Python 3 (ipykernel)",
   "language": "python",
   "name": "python3"
  },
  "language_info": {
   "codemirror_mode": {
    "name": "ipython",
    "version": 3
   },
   "file_extension": ".py",
   "mimetype": "text/x-python",
   "name": "python",
   "nbconvert_exporter": "python",
   "pygments_lexer": "ipython3",
   "version": "3.9.16"
  }
 },
 "nbformat": 4,
 "nbformat_minor": 5
}
